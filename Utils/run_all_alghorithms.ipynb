{
 "cells": [
  {
   "cell_type": "code",
   "execution_count": 8,
   "metadata": {},
   "outputs": [],
   "source": [
    "\n",
    "from SLIM_BPR.Cython.SLIM_BPR_Cython import SLIM_BPR_Cython\n",
    "from SLIM_ElasticNet.SLIMElasticNetRecommender import SLIMElasticNetRecommender\n",
    "\n",
    "from MatrixFactorization.Cython.MatrixFactorization_Cython import MatrixFactorization_BPR_Cython, MatrixFactorization_FunkSVD_Cython\n",
    "from MatrixFactorization.PureSVD import PureSVDRecommender\n",
    "\n",
    "from Base.NonPersonalizedRecommender import TopPop, Random\n",
    "\n",
    "from KNN.UserKNNCFRecommender import UserKNNCFRecommender\n",
    "from KNN.ItemKNNCFRecommender import ItemKNNCFRecommender\n",
    "from KNN.ItemKNNCBFRecommender import ItemKNNCBFRecommender\n",
    "\n",
    "from KNN.ItemKNNScoresHybridRecommender import ItemKNNScoresHybridRecommender\n",
    "from KNN.ItemKNNScoresHybridRecommender3 import ItemKNNScoresHybridRecommender3\n",
    "\n",
    "from KNN.ItemKNNSimilarityHybridRecommender import ItemKNNSimilarityHybridRecommender\n",
    "from KNN.ItemKNNSimilarityHybridRecommender3 import ItemKNNSimilarityHybridRecommender3\n",
    "from KNN.ItemKNNSimilarityHybridRecommender4 import ItemKNNSimilarityHybridRecommender4\n",
    "from KNN.SuperHybridRecommender import SuperHybridRecommender\n",
    "\n",
    "from KNN.UserKNNCBFRecommender import UserKNNCBFRecommender\n",
    "\n",
    "from KNN.Hybrid_List import Hybrid_List\n",
    "from evaluation_function import evaluate_algorithm\n",
    "\n",
    "\n",
    "#from GraphBased.RP3betaRecommender import RP3betaRecommender\n",
    "from GraphBased.P3alphaRecommender import P3alphaRecommender"
   ]
  },
  {
   "cell_type": "code",
   "execution_count": 9,
   "metadata": {},
   "outputs": [],
   "source": [
    "import traceback, os\n",
    "import scipy.sparse\n",
    "import pandas as pd\n",
    "import numpy as np\n",
    "\n",
    "URM_all = scipy.sparse.load_npz('./Matrix/URM_all_matrix.npz')\n",
    "ICM_all = scipy.sparse.load_npz('./Matrix/ICM_all_matrix.npz')\n",
    "URM_train = scipy.sparse.load_npz('./Matrix/URM_train_matrix.npz')\n",
    "URM_test = scipy.sparse.load_npz('./Matrix/URM_test_matrix.npz')\n",
    "\n",
    "\n",
    "#Load playlistsIDS\n",
    "train_df= pd.read_csv('all/train.csv',low_memory = False)\n",
    "all_userID=train_df.playlist_id.unique()"
   ]
  },
  {
   "cell_type": "code",
   "execution_count": null,
   "metadata": {},
   "outputs": [],
   "source": [
    "CFrecommender = ItemKNNCFRecommender(URM_train)\n",
    "CFrecommender.fit()\n",
    "\n",
    "SLIMrecommender = SLIM_BPR_Cython(URM_train)\n",
    "SLIMrecommender.fit()\n",
    "\n",
    "CBFrecommender = ItemKNNCBFRecommender(ICM_all,URM_train)\n",
    "CBFrecommender.fit()\n",
    "\n",
    "SLIMErecommender = SLIMElasticNetRecommender(URM_train)\n",
    "SLIMErecommender.fit()\n",
    "\n",
    "UCFRecommender = UserKNNCFRecommender(URM_train)\n",
    "UCFRecommender.fit()\n",
    "\n",
    "SVDrecommender = PureSVDRecommender (URM_train)\n",
    "SVDrecommender.fit()\n",
    "\n",
    "p3Arecommender=P3alphaRecommender(URM_train)\n",
    "p3Arecommender.fit()\n",
    "\n",
    "UserCBFrecommender = UserKNNCBFRecommender(UCM_all,URM_train) \n",
    "UserCBFrecommender.fit()\n",
    "\n",
    "SVDrecommender = PureSVDRecommender (URM_train)\n",
    "SVDrecommender.fit()"
   ]
  },
  {
   "cell_type": "code",
   "execution_count": null,
   "metadata": {},
   "outputs": [],
   "source": [
    "#evaluate a recommender with MAP10\n",
    "evaluate_algorithm(URM_test,CFrecommender)"
   ]
  },
  {
   "cell_type": "code",
   "execution_count": 27,
   "metadata": {},
   "outputs": [],
   "source": [
    "#create an Hybrid Recommender and evaluate it\n",
    "#specify the recommenders to hrybrid during the creation\n",
    "Hybird_recommender= ItemKNNSimilarityHybridRecommender (URM_train,CFrecommender,CBFrecommender)\n",
    "Hybird_recommender.fit()\n",
    "evaluate_algorithm(URM_test,Hybird_recommender)"
   ]
  },
  {
   "cell_type": "code",
   "execution_count": null,
   "metadata": {},
   "outputs": [],
   "source": [
    "#some more complicated Hybrids\n",
    "SuperScores=ItemKNNScoresHybridRecommender(URM_train,SLIMrecommender,SLIMErecommender)\n",
    "SuperScores.fit(alpha=0.5)\n",
    "\n",
    "H4Scores1=ItemKNNScoresHybridRecommender4(URM_train,SuperScores,CFrecommender,UCFRecommender, CBFrecommender) \n",
    "H4Scores1.fit(alpha=0.5, beta=0.5, gamma=0.2, delta=0.2)\n",
    "result = H4Scores1.evaluateRecommendations(URM_test)\n",
    "print(\"Recommender MAP is= {}\".format(result[\"MAP\"]))"
   ]
  }
 ],
 "metadata": {
  "kernelspec": {
   "display_name": "Python 3",
   "language": "python",
   "name": "python3"
  },
  "language_info": {
   "codemirror_mode": {
    "name": "ipython",
    "version": 3
   },
   "file_extension": ".py",
   "mimetype": "text/x-python",
   "name": "python",
   "nbconvert_exporter": "python",
   "pygments_lexer": "ipython3",
   "version": "3.6.4"
  }
 },
 "nbformat": 4,
 "nbformat_minor": 2
}
