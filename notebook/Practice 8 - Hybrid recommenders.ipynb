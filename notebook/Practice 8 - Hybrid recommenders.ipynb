{
 "cells": [
  {
   "cell_type": "markdown",
   "metadata": {},
   "source": [
    "# Recommender Systems 2018/19\n",
    "\n",
    "### Practice 8 - Hybrid recommenders\n",
    "\n",
    "\n",
    "### The way to go to achieve the best recommendation quality"
   ]
  },
  {
   "cell_type": "markdown",
   "metadata": {},
   "source": [
    "## A few info about hybrids\n",
    "\n",
    "\n",
    "#### There are many different types of hibrids, in this practice we will see the following\n",
    "* Linear combination of item-based models\n",
    "* Linear combination of heterogeneous models\n",
    "* User-wise discrimination\n"
   ]
  },
  {
   "cell_type": "markdown",
   "metadata": {},
   "source": [
    "### Prerequisite: parameter tuning!\n",
    "\n",
    "#### Let's have an example. In the course repo you will find a BayesianSearch object in the ParameterTuning folder. That is a simple wrapper of another library and its purpose is to provide a very simple way to tune some of the most common parameters. To run heavy tuning on more complex problems or with more sofisiticated constraints you may refer to other libraries."
   ]
  },
  {
   "cell_type": "code",
   "execution_count": 1,
   "metadata": {},
   "outputs": [],
   "source": [
    "from urllib.request import urlretrieve\n",
    "import zipfile\n",
    "\n",
    "# skip the download\n",
    "#urlretrieve (\"http://files.grouplens.org/datasets/movielens/ml-10m.zip\", \"data/Movielens_10M/movielens_10m.zip\")\n",
    "dataFile = zipfile.ZipFile(\"data/Movielens_10M/movielens_10m.zip\")\n",
    "URM_path = dataFile.extract(\"ml-10M100K/ratings.dat\", path = \"data/Movielens_10M\")\n",
    "URM_file = open(URM_path, 'r')\n",
    "\n",
    "\n",
    "def rowSplit (rowString):\n",
    "    \n",
    "    split = rowString.split(\"::\")\n",
    "    split[3] = split[3].replace(\"\\n\",\"\")\n",
    "    \n",
    "    split[0] = int(split[0])\n",
    "    split[1] = int(split[1])\n",
    "    split[2] = float(split[2])\n",
    "    split[3] = int(split[3])\n",
    "    \n",
    "    result = tuple(split)\n",
    "    \n",
    "    return result\n",
    "\n",
    "\n",
    "URM_file.seek(0)\n",
    "URM_tuples = []\n",
    "\n",
    "for line in URM_file:\n",
    "   URM_tuples.append(rowSplit (line))\n",
    "\n",
    "userList, itemList, ratingList, timestampList = zip(*URM_tuples)\n",
    "\n",
    "userList = list(userList)\n",
    "itemList = list(itemList)\n",
    "ratingList = list(ratingList)\n",
    "timestampList = list(timestampList)\n",
    "\n",
    "import scipy.sparse as sps\n",
    "\n",
    "URM_all = sps.coo_matrix((ratingList, (userList, itemList)))\n",
    "URM_all = URM_all.tocsr()\n",
    "\n"
   ]
  },
  {
   "cell_type": "code",
   "execution_count": 2,
   "metadata": {},
   "outputs": [
    {
     "name": "stdout",
     "output_type": "stream",
     "text": [
      "Number of items\t 7601, Number of users\t 4009\n",
      "Number of tags\t 16529, Number of item-tag tuples 95580\n",
      "\n",
      "Data example:\n",
      "[15, 20, 20, 20, 20, 20, 20, 20, 20, 20]\n",
      "[4973, 1747, 1747, 2424, 2424, 2424, 2947, 2947, 3033, 3033]\n",
      "['excellent!', 'politics', 'satire', 'chick flick 212', 'hanks', 'ryan', 'action', 'bond', 'spoof', 'star wars']\n"
     ]
    }
   ],
   "source": [
    "ICM_path = dataFile.extract(\"ml-10M100K/tags.dat\", path = \"data/Movielens_10M\")\n",
    "ICM_file = open(ICM_path, 'r')\n",
    "\n",
    "def rowSplit (rowString):\n",
    "    split = rowString.split(\"::\")\n",
    "    split[3] = split[3].replace(\"\\n\",\"\")\n",
    "    \n",
    "    split[0] = int(split[0])\n",
    "    split[1] = int(split[1])\n",
    "    split[2] = str(split[2]) # tag is a string, not a float like the rating\n",
    "    split[3] = int(split[3])\n",
    "    \n",
    "    result = tuple(split)\n",
    "    \n",
    "    return result\n",
    "\n",
    "ICM_file.seek(0)\n",
    "ICM_tuples = []\n",
    "\n",
    "for line in ICM_file:\n",
    "    ICM_tuples.append(rowSplit(line))\n",
    "    \n",
    "userList_icm, itemList_icm, tagList_icm, timestampList_icm = zip(*ICM_tuples)\n",
    "\n",
    "userList_icm = list(userList_icm)\n",
    "itemList_icm = list(itemList_icm)\n",
    "tagList_icm = list(tagList_icm)\n",
    "timestampList_icm = list(timestampList_icm)\n",
    "\n",
    "userList_unique = list(set(userList_icm))\n",
    "itemList_unique = list(set(itemList_icm))\n",
    "tagList_unique = list(set(tagList_icm))\n",
    "\n",
    "numUsers = len(userList_unique)\n",
    "numItems = len(itemList_unique)\n",
    "numTags = len(tagList_unique)\n",
    "\n",
    "\n",
    "print (\"Number of items\\t {}, Number of users\\t {}\".format(numItems, numUsers))\n",
    "print (\"Number of tags\\t {}, Number of item-tag tuples {}\".format(numTags, len(tagList_icm)))\n",
    "\n",
    "print(\"\\nData example:\")\n",
    "print(userList_icm[0:10])\n",
    "print(itemList_icm[0:10])\n",
    "print(tagList_icm[0:10])\n",
    "\n",
    "\n",
    "from sklearn import preprocessing\n",
    "le = preprocessing.LabelEncoder()\n",
    "le.fit(tagList_icm)\n",
    "\n",
    "tagList_icm = le.transform(tagList_icm)\n",
    "\n",
    "import numpy as np\n",
    "\n",
    "ones = np.ones(len(tagList_icm))\n",
    "\n",
    "ICM_all = sps.coo_matrix((ones, (itemList_icm, tagList_icm)), shape=(URM_all.shape[1], tagList_icm.max()+1))\n",
    "ICM_all = ICM_all.tocsr()"
   ]
  },
  {
   "cell_type": "code",
   "execution_count": 3,
   "metadata": {},
   "outputs": [],
   "source": [
    "\n",
    "from Notebooks_utils.data_splitter import train_test_holdout\n",
    "\n",
    "URM_train, URM_test = train_test_holdout(URM_all, train_perc = 0.8)\n",
    "URM_train, URM_validation = train_test_holdout(URM_train, train_perc = 0.9)"
   ]
  },
  {
   "cell_type": "markdown",
   "metadata": {},
   "source": [
    "### Step 1: Import the evaluator objects"
   ]
  },
  {
   "cell_type": "code",
   "execution_count": 4,
   "metadata": {},
   "outputs": [],
   "source": [
    "from ParameterTuning.AbstractClassSearch import EvaluatorWrapper\n",
    "from Base.Evaluation.Evaluator import SequentialEvaluator\n",
    "\n",
    "evaluator_validation = SequentialEvaluator(URM_validation, cutoff_list=[5])\n",
    "evaluator_test = SequentialEvaluator(URM_test, cutoff_list=[5, 10])\n",
    "\n",
    "evaluator_validation = EvaluatorWrapper(evaluator_validation)\n",
    "evaluator_test = EvaluatorWrapper(evaluator_test)\n"
   ]
  },
  {
   "cell_type": "markdown",
   "metadata": {},
   "source": [
    "### Step 2: Create BayesianSearch object"
   ]
  },
  {
   "cell_type": "code",
   "execution_count": 5,
   "metadata": {},
   "outputs": [],
   "source": [
    "from KNN.ItemKNNCFRecommender import ItemKNNCFRecommender\n",
    "from ParameterTuning.BayesianSearch import BayesianSearch\n",
    "\n",
    "\n",
    "recommender_class = ItemKNNCFRecommender\n",
    "\n",
    "parameterSearch = BayesianSearch(recommender_class,\n",
    "                                 evaluator_validation=evaluator_validation,\n",
    "                                 evaluator_test=evaluator_test)\n",
    "\n"
   ]
  },
  {
   "cell_type": "markdown",
   "metadata": {},
   "source": [
    "### Step 3: Define parameters range"
   ]
  },
  {
   "cell_type": "code",
   "execution_count": 6,
   "metadata": {},
   "outputs": [],
   "source": [
    "from ParameterTuning.AbstractClassSearch import DictionaryKeys\n",
    "\n",
    "hyperparamethers_range_dictionary = {}\n",
    "hyperparamethers_range_dictionary[\"topK\"] = [5, 10, 20, 50, 100, 150, 200, 300, 400, 500, 600, 700, 800]\n",
    "hyperparamethers_range_dictionary[\"shrink\"] = [0, 10, 50, 100, 200, 300, 500, 1000]\n",
    "hyperparamethers_range_dictionary[\"similarity\"] = [\"cosine\"]\n",
    "hyperparamethers_range_dictionary[\"normalize\"] = [True, False]\n",
    "\n",
    "\n",
    "recommenderDictionary = {DictionaryKeys.CONSTRUCTOR_POSITIONAL_ARGS: [URM_train],\n",
    "                         DictionaryKeys.CONSTRUCTOR_KEYWORD_ARGS: {},\n",
    "                         DictionaryKeys.FIT_POSITIONAL_ARGS: dict(),\n",
    "                         DictionaryKeys.FIT_KEYWORD_ARGS: dict(),\n",
    "                         DictionaryKeys.FIT_RANGE_KEYWORD_ARGS: hyperparamethers_range_dictionary}\n",
    "\n",
    "output_root_path = \"result_experiments/\"\n",
    "\n",
    "import os\n",
    "\n",
    "# If directory does not exist, create\n",
    "if not os.path.exists(output_root_path):\n",
    "    os.makedirs(output_root_path)\n",
    "    \n",
    "\n",
    "output_root_path += recommender_class.RECOMMENDER_NAME\n",
    "\n"
   ]
  },
  {
   "cell_type": "markdown",
   "metadata": {},
   "source": [
    "### Step 4: Run!"
   ]
  },
  {
   "cell_type": "code",
   "execution_count": 7,
   "metadata": {},
   "outputs": [
    {
     "name": "stdout",
     "output_type": "stream",
     "text": [
      "\u001b[31mInitialization\u001b[0m\n",
      "\u001b[94m----------------------------------------------------------------------------------\u001b[0m\n",
      " Step |   Time |      Value |   normalize |    shrink |   similarity |      topK | \n",
      "BayesianSearch: Testing config: {'topK': 200, 'shrink': 100, 'similarity': 'cosine', 'normalize': True}\n",
      "Similarity column 65134 ( 100 % ), 2709.46 column/sec, elapsed time 0.40 min\n",
      "SequentialEvaluator: Processed 33001 ( 47.23% ) in 30.25 seconds. Users per second: 1091\n",
      "SequentialEvaluator: Processed 65967 ( 94.42% ) in 60.26 seconds. Users per second: 1095\n",
      "SequentialEvaluator: Processed 69866 ( 100.00% ) in 63.69 seconds. Users per second: 1097\n",
      "BayesianSearch: New best config found. Config: {'topK': 200, 'shrink': 100, 'similarity': 'cosine', 'normalize': True} - results: {'ROC_AUC': 0.326808939016593, 'PRECISION': 0.2002724262636508, 'RECALL': 0.05697936337235024, 'RECALL_TEST_LEN': 0.2002724262636508, 'MAP': 0.12162160421379148, 'MRR': 0.3611899922709169, 'NDCG': 0.08321818716920575, 'F1': 0.08871771400063226, 'HIT_RATE': 0.9924283628660578, 'ARHR': 0.469230383877692, 'NOVELTY': 0.0007197177654965711, 'DIVERSITY_MEAN_INTER_LIST': 0.9536203154998684, 'DIVERSITY_HERFINDAHL': 0.9907213332447781, 'COVERAGE_ITEM': 0.047978014554610496, 'COVERAGE_USER': 0.9762184216409568, 'DIVERSITY_GINI': 0.07007198992517968, 'SHANNON_ENTROPY': 7.825035708609972}\n",
      "\n",
      "BayesianSearch: Saving model in result_experiments/ItemKNNCFRecommender\n",
      "\n",
      "ItemKNNCFRecommender: Saving model in file 'result_experiments/ItemKNNCFRecommender_best_model'\n",
      "ItemKNNCFRecommender: Saving complete\n",
      "ItemKNNCFRecommender: Loading model from file 'result_experiments/ItemKNNCFRecommender_best_model'\n",
      "ItemKNNCFRecommender: Loading complete\n",
      "SequentialEvaluator: Processed 25001 ( 35.78% ) in 30.04 seconds. Users per second: 832\n",
      "SequentialEvaluator: Processed 50550 ( 72.34% ) in 60.04 seconds. Users per second: 842\n",
      "SequentialEvaluator: Processed 69878 ( 100.00% ) in 82.41 seconds. Users per second: 848\n",
      "BayesianSearch: Best result evaluated on URM_test. Config: {'topK': 200, 'shrink': 100, 'similarity': 'cosine', 'normalize': True} - results: CUTOFF: 5 - ROC_AUC: 0.4568450, PRECISION: 0.3974043, RECALL: 0.0572711, RECALL_TEST_LEN: 0.3974043, MAP: 0.2953705, MRR: 0.5842130, NDCG: 0.1060501, F1: 0.1001145, HIT_RATE: 1.9869773, ARHR: 0.9383914, NOVELTY: 0.0007197, DIVERSITY_MEAN_INTER_LIST: 0.9536228, DIVERSITY_HERFINDAHL: 0.9907218, COVERAGE_ITEM: 0.0479780, COVERAGE_USER: 0.9763861, DIVERSITY_GINI: 0.0700800, SHANNON_ENTROPY: 7.8251842, \n",
      "CUTOFF: 10 - ROC_AUC: 0.4944315, PRECISION: 0.3713764, RECALL: 0.1032891, RECALL_TEST_LEN: 0.3713764, MAP: 0.2434929, MRR: 0.5946304, NDCG: 0.1500179, F1: 0.1616259, HIT_RATE: 3.7018661, ARHR: 1.1610623, NOVELTY: 0.0014480, DIVERSITY_MEAN_INTER_LIST: 0.9270897, DIVERSITY_HERFINDAHL: 0.9927076, COVERAGE_ITEM: 0.0633463, COVERAGE_USER: 0.9763861, DIVERSITY_GINI: 0.0606526, SHANNON_ENTROPY: 8.0709177, \n",
      "\n",
      "\n",
      "    1 | 02m50s | \u001b[35m   0.12162\u001b[0m | \u001b[32m     0.1847\u001b[0m | \u001b[32m   2.9072\u001b[0m | \u001b[32m      0.0000\u001b[0m | \u001b[32m   6.2294\u001b[0m | \n",
      "BayesianSearch: Testing config: {'topK': 700, 'shrink': 200, 'similarity': 'cosine', 'normalize': False}\n",
      "Similarity column 65134 ( 100 % ), 3133.44 column/sec, elapsed time 0.35 min\n",
      "SequentialEvaluator: Processed 23001 ( 32.92% ) in 31.00 seconds. Users per second: 742\n",
      "SequentialEvaluator: Processed 46980 ( 67.24% ) in 61.00 seconds. Users per second: 770\n",
      "SequentialEvaluator: Processed 69866 ( 100.00% ) in 90.25 seconds. Users per second: 774\n",
      "BayesianSearch: Config is suboptimal. Config: {'topK': 700, 'shrink': 200, 'similarity': 'cosine', 'normalize': False} - results: {'ROC_AUC': 0.2961741047147386, 'PRECISION': 0.16967886143953503, 'RECALL': 0.04532516181138168, 'RECALL_TEST_LEN': 0.16967886143953503, 'MAP': 0.10247057064794089, 'MRR': 0.32196013320738925, 'NDCG': 0.07917864956488736, 'F1': 0.07154025989311477, 'HIT_RATE': 0.8420691037128217, 'ARHR': 0.40626818958196464, 'NOVELTY': 0.0006438799150360169, 'DIVERSITY_MEAN_INTER_LIST': 0.5044520553191795, 'DIVERSITY_HERFINDAHL': 0.9008889670079137, 'COVERAGE_ITEM': 0.009749132557496853, 'COVERAGE_USER': 0.9762184216409568, 'DIVERSITY_GINI': 0.02056392047526019, 'SHANNON_ENTROPY': 3.834767625006222}\n",
      "\n",
      "    2 | 01m51s |    0.10247 |      0.7445 |    3.6198 |       0.0000 |   11.1404 | \n",
      "BayesianSearch: Testing config: {'topK': 5, 'shrink': 200, 'similarity': 'cosine', 'normalize': False}\n",
      "Similarity column 65134 ( 100 % ), 3189.46 column/sec, elapsed time 0.34 min\n",
      "SequentialEvaluator: Processed 36001 ( 51.53% ) in 30.15 seconds. Users per second: 1194\n",
      "SequentialEvaluator: Processed 69866 ( 100.00% ) in 57.60 seconds. Users per second: 1213\n",
      "BayesianSearch: Config is suboptimal. Config: {'topK': 5, 'shrink': 200, 'similarity': 'cosine', 'normalize': False} - results: {'ROC_AUC': 0.26715307397971344, 'PRECISION': 0.14477953033902327, 'RECALL': 0.03690262055073796, 'RECALL_TEST_LEN': 0.14477953033902327, 'MAP': 0.08761350299144025, 'MRR': 0.2834840981307255, 'NDCG': 0.06181329238380267, 'F1': 0.058814187804908054, 'HIT_RATE': 0.7190765179057053, 'ARHR': 0.3522306987662194, 'NOVELTY': 0.0007241036330932543, 'DIVERSITY_MEAN_INTER_LIST': 0.9064253137600359, 'DIVERSITY_HERFINDAHL': 0.9812824679982964, 'COVERAGE_ITEM': 0.05290631620966008, 'COVERAGE_USER': 0.9762184216409568, 'DIVERSITY_GINI': 0.06609983248549622, 'SHANNON_ENTROPY': 7.292464305420054}\n",
      "\n",
      "    3 | 01m18s |    0.08761 |      0.8998 |    4.0136 |       0.0000 |    0.1435 | \n",
      "BayesianSearch: Testing config: {'topK': 5, 'shrink': 200, 'similarity': 'cosine', 'normalize': True}\n",
      "Similarity column 65134 ( 100 % ), 2799.55 column/sec, elapsed time 0.39 min\n",
      "SequentialEvaluator: Processed 44001 ( 62.98% ) in 30.08 seconds. Users per second: 1463\n",
      "SequentialEvaluator: Processed 69866 ( 100.00% ) in 46.99 seconds. Users per second: 1487\n",
      "BayesianSearch: Config is suboptimal. Config: {'topK': 5, 'shrink': 200, 'similarity': 'cosine', 'normalize': True} - results: {'ROC_AUC': 0.2885249382150598, 'PRECISION': 0.16004709014399962, 'RECALL': 0.04479016140048398, 'RECALL_TEST_LEN': 0.16004709014399962, 'MAP': 0.09481004907807705, 'MRR': 0.307211662325036, 'NDCG': 0.06572519828437264, 'F1': 0.06999249350571171, 'HIT_RATE': 0.793103941831506, 'ARHR': 0.3814850332541381, 'NOVELTY': 0.0007460950822104933, 'DIVERSITY_MEAN_INTER_LIST': 0.977616286202157, 'DIVERSITY_HERFINDAHL': 0.9955204586938244, 'COVERAGE_ITEM': 0.06136579973592901, 'COVERAGE_USER': 0.9762184216409568, 'DIVERSITY_GINI': 0.10316642734386401, 'SHANNON_ENTROPY': 8.85988321894986}\n",
      "\n",
      "    4 | 01m10s |    0.09481 |      0.2915 |    4.0808 |       0.0000 |    0.4698 | \n",
      "BayesianSearch: Testing config: {'topK': 300, 'shrink': 500, 'similarity': 'cosine', 'normalize': True}\n",
      "Similarity column 65134 ( 100 % ), 2817.17 column/sec, elapsed time 0.39 min\n",
      "SequentialEvaluator: Processed 29581 ( 42.34% ) in 30.00 seconds. Users per second: 986\n",
      "SequentialEvaluator: Processed 59365 ( 84.97% ) in 60.00 seconds. Users per second: 989\n",
      "SequentialEvaluator: Processed 69866 ( 100.00% ) in 70.43 seconds. Users per second: 992\n",
      "BayesianSearch: New best config found. Config: {'topK': 300, 'shrink': 500, 'similarity': 'cosine', 'normalize': True} - results: {'ROC_AUC': 0.32863505376959723, 'PRECISION': 0.20246781934946395, 'RECALL': 0.057778298338475344, 'RECALL_TEST_LEN': 0.20246781934946395, 'MAP': 0.12312244550680797, 'MRR': 0.36435032777030124, 'NDCG': 0.08540088426220399, 'F1': 0.08990140697769183, 'HIT_RATE': 1.003249076804168, 'ARHR': 0.4741953644595666, 'NOVELTY': 0.0007117730561272344, 'DIVERSITY_MEAN_INTER_LIST': 0.9448206410747019, 'DIVERSITY_HERFINDAHL': 0.9889614235498928, 'COVERAGE_ITEM': 0.03643258513218903, 'COVERAGE_USER': 0.9762184216409568, 'DIVERSITY_GINI': 0.07284218958950206, 'SHANNON_ENTROPY': 7.525795888530011}\n",
      "\n",
      "BayesianSearch: Saving model in result_experiments/ItemKNNCFRecommender\n",
      "\n",
      "ItemKNNCFRecommender: Saving model in file 'result_experiments/ItemKNNCFRecommender_best_model'\n",
      "ItemKNNCFRecommender: Saving complete\n",
      "ItemKNNCFRecommender: Loading model from file 'result_experiments/ItemKNNCFRecommender_best_model'\n",
      "ItemKNNCFRecommender: Loading complete\n",
      "SequentialEvaluator: Processed 22001 ( 31.48% ) in 30.16 seconds. Users per second: 730\n"
     ]
    },
    {
     "name": "stdout",
     "output_type": "stream",
     "text": [
      "SequentialEvaluator: Processed 44557 ( 63.76% ) in 60.16 seconds. Users per second: 741\n",
      "SequentialEvaluator: Processed 67001 ( 95.88% ) in 90.71 seconds. Users per second: 739\n",
      "SequentialEvaluator: Processed 69878 ( 100.00% ) in 93.90 seconds. Users per second: 744\n",
      "BayesianSearch: Best result evaluated on URM_test. Config: {'topK': 300, 'shrink': 500, 'similarity': 'cosine', 'normalize': True} - results: CUTOFF: 5 - ROC_AUC: 0.4616033, PRECISION: 0.4038822, RECALL: 0.0582988, RECALL_TEST_LEN: 0.4038822, MAP: 0.3019737, MRR: 0.5911615, NDCG: 0.1095177, F1: 0.1018902, HIT_RATE: 2.0193623, ARHR: 0.9546443, NOVELTY: 0.0007118, DIVERSITY_MEAN_INTER_LIST: 0.9448243, DIVERSITY_HERFINDAHL: 0.9889622, COVERAGE_ITEM: 0.0364326, COVERAGE_USER: 0.9763861, DIVERSITY_GINI: 0.0728496, SHANNON_ENTROPY: 7.5259240, \n",
      "CUTOFF: 10 - ROC_AUC: 0.4979679, PRECISION: 0.3759856, RECALL: 0.1048025, RECALL_TEST_LEN: 0.3759856, MAP: 0.2483373, MRR: 0.6011961, NDCG: 0.1543577, F1: 0.1639152, HIT_RATE: 3.7476602, ARHR: 1.1791574, NOVELTY: 0.0014329, DIVERSITY_MEAN_INTER_LIST: 0.9150708, DIVERSITY_HERFINDAHL: 0.9915058, COVERAGE_ITEM: 0.0463506, COVERAGE_USER: 0.9763861, DIVERSITY_GINI: 0.0665880, SHANNON_ENTROPY: 7.8052487, \n",
      "\n",
      "\n",
      "    5 | 03m07s | \u001b[35m   0.12312\u001b[0m | \u001b[32m     0.0667\u001b[0m | \u001b[32m   6.3992\u001b[0m | \u001b[32m      0.0000\u001b[0m | \u001b[32m   6.6500\u001b[0m | \n",
      "\u001b[31mBayesian Optimization\u001b[0m\n",
      "\u001b[94m----------------------------------------------------------------------------------\u001b[0m\n",
      " Step |   Time |      Value |   normalize |    shrink |   similarity |      topK | \n",
      "BayesianSearch: Testing config: {'topK': 300, 'shrink': 0, 'similarity': 'cosine', 'normalize': True}\n",
      "Similarity column 65134 ( 100 % ), 2476.80 column/sec, elapsed time 0.44 min\n",
      "SequentialEvaluator: Processed 31566 ( 45.18% ) in 30.00 seconds. Users per second: 1052\n",
      "SequentialEvaluator: Processed 64001 ( 91.61% ) in 60.21 seconds. Users per second: 1063\n",
      "SequentialEvaluator: Processed 69866 ( 100.00% ) in 65.28 seconds. Users per second: 1070\n",
      "BayesianSearch: Config is suboptimal. Config: {'topK': 300, 'shrink': 0, 'similarity': 'cosine', 'normalize': True} - results: {'ROC_AUC': 0.3278657239095779, 'PRECISION': 0.20195278580906637, 'RECALL': 0.05760446267593703, 'RECALL_TEST_LEN': 0.20195278580906637, 'MAP': 0.1228378173137909, 'MRR': 0.3631454021507813, 'NDCG': 0.08487664968136105, 'F1': 0.08964019907239862, 'HIT_RATE': 1.0006727163427132, 'ARHR': 0.4729031288466319, 'NOVELTY': 0.0007193840270306531, 'DIVERSITY_MEAN_INTER_LIST': 0.9473391277573162, 'DIVERSITY_HERFINDAHL': 0.9894651136769385, 'COVERAGE_ITEM': 0.051186784168022845, 'COVERAGE_USER': 0.9762184216409568, 'DIVERSITY_GINI': 0.061266933304023274, 'SHANNON_ENTROPY': 7.646533602219412}\n",
      "\n",
      "    6 | 01m34s |    0.12284 |      0.0000 |    0.0000 |       0.0000 |    7.2847 | \n"
     ]
    },
    {
     "name": "stderr",
     "output_type": "stream",
     "text": [
      "/home/maurizio/anaconda3/lib/python3.6/site-packages/sklearn/gaussian_process/gpr.py:480: ConvergenceWarning: fmin_l_bfgs_b terminated abnormally with the  state: {'grad': array([-1.15753608e-05]), 'task': b'ABNORMAL_TERMINATION_IN_LNSRCH', 'funcalls': 53, 'nit': 6, 'warnflag': 2}\n",
      "  ConvergenceWarning)\n"
     ]
    },
    {
     "name": "stdout",
     "output_type": "stream",
     "text": [
      "BayesianSearch: Testing config: {'topK': 100, 'shrink': 0, 'similarity': 'cosine', 'normalize': True}\n",
      "Similarity column 65134 ( 100 % ), 2555.45 column/sec, elapsed time 0.42 min\n",
      "SequentialEvaluator: Processed 34001 ( 48.67% ) in 30.26 seconds. Users per second: 1124\n",
      "SequentialEvaluator: Processed 67001 ( 95.90% ) in 60.64 seconds. Users per second: 1105\n",
      "SequentialEvaluator: Processed 69866 ( 100.00% ) in 62.71 seconds. Users per second: 1114\n",
      "BayesianSearch: Config is suboptimal. Config: {'topK': 100, 'shrink': 0, 'similarity': 'cosine', 'normalize': True} - results: {'ROC_AUC': 0.3193124457294429, 'PRECISION': 0.1944942222731495, 'RECALL': 0.05533868075937126, 'RECALL_TEST_LEN': 0.1944942222731495, 'MAP': 0.11737438254818638, 'MRR': 0.351329688260384, 'NDCG': 0.07970762993524388, 'F1': 0.08616201905571252, 'HIT_RATE': 0.9636876306071622, 'ARHR': 0.45458138913537693, 'NOVELTY': 0.0007320528399030545, 'DIVERSITY_MEAN_INTER_LIST': 0.9617962253939695, 'DIVERSITY_HERFINDAHL': 0.9923564918190527, 'COVERAGE_ITEM': 0.05720514631375319, 'COVERAGE_USER': 0.9762184216409568, 'DIVERSITY_GINI': 0.07578316484580075, 'SHANNON_ENTROPY': 8.160245816922405}\n",
      "\n",
      "    7 | 01m32s |    0.11737 |      0.0000 |    0.0000 |       0.0000 |    3.8579 | \n",
      "BayesianSearch: Best config is: Config {'topK': 300, 'shrink': 500, 'similarity': 'cosine', 'normalize': True}, MAP value is 0.1231\n",
      "\n"
     ]
    }
   ],
   "source": [
    "n_cases = 2\n",
    "metric_to_optimize = \"MAP\"\n",
    "\n",
    "best_parameters = parameterSearch.search(recommenderDictionary,\n",
    "                                         n_cases = n_cases,\n",
    "                                         output_root_path = output_root_path,\n",
    "                                         metric=metric_to_optimize)"
   ]
  },
  {
   "cell_type": "code",
   "execution_count": 8,
   "metadata": {},
   "outputs": [
    {
     "data": {
      "text/plain": [
       "{'topK': 300, 'shrink': 500, 'similarity': 'cosine', 'normalize': True}"
      ]
     },
     "execution_count": 8,
     "metadata": {},
     "output_type": "execute_result"
    }
   ],
   "source": [
    "best_parameters"
   ]
  },
  {
   "cell_type": "markdown",
   "metadata": {},
   "source": [
    "# Linear combination of item-based models\n",
    "\n",
    "#### Let's use an ItemKNNCF with the parameters we just learned and a graph based model"
   ]
  },
  {
   "cell_type": "code",
   "execution_count": 9,
   "metadata": {},
   "outputs": [
    {
     "name": "stdout",
     "output_type": "stream",
     "text": [
      "Similarity column 65134 ( 100 % ), 2215.05 column/sec, elapsed time 0.49 min\n",
      "Processed 57000 ( 87.51% ) in 1.00 minutes. Rows per second: 950\n"
     ]
    }
   ],
   "source": [
    "itemKNNCF = ItemKNNCFRecommender(URM_train)\n",
    "itemKNNCF.fit(**best_parameters)\n",
    "\n",
    "\n",
    "from GraphBased.P3alphaRecommender import P3alphaRecommender\n",
    "\n",
    "P3alpha = P3alphaRecommender(URM_train)\n",
    "P3alpha.fit()"
   ]
  },
  {
   "cell_type": "code",
   "execution_count": 10,
   "metadata": {},
   "outputs": [
    {
     "data": {
      "text/plain": [
       "<65134x65134 sparse matrix of type '<class 'numpy.float32'>'\n",
       "\twith 3048999 stored elements in Compressed Sparse Row format>"
      ]
     },
     "execution_count": 10,
     "metadata": {},
     "output_type": "execute_result"
    }
   ],
   "source": [
    "itemKNNCF.W_sparse"
   ]
  },
  {
   "cell_type": "code",
   "execution_count": 11,
   "metadata": {},
   "outputs": [
    {
     "data": {
      "text/plain": [
       "<65134x65134 sparse matrix of type '<class 'numpy.float32'>'\n",
       "\twith 276908 stored elements in Compressed Sparse Row format>"
      ]
     },
     "execution_count": 11,
     "metadata": {},
     "output_type": "execute_result"
    }
   ],
   "source": [
    "P3alpha.W_sparse"
   ]
  },
  {
   "cell_type": "markdown",
   "metadata": {},
   "source": [
    "### We may define another Recommender which takes the two matrices as input as well as the weights"
   ]
  },
  {
   "cell_type": "code",
   "execution_count": 12,
   "metadata": {},
   "outputs": [],
   "source": [
    "from Base.Recommender import Recommender\n",
    "from Base.Recommender_utils import check_matrix, similarityMatrixTopK\n",
    "from Base.SimilarityMatrixRecommender import SimilarityMatrixRecommender\n",
    "\n",
    "\n",
    "class ItemKNNSimilarityHybridRecommender(SimilarityMatrixRecommender, Recommender):\n",
    "    \"\"\" ItemKNNSimilarityHybridRecommender\n",
    "    Hybrid of two similarities S = S1*alpha + S2*(1-alpha)\n",
    "\n",
    "    \"\"\"\n",
    "\n",
    "    RECOMMENDER_NAME = \"ItemKNNSimilarityHybridRecommender\"\n",
    "\n",
    "\n",
    "    def __init__(self, URM_train, Similarity_1, Similarity_2, sparse_weights=True):\n",
    "        super(ItemKNNSimilarityHybridRecommender, self).__init__()\n",
    "\n",
    "        if Similarity_1.shape != Similarity_2.shape:\n",
    "            raise ValueError(\"ItemKNNSimilarityHybridRecommender: similarities have different size, S1 is {}, S2 is {}\".format(\n",
    "                Similarity_1.shape, Similarity_2.shape\n",
    "            ))\n",
    "\n",
    "        # CSR is faster during evaluation\n",
    "        self.Similarity_1 = check_matrix(Similarity_1.copy(), 'csr')\n",
    "        self.Similarity_2 = check_matrix(Similarity_2.copy(), 'csr')\n",
    "\n",
    "        self.URM_train = check_matrix(URM_train.copy(), 'csr')\n",
    "\n",
    "        self.sparse_weights = sparse_weights\n",
    "\n",
    "\n",
    "    def fit(self, topK=100, alpha = 0.5):\n",
    "\n",
    "        self.topK = topK\n",
    "        self.alpha = alpha\n",
    "\n",
    "        W = self.Similarity_1*self.alpha + self.Similarity_2*(1-self.alpha)\n",
    "\n",
    "        if self.sparse_weights:\n",
    "            self.W_sparse = similarityMatrixTopK(W, forceSparseOutput=True, k=self.topK)\n",
    "        else:\n",
    "            self.W = similarityMatrixTopK(W, forceSparseOutput=False, k=self.topK)\n",
    "\n"
   ]
  },
  {
   "cell_type": "code",
   "execution_count": 13,
   "metadata": {},
   "outputs": [],
   "source": [
    "hybridrecommender = ItemKNNSimilarityHybridRecommender(URM_train, itemKNNCF.W_sparse, P3alpha.W_sparse)\n",
    "hybridrecommender.fit(alpha = 0.5)"
   ]
  },
  {
   "cell_type": "code",
   "execution_count": 14,
   "metadata": {},
   "outputs": [
    {
     "name": "stdout",
     "output_type": "stream",
     "text": [
      "SequentialEvaluator: Processed 34001 ( 48.67% ) in 30.32 seconds. Users per second: 1121\n",
      "SequentialEvaluator: Processed 67961 ( 97.27% ) in 60.32 seconds. Users per second: 1127\n",
      "SequentialEvaluator: Processed 69866 ( 100.00% ) in 62.02 seconds. Users per second: 1126\n"
     ]
    },
    {
     "data": {
      "text/plain": [
       "({5: {'ROC_AUC': 0.32109442838195007,\n",
       "   'PRECISION': 0.19666886134413625,\n",
       "   'RECALL': 0.05626573608403791,\n",
       "   'RECALL_TEST_LEN': 0.19666886134413625,\n",
       "   'MAP': 0.11873038308254423,\n",
       "   'MRR': 0.35390676437752194,\n",
       "   'NDCG': 0.08103306199427031,\n",
       "   'F1': 0.08749865270194797,\n",
       "   'HIT_RATE': 0.9742793347264764,\n",
       "   'ARHR': 0.4588710293036988,\n",
       "   'NOVELTY': 0.0007234041059257324,\n",
       "   'DIVERSITY_MEAN_INTER_LIST': 0.9588395884166799,\n",
       "   'DIVERSITY_HERFINDAHL': 0.991765172887331,\n",
       "   'COVERAGE_ITEM': 0.04260447692449412,\n",
       "   'COVERAGE_USER': 0.9762184216409568,\n",
       "   'DIVERSITY_GINI': 0.08875261296820897,\n",
       "   'SHANNON_ENTROPY': 8.033652162680971}},\n",
       " 'CUTOFF: 5 - ROC_AUC: 0.3210944, PRECISION: 0.1966689, RECALL: 0.0562657, RECALL_TEST_LEN: 0.1966689, MAP: 0.1187304, MRR: 0.3539068, NDCG: 0.0810331, F1: 0.0874987, HIT_RATE: 0.9742793, ARHR: 0.4588710, NOVELTY: 0.0007234, DIVERSITY_MEAN_INTER_LIST: 0.9588396, DIVERSITY_HERFINDAHL: 0.9917652, COVERAGE_ITEM: 0.0426045, COVERAGE_USER: 0.9762184, DIVERSITY_GINI: 0.0887526, SHANNON_ENTROPY: 8.0336522, \\n')"
      ]
     },
     "execution_count": 14,
     "metadata": {},
     "output_type": "execute_result"
    }
   ],
   "source": [
    "evaluator_validation.evaluateRecommender(hybridrecommender)"
   ]
  },
  {
   "cell_type": "markdown",
   "metadata": {},
   "source": [
    "### In this case the alpha coefficient is too a parameter to be tuned"
   ]
  },
  {
   "cell_type": "markdown",
   "metadata": {},
   "source": [
    "# Linear combination of predictions\n",
    "\n",
    "#### In case of models with incompatible structure (e.g., ItemKNN with UserKNN or MF) you may ensemble the prediction values"
   ]
  },
  {
   "cell_type": "code",
   "execution_count": 15,
   "metadata": {},
   "outputs": [
    {
     "name": "stdout",
     "output_type": "stream",
     "text": [
      "PureSVDRecommender Computing SVD decomposition...\n",
      "PureSVDRecommender Computing SVD decomposition... Done!\n"
     ]
    }
   ],
   "source": [
    "from MatrixFactorization.PureSVD import PureSVDRecommender\n",
    "\n",
    "pureSVD = PureSVDRecommender(URM_train)\n",
    "pureSVD.fit()\n",
    "\n",
    "user_id = 42\n",
    "\n"
   ]
  },
  {
   "cell_type": "code",
   "execution_count": 16,
   "metadata": {},
   "outputs": [
    {
     "data": {
      "text/plain": [
       "array([[0.       , 1.960728 , 1.9257301, ..., 0.       , 0.       ,\n",
       "        0.       ]], dtype=float32)"
      ]
     },
     "execution_count": 16,
     "metadata": {},
     "output_type": "execute_result"
    }
   ],
   "source": [
    "item_scores = itemKNNCF.compute_item_score(user_id)\n",
    "item_scores"
   ]
  },
  {
   "cell_type": "code",
   "execution_count": 17,
   "metadata": {},
   "outputs": [
    {
     "data": {
      "text/plain": [
       "array([-4.2021918e-07,  3.6958694e-02,  2.4145947e-01, ...,\n",
       "        0.0000000e+00,  0.0000000e+00,  1.4636914e-04], dtype=float32)"
      ]
     },
     "execution_count": 17,
     "metadata": {},
     "output_type": "execute_result"
    }
   ],
   "source": [
    "item_scores = pureSVD.compute_item_score(user_id)\n",
    "item_scores"
   ]
  },
  {
   "cell_type": "code",
   "execution_count": 18,
   "metadata": {},
   "outputs": [],
   "source": [
    "\n",
    "class ItemKNNScoresHybridRecommender(Recommender):\n",
    "    \"\"\" ItemKNNScoresHybridRecommender\n",
    "    Hybrid of two prediction scores R = R1*alpha + R2*(1-alpha)\n",
    "\n",
    "    \"\"\"\n",
    "\n",
    "    RECOMMENDER_NAME = \"ItemKNNScoresHybridRecommender\"\n",
    "\n",
    "\n",
    "    def __init__(self, URM_train, Recommender_1, Recommender_2):\n",
    "        super(ItemKNNScoresHybridRecommender, self).__init__()\n",
    "\n",
    "        self.URM_train = check_matrix(URM_train.copy(), 'csr')\n",
    "        self.Recommender_1 = Recommender_1\n",
    "        self.Recommender_2 = Recommender_2\n",
    "        \n",
    "        self.compute_item_score = self.compute_score_hybrid\n",
    "        \n",
    "  \n",
    "    def fit(self, alpha = 0.5):\n",
    "\n",
    "        self.alpha = alpha      \n",
    "\n",
    "\n",
    "    def compute_score_hybrid(self, user_id_array):\n",
    "        \n",
    "        item_weights_1 = self.Recommender_1.compute_item_score(user_id_array)\n",
    "        item_weights_2 = self.Recommender_2.compute_item_score(user_id_array)\n",
    "\n",
    "        item_weights = item_weights_1*self.alpha + item_weights_2*(1-self.alpha)\n",
    "\n",
    "        return item_weights\n"
   ]
  },
  {
   "cell_type": "code",
   "execution_count": 19,
   "metadata": {},
   "outputs": [
    {
     "name": "stdout",
     "output_type": "stream",
     "text": [
      "SequentialEvaluator: Processed 21001 ( 30.06% ) in 30.00 seconds. Users per second: 700\n",
      "SequentialEvaluator: Processed 43466 ( 62.21% ) in 60.00 seconds. Users per second: 724\n",
      "SequentialEvaluator: Processed 65001 ( 93.04% ) in 90.08 seconds. Users per second: 722\n",
      "SequentialEvaluator: Processed 69866 ( 100.00% ) in 95.71 seconds. Users per second: 730\n"
     ]
    },
    {
     "data": {
      "text/plain": [
       "({5: {'ROC_AUC': 0.3201139800952306,\n",
       "   'PRECISION': 0.19690049523377162,\n",
       "   'RECALL': 0.055107011175274355,\n",
       "   'RECALL_TEST_LEN': 0.19690049523377162,\n",
       "   'MAP': 0.11851111810864,\n",
       "   'MRR': 0.35416559318314067,\n",
       "   'NDCG': 0.07838590991190728,\n",
       "   'F1': 0.08611329040058323,\n",
       "   'HIT_RATE': 0.975896716571723,\n",
       "   'ARHR': 0.4586045668374551,\n",
       "   'NOVELTY': 0.0007253464041213561,\n",
       "   'DIVERSITY_MEAN_INTER_LIST': 0.9658977811690924,\n",
       "   'DIVERSITY_HERFINDAHL': 0.9931767912328705,\n",
       "   'COVERAGE_ITEM': 0.03396075782233549,\n",
       "   'COVERAGE_USER': 0.9762184216409568,\n",
       "   'DIVERSITY_GINI': 0.08757610737869921,\n",
       "   'SHANNON_ENTROPY': 7.907194434828114}},\n",
       " 'CUTOFF: 5 - ROC_AUC: 0.3201140, PRECISION: 0.1969005, RECALL: 0.0551070, RECALL_TEST_LEN: 0.1969005, MAP: 0.1185111, MRR: 0.3541656, NDCG: 0.0783859, F1: 0.0861133, HIT_RATE: 0.9758967, ARHR: 0.4586046, NOVELTY: 0.0007253, DIVERSITY_MEAN_INTER_LIST: 0.9658978, DIVERSITY_HERFINDAHL: 0.9931768, COVERAGE_ITEM: 0.0339608, COVERAGE_USER: 0.9762184, DIVERSITY_GINI: 0.0875761, SHANNON_ENTROPY: 7.9071944, \\n')"
      ]
     },
     "execution_count": 19,
     "metadata": {},
     "output_type": "execute_result"
    }
   ],
   "source": [
    "hybridrecommender = ItemKNNScoresHybridRecommender(URM_train, itemKNNCF, pureSVD)\n",
    "hybridrecommender.fit(alpha = 0.5)\n",
    "\n",
    "evaluator_validation.evaluateRecommender(hybridrecommender)"
   ]
  },
  {
   "cell_type": "markdown",
   "metadata": {},
   "source": [
    "# User-wise hybrid\n",
    "\n",
    "### Models do not have the same accuracy for different user types. Let's divide the users according to their profile length and then compare the recommendation quality we get from a CF model\n",
    "\n"
   ]
  },
  {
   "cell_type": "code",
   "execution_count": 20,
   "metadata": {},
   "outputs": [],
   "source": [
    "URM_train = sps.csr_matrix(URM_train)\n",
    "\n",
    "profile_length = np.ediff1d(URM_train.indptr)\n"
   ]
  },
  {
   "cell_type": "markdown",
   "metadata": {},
   "source": [
    "### Let's select a few groups of 5% of the users with the least number of interactions"
   ]
  },
  {
   "cell_type": "code",
   "execution_count": 21,
   "metadata": {},
   "outputs": [
    {
     "data": {
      "text/plain": [
       "3578"
      ]
     },
     "execution_count": 21,
     "metadata": {},
     "output_type": "execute_result"
    }
   ],
   "source": [
    "block_size = int(len(profile_length)*0.05)\n",
    "block_size"
   ]
  },
  {
   "cell_type": "code",
   "execution_count": 22,
   "metadata": {},
   "outputs": [],
   "source": [
    "sorted_users = np.argsort(profile_length)"
   ]
  },
  {
   "cell_type": "code",
   "execution_count": 23,
   "metadata": {},
   "outputs": [
    {
     "name": "stdout",
     "output_type": "stream",
     "text": [
      "Group 0, average p.len 1.43, min 0, max 4\n",
      "Group 1, average p.len 4.49, min 4, max 5\n",
      "Group 2, average p.len 5.72, min 5, max 6\n",
      "Group 3, average p.len 6.82, min 6, max 7\n",
      "Group 4, average p.len 7.90, min 7, max 8\n",
      "Group 5, average p.len 9.13, min 8, max 10\n",
      "Group 6, average p.len 10.39, min 10, max 11\n",
      "Group 7, average p.len 11.83, min 11, max 13\n",
      "Group 8, average p.len 13.59, min 13, max 15\n",
      "Group 9, average p.len 15.65, min 15, max 17\n"
     ]
    }
   ],
   "source": [
    "for group_id in range(0, 10):\n",
    "    \n",
    "    start_pos = group_id*block_size\n",
    "    end_pos = min((group_id+1)*block_size, len(profile_length))\n",
    "    \n",
    "    users_in_group = sorted_users[start_pos:end_pos]\n",
    "    \n",
    "    users_in_group_p_len = profile_length[users_in_group]\n",
    "    \n",
    "    print(\"Group {}, average p.len {:.2f}, min {}, max {}\".format(group_id, \n",
    "        users_in_group_p_len.mean(), users_in_group_p_len.min(), users_in_group_p_len.max()))"
   ]
  },
  {
   "cell_type": "markdown",
   "metadata": {},
   "source": [
    "### Now we plot the recommendation quality of TopPop and ItemKNNCF"
   ]
  },
  {
   "cell_type": "code",
   "execution_count": 24,
   "metadata": {},
   "outputs": [],
   "source": [
    "from Base.NonPersonalizedRecommender import TopPop\n",
    "\n",
    "topPop = TopPop(URM_train)\n",
    "topPop.fit()\n"
   ]
  },
  {
   "cell_type": "code",
   "execution_count": 25,
   "metadata": {},
   "outputs": [],
   "source": [
    "from KNN.ItemKNNCBFRecommender import ItemKNNCBFRecommender\n",
    "\n",
    "\n",
    "recommender_class = ItemKNNCBFRecommender\n",
    "\n",
    "parameterSearch = BayesianSearch(recommender_class,\n",
    "                                 evaluator_validation=evaluator_validation,\n",
    "                                 evaluator_test=evaluator_test)\n"
   ]
  },
  {
   "cell_type": "code",
   "execution_count": 26,
   "metadata": {},
   "outputs": [
    {
     "name": "stdout",
     "output_type": "stream",
     "text": [
      "\u001b[31mInitialization\u001b[0m\n",
      "\u001b[94m----------------------------------------------------------------------------------\u001b[0m\n",
      " Step |   Time |      Value |   normalize |    shrink |   similarity |      topK | \n",
      "BayesianSearch: Testing config: {'topK': 800, 'shrink': 100, 'similarity': 'cosine', 'normalize': False}\n",
      "Similarity column 65134 ( 100 % ), 3619.84 column/sec, elapsed time 0.30 min\n",
      "SequentialEvaluator: Processed 28001 ( 40.08% ) in 30.47 seconds. Users per second: 919\n",
      "SequentialEvaluator: Processed 54001 ( 77.29% ) in 60.95 seconds. Users per second: 886\n",
      "SequentialEvaluator: Processed 69866 ( 100.00% ) in 76.93 seconds. Users per second: 908\n",
      "BayesianSearch: New best config found. Config: {'topK': 800, 'shrink': 100, 'similarity': 'cosine', 'normalize': False} - results: {'ROC_AUC': 0.21535749386921701, 'PRECISION': 0.11297984713590557, 'RECALL': 0.021872641708423183, 'RECALL_TEST_LEN': 0.11297984713590557, 'MAP': 0.0683041743400816, 'MRR': 0.22518869454863769, 'NDCG': 0.04391627449630798, 'F1': 0.036649938578868266, 'HIT_RATE': 0.562848882145822, 'ARHR': 0.2771951545339436, 'NOVELTY': 0.0007223168591298607, 'DIVERSITY_MEAN_INTER_LIST': 0.8857327977295789, 'DIVERSITY_HERFINDAHL': 0.9771440240270719, 'COVERAGE_ITEM': 0.011867841680228452, 'COVERAGE_USER': 0.9762184216409568, 'DIVERSITY_GINI': 0.0834046141188252, 'SHANNON_ENTROPY': 6.277339337756292}\n",
      "\n",
      "BayesianSearch: Saving model in result_experiments/\n",
      "\n",
      "ItemKNNCBFRecommender: Saving model in file 'result_experiments/_best_model'\n",
      "ItemKNNCBFRecommender: Saving complete\n",
      "ItemKNNCBFRecommender: Loading model from file 'result_experiments/_best_model'\n",
      "ItemKNNCBFRecommender: Loading complete\n",
      "SequentialEvaluator: Processed 22385 ( 32.03% ) in 30.00 seconds. Users per second: 746\n",
      "SequentialEvaluator: Processed 45105 ( 64.55% ) in 60.00 seconds. Users per second: 752\n",
      "SequentialEvaluator: Processed 68001 ( 97.31% ) in 90.21 seconds. Users per second: 754\n",
      "SequentialEvaluator: Processed 69878 ( 100.00% ) in 91.92 seconds. Users per second: 760\n",
      "BayesianSearch: Best result evaluated on URM_test. Config: {'topK': 800, 'shrink': 100, 'similarity': 'cosine', 'normalize': False} - results: CUTOFF: 5 - ROC_AUC: 0.3322529, PRECISION: 0.2243725, RECALL: 0.0220930, RECALL_TEST_LEN: 0.2243725, MAP: 0.1599347, MRR: 0.3830946, NDCG: 0.0565590, F1: 0.0402253, HIT_RATE: 1.1218552, ARHR: 0.5537038, NOVELTY: 0.0007223, DIVERSITY_MEAN_INTER_LIST: 0.8857439, DIVERSITY_HERFINDAHL: 0.9771462, COVERAGE_ITEM: 0.0119446, COVERAGE_USER: 0.9763861, DIVERSITY_GINI: 0.0828982, SHANNON_ENTROPY: 6.2776125, \n",
      "CUTOFF: 10 - ROC_AUC: 0.3966239, PRECISION: 0.1991514, RECALL: 0.0375520, RECALL_TEST_LEN: 0.1991514, MAP: 0.1201976, MRR: 0.3989676, NDCG: 0.0758589, F1: 0.0631890, HIT_RATE: 1.9890523, ARHR: 0.6665763, NOVELTY: 0.0014654, DIVERSITY_MEAN_INTER_LIST: 0.8371060, DIVERSITY_HERFINDAHL: 0.9837094, COVERAGE_ITEM: 0.0186846, COVERAGE_USER: 0.9763861, DIVERSITY_GINI: 0.0729333, SHANNON_ENTROPY: 6.7512943, \n",
      "\n",
      "\n",
      "    1 | 03m07s | \u001b[35m   0.06830\u001b[0m | \u001b[32m     0.8460\u001b[0m | \u001b[32m   2.5705\u001b[0m | \u001b[32m      0.0000\u001b[0m | \u001b[32m  11.5857\u001b[0m | \n",
      "BayesianSearch: Testing config: {'topK': 300, 'shrink': 300, 'similarity': 'cosine', 'normalize': True}\n",
      "Similarity column 65134 ( 100 % ), 2270.71 column/sec, elapsed time 0.48 min\n",
      "SequentialEvaluator: Processed 24001 ( 34.35% ) in 30.39 seconds. Users per second: 790\n",
      "SequentialEvaluator: Processed 54001 ( 77.29% ) in 60.76 seconds. Users per second: 889\n",
      "SequentialEvaluator: Processed 69866 ( 100.00% ) in 75.39 seconds. Users per second: 927\n",
      "BayesianSearch: Config is suboptimal. Config: {'topK': 300, 'shrink': 300, 'similarity': 'cosine', 'normalize': True} - results: {'ROC_AUC': 0.2133751276252635, 'PRECISION': 0.10750722812236689, 'RECALL': 0.020751288874006905, 'RECALL_TEST_LEN': 0.10750722812236689, 'MAP': 0.06585293832319744, 'MRR': 0.22208704281531733, 'NDCG': 0.04109151490416959, 'F1': 0.03478776457198656, 'HIT_RATE': 0.5355824005954255, 'ARHR': 0.27009227187284995, 'NOVELTY': 0.0007481980868432162, 'DIVERSITY_MEAN_INTER_LIST': 0.9264749810532296, 'DIVERSITY_HERFINDAHL': 0.9852923440623018, 'COVERAGE_ITEM': 0.015567906162680013, 'COVERAGE_USER': 0.9762184216409568, 'DIVERSITY_GINI': 0.10485904403348337, 'SHANNON_ENTROPY': 7.012028604547993}\n",
      "\n",
      "    2 | 01m44s |    0.06585 |      0.3346 |    4.5201 |       0.0000 |    7.2230 | \n",
      "BayesianSearch: Testing config: {'topK': 300, 'shrink': 500, 'similarity': 'cosine', 'normalize': False}\n",
      "Similarity column 65134 ( 100 % ), 3707.76 column/sec, elapsed time 0.29 min\n",
      "SequentialEvaluator: Processed 29587 ( 42.35% ) in 30.00 seconds. Users per second: 986\n",
      "SequentialEvaluator: Processed 60001 ( 85.88% ) in 60.45 seconds. Users per second: 993\n",
      "SequentialEvaluator: Processed 69866 ( 100.00% ) in 69.57 seconds. Users per second: 1004\n",
      "BayesianSearch: Config is suboptimal. Config: {'topK': 300, 'shrink': 500, 'similarity': 'cosine', 'normalize': False} - results: {'ROC_AUC': 0.21379140068130473, 'PRECISION': 0.11183766066466115, 'RECALL': 0.021658214674661867, 'RECALL_TEST_LEN': 0.11183766066466115, 'MAP': 0.06762836079860347, 'MRR': 0.22359588354853255, 'NDCG': 0.04339819744932724, 'F1': 0.036288822515757914, 'HIT_RATE': 0.5571665760169467, 'ARHR': 0.2747643107281826, 'NOVELTY': 0.000725144447320095, 'DIVERSITY_MEAN_INTER_LIST': 0.8915683981356268, 'DIVERSITY_HERFINDAHL': 0.9783111274031591, 'COVERAGE_ITEM': 0.013080725888169005, 'COVERAGE_USER': 0.9762184216409568, 'DIVERSITY_GINI': 0.08007404829791574, 'SHANNON_ENTROPY': 6.358144833108311}\n",
      "\n",
      "    3 | 01m27s |    0.06763 |      0.7384 |    5.6303 |       0.0000 |    6.9388 | \n",
      "BayesianSearch: Testing config: {'topK': 800, 'shrink': 0, 'similarity': 'cosine', 'normalize': False}\n",
      "Similarity column 65134 ( 100 % ), 8382.75 column/sec, elapsed time 0.13 min\n",
      "SequentialEvaluator: Processed 29001 ( 41.51% ) in 30.97 seconds. Users per second: 936\n",
      "SequentialEvaluator: Processed 50001 ( 71.57% ) in 61.37 seconds. Users per second: 815\n",
      "SequentialEvaluator: Processed 69866 ( 100.00% ) in 89.54 seconds. Users per second: 780\n",
      "BayesianSearch: Config is suboptimal. Config: {'topK': 800, 'shrink': 0, 'similarity': 'cosine', 'normalize': False} - results: {'ROC_AUC': 0.215345566274488, 'PRECISION': 0.11297221347527905, 'RECALL': 0.021868030658691615, 'RECALL_TEST_LEN': 0.11297221347527905, 'MAP': 0.0683003813649578, 'MRR': 0.22516674777433643, 'NDCG': 0.043914168430063336, 'F1': 0.03664306370438055, 'HIT_RATE': 0.5628202559184725, 'ARHR': 0.2771753547266936, 'NOVELTY': 0.000722322743715859, 'DIVERSITY_MEAN_INTER_LIST': 0.885741539617663, 'DIVERSITY_HERFINDAHL': 0.977145772379664, 'COVERAGE_ITEM': 0.011867841680228452, 'COVERAGE_USER': 0.9762184216409568, 'DIVERSITY_GINI': 0.08343566654838931, 'SHANNON_ENTROPY': 6.277622105989336}\n",
      "\n",
      "    4 | 01m37s |    0.06830 |      0.5891 |    0.4772 |       0.0000 |   11.8404 | \n",
      "BayesianSearch: Testing config: {'topK': 20, 'shrink': 10, 'similarity': 'cosine', 'normalize': False}\n",
      "Similarity column 65134 ( 100 % ), 2697.49 column/sec, elapsed time 0.40 min\n",
      "SequentialEvaluator: Processed 27927 ( 39.97% ) in 30.00 seconds. Users per second: 931\n",
      "SequentialEvaluator: Processed 63431 ( 90.79% ) in 60.00 seconds. Users per second: 1057\n",
      "SequentialEvaluator: Processed 69866 ( 100.00% ) in 65.28 seconds. Users per second: 1070\n",
      "BayesianSearch: Config is suboptimal. Config: {'topK': 20, 'shrink': 10, 'similarity': 'cosine', 'normalize': False} - results: {'ROC_AUC': 0.20150717086995065, 'PRECISION': 0.10012309277756752, 'RECALL': 0.019266706951561713, 'RECALL_TEST_LEN': 0.10012309277756752, 'MAP': 0.06060629951939113, 'MRR': 0.20738174982587698, 'NDCG': 0.038562669865321406, 'F1': 0.03231502677793273, 'HIT_RATE': 0.49901239515644236, 'ARHR': 0.2505889846277476, 'NOVELTY': 0.0007459624644304267, 'DIVERSITY_MEAN_INTER_LIST': 0.9249990993073983, 'DIVERSITY_HERFINDAHL': 0.9849971719380282, 'COVERAGE_ITEM': 0.027727454171400497, 'COVERAGE_USER': 0.9762184216409568, 'DIVERSITY_GINI': 0.0596214960060076, 'SHANNON_ENTROPY': 6.932636508545521}\n",
      "\n",
      "    5 | 01m29s |    0.06061 |      0.7105 |    0.5959 |       0.0000 |    1.6560 | \n"
     ]
    },
    {
     "name": "stderr",
     "output_type": "stream",
     "text": [
      "/home/maurizio/anaconda3/lib/python3.6/site-packages/sklearn/gaussian_process/gpr.py:480: ConvergenceWarning: fmin_l_bfgs_b terminated abnormally with the  state: {'grad': array([-6.09660769e-05]), 'task': b'ABNORMAL_TERMINATION_IN_LNSRCH', 'funcalls': 51, 'nit': 6, 'warnflag': 2}\n",
      "  ConvergenceWarning)\n",
      "/home/maurizio/anaconda3/lib/python3.6/site-packages/sklearn/gaussian_process/gpr.py:480: ConvergenceWarning: fmin_l_bfgs_b terminated abnormally with the  state: {'grad': array([-2.97927554e-05]), 'task': b'ABNORMAL_TERMINATION_IN_LNSRCH', 'funcalls': 50, 'nit': 4, 'warnflag': 2}\n",
      "  ConvergenceWarning)\n",
      "/home/maurizio/anaconda3/lib/python3.6/site-packages/sklearn/gaussian_process/gpr.py:357: UserWarning: Predicted variances smaller than 0. Setting those variances to 0.\n",
      "  warnings.warn(\"Predicted variances smaller than 0. \"\n"
     ]
    },
    {
     "name": "stdout",
     "output_type": "stream",
     "text": [
      "\u001b[31mBayesian Optimization\u001b[0m\n",
      "\u001b[94m----------------------------------------------------------------------------------\u001b[0m\n",
      " Step |   Time |      Value |   normalize |    shrink |   similarity |      topK | \n",
      "BayesianSearch: Testing config: {'topK': 5, 'shrink': 1000, 'similarity': 'cosine', 'normalize': False}\n",
      "Similarity column 65134 ( 100 % ), 3592.79 column/sec, elapsed time 0.30 min\n",
      "SequentialEvaluator: Processed 38949 ( 55.75% ) in 30.00 seconds. Users per second: 1298\n",
      "SequentialEvaluator: Processed 69866 ( 100.00% ) in 52.63 seconds. Users per second: 1327\n",
      "BayesianSearch: Config is suboptimal. Config: {'topK': 5, 'shrink': 1000, 'similarity': 'cosine', 'normalize': False} - results: {'ROC_AUC': 0.18864683823318876, 'PRECISION': 0.08979665836503066, 'RECALL': 0.017012233300085996, 'RECALL_TEST_LEN': 0.08979665836503066, 'MAP': 0.05442881134361316, 'MRR': 0.19169982538002803, 'NDCG': 0.034209690032234216, 'F1': 0.02860514097391279, 'HIT_RATE': 0.4475567514957204, 'ARHR': 0.22828676800354236, 'NOVELTY': 0.0007686211422734488, 'DIVERSITY_MEAN_INTER_LIST': 0.9437599303820312, 'DIVERSITY_HERFINDAHL': 0.9887492844477732, 'COVERAGE_ITEM': 0.03913470691190469, 'COVERAGE_USER': 0.9762184216409568, 'DIVERSITY_GINI': 0.0677616209853821, 'SHANNON_ENTROPY': 7.489430121935061}\n",
      "\n",
      "    6 | 01m18s |    0.05443 |      0.8687 |    6.9875 |       0.0000 |    0.0442 | \n",
      "BayesianSearch: Testing config: {'topK': 400, 'shrink': 0, 'similarity': 'cosine', 'normalize': False}\n",
      "Similarity column 65134 ( 100 % ), 7204.89 column/sec, elapsed time 0.15 min\n",
      "SequentialEvaluator: Processed 20995 ( 30.05% ) in 30.00 seconds. Users per second: 700\n",
      "SequentialEvaluator: Processed 45001 ( 64.41% ) in 60.13 seconds. Users per second: 748\n",
      "SequentialEvaluator: Processed 69866 ( 100.00% ) in 84.26 seconds. Users per second: 829\n",
      "BayesianSearch: Config is suboptimal. Config: {'topK': 400, 'shrink': 0, 'similarity': 'cosine', 'normalize': False} - results: {'ROC_AUC': 0.2143078655330685, 'PRECISION': 0.1122732564241624, 'RECALL': 0.021722507668415617, 'RECALL_TEST_LEN': 0.1122732564241624, 'MAP': 0.06788452577473257, 'MRR': 0.22418439107245935, 'NDCG': 0.043558322225997606, 'F1': 0.036401996587695835, 'HIT_RATE': 0.5593135430681591, 'ARHR': 0.27566055019611607, 'NOVELTY': 0.0007240735410003096, 'DIVERSITY_MEAN_INTER_LIST': 0.8894734762003403, 'DIVERSITY_HERFINDAHL': 0.977892149013073, 'COVERAGE_ITEM': 0.012558725089814843, 'COVERAGE_USER': 0.9762184216409568, 'DIVERSITY_GINI': 0.08178824931465702, 'SHANNON_ENTROPY': 6.330359979770664}\n",
      "\n",
      "    7 | 01m40s |    0.06788 |      0.9999 |    0.1793 |       0.0000 |    8.1537 | \n",
      "BayesianSearch: Best config is: Config {'topK': 800, 'shrink': 100, 'similarity': 'cosine', 'normalize': False}, MAP value is 0.0683\n",
      "\n"
     ]
    }
   ],
   "source": [
    "\n",
    "hyperparamethers_range_dictionary = {}\n",
    "hyperparamethers_range_dictionary[\"topK\"] = [5, 10, 20, 50, 100, 150, 200, 300, 400, 500, 600, 700, 800]\n",
    "hyperparamethers_range_dictionary[\"shrink\"] = [0, 10, 50, 100, 200, 300, 500, 1000]\n",
    "hyperparamethers_range_dictionary[\"similarity\"] = [\"cosine\"]\n",
    "hyperparamethers_range_dictionary[\"normalize\"] = [True, False]\n",
    "\n",
    "\n",
    "recommenderDictionary = {DictionaryKeys.CONSTRUCTOR_POSITIONAL_ARGS: [ICM_all, URM_train],\n",
    "                         DictionaryKeys.CONSTRUCTOR_KEYWORD_ARGS: {},\n",
    "                         DictionaryKeys.FIT_POSITIONAL_ARGS: dict(),\n",
    "                         DictionaryKeys.FIT_KEYWORD_ARGS: dict(),\n",
    "                         DictionaryKeys.FIT_RANGE_KEYWORD_ARGS: hyperparamethers_range_dictionary}\n",
    "\n",
    "output_root_path = \"result_experiments/\"\n",
    "\n",
    "import os\n",
    "\n",
    "# If directory does not exist, create\n",
    "if not os.path.exists(output_root_path):\n",
    "    os.makedirs(output_root_path)\n",
    "\n",
    "    \n",
    "    \n",
    "    \n",
    "n_cases = 2\n",
    "metric_to_optimize = \"MAP\"\n",
    "\n",
    "best_parameters_ItemKNNCBF = parameterSearch.search(recommenderDictionary,\n",
    "                                                 n_cases = n_cases,\n",
    "                                                 output_root_path = output_root_path,\n",
    "                                                 metric=metric_to_optimize)\n",
    "\n",
    "\n"
   ]
  },
  {
   "cell_type": "code",
   "execution_count": 27,
   "metadata": {},
   "outputs": [
    {
     "data": {
      "text/plain": [
       "{'topK': 800, 'shrink': 100, 'similarity': 'cosine', 'normalize': False}"
      ]
     },
     "execution_count": 27,
     "metadata": {},
     "output_type": "execute_result"
    }
   ],
   "source": [
    "best_parameters_ItemKNNCBF"
   ]
  },
  {
   "cell_type": "code",
   "execution_count": 28,
   "metadata": {},
   "outputs": [
    {
     "name": "stdout",
     "output_type": "stream",
     "text": [
      "Similarity column 65134 ( 100 % ), 3615.93 column/sec, elapsed time 0.30 min\n"
     ]
    }
   ],
   "source": [
    "itemKNNCBF = ItemKNNCBFRecommender(ICM_all, URM_train)\n",
    "itemKNNCBF.fit(**best_parameters_ItemKNNCBF)"
   ]
  },
  {
   "cell_type": "code",
   "execution_count": 29,
   "metadata": {},
   "outputs": [
    {
     "name": "stdout",
     "output_type": "stream",
     "text": [
      "Group 0, average p.len 1.43, min 0, max 4\n",
      "Ignoring 67990 Users\n",
      "SequentialEvaluator: Processed 1888 ( 100.00% ) in 1.64 seconds. Users per second: 1152\n",
      "SequentialEvaluator: Processed 1888 ( 100.00% ) in 1.97 seconds. Users per second: 956\n",
      "SequentialEvaluator: Processed 1888 ( 100.00% ) in 1.67 seconds. Users per second: 1129\n",
      "SequentialEvaluator: Processed 1888 ( 100.00% ) in 2.05 seconds. Users per second: 919\n",
      "Group 1, average p.len 4.49, min 4, max 5\n",
      "Ignoring 67990 Users\n",
      "SequentialEvaluator: Processed 3578 ( 100.00% ) in 3.21 seconds. Users per second: 1113\n",
      "SequentialEvaluator: Processed 3578 ( 100.00% ) in 3.69 seconds. Users per second: 970\n",
      "SequentialEvaluator: Processed 3578 ( 100.00% ) in 3.34 seconds. Users per second: 1071\n",
      "SequentialEvaluator: Processed 3578 ( 100.00% ) in 3.91 seconds. Users per second: 916\n",
      "Group 2, average p.len 5.72, min 5, max 6\n",
      "Ignoring 67990 Users\n",
      "SequentialEvaluator: Processed 3578 ( 100.00% ) in 3.24 seconds. Users per second: 1106\n",
      "SequentialEvaluator: Processed 3578 ( 100.00% ) in 3.59 seconds. Users per second: 997\n",
      "SequentialEvaluator: Processed 3578 ( 100.00% ) in 3.46 seconds. Users per second: 1033\n",
      "SequentialEvaluator: Processed 3578 ( 100.00% ) in 3.79 seconds. Users per second: 945\n",
      "Group 3, average p.len 6.82, min 6, max 7\n",
      "Ignoring 67990 Users\n",
      "SequentialEvaluator: Processed 3578 ( 100.00% ) in 3.42 seconds. Users per second: 1046\n",
      "SequentialEvaluator: Processed 3578 ( 100.00% ) in 3.75 seconds. Users per second: 955\n",
      "SequentialEvaluator: Processed 3578 ( 100.00% ) in 3.41 seconds. Users per second: 1048\n",
      "SequentialEvaluator: Processed 3578 ( 100.00% ) in 3.58 seconds. Users per second: 998\n",
      "Group 4, average p.len 7.90, min 7, max 8\n",
      "Ignoring 67990 Users\n",
      "SequentialEvaluator: Processed 3578 ( 100.00% ) in 3.29 seconds. Users per second: 1088\n",
      "SequentialEvaluator: Processed 3578 ( 100.00% ) in 3.56 seconds. Users per second: 1006\n",
      "SequentialEvaluator: Processed 3578 ( 100.00% ) in 3.49 seconds. Users per second: 1025\n",
      "SequentialEvaluator: Processed 3578 ( 100.00% ) in 3.85 seconds. Users per second: 928\n",
      "Group 5, average p.len 9.13, min 8, max 10\n",
      "Ignoring 67990 Users\n",
      "SequentialEvaluator: Processed 3578 ( 100.00% ) in 4.75 seconds. Users per second: 754\n",
      "SequentialEvaluator: Processed 3578 ( 100.00% ) in 5.06 seconds. Users per second: 708\n",
      "SequentialEvaluator: Processed 3578 ( 100.00% ) in 4.41 seconds. Users per second: 812\n",
      "SequentialEvaluator: Processed 3578 ( 100.00% ) in 5.74 seconds. Users per second: 624\n",
      "Group 6, average p.len 10.39, min 10, max 11\n",
      "Ignoring 67990 Users\n",
      "SequentialEvaluator: Processed 3578 ( 100.00% ) in 4.57 seconds. Users per second: 784\n",
      "SequentialEvaluator: Processed 3578 ( 100.00% ) in 5.17 seconds. Users per second: 692\n",
      "SequentialEvaluator: Processed 3578 ( 100.00% ) in 5.14 seconds. Users per second: 696\n",
      "SequentialEvaluator: Processed 3578 ( 100.00% ) in 5.71 seconds. Users per second: 626\n",
      "Group 7, average p.len 11.83, min 11, max 13\n",
      "Ignoring 67990 Users\n",
      "SequentialEvaluator: Processed 3578 ( 100.00% ) in 4.48 seconds. Users per second: 799\n",
      "SequentialEvaluator: Processed 3578 ( 100.00% ) in 4.95 seconds. Users per second: 724\n",
      "SequentialEvaluator: Processed 3578 ( 100.00% ) in 4.65 seconds. Users per second: 770\n",
      "SequentialEvaluator: Processed 3578 ( 100.00% ) in 3.90 seconds. Users per second: 917\n",
      "Group 8, average p.len 13.59, min 13, max 15\n",
      "Ignoring 67990 Users\n",
      "SequentialEvaluator: Processed 3578 ( 100.00% ) in 3.74 seconds. Users per second: 958\n",
      "SequentialEvaluator: Processed 3578 ( 100.00% ) in 3.64 seconds. Users per second: 982\n",
      "SequentialEvaluator: Processed 3578 ( 100.00% ) in 3.67 seconds. Users per second: 975\n",
      "SequentialEvaluator: Processed 3578 ( 100.00% ) in 3.90 seconds. Users per second: 918\n",
      "Group 9, average p.len 15.65, min 15, max 17\n",
      "Ignoring 67990 Users\n",
      "SequentialEvaluator: Processed 3578 ( 100.00% ) in 3.69 seconds. Users per second: 970\n",
      "SequentialEvaluator: Processed 3578 ( 100.00% ) in 3.77 seconds. Users per second: 950\n",
      "SequentialEvaluator: Processed 3578 ( 100.00% ) in 3.66 seconds. Users per second: 977\n",
      "SequentialEvaluator: Processed 3578 ( 100.00% ) in 3.84 seconds. Users per second: 932\n"
     ]
    }
   ],
   "source": [
    "\n",
    "\n",
    "MAP_itemKNNCF_per_group = []\n",
    "MAP_itemKNNCBF_per_group = []\n",
    "MAP_pureSVD_per_group = []\n",
    "MAP_topPop_per_group = []\n",
    "cutoff = 10\n",
    "\n",
    "for group_id in range(0, 10):\n",
    "    \n",
    "    start_pos = group_id*block_size\n",
    "    end_pos = min((group_id+1)*block_size, len(profile_length))\n",
    "    \n",
    "    users_in_group = sorted_users[start_pos:end_pos]\n",
    "    \n",
    "    users_in_group_p_len = profile_length[users_in_group]\n",
    "    \n",
    "    print(\"Group {}, average p.len {:.2f}, min {}, max {}\".format(group_id, \n",
    "        users_in_group_p_len.mean(), users_in_group_p_len.min(), users_in_group_p_len.max()))\n",
    "    \n",
    "    \n",
    "    users_not_in_group_flag = np.isin(sorted_users, users_in_group, invert = True)\n",
    "    users_not_in_group = sorted_users[users_not_in_group_flag]\n",
    "    \n",
    "    evaluator_test = SequentialEvaluator(URM_test, cutoff_list=[cutoff], ignore_users = users_not_in_group)\n",
    "    \n",
    "    \n",
    "    results, _ = evaluator_test.evaluateRecommender(itemKNNCF)\n",
    "    MAP_itemKNNCF_per_group.append(results[cutoff][\"MAP\"])\n",
    " \n",
    "    results, _ = evaluator_test.evaluateRecommender(pureSVD)\n",
    "    MAP_pureSVD_per_group.append(results[cutoff][\"MAP\"])\n",
    "\n",
    "    results, _ = evaluator_test.evaluateRecommender(itemKNNCBF)\n",
    "    MAP_itemKNNCBF_per_group.append(results[cutoff][\"MAP\"])\n",
    "\n",
    "    results, _ = evaluator_test.evaluateRecommender(topPop)\n",
    "    MAP_topPop_per_group.append(results[cutoff][\"MAP\"])\n",
    "\n",
    "    \n",
    "    "
   ]
  },
  {
   "cell_type": "code",
   "execution_count": 30,
   "metadata": {},
   "outputs": [
    {
     "data": {
      "image/png": "[encoded data removed]",
      "text/plain": [
       "<Figure size 432x288 with 1 Axes>"
      ]
     },
     "metadata": {
      "needs_background": "light"
     },
     "output_type": "display_data"
    }
   ],
   "source": [
    "import matplotlib.pyplot as pyplot\n",
    "%matplotlib inline  \n",
    "\n",
    "pyplot.plot(MAP_itemKNNCF_per_group, label=\"itemKNNCF\")\n",
    "pyplot.plot(MAP_itemKNNCBF_per_group, label=\"itemKNNCBF\")\n",
    "pyplot.plot(MAP_pureSVD_per_group, label=\"pureSVD\")\n",
    "pyplot.plot(MAP_topPop_per_group, label=\"topPop\")\n",
    "pyplot.ylabel('MAP')\n",
    "pyplot.xlabel('User Group')\n",
    "pyplot.legend()\n",
    "pyplot.show()"
   ]
  },
  {
   "cell_type": "markdown",
   "metadata": {},
   "source": [
    "### The recommendation quality of the three algorithms changes depending on the user profile length\n",
    "\n",
    "## Tip:\n",
    "### If an algorithm works best on average, it does not imply it will work best for ALL user types"
   ]
  },
  {
   "cell_type": "code",
   "execution_count": null,
   "metadata": {},
   "outputs": [],
   "source": []
  }
 ],
 "metadata": {
  "kernelspec": {
   "display_name": "Python 3",
   "language": "python",
   "name": "python3"
  },
  "language_info": {
   "codemirror_mode": {
    "name": "ipython",
    "version": 3
   },
   "file_extension": ".py",
   "mimetype": "text/x-python",
   "name": "python",
   "nbconvert_exporter": "python",
   "pygments_lexer": "ipython3",
   "version": "3.6.6"
  }
 },
 "nbformat": 4,
 "nbformat_minor": 2
}
