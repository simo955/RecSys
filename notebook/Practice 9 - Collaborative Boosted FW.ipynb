{
 "cells": [
  {
   "cell_type": "markdown",
   "metadata": {},
   "source": [
    "# Recommender Systems 2018/19\n",
    "\n",
    "### Practice 9 - Collaborative Boosted FW\n",
    "\n",
    "\n",
    "### Underlying idea... the way to capture the feature importance from the user point of view, is to... use its point of view (e.g., ratings, collaborative similarity)"
   ]
  },
  {
   "cell_type": "markdown",
   "metadata": {},
   "source": [
    "## A few info about feature weightign techniques\n",
    "\n",
    "* Information retrieval methods (TF-IDF, BM25..) do not optimize a predictive model\n",
    "* Embedding methods (FISM, UFSM, Factorization Machines) optimize everything at the same time, model and weights, but are difficult to train and sensitive to noise\n",
    "* Wrapper methods (LFW, CFW) apply a two step approach approximating an already built collaborative model, more robust and easier to tune\n"
   ]
  },
  {
   "cell_type": "code",
   "execution_count": 1,
   "metadata": {},
   "outputs": [],
   "source": [
    "from urllib.request import urlretrieve\n",
    "import zipfile\n",
    "\n",
    "# skip the download\n",
    "#urlretrieve (\"http://files.grouplens.org/datasets/movielens/ml-10m.zip\", \"data/Movielens_10M/movielens_10m.zip\")\n",
    "dataFile = zipfile.ZipFile(\"data/Movielens_10M/movielens_10m.zip\")\n",
    "URM_path = dataFile.extract(\"ml-10M100K/ratings.dat\", path = \"data/Movielens_10M\")\n",
    "URM_file = open(URM_path, 'r')\n",
    "\n",
    "\n",
    "def rowSplit (rowString):\n",
    "    \n",
    "    split = rowString.split(\"::\")\n",
    "    split[3] = split[3].replace(\"\\n\",\"\")\n",
    "    \n",
    "    split[0] = int(split[0])\n",
    "    split[1] = int(split[1])\n",
    "    split[2] = float(split[2])\n",
    "    split[3] = int(split[3])\n",
    "    \n",
    "    result = tuple(split)\n",
    "    \n",
    "    return result\n",
    "\n",
    "\n",
    "URM_file.seek(0)\n",
    "URM_tuples = []\n",
    "\n",
    "for line in URM_file:\n",
    "   URM_tuples.append(rowSplit (line))\n",
    "\n",
    "userList, itemList, ratingList, timestampList = zip(*URM_tuples)\n",
    "\n",
    "userList = list(userList)\n",
    "itemList = list(itemList)\n",
    "ratingList = list(ratingList)\n",
    "timestampList = list(timestampList)\n",
    "\n",
    "import scipy.sparse as sps\n",
    "\n",
    "URM_all = sps.coo_matrix((ratingList, (userList, itemList)))\n",
    "URM_all = URM_all.tocsr()\n",
    "\n"
   ]
  },
  {
   "cell_type": "code",
   "execution_count": 2,
   "metadata": {},
   "outputs": [
    {
     "name": "stdout",
     "output_type": "stream",
     "text": [
      "Number of items\t 7601, Number of users\t 4009\n",
      "Number of tags\t 16529, Number of item-tag tuples 95580\n",
      "\n",
      "Data example:\n",
      "[15, 20, 20, 20, 20, 20, 20, 20, 20, 20]\n",
      "[4973, 1747, 1747, 2424, 2424, 2424, 2947, 2947, 3033, 3033]\n",
      "['excellent!', 'politics', 'satire', 'chick flick 212', 'hanks', 'ryan', 'action', 'bond', 'spoof', 'star wars']\n"
     ]
    }
   ],
   "source": [
    "ICM_path = dataFile.extract(\"ml-10M100K/tags.dat\", path = \"data/Movielens_10M\")\n",
    "ICM_file = open(ICM_path, 'r')\n",
    "\n",
    "def rowSplit (rowString):\n",
    "    split = rowString.split(\"::\")\n",
    "    split[3] = split[3].replace(\"\\n\",\"\")\n",
    "    \n",
    "    split[0] = int(split[0])\n",
    "    split[1] = int(split[1])\n",
    "    split[2] = str(split[2]) # tag is a string, not a float like the rating\n",
    "    split[3] = int(split[3])\n",
    "    \n",
    "    result = tuple(split)\n",
    "    \n",
    "    return result\n",
    "\n",
    "ICM_file.seek(0)\n",
    "ICM_tuples = []\n",
    "\n",
    "for line in ICM_file:\n",
    "    ICM_tuples.append(rowSplit(line))\n",
    "    \n",
    "userList_icm, itemList_icm, tagList_icm, timestampList_icm = zip(*ICM_tuples)\n",
    "\n",
    "userList_icm = list(userList_icm)\n",
    "itemList_icm = list(itemList_icm)\n",
    "tagList_icm = list(tagList_icm)\n",
    "timestampList_icm = list(timestampList_icm)\n",
    "\n",
    "userList_unique = list(set(userList_icm))\n",
    "itemList_unique = list(set(itemList_icm))\n",
    "tagList_unique = list(set(tagList_icm))\n",
    "\n",
    "numUsers = len(userList_unique)\n",
    "numItems = len(itemList_unique)\n",
    "numTags = len(tagList_unique)\n",
    "\n",
    "\n",
    "print (\"Number of items\\t {}, Number of users\\t {}\".format(numItems, numUsers))\n",
    "print (\"Number of tags\\t {}, Number of item-tag tuples {}\".format(numTags, len(tagList_icm)))\n",
    "\n",
    "print(\"\\nData example:\")\n",
    "print(userList_icm[0:10])\n",
    "print(itemList_icm[0:10])\n",
    "print(tagList_icm[0:10])\n",
    "\n",
    "\n",
    "from sklearn import preprocessing\n",
    "le = preprocessing.LabelEncoder()\n",
    "le.fit(tagList_icm)\n",
    "\n",
    "tagList_icm = le.transform(tagList_icm)\n",
    "\n",
    "import numpy as np\n",
    "\n",
    "ones = np.ones(len(tagList_icm))\n",
    "\n",
    "ICM_all = sps.coo_matrix((ones, (itemList_icm, tagList_icm)), shape=(URM_all.shape[1], tagList_icm.max()+1))\n",
    "ICM_all = ICM_all.tocsr()"
   ]
  },
  {
   "cell_type": "code",
   "execution_count": 3,
   "metadata": {},
   "outputs": [],
   "source": [
    "\n",
    "from Notebooks_utils.data_splitter import train_test_holdout\n",
    "\n",
    "URM_train, URM_test = train_test_holdout(URM_all, train_perc = 0.8)\n",
    "URM_train, URM_validation = train_test_holdout(URM_train, train_perc = 0.9)"
   ]
  },
  {
   "cell_type": "markdown",
   "metadata": {},
   "source": [
    "### To shorten the notebook let's use the parameters we computed the previous time (Warning: not very clean, the data split may be different, also, running BayesianSearch multiple times may result in a different solution)"
   ]
  },
  {
   "cell_type": "code",
   "execution_count": 4,
   "metadata": {},
   "outputs": [],
   "source": [
    "best_params_ItemKNNCF = {'topK': 700, 'shrink': 200, 'similarity': 'cosine', 'normalize': True}\n",
    "best_params_ItemKNNCBF = {'topK': 500, 'shrink': 1000, 'similarity': 'cosine', 'normalize': True}"
   ]
  },
  {
   "cell_type": "markdown",
   "metadata": {},
   "source": [
    "### Step 1: Create the two models, collaborative and content based"
   ]
  },
  {
   "cell_type": "code",
   "execution_count": 5,
   "metadata": {},
   "outputs": [
    {
     "name": "stdout",
     "output_type": "stream",
     "text": [
      "Similarity column 65134 ( 100 % ), 2269.37 column/sec, elapsed time 0.48 min\n",
      "Similarity column 65134 ( 100 % ), 2535.53 column/sec, elapsed time 0.43 min\n"
     ]
    }
   ],
   "source": [
    "from KNN.ItemKNNCFRecommender import ItemKNNCFRecommender\n",
    "from KNN.ItemKNNCBFRecommender import ItemKNNCBFRecommender\n",
    "\n",
    "\n",
    "itemKNNCF = ItemKNNCFRecommender(URM_train)\n",
    "itemKNNCF.fit(**best_params_ItemKNNCF)\n",
    "\n",
    "itemKNNCBF = ItemKNNCBFRecommender(ICM_all, URM_train)\n",
    "itemKNNCBF.fit(**best_params_ItemKNNCBF)"
   ]
  },
  {
   "cell_type": "markdown",
   "metadata": {},
   "source": [
    "### Question, how the two similarities differ?"
   ]
  },
  {
   "cell_type": "code",
   "execution_count": 6,
   "metadata": {},
   "outputs": [],
   "source": [
    "W_sparse_CF = itemKNNCF.W_sparse\n",
    "W_sparse_CBF = itemKNNCBF.W_sparse"
   ]
  },
  {
   "cell_type": "markdown",
   "metadata": {},
   "source": [
    "## Let's plt the global similarity distribution "
   ]
  },
  {
   "cell_type": "code",
   "execution_count": 7,
   "metadata": {},
   "outputs": [],
   "source": [
    "W_sparse_CF_sorted = np.sort(W_sparse_CF.data.copy())\n",
    "W_sparse_CBF_sorted = np.sort(W_sparse_CBF.data.copy())"
   ]
  },
  {
   "cell_type": "code",
   "execution_count": 8,
   "metadata": {},
   "outputs": [
    {
     "data": {
      "text/plain": [
       "<Figure size 640x480 with 1 Axes>"
      ]
     },
     "metadata": {},
     "output_type": "display_data"
    }
   ],
   "source": [
    "import numpy as np\n",
    "import matplotlib.pyplot as pyplot\n",
    "\n",
    "\n",
    "pyplot.plot(W_sparse_CF_sorted, label = 'CF')\n",
    "pyplot.plot(W_sparse_CBF_sorted, label = 'CBF')\n",
    "pyplot.ylabel('Similarity cell ')\n",
    "pyplot.xlabel('Similarity value')\n",
    "pyplot.legend()\n",
    "pyplot.show()"
   ]
  },
  {
   "cell_type": "markdown",
   "metadata": {},
   "source": [
    "## Let's now plot the delta for the common values"
   ]
  },
  {
   "cell_type": "code",
   "execution_count": 9,
   "metadata": {},
   "outputs": [],
   "source": [
    "# Get common structure\n",
    "W_sparse_CF_structure = W_sparse_CF.copy()\n",
    "W_sparse_CF_structure.data = np.ones_like(W_sparse_CF_structure.data)\n",
    "\n",
    "W_sparse_CBF_structure = W_sparse_CBF.copy()\n",
    "W_sparse_CBF_structure.data = np.ones_like(W_sparse_CBF_structure.data)\n",
    "\n",
    "W_sparse_common = W_sparse_CF_structure.multiply(W_sparse_CBF_structure)\n",
    "\n",
    "# Get values of both in common structure of CF\n",
    "W_sparse_delta = W_sparse_CBF.copy().multiply(W_sparse_common)\n",
    "W_sparse_delta -= W_sparse_CF.copy().multiply(W_sparse_common)"
   ]
  },
  {
   "cell_type": "code",
   "execution_count": 10,
   "metadata": {},
   "outputs": [],
   "source": [
    "W_sparse_delta_sorted = np.sort(W_sparse_delta.data.copy())"
   ]
  },
  {
   "cell_type": "code",
   "execution_count": 11,
   "metadata": {},
   "outputs": [
    {
     "data": {
      "image/png": "[encoded data removed]",
      "text/plain": [
       "<Figure size 432x288 with 1 Axes>"
      ]
     },
     "metadata": {
      "needs_background": "light"
     },
     "output_type": "display_data"
    }
   ],
   "source": [
    "pyplot.plot(W_sparse_delta_sorted, label = 'delta')\n",
    "pyplot.ylabel('Similarity cell ')\n",
    "pyplot.xlabel('Similarity value')\n",
    "pyplot.legend()\n",
    "pyplot.show()"
   ]
  },
  {
   "cell_type": "code",
   "execution_count": 12,
   "metadata": {},
   "outputs": [
    {
     "name": "stdout",
     "output_type": "stream",
     "text": [
      "W_sparse_CF has 7.00E+06 values and 7.19 % in common with CBF\n",
      "W_sparse_CBF has 2.26E+06 values and 22.24 % in common with CF\n",
      "W_sparse_delta has 5.03E+05 values\n"
     ]
    }
   ],
   "source": [
    "# How many values we have in common?\n",
    "\n",
    "print(\"W_sparse_CF has {:.2E} values and {:.2f} % in common with CBF\".format(W_sparse_CF.nnz, W_sparse_common.nnz/W_sparse_CF.nnz*100))\n",
    "print(\"W_sparse_CBF has {:.2E} values and {:.2f} % in common with CF\".format(W_sparse_CBF.nnz, W_sparse_common.nnz/W_sparse_CBF.nnz*100))\n",
    "\n",
    "print(\"W_sparse_delta has {:.2E} values\".format(W_sparse_delta.nnz))\n"
   ]
  },
  {
   "cell_type": "markdown",
   "metadata": {},
   "source": [
    "## What do we see?\n",
    "## The great majority of similarities are not common... the models are modeling two very different phenomena"
   ]
  },
  {
   "cell_type": "markdown",
   "metadata": {},
   "source": [
    "# Idea: \n",
    "\n",
    "## what if we were to weight features in such a way to approximate as well as possible the collaborative similarity?\n",
    "\n",
    "### Basic model:  $S_{CBF} = ICM \\cdot diag(feature\\_weights) \\cdot ICM^{T}$ \n",
    "\n",
    "\n",
    "### We want  $S_{CBF} = S_{CF}$\n",
    "\n",
    "### Hence we wish to find the weights such that  $S_{CF} = ICM \\cdot diag(feature\\_weights) \\cdot ICM^{T}$ \n",
    "\n",
    "### Now, we can rearrange the equations considering that we need only weights for features the two items have in common... this becomes a regression problem in form Ax = b. In our case A are the common features, x the weights and b the collaborative similarity\n"
   ]
  },
  {
   "cell_type": "markdown",
   "metadata": {},
   "source": [
    "### Since it is a regression problem, we can use an already available solver like linalg in scipy.sparse\n",
    "\n",
    "### It takes as imput two data structures, one is sparse and the other is the target value"
   ]
  },
  {
   "cell_type": "code",
   "execution_count": 13,
   "metadata": {},
   "outputs": [],
   "source": [
    "W_sparse_delta = W_sparse_delta.tocoo()\n",
    "\n",
    "\n",
    "item_index_1 = W_sparse_delta.row[666]\n",
    "item_index_2 = W_sparse_delta.col[666]"
   ]
  },
  {
   "cell_type": "code",
   "execution_count": 14,
   "metadata": {},
   "outputs": [
    {
     "name": "stdout",
     "output_type": "stream",
     "text": [
      "Item indices are 5 and 158\n"
     ]
    }
   ],
   "source": [
    "print(\"Item indices are {} and {}\".format(item_index_1, item_index_2))"
   ]
  },
  {
   "cell_type": "code",
   "execution_count": 15,
   "metadata": {},
   "outputs": [
    {
     "name": "stdout",
     "output_type": "stream",
     "text": [
      "Collaborative similarity value is 0.061169322580099106\n",
      "Content-based similarity value is 0.005825620144605637\n"
     ]
    }
   ],
   "source": [
    "print(\"Collaborative similarity value is {}\".format(W_sparse_CF[item_index_1, item_index_2]))\n",
    "print(\"Content-based similarity value is {}\".format(W_sparse_CBF[item_index_1, item_index_2]))"
   ]
  },
  {
   "cell_type": "markdown",
   "metadata": {},
   "source": [
    "### Compute the common features"
   ]
  },
  {
   "cell_type": "code",
   "execution_count": 16,
   "metadata": {},
   "outputs": [
    {
     "data": {
      "text/plain": [
       "<1x16529 sparse matrix of type '<class 'numpy.float64'>'\n",
       "\twith 1 stored elements in Compressed Sparse Row format>"
      ]
     },
     "execution_count": 16,
     "metadata": {},
     "output_type": "execute_result"
    }
   ],
   "source": [
    "common_features = ICM_all[item_index_1,:].multiply(ICM_all[item_index_2,:])\n",
    "common_features"
   ]
  },
  {
   "cell_type": "code",
   "execution_count": 17,
   "metadata": {},
   "outputs": [
    {
     "data": {
      "text/plain": [
       "array([9907], dtype=int32)"
      ]
     },
     "execution_count": 17,
     "metadata": {},
     "output_type": "execute_result"
    }
   ],
   "source": [
    "common_features.indices"
   ]
  },
  {
   "cell_type": "markdown",
   "metadata": {},
   "source": [
    "## These items have just a common feature, that is a common scenario\n",
    "\n",
    "### Let's look for items having  a few features in common, say 5"
   ]
  },
  {
   "cell_type": "code",
   "execution_count": 18,
   "metadata": {},
   "outputs": [
    {
     "name": "stdout",
     "output_type": "stream",
     "text": [
      "Item indices are 1 and 50\n",
      "Collaborative similarity value is 0.10406135022640228\n",
      "Content-based similarity value is 0.003887253813445568\n"
     ]
    },
    {
     "data": {
      "text/plain": [
       "array([ 6688,  9727, 10262, 11154, 15951, 16099], dtype=int32)"
      ]
     },
     "execution_count": 18,
     "metadata": {},
     "output_type": "execute_result"
    }
   ],
   "source": [
    "min_common_features = 5\n",
    "\n",
    "for inner_index in range(len(W_sparse_delta.row)):\n",
    "\n",
    "    item_index_1 = W_sparse_delta.row[inner_index]\n",
    "    item_index_2 = W_sparse_delta.col[inner_index]\n",
    "\n",
    "    common_features = ICM_all[item_index_1,:].multiply(ICM_all[item_index_2,:])\n",
    "    \n",
    "    if common_features.nnz >= min_common_features:\n",
    "        \n",
    "        # Bad programming, don't do this at home\n",
    "        break\n",
    "        \n",
    "        \n",
    "\n",
    "print(\"Item indices are {} and {}\".format(item_index_1, item_index_2))\n",
    "\n",
    "print(\"Collaborative similarity value is {}\".format(W_sparse_CF[item_index_1, item_index_2]))\n",
    "print(\"Content-based similarity value is {}\".format(W_sparse_CBF[item_index_1, item_index_2]))\n",
    "    \n",
    "common_features.indices"
   ]
  },
  {
   "cell_type": "code",
   "execution_count": 19,
   "metadata": {},
   "outputs": [],
   "source": [
    "from scipy.sparse import linalg\n",
    "\n",
    "loss_tolerance = 1e-6\n",
    "iteration_limit = 50000\n",
    "damp_coeff=0.0\n",
    "\n",
    "W_sparse_CF_value = W_sparse_CF[item_index_1, item_index_2]"
   ]
  },
  {
   "cell_type": "code",
   "execution_count": 20,
   "metadata": {},
   "outputs": [],
   "source": [
    "linalg_result = linalg.lsqr(common_features, W_sparse_CF_value, show = False, atol=loss_tolerance, btol=loss_tolerance,\n",
    "                  iter_lim = iteration_limit, damp=damp_coeff)"
   ]
  },
  {
   "cell_type": "code",
   "execution_count": 21,
   "metadata": {},
   "outputs": [
    {
     "data": {
      "text/plain": [
       "array([0., 0., 0., ..., 0., 0., 0.])"
      ]
     },
     "execution_count": 21,
     "metadata": {},
     "output_type": "execute_result"
    }
   ],
   "source": [
    "feature_weights = linalg_result[0].copy()\n",
    "feature_weights"
   ]
  },
  {
   "cell_type": "code",
   "execution_count": 22,
   "metadata": {},
   "outputs": [
    {
     "data": {
      "text/plain": [
       "array([0.01156237, 0.01156237, 0.01156237, 0.02312475, 0.01156237,\n",
       "       0.01156237])"
      ]
     },
     "execution_count": 22,
     "metadata": {},
     "output_type": "execute_result"
    }
   ],
   "source": [
    "feature_weights[common_features.indices]"
   ]
  },
  {
   "cell_type": "markdown",
   "metadata": {},
   "source": [
    "### Note that all weights will be zeros except for the features those items have in common, nothing can be learned if a feature is not common\n",
    "\n",
    "### If a dataset has a very sparse ICM, this FW method will struggle"
   ]
  },
  {
   "cell_type": "code",
   "execution_count": 23,
   "metadata": {},
   "outputs": [
    {
     "data": {
      "text/plain": [
       "array([0.10406136])"
      ]
     },
     "execution_count": 23,
     "metadata": {},
     "output_type": "execute_result"
    }
   ],
   "source": [
    "new_CBF_value = common_features.dot(feature_weights)\n",
    "new_CBF_value"
   ]
  },
  {
   "cell_type": "code",
   "execution_count": 24,
   "metadata": {},
   "outputs": [
    {
     "name": "stdout",
     "output_type": "stream",
     "text": [
      "Collaborative similarity value is 0.10406135022640228\n",
      "Content-based similarity value is 0.003887253813445568\n",
      "Weighted Content-based similarity value is 0.10406135642893984\n"
     ]
    }
   ],
   "source": [
    "print(\"Collaborative similarity value is {}\".format(W_sparse_CF[item_index_1, item_index_2]))\n",
    "print(\"Content-based similarity value is {}\".format(W_sparse_CBF[item_index_1, item_index_2]))\n",
    "\n",
    "print(\"Weighted Content-based similarity value is {}\".format(new_CBF_value[0]))"
   ]
  },
  {
   "cell_type": "markdown",
   "metadata": {},
   "source": [
    "### Note that we learned the CF similarity amost exactly...\n",
    "\n",
    "### Warning: 5 common features and 1 similarity value, more parameters than data points, overfitting!\n",
    "\n",
    "### if we want to apply this method to the whole dataset we have to compute the common features of all items having a common similarity value. Whe already know who they are, thanks to W_sparse_delta"
   ]
  },
  {
   "cell_type": "code",
   "execution_count": 25,
   "metadata": {},
   "outputs": [],
   "source": [
    "from FW_Similarity.CFW_D_Similarity_Linalg import CFW_D_Similarity_Linalg"
   ]
  },
  {
   "cell_type": "code",
   "execution_count": 26,
   "metadata": {},
   "outputs": [
    {
     "name": "stdout",
     "output_type": "stream",
     "text": [
      "CFW_D_Similarity_Linalg: Generating train data\n",
      "Similarity column 65134 ( 100 % ), 7078.34 column/sec, elapsed time 0.15 min\n",
      "CFW_D_Similarity_Linalg: Collaborative S density: 1.65E-03, nonzero cells 6997140\n",
      "CFW_D_Similarity_Linalg: Content S density: 3.72E-04, nonzero cells 1576400\n",
      "CFW_D_Similarity_Linalg: Content S structure has 391759 out of 1576400 ( 24.85%) nonzero collaborative cells\n",
      "CFW_D_Similarity_Linalg: Nonzero collaborative cell sum is: 2.15E+04, average is: 5.48E-02, average over all collaborative data is 3.96E-02\n",
      "Similarity column 65134 ( 100 % ), 8529.33 column/sec, elapsed time 0.13 min\n"
     ]
    }
   ],
   "source": [
    "CFW_weithing = CFW_D_Similarity_Linalg(URM_train, ICM_all, W_sparse_CF)\n",
    "CFW_weithing.fit()"
   ]
  },
  {
   "cell_type": "code",
   "execution_count": 27,
   "metadata": {},
   "outputs": [],
   "source": [
    "from Base.Evaluation.Evaluator import SequentialEvaluator\n",
    "\n",
    "evaluator_validation = SequentialEvaluator(URM_validation, cutoff_list=[5])\n",
    "evaluator_test = SequentialEvaluator(URM_test, cutoff_list=[5])\n"
   ]
  },
  {
   "cell_type": "code",
   "execution_count": 28,
   "metadata": {},
   "outputs": [
    {
     "name": "stdout",
     "output_type": "stream",
     "text": [
      "SequentialEvaluator: Processed 26001 ( 37.21% ) in 30.60 seconds. Users per second: 850\n",
      "SequentialEvaluator: Processed 52001 ( 74.42% ) in 60.66 seconds. Users per second: 857\n",
      "SequentialEvaluator: Processed 69878 ( 100.00% ) in 81.15 seconds. Users per second: 861\n"
     ]
    },
    {
     "data": {
      "text/plain": [
       "{5: {'ROC_AUC': 0.46723098352366405,\n",
       "  'PRECISION': 0.40995806977879595,\n",
       "  'RECALL': 0.059623645438717045,\n",
       "  'RECALL_TEST_LEN': 0.40995806977879595,\n",
       "  'MAP': 0.30793995725884493,\n",
       "  'MRR': 0.6000567656010045,\n",
       "  'NDCG': 0.1135277274681038,\n",
       "  'F1': 0.10410624521829824,\n",
       "  'HIT_RATE': 2.049743839262715,\n",
       "  'ARHR': 0.9715525630383403,\n",
       "  'NOVELTY': 0.0007023937818802227,\n",
       "  'DIVERSITY_MEAN_INTER_LIST': 0.9220336309252454,\n",
       "  'DIVERSITY_HERFINDAHL': 0.9844040872038793,\n",
       "  'COVERAGE_ITEM': 0.035726348757945156,\n",
       "  'COVERAGE_USER': 0.9763860943438408,\n",
       "  'DIVERSITY_GINI': 0.0540019674938619,\n",
       "  'SHANNON_ENTROPY': 7.006445672447929}}"
      ]
     },
     "execution_count": 28,
     "metadata": {},
     "output_type": "execute_result"
    }
   ],
   "source": [
    "results_dict, _ = evaluator_test.evaluateRecommender(itemKNNCF)\n",
    "results_dict"
   ]
  },
  {
   "cell_type": "code",
   "execution_count": 29,
   "metadata": {},
   "outputs": [
    {
     "name": "stdout",
     "output_type": "stream",
     "text": [
      "SequentialEvaluator: Processed 26001 ( 37.21% ) in 30.10 seconds. Users per second: 864\n",
      "SequentialEvaluator: Processed 53001 ( 75.85% ) in 60.49 seconds. Users per second: 876\n",
      "SequentialEvaluator: Processed 69878 ( 100.00% ) in 78.78 seconds. Users per second: 887\n"
     ]
    },
    {
     "data": {
      "text/plain": [
       "{5: {'ROC_AUC': 0.33440901762118674,\n",
       "  'PRECISION': 0.221171899596479,\n",
       "  'RECALL': 0.02137001207891867,\n",
       "  'RECALL_TEST_LEN': 0.221171899596479,\n",
       "  'MAP': 0.15930526536728765,\n",
       "  'MRR': 0.385309634887465,\n",
       "  'NDCG': 0.055044632085446535,\n",
       "  'F1': 0.03897426332006249,\n",
       "  'HIT_RATE': 1.105855920318269,\n",
       "  'ARHR': 0.5537696652260307,\n",
       "  'NOVELTY': 0.0007347088404746575,\n",
       "  'DIVERSITY_MEAN_INTER_LIST': 0.9083227620976749,\n",
       "  'DIVERSITY_HERFINDAHL': 0.9816619526806698,\n",
       "  'COVERAGE_ITEM': 0.013479902969263364,\n",
       "  'COVERAGE_USER': 0.9763860943438408,\n",
       "  'DIVERSITY_GINI': 0.09513240059116847,\n",
       "  'SHANNON_ENTROPY': 6.665459802838011}}"
      ]
     },
     "execution_count": 29,
     "metadata": {},
     "output_type": "execute_result"
    }
   ],
   "source": [
    "results_dict, _ = evaluator_test.evaluateRecommender(itemKNNCBF)\n",
    "results_dict"
   ]
  },
  {
   "cell_type": "code",
   "execution_count": 30,
   "metadata": {},
   "outputs": [
    {
     "name": "stdout",
     "output_type": "stream",
     "text": [
      "SequentialEvaluator: Processed 27001 ( 38.64% ) in 30.63 seconds. Users per second: 882\n",
      "SequentialEvaluator: Processed 56174 ( 80.39% ) in 60.63 seconds. Users per second: 926\n",
      "SequentialEvaluator: Processed 69878 ( 100.00% ) in 74.20 seconds. Users per second: 942\n"
     ]
    },
    {
     "data": {
      "text/plain": [
       "{5: {'ROC_AUC': 0.32452989495978735,\n",
       "  'PRECISION': 0.23120724691609873,\n",
       "  'RECALL': 0.02304951439160784,\n",
       "  'RECALL_TEST_LEN': 0.23120724691609873,\n",
       "  'MAP': 0.15921238921170636,\n",
       "  'MRR': 0.3820169915185444,\n",
       "  'NDCG': 0.05800978544747865,\n",
       "  'F1': 0.041919945316908395,\n",
       "  'HIT_RATE': 1.1560290792524113,\n",
       "  'ARHR': 0.5512860509268199,\n",
       "  'NOVELTY': 0.0007110862032000976,\n",
       "  'DIVERSITY_MEAN_INTER_LIST': 0.8111835999424309,\n",
       "  'DIVERSITY_HERFINDAHL': 0.9622343982746422,\n",
       "  'COVERAGE_ITEM': 0.02289127030429576,\n",
       "  'COVERAGE_USER': 0.9763860943438408,\n",
       "  'DIVERSITY_GINI': 0.045328940588679756,\n",
       "  'SHANNON_ENTROPY': 5.884943926902329}}"
      ]
     },
     "execution_count": 30,
     "metadata": {},
     "output_type": "execute_result"
    }
   ],
   "source": [
    "results_dict, _ = evaluator_test.evaluateRecommender(CFW_weithing)\n",
    "results_dict"
   ]
  },
  {
   "cell_type": "markdown",
   "metadata": {},
   "source": [
    "### This algorithm has parameters too:\n",
    "* topK, the usual number of neighbors\n",
    "* add_zeros_quota, the percentage of zero collaborative similarities to add to the train set, this helps the regressor in finding non-relevant features\n",
    "* normalize_similarity, apply or not the usual cosine denominator"
   ]
  },
  {
   "cell_type": "code",
   "execution_count": 32,
   "metadata": {},
   "outputs": [
    {
     "name": "stdout",
     "output_type": "stream",
     "text": [
      "\u001b[31mInitialization\u001b[0m\n",
      "\u001b[94m--------------------------------------------------------------------------------------\u001b[0m\n",
      " Step |   Time |      Value |   add_zeros_quota |   normalize_similarity |      topK | \n",
      "BayesianSearch: Testing config: {'topK': 100, 'add_zeros_quota': 0.554339736755939, 'normalize_similarity': False}\n",
      "CFW_D_Similarity_Linalg: Generating train data\n",
      "Similarity column 65134 ( 100 % ), 8015.05 column/sec, elapsed time 0.14 min\n",
      "CFW_D_Similarity_Linalg: Collaborative S density: 1.65E-03, nonzero cells 6997140\n",
      "CFW_D_Similarity_Linalg: Content S density: 1.47E-04, nonzero cells 624111\n",
      "CFW_D_Similarity_Linalg: Content S structure has 176941 out of 624111 ( 28.35%) nonzero collaborative cells\n",
      "CFW_D_Similarity_Linalg: Nonzero collaborative cell sum is: 9.84E+03, average is: 5.56E-02, average over all collaborative data is 3.96E-02\n",
      "Similarity column 65134 ( 100 % ), 8082.12 column/sec, elapsed time 0.13 min\n",
      "SequentialEvaluator: Processed 30248 ( 43.30% ) in 30.00 seconds. Users per second: 1008\n",
      "SequentialEvaluator: Processed 63629 ( 91.08% ) in 60.00 seconds. Users per second: 1060\n",
      "SequentialEvaluator: Processed 69857 ( 100.00% ) in 65.40 seconds. Users per second: 1068\n",
      "BayesianSearch: New best config found. Config: {'topK': 100, 'add_zeros_quota': 0.554339736755939, 'normalize_similarity': False, 'epochs': 0, 'max_epochs': 0} - results: {'ROC_AUC': 0.23251189334402225, 'PRECISION': 0.12500202795230692, 'RECALL': 0.02567822778469299, 'RECALL_TEST_LEN': 0.12500202795230692, 'MAP': 0.07402332622356764, 'MRR': 0.24433676415155742, 'NDCG': 0.04988431943163831, 'F1': 0.04260452746921793, 'HIT_RATE': 0.6223284710193682, 'ARHR': 0.3005773699605592, 'NOVELTY': 0.0007108966812643189, 'DIVERSITY_MEAN_INTER_LIST': 0.874110298247455, 'DIVERSITY_HERFINDAHL': 0.9748195570791022, 'COVERAGE_ITEM': 0.0235514477845672, 'COVERAGE_USER': 0.9760926671137938, 'DIVERSITY_GINI': 0.05523756651501048, 'SHANNON_ENTROPY': 6.384996402251202}\n",
      "\n",
      "BayesianSearch: Saving model in result_experiments/\n",
      "\n",
      "CFW_D_Similarity_Linalg: Saving model in file 'result_experiments/_best_model'\n",
      "CFW_D_Similarity_Linalg: Saving complete\n",
      "CFW_D_Similarity_Linalg: Loading model from file 'result_experiments/_best_model'\n",
      "CFW_D_Similarity_Linalg: Loading complete\n",
      "SequentialEvaluator: Processed 32001 ( 45.80% ) in 30.48 seconds. Users per second: 1050\n",
      "SequentialEvaluator: Processed 64680 ( 92.56% ) in 60.48 seconds. Users per second: 1069\n",
      "SequentialEvaluator: Processed 69878 ( 100.00% ) in 65.12 seconds. Users per second: 1073\n",
      "BayesianSearch: Best result evaluated on URM_test. Config: {'topK': 100, 'add_zeros_quota': 0.554339736755939, 'normalize_similarity': False, 'epochs': 0, 'max_epochs': 0} - results: CUTOFF: 5 - ROC_AUC: 0.3474985, PRECISION: 0.2481146, RECALL: 0.0256617, RECALL_TEST_LEN: 0.2481146, MAP: 0.1740920, MRR: 0.4101472, NDCG: 0.0635737, F1: 0.0465128, HIT_RATE: 1.2405621, ARHR: 0.5979152, NOVELTY: 0.0007109, DIVERSITY_MEAN_INTER_LIST: 0.8741307, DIVERSITY_HERFINDAHL: 0.9748236, COVERAGE_ITEM: 0.0235514, COVERAGE_USER: 0.9763861, DIVERSITY_GINI: 0.0552469, SHANNON_ENTROPY: 6.3852649, \n",
      "\n",
      "\n",
      "    1 | 03m16s | \u001b[35m   0.07402\u001b[0m | \u001b[32m           0.5543\u001b[0m | \u001b[32m                0.8860\u001b[0m | \u001b[32m   4.3510\u001b[0m | \n",
      "BayesianSearch: Testing config: {'topK': 800, 'add_zeros_quota': 0.38009173827507636, 'normalize_similarity': True}\n",
      "CFW_D_Similarity_Linalg: Generating train data\n",
      "Similarity column 65134 ( 100 % ), 8196.22 column/sec, elapsed time 0.13 min\n",
      "CFW_D_Similarity_Linalg: Collaborative S density: 1.65E-03, nonzero cells 6997140\n",
      "CFW_D_Similarity_Linalg: Content S density: 6.73E-04, nonzero cells 2853774\n",
      "CFW_D_Similarity_Linalg: Generating train data. Sample 1184107 ( 57.26 %) \n",
      "CFW_D_Similarity_Linalg: Content S structure has 646097 out of 2853774 ( 22.64%) nonzero collaborative cells\n",
      "CFW_D_Similarity_Linalg: Nonzero collaborative cell sum is: 3.92E+06, average is: 6.07E+00, average over all collaborative data is 3.96E-02\n",
      "Similarity column 65134 ( 100 % ), 2910.95 column/sec, elapsed time 0.37 min\n",
      "SequentialEvaluator: Processed 27001 ( 38.65% ) in 30.18 seconds. Users per second: 895\n",
      "SequentialEvaluator: Processed 56001 ( 80.17% ) in 60.91 seconds. Users per second: 919\n",
      "SequentialEvaluator: Processed 69857 ( 100.00% ) in 75.01 seconds. Users per second: 931\n",
      "BayesianSearch: Config is suboptimal. Config: {'topK': 800, 'add_zeros_quota': 0.38009173827507636, 'normalize_similarity': True, 'epochs': 0, 'max_epochs': 0} - results: {'ROC_AUC': 0.02059445247672627, 'PRECISION': 0.00969933817178923, 'RECALL': 0.0016942935632998503, 'RECALL_TEST_LEN': 0.00969933817178923, 'MAP': 0.004405209531216943, 'MRR': 0.020701814659471286, 'NDCG': 0.0017849015533740248, 'F1': 0.002884686220306829, 'HIT_RATE': 0.048184147615843796, 'ARHR': 0.021312586187974755, 'NOVELTY': 0.001096712609973419, 'DIVERSITY_MEAN_INTER_LIST': 0.8465851094629667, 'DIVERSITY_HERFINDAHL': 0.9693145981265872, 'COVERAGE_ITEM': 0.02520956796757454, 'COVERAGE_USER': 0.9760926671137938, 'DIVERSITY_GINI': 0.048351961089522846, 'SHANNON_ENTROPY': 6.157188492481505}\n",
      "\n",
      "    2 | 04m05s |    0.00441 |            0.3801 |                 0.2698 |   11.7663 | \n",
      "BayesianSearch: Testing config: {'topK': 600, 'add_zeros_quota': 0.05176644703066691, 'normalize_similarity': True}\n",
      "CFW_D_Similarity_Linalg: Generating train data\n",
      "Similarity column 65134 ( 100 % ), 8228.27 column/sec, elapsed time 0.13 min\n",
      "CFW_D_Similarity_Linalg: Collaborative S density: 1.65E-03, nonzero cells 6997140\n",
      "CFW_D_Similarity_Linalg: Content S density: 5.89E-04, nonzero cells 2499662\n",
      "CFW_D_Similarity_Linalg: Generating train data. Sample 594418 ( 25.01 %) \n",
      "CFW_D_Similarity_Linalg: Content S structure has 578522 out of 2499662 ( 23.14%) nonzero collaborative cells\n",
      "CFW_D_Similarity_Linalg: Nonzero collaborative cell sum is: 3.53E+06, average is: 6.10E+00, average over all collaborative data is 3.96E-02\n",
      "Similarity column 65134 ( 100 % ), 3218.35 column/sec, elapsed time 0.34 min\n",
      "SequentialEvaluator: Processed 29001 ( 41.51% ) in 30.23 seconds. Users per second: 959\n",
      "SequentialEvaluator: Processed 58001 ( 83.03% ) in 60.41 seconds. Users per second: 960\n",
      "SequentialEvaluator: Processed 69857 ( 100.00% ) in 71.93 seconds. Users per second: 971\n",
      "BayesianSearch: Config is suboptimal. Config: {'topK': 600, 'add_zeros_quota': 0.05176644703066691, 'normalize_similarity': True, 'epochs': 0, 'max_epochs': 0} - results: {'ROC_AUC': 0.016221232899590113, 'PRECISION': 0.007397254391113004, 'RECALL': 0.0013590164218846461, 'RECALL_TEST_LEN': 0.007397254391113004, 'MAP': 0.0034095763885906055, 'MRR': 0.016252725806528836, 'NDCG': 0.0013664665433071297, 'F1': 0.0022961807392842177, 'HIT_RATE': 0.0367608113718024, 'ARHR': 0.016615132818949465, 'NOVELTY': 0.001130608325510885, 'DIVERSITY_MEAN_INTER_LIST': 0.8792430157580405, 'DIVERSITY_HERFINDAHL': 0.9758460858862925, 'COVERAGE_ITEM': 0.028188043111124758, 'COVERAGE_USER': 0.9760926671137938, 'DIVERSITY_GINI': 0.05351828269070927, 'SHANNON_ENTROPY': 6.5155959298829185}\n",
      "\n",
      "    3 | 03m02s |    0.00341 |            0.0518 |                 0.0056 |    9.8201 | \n",
      "BayesianSearch: Testing config: {'topK': 300, 'add_zeros_quota': 0.32839844435750476, 'normalize_similarity': False}\n",
      "CFW_D_Similarity_Linalg: Generating train data\n",
      "Similarity column 65134 ( 100 % ), 7875.97 column/sec, elapsed time 0.14 min\n",
      "CFW_D_Similarity_Linalg: Collaborative S density: 1.65E-03, nonzero cells 6997140\n",
      "CFW_D_Similarity_Linalg: Content S density: 3.72E-04, nonzero cells 1576400\n",
      "CFW_D_Similarity_Linalg: Content S structure has 391759 out of 1576400 ( 24.85%) nonzero collaborative cells\n",
      "CFW_D_Similarity_Linalg: Nonzero collaborative cell sum is: 2.15E+04, average is: 5.48E-02, average over all collaborative data is 3.96E-02\n",
      "Similarity column 65134 ( 100 % ), 8241.45 column/sec, elapsed time 0.13 min\n",
      "SequentialEvaluator: Processed 29001 ( 41.51% ) in 30.58 seconds. Users per second: 948\n",
      "SequentialEvaluator: Processed 60001 ( 85.89% ) in 60.67 seconds. Users per second: 989\n",
      "SequentialEvaluator: Processed 69857 ( 100.00% ) in 69.58 seconds. Users per second: 1004\n",
      "BayesianSearch: Config is suboptimal. Config: {'topK': 300, 'add_zeros_quota': 0.32839844435750476, 'normalize_similarity': False, 'epochs': 0, 'max_epochs': 0} - results: {'ROC_AUC': 0.22182935616091967, 'PRECISION': 0.11966636605251318, 'RECALL': 0.024743930734398335, 'RECALL_TEST_LEN': 0.11966636605251318, 'MAP': 0.06997291689530447, 'MRR': 0.23365708995999748, 'NDCG': 0.04797324648429329, 'F1': 0.041008381517416995, 'HIT_RATE': 0.5953734056715863, 'ARHR': 0.28566619427308815, 'NOVELTY': 0.0007018729924844246, 'DIVERSITY_MEAN_INTER_LIST': 0.7770335796612085, 'DIVERSITY_HERFINDAHL': 0.9554044912916769, 'COVERAGE_ITEM': 0.019836030337458163, 'COVERAGE_USER': 0.9760926671137938, 'DIVERSITY_GINI': 0.04127973684745727, 'SHANNON_ENTROPY': 5.579810643928271}\n",
      "\n",
      "    4 | 02m43s |    0.06997 |            0.3284 |                 0.9144 |    6.5349 | \n",
      "BayesianSearch: Testing config: {'topK': 50, 'add_zeros_quota': 0.8760636327595164, 'normalize_similarity': False}\n",
      "CFW_D_Similarity_Linalg: Generating train data\n"
     ]
    },
    {
     "name": "stdout",
     "output_type": "stream",
     "text": [
      "Similarity column 65134 ( 100 % ), 8167.18 column/sec, elapsed time 0.13 min\n",
      "CFW_D_Similarity_Linalg: Collaborative S density: 1.65E-03, nonzero cells 6997140\n",
      "CFW_D_Similarity_Linalg: Content S density: 7.86E-05, nonzero cells 333650\n",
      "CFW_D_Similarity_Linalg: Content S structure has 102067 out of 333650 ( 30.59%) nonzero collaborative cells\n",
      "CFW_D_Similarity_Linalg: Nonzero collaborative cell sum is: 5.75E+03, average is: 5.63E-02, average over all collaborative data is 3.96E-02\n",
      "Similarity column 65134 ( 100 % ), 8763.21 column/sec, elapsed time 0.12 min\n",
      "SequentialEvaluator: Processed 34817 ( 49.84% ) in 30.00 seconds. Users per second: 1161\n",
      "SequentialEvaluator: Processed 69857 ( 100.00% ) in 59.88 seconds. Users per second: 1167\n",
      "BayesianSearch: New best config found. Config: {'topK': 50, 'add_zeros_quota': 0.8760636327595164, 'normalize_similarity': False, 'epochs': 0, 'max_epochs': 0} - results: {'ROC_AUC': 0.23544049510667026, 'PRECISION': 0.12604200962916262, 'RECALL': 0.026032438217853525, 'RECALL_TEST_LEN': 0.12604200962916262, 'MAP': 0.07517644775915006, 'MRR': 0.2480426681172772, 'NDCG': 0.05034221382832205, 'F1': 0.04315229645714153, 'HIT_RATE': 0.6273673361295218, 'ARHR': 0.3052275839691781, 'NOVELTY': 0.0007159127261766533, 'DIVERSITY_MEAN_INTER_LIST': 0.9091884729822812, 'DIVERSITY_HERFINDAHL': 0.98183509159755, 'COVERAGE_ITEM': 0.02645315810483004, 'COVERAGE_USER': 0.9760926671137938, 'DIVERSITY_GINI': 0.061951028430070616, 'SHANNON_ENTROPY': 6.7985030108162645}\n",
      "\n",
      "BayesianSearch: Saving model in result_experiments/\n",
      "\n",
      "CFW_D_Similarity_Linalg: Saving model in file 'result_experiments/_best_model'\n",
      "CFW_D_Similarity_Linalg: Saving complete\n",
      "CFW_D_Similarity_Linalg: Loading model from file 'result_experiments/_best_model'\n",
      "CFW_D_Similarity_Linalg: Loading complete\n",
      "SequentialEvaluator: Processed 33376 ( 47.76% ) in 30.00 seconds. Users per second: 1113\n",
      "SequentialEvaluator: Processed 67248 ( 96.24% ) in 60.00 seconds. Users per second: 1121\n",
      "SequentialEvaluator: Processed 69878 ( 100.00% ) in 61.89 seconds. Users per second: 1129\n",
      "BayesianSearch: Best result evaluated on URM_test. Config: {'topK': 50, 'add_zeros_quota': 0.8760636327595164, 'normalize_similarity': False, 'epochs': 0, 'max_epochs': 0} - results: CUTOFF: 5 - ROC_AUC: 0.3506301, PRECISION: 0.2503077, RECALL: 0.0259702, RECALL_TEST_LEN: 0.2503077, MAP: 0.1756062, MRR: 0.4140521, NDCG: 0.0640900, F1: 0.0470580, HIT_RATE: 1.2515241, ARHR: 0.6031607, NOVELTY: 0.0007159, DIVERSITY_MEAN_INTER_LIST: 0.9092023, DIVERSITY_HERFINDAHL: 0.9818379, COVERAGE_ITEM: 0.0264532, COVERAGE_USER: 0.9763861, DIVERSITY_GINI: 0.0619704, SHANNON_ENTROPY: 6.7989000, \n",
      "\n",
      "\n",
      "    5 | 02m52s | \u001b[35m   0.07518\u001b[0m | \u001b[32m           0.8761\u001b[0m | \u001b[32m                0.9956\u001b[0m | \u001b[32m   3.1706\u001b[0m | \n",
      "\u001b[31mBayesian Optimization\u001b[0m\n",
      "\u001b[94m--------------------------------------------------------------------------------------\u001b[0m\n",
      " Step |   Time |      Value |   add_zeros_quota |   normalize_similarity |      topK | \n",
      "BayesianSearch: Testing config: {'topK': 5, 'add_zeros_quota': 0.0, 'normalize_similarity': False}\n",
      "CFW_D_Similarity_Linalg: Generating train data\n",
      "Similarity column 65134 ( 100 % ), 8579.68 column/sec, elapsed time 0.13 min\n",
      "CFW_D_Similarity_Linalg: Collaborative S density: 1.65E-03, nonzero cells 6997140\n",
      "CFW_D_Similarity_Linalg: Content S density: 8.64E-06, nonzero cells 36670\n",
      "CFW_D_Similarity_Linalg: Content S structure has 13028 out of 36670 ( 35.53%) nonzero collaborative cells\n",
      "CFW_D_Similarity_Linalg: Nonzero collaborative cell sum is: 7.68E+02, average is: 5.90E-02, average over all collaborative data is 3.96E-02\n",
      "Similarity column 65134 ( 100 % ), 8445.91 column/sec, elapsed time 0.13 min\n",
      "SequentialEvaluator: Processed 41526 ( 59.44% ) in 30.00 seconds. Users per second: 1384\n",
      "SequentialEvaluator: Processed 69857 ( 100.00% ) in 49.96 seconds. Users per second: 1398\n",
      "BayesianSearch: Config is suboptimal. Config: {'topK': 5, 'add_zeros_quota': 0.0, 'normalize_similarity': False, 'epochs': 0, 'max_epochs': 0} - results: {'ROC_AUC': 0.15160494534072014, 'PRECISION': 0.07390144628787162, 'RECALL': 0.01456770479374473, 'RECALL_TEST_LEN': 0.07390144628787162, 'MAP': 0.040785759957241825, 'MRR': 0.15206350115235964, 'NDCG': 0.025775536039067255, 'F1': 0.024337849751927945, 'HIT_RATE': 0.36785146799891205, 'ARHR': 0.17580509707928837, 'NOVELTY': 0.0007965822853647887, 'DIVERSITY_MEAN_INTER_LIST': 0.955702387580188, 'DIVERSITY_HERFINDAHL': 0.9911377413481873, 'COVERAGE_ITEM': 0.04234347652531704, 'COVERAGE_USER': 0.9760926671137938, 'DIVERSITY_GINI': 0.09823789408179645, 'SHANNON_ENTROPY': 8.151482499344475}\n",
      "\n",
      "    6 | 01m15s |    0.04079 |            0.0000 |                 1.0000 |    0.0000 | \n",
      "BayesianSearch: Testing config: {'topK': 200, 'add_zeros_quota': 0.9999999999999999, 'normalize_similarity': False}\n",
      "CFW_D_Similarity_Linalg: Generating train data\n",
      "Similarity column 65134 ( 100 % ), 8790.31 column/sec, elapsed time 0.12 min\n",
      "CFW_D_Similarity_Linalg: Collaborative S density: 1.65E-03, nonzero cells 6997140\n",
      "CFW_D_Similarity_Linalg: Content S density: 2.66E-04, nonzero cells 1130194\n",
      "CFW_D_Similarity_Linalg: Content S structure has 295136 out of 1130194 ( 26.11%) nonzero collaborative cells\n",
      "CFW_D_Similarity_Linalg: Nonzero collaborative cell sum is: 1.63E+04, average is: 5.52E-02, average over all collaborative data is 3.96E-02\n",
      "Similarity column 65134 ( 100 % ), 8680.75 column/sec, elapsed time 0.13 min\n",
      "SequentialEvaluator: Processed 31001 ( 44.38% ) in 30.16 seconds. Users per second: 1028\n",
      "SequentialEvaluator: Processed 62915 ( 90.06% ) in 60.16 seconds. Users per second: 1046\n",
      "SequentialEvaluator: Processed 69857 ( 100.00% ) in 66.91 seconds. Users per second: 1044\n",
      "BayesianSearch: Config is suboptimal. Config: {'topK': 200, 'add_zeros_quota': 0.9999999999999999, 'normalize_similarity': False, 'epochs': 0, 'max_epochs': 0} - results: {'ROC_AUC': 0.22847746109910178, 'PRECISION': 0.12388903999118378, 'RECALL': 0.025772877732134162, 'RECALL_TEST_LEN': 0.12388903999118378, 'MAP': 0.07293869778420074, 'MRR': 0.2416777607589137, 'NDCG': 0.04973412947752327, 'F1': 0.042669199067021976, 'HIT_RATE': 0.6165022832357531, 'ARHR': 0.2967154329559184, 'NOVELTY': 0.0007008543121245612, 'DIVERSITY_MEAN_INTER_LIST': 0.8073510773408967, 'DIVERSITY_HERFINDAHL': 0.9614679040288753, 'COVERAGE_ITEM': 0.020649737464304357, 'COVERAGE_USER': 0.9760926671137938, 'DIVERSITY_GINI': 0.04287572738543509, 'SHANNON_ENTROPY': 5.74188191667359}\n",
      "\n",
      "    7 | 02m49s |    0.07294 |            1.0000 |                 1.0000 |    5.9695 | \n",
      "BayesianSearch: Best config is: Config {'topK': 50, 'add_zeros_quota': 0.8760636327595164, 'normalize_similarity': False, 'epochs': 0, 'max_epochs': 0}, MAP value is 0.0752\n",
      "\n"
     ]
    }
   ],
   "source": [
    "from ParameterTuning.BayesianSearch import BayesianSearch\n",
    "from ParameterTuning.AbstractClassSearch import DictionaryKeys\n",
    "\n",
    "from ParameterTuning.AbstractClassSearch import EvaluatorWrapper\n",
    "\n",
    "\n",
    "evaluator_validation_tuning = EvaluatorWrapper(evaluator_validation)\n",
    "evaluator_test_tuning = EvaluatorWrapper(evaluator_test)\n",
    "\n",
    "\n",
    "recommender_class = CFW_D_Similarity_Linalg\n",
    "\n",
    "parameterSearch = BayesianSearch(recommender_class,\n",
    "                                 evaluator_validation=evaluator_validation_tuning,\n",
    "                                 evaluator_test=evaluator_test_tuning)\n",
    "\n",
    "\n",
    "hyperparamethers_range_dictionary = {}\n",
    "hyperparamethers_range_dictionary[\"topK\"] = [5, 10, 20, 50, 100, 150, 200, 300, 400, 500, 600, 700, 800]\n",
    "hyperparamethers_range_dictionary[\"add_zeros_quota\"] = range(0,1)\n",
    "hyperparamethers_range_dictionary[\"normalize_similarity\"] = [True, False]\n",
    "\n",
    "\n",
    "\n",
    "recommenderDictionary = {DictionaryKeys.CONSTRUCTOR_POSITIONAL_ARGS: [URM_train, ICM_all, W_sparse_CF],\n",
    "                         DictionaryKeys.CONSTRUCTOR_KEYWORD_ARGS: {},\n",
    "                         DictionaryKeys.FIT_POSITIONAL_ARGS: dict(),\n",
    "                         DictionaryKeys.FIT_KEYWORD_ARGS: dict(),\n",
    "                         DictionaryKeys.FIT_RANGE_KEYWORD_ARGS: hyperparamethers_range_dictionary}\n",
    "\n",
    "output_root_path = \"result_experiments/\"\n",
    "\n",
    "import os\n",
    "\n",
    "# If directory does not exist, create\n",
    "if not os.path.exists(output_root_path):\n",
    "    os.makedirs(output_root_path)\n",
    "\n",
    "output_root_path += recommender_class.RECOMMENDER_NAME    \n",
    "    \n",
    "    \n",
    "n_cases = 2\n",
    "metric_to_optimize = \"MAP\"\n",
    "\n",
    "best_parameters_CFW_D = parameterSearch.search(recommenderDictionary,\n",
    "                                                 n_cases = n_cases,\n",
    "                                                 output_root_path = output_root_path,\n",
    "                                                 metric=metric_to_optimize)\n",
    "\n",
    "\n"
   ]
  },
  {
   "cell_type": "markdown",
   "metadata": {},
   "source": [
    "### The best solution has a MAP of 0.1756062, slightly better than the pure CBF\n",
    "\n",
    "### Let's try another ICM, the genres of the movie"
   ]
  },
  {
   "cell_type": "code",
   "execution_count": 33,
   "metadata": {},
   "outputs": [
    {
     "data": {
      "text/plain": [
       "<65134x20 sparse matrix of type '<class 'numpy.float64'>'\n",
       "\twith 21559 stored elements in Compressed Sparse Row format>"
      ]
     },
     "execution_count": 33,
     "metadata": {},
     "output_type": "execute_result"
    }
   ],
   "source": [
    "genres_path = dataFile.extract(\"ml-10M100K/movies.dat\", path = \"data/Movielens_10M\")\n",
    "\n",
    "\n",
    "def _loadICM_genres(genres_path, header=True, separator='::', genresSeparator=\"|\"):\n",
    "\n",
    "    # Genres\n",
    "    from data.IncrementalSparseMatrix import IncrementalSparseMatrix\n",
    "\n",
    "    ICM_builder = IncrementalSparseMatrix(auto_create_col_mapper = True, \n",
    "                                          auto_create_row_mapper = False)\n",
    "\n",
    "\n",
    "    fileHandle = open(genres_path, \"r\", encoding=\"latin1\")\n",
    "    numCells = 0\n",
    "\n",
    "    if header:\n",
    "        fileHandle.readline()\n",
    "\n",
    "    for line in fileHandle:\n",
    "        numCells += 1\n",
    "        if (numCells % 1000000 == 0):\n",
    "            print(\"Processed {} cells\".format(numCells))\n",
    "\n",
    "        if (len(line)) > 1:\n",
    "            line = line.split(separator)\n",
    "\n",
    "            line[-1] = line[-1].replace(\"\\n\", \"\")\n",
    "\n",
    "            movie_id = int(line[0])\n",
    "\n",
    "            title = line[1]\n",
    "            # In case the title contains commas, it is enclosed in \"...\"\n",
    "            # genre list will always be the last element\n",
    "            genreList = line[-1]\n",
    "\n",
    "            genreList = genreList.split(genresSeparator)\n",
    "\n",
    "            # Rows movie ID\n",
    "            # Cols features\n",
    "            ICM_builder.add_single_row(movie_id, genreList, data = 1.0)\n",
    "\n",
    "\n",
    "    fileHandle.close()\n",
    "\n",
    "    return ICM_builder.get_SparseMatrix(), ICM_builder.get_column_token_to_id_mapper(), ICM_builder.get_row_token_to_id_mapper()\n",
    "\n",
    "\n",
    "ICM_genres, _, _ = _loadICM_genres(genres_path, header=True, separator='::', genresSeparator=\"|\")\n",
    "ICM_genres = ICM_genres.tocsr()\n",
    "\n",
    "ICM_genres"
   ]
  },
  {
   "cell_type": "code",
   "execution_count": 34,
   "metadata": {},
   "outputs": [
    {
     "name": "stdout",
     "output_type": "stream",
     "text": [
      "CFW_D_Similarity_Linalg: Generating train data\n",
      "Similarity column 65134 ( 100 % ), 7304.08 column/sec, elapsed time 0.15 min\n",
      "CFW_D_Similarity_Linalg: Collaborative S density: 1.65E-03, nonzero cells 6997140\n",
      "CFW_D_Similarity_Linalg: Content S density: 7.54E-04, nonzero cells 3199152\n",
      "CFW_D_Similarity_Linalg: Content S structure has 343180 out of 3199152 ( 10.73%) nonzero collaborative cells\n",
      "CFW_D_Similarity_Linalg: Nonzero collaborative cell sum is: 1.52E+04, average is: 4.43E-02, average over all collaborative data is 3.96E-02\n",
      "Similarity column 65134 ( 100 % ), 7440.28 column/sec, elapsed time 0.15 min\n",
      "SequentialEvaluator: Processed 33001 ( 47.23% ) in 30.22 seconds. Users per second: 1092\n",
      "SequentialEvaluator: Processed 67001 ( 95.88% ) in 60.71 seconds. Users per second: 1104\n",
      "SequentialEvaluator: Processed 69878 ( 100.00% ) in 62.66 seconds. Users per second: 1115\n"
     ]
    },
    {
     "data": {
      "text/plain": [
       "{5: {'ROC_AUC': 0.062148792657679544,\n",
       "  'PRECISION': 0.032264804373338514,\n",
       "  'RECALL': 0.002480477801986029,\n",
       "  'RECALL_TEST_LEN': 0.032264804373338514,\n",
       "  'MAP': 0.01579891620634061,\n",
       "  'MRR': 0.06194820496675068,\n",
       "  'NDCG': 0.004418842092226786,\n",
       "  'F1': 0.004606791254688688,\n",
       "  'HIT_RATE': 0.16132402186668193,\n",
       "  'ARHR': 0.06979759962601224,\n",
       "  'NOVELTY': 0.00105580196102687,\n",
       "  'DIVERSITY_MEAN_INTER_LIST': 0.9819069472755356,\n",
       "  'DIVERSITY_HERFINDAHL': 0.9963785791086539,\n",
       "  'COVERAGE_ITEM': 0.07697976479258145,\n",
       "  'COVERAGE_USER': 0.9763860943438408,\n",
       "  'DIVERSITY_GINI': 0.12912814834069017,\n",
       "  'SHANNON_ENTROPY': 9.410897424148793}}"
      ]
     },
     "execution_count": 34,
     "metadata": {},
     "output_type": "execute_result"
    }
   ],
   "source": [
    "CFW_weithing_genre = CFW_D_Similarity_Linalg(URM_train, ICM_genres, W_sparse_CF)\n",
    "CFW_weithing_genre.fit()\n",
    "\n",
    "results_dict, _ = evaluator_test.evaluateRecommender(CFW_weithing_genre)\n",
    "results_dict"
   ]
  },
  {
   "cell_type": "code",
   "execution_count": 35,
   "metadata": {},
   "outputs": [
    {
     "name": "stdout",
     "output_type": "stream",
     "text": [
      "\u001b[31mInitialization\u001b[0m\n",
      "\u001b[94m--------------------------------------------------------------------------------------\u001b[0m\n",
      " Step |   Time |      Value |   add_zeros_quota |   normalize_similarity |      topK | \n",
      "BayesianSearch: Testing config: {'topK': 50, 'add_zeros_quota': 0.5460399111630392, 'normalize_similarity': False}\n",
      "CFW_D_Similarity_Linalg: Generating train data\n",
      "Similarity column 65134 ( 100 % ), 7442.35 column/sec, elapsed time 0.15 min\n",
      "CFW_D_Similarity_Linalg: Collaborative S density: 1.65E-03, nonzero cells 6997140\n",
      "CFW_D_Similarity_Linalg: Content S density: 1.26E-04, nonzero cells 533928\n",
      "CFW_D_Similarity_Linalg: Content S structure has 65514 out of 533928 ( 12.27%) nonzero collaborative cells\n",
      "CFW_D_Similarity_Linalg: Nonzero collaborative cell sum is: 3.02E+03, average is: 4.60E-02, average over all collaborative data is 3.96E-02\n",
      "Similarity column 65134 ( 100 % ), 7324.09 column/sec, elapsed time 0.15 min\n",
      "SequentialEvaluator: Processed 38948 ( 55.75% ) in 30.00 seconds. Users per second: 1298\n",
      "SequentialEvaluator: Processed 69857 ( 100.00% ) in 53.91 seconds. Users per second: 1296\n",
      "BayesianSearch: New best config found. Config: {'topK': 50, 'add_zeros_quota': 0.5460399111630392, 'normalize_similarity': False, 'epochs': 0, 'max_epochs': 0} - results: {'ROC_AUC': 0.04233768030882133, 'PRECISION': 0.019541825920573092, 'RECALL': 0.002923853014383998, 'RECALL_TEST_LEN': 0.019541825920573092, 'MAP': 0.009481341247914655, 'MRR': 0.04089664123375849, 'NDCG': 0.004327835108402573, 'F1': 0.005086641431123445, 'HIT_RATE': 0.09744191705913509, 'ARHR': 0.04394143273639938, 'NOVELTY': 0.0010364723459785942, 'DIVERSITY_MEAN_INTER_LIST': 0.9838253076530643, 'DIVERSITY_HERFINDAHL': 0.9967622448470803, 'COVERAGE_ITEM': 0.06462062824331379, 'COVERAGE_USER': 0.9760926671137938, 'DIVERSITY_GINI': 0.17520149629050483, 'SHANNON_ENTROPY': 9.674670809271444}\n",
      "\n",
      "BayesianSearch: Saving model in result_experiments/ICM_genres/\n",
      "\n",
      "CFW_D_Similarity_Linalg: Saving model in file 'result_experiments/ICM_genres/_best_model'\n",
      "CFW_D_Similarity_Linalg: Saving complete\n",
      "CFW_D_Similarity_Linalg: Loading model from file 'result_experiments/ICM_genres/_best_model'\n",
      "CFW_D_Similarity_Linalg: Loading complete\n",
      "SequentialEvaluator: Processed 37001 ( 52.95% ) in 30.10 seconds. Users per second: 1229\n",
      "SequentialEvaluator: Processed 69878 ( 100.00% ) in 54.94 seconds. Users per second: 1272\n",
      "BayesianSearch: Best result evaluated on URM_test. Config: {'topK': 50, 'add_zeros_quota': 0.5460399111630392, 'normalize_similarity': False, 'epochs': 0, 'max_epochs': 0} - results: CUTOFF: 5 - ROC_AUC: 0.0758334, PRECISION: 0.0392026, RECALL: 0.0029488, RECALL_TEST_LEN: 0.0392026, MAP: 0.0204536, MRR: 0.0769627, NDCG: 0.0055672, F1: 0.0054849, HIT_RATE: 0.1960131, ARHR: 0.0884196, NOVELTY: 0.0010365, DIVERSITY_MEAN_INTER_LIST: 0.9838275, DIVERSITY_HERFINDAHL: 0.9967627, COVERAGE_ITEM: 0.0646206, COVERAGE_USER: 0.9763861, DIVERSITY_GINI: 0.1752086, SHANNON_ENTROPY: 9.6748105, \n",
      "\n",
      "\n",
      "    1 | 02m14s | \u001b[35m   0.00948\u001b[0m | \u001b[32m           0.5460\u001b[0m | \u001b[32m                0.7785\u001b[0m | \u001b[32m   2.9236\u001b[0m | \n",
      "BayesianSearch: Testing config: {'topK': 300, 'add_zeros_quota': 0.9818092972417922, 'normalize_similarity': False}\n",
      "CFW_D_Similarity_Linalg: Generating train data\n",
      "Similarity column 65134 ( 100 % ), 7389.16 column/sec, elapsed time 0.15 min\n",
      "CFW_D_Similarity_Linalg: Collaborative S density: 1.65E-03, nonzero cells 6997140\n",
      "CFW_D_Similarity_Linalg: Content S density: 7.54E-04, nonzero cells 3199152\n",
      "CFW_D_Similarity_Linalg: Content S structure has 343180 out of 3199152 ( 10.73%) nonzero collaborative cells\n",
      "CFW_D_Similarity_Linalg: Nonzero collaborative cell sum is: 1.52E+04, average is: 4.43E-02, average over all collaborative data is 3.96E-02\n",
      "Similarity column 65134 ( 100 % ), 7043.79 column/sec, elapsed time 0.15 min\n",
      "SequentialEvaluator: Processed 33001 ( 47.24% ) in 30.04 seconds. Users per second: 1099\n",
      "SequentialEvaluator: Processed 67001 ( 95.91% ) in 60.16 seconds. Users per second: 1114\n",
      "SequentialEvaluator: Processed 69857 ( 100.00% ) in 62.06 seconds. Users per second: 1126\n",
      "BayesianSearch: Config is suboptimal. Config: {'topK': 300, 'add_zeros_quota': 0.9818092972417922, 'normalize_similarity': False, 'epochs': 0, 'max_epochs': 0} - results: {'ROC_AUC': 0.031187521174208276, 'PRECISION': 0.015442976366006009, 'RECALL': 0.0022998228659914257, 'RECALL_TEST_LEN': 0.015442976366006009, 'MAP': 0.006873255364530581, 'MRR': 0.03019334736199182, 'NDCG': 0.003083033222764459, 'F1': 0.004003439333457135, 'HIT_RATE': 0.07704310233763259, 'ARHR': 0.03216666428084033, 'NOVELTY': 0.0010484862796817551, 'DIVERSITY_MEAN_INTER_LIST': 0.9748942082494275, 'DIVERSITY_HERFINDAHL': 0.994976050536015, 'COVERAGE_ITEM': 0.07334111216875978, 'COVERAGE_USER': 0.9760926671137938, 'DIVERSITY_GINI': 0.1108203529553254, 'SHANNON_ENTROPY': 9.013769641884808}\n",
      "\n",
      "    2 | 01m48s |    0.00687 |            0.9818 |                 0.9002 |    7.2822 | \n",
      "BayesianSearch: Testing config: {'topK': 100, 'add_zeros_quota': 0.5408037722416156, 'normalize_similarity': True}\n",
      "CFW_D_Similarity_Linalg: Generating train data\n",
      "Similarity column 65134 ( 100 % ), 7548.72 column/sec, elapsed time 0.14 min\n",
      "CFW_D_Similarity_Linalg: Collaborative S density: 1.65E-03, nonzero cells 6997140\n",
      "CFW_D_Similarity_Linalg: Content S density: 2.52E-04, nonzero cells 1067828\n",
      "CFW_D_Similarity_Linalg: Content S structure has 127182 out of 1067828 ( 11.91%) nonzero collaborative cells\n",
      "CFW_D_Similarity_Linalg: Nonzero collaborative cell sum is: 1.61E+04, average is: 1.26E-01, average over all collaborative data is 3.96E-02\n",
      "Similarity column 65134 ( 100 % ), 3064.32 column/sec, elapsed time 0.35 min\n",
      "SequentialEvaluator: Processed 37001 ( 52.97% ) in 30.27 seconds. Users per second: 1222\n",
      "SequentialEvaluator: Processed 69857 ( 100.00% ) in 55.67 seconds. Users per second: 1255\n",
      "BayesianSearch: Config is suboptimal. Config: {'topK': 100, 'add_zeros_quota': 0.5408037722416156, 'normalize_similarity': True, 'epochs': 0, 'max_epochs': 0} - results: {'ROC_AUC': 0.03446445357420634, 'PRECISION': 0.01577222039308997, 'RECALL': 0.0023044971055562143, 'RECALL_TEST_LEN': 0.01577222039308997, 'MAP': 0.00769780885714169, 'MRR': 0.0333414451426962, 'NDCG': 0.0033392181536924413, 'F1': 0.0040214199560061345, 'HIT_RATE': 0.07863206264225489, 'ARHR': 0.03575470842816976, 'NOVELTY': 0.0010813311116455071, 'DIVERSITY_MEAN_INTER_LIST': 0.989816524259286, 'DIVERSITY_HERFINDAHL': 0.9979604710155222, 'COVERAGE_ITEM': 0.0855467190714527, 'COVERAGE_USER': 0.9760926671137938, 'DIVERSITY_GINI': 0.16316928961188898, 'SHANNON_ENTROPY': 10.05444038952249}\n",
      "\n",
      "    3 | 01m36s |    0.00770 |            0.5408 |                 0.2024 |    4.2721 | \n",
      "BayesianSearch: Testing config: {'topK': 700, 'add_zeros_quota': 0.02591915073946116, 'normalize_similarity': True}\n",
      "CFW_D_Similarity_Linalg: Generating train data\n",
      "Similarity column 65134 ( 100 % ), 7334.40 column/sec, elapsed time 0.15 min\n",
      "CFW_D_Similarity_Linalg: Collaborative S density: 1.65E-03, nonzero cells 6997140\n",
      "CFW_D_Similarity_Linalg: Content S density: 1.73E-03, nonzero cells 7331808\n",
      "CFW_D_Similarity_Linalg: Generating train data. Sample 624340 ( 8.74 %) \n",
      "CFW_D_Similarity_Linalg: Content S structure has 705850 out of 7331808 ( 9.63%) nonzero collaborative cells\n",
      "CFW_D_Similarity_Linalg: Nonzero collaborative cell sum is: 7.84E+04, average is: 1.11E-01, average over all collaborative data is 3.96E-02\n",
      "Similarity column 65134 ( 100 % ), 3133.95 column/sec, elapsed time 0.35 min\n",
      "SequentialEvaluator: Processed 30001 ( 42.95% ) in 30.35 seconds. Users per second: 989\n",
      "SequentialEvaluator: Processed 60001 ( 85.89% ) in 60.38 seconds. Users per second: 994\n",
      "SequentialEvaluator: Processed 69857 ( 100.00% ) in 69.39 seconds. Users per second: 1007\n",
      "BayesianSearch: Config is suboptimal. Config: {'topK': 700, 'add_zeros_quota': 0.02591915073946116, 'normalize_similarity': True, 'epochs': 0, 'max_epochs': 0} - results: {'ROC_AUC': 0.03521718176656118, 'PRECISION': 0.016675971389172612, 'RECALL': 0.0023562633893919223, 'RECALL_TEST_LEN': 0.016675971389172612, 'MAP': 0.008000617929007574, 'MRR': 0.03389925132771226, 'NDCG': 0.003454565540612396, 'F1': 0.004129097956600361, 'HIT_RATE': 0.08318421919063229, 'ARHR': 0.036735283030571726, 'NOVELTY': 0.0010870922586515988, 'DIVERSITY_MEAN_INTER_LIST': 0.9921662375152077, 'DIVERSITY_HERFINDAHL': 0.9984304069394974, 'COVERAGE_ITEM': 0.13321767433291368, 'COVERAGE_USER': 0.9760926671137938, 'DIVERSITY_GINI': 0.20589119134999923, 'SHANNON_ENTROPY': 10.876395364725553}\n",
      "\n",
      "    4 | 02m14s |    0.00800 |            0.0259 |                 0.0021 |   11.3005 | \n",
      "BayesianSearch: Testing config: {'topK': 5, 'add_zeros_quota': 0.35747392814147605, 'normalize_similarity': False}\n",
      "CFW_D_Similarity_Linalg: Generating train data\n"
     ]
    },
    {
     "name": "stdout",
     "output_type": "stream",
     "text": [
      "Similarity column 65134 ( 100 % ), 7459.88 column/sec, elapsed time 0.15 min\n",
      "CFW_D_Similarity_Linalg: Collaborative S density: 1.65E-03, nonzero cells 6997140\n",
      "CFW_D_Similarity_Linalg: Content S density: 1.26E-05, nonzero cells 53395\n",
      "CFW_D_Similarity_Linalg: Content S structure has 6812 out of 53395 ( 12.76%) nonzero collaborative cells\n",
      "CFW_D_Similarity_Linalg: Nonzero collaborative cell sum is: 3.17E+02, average is: 4.66E-02, average over all collaborative data is 3.96E-02\n",
      "Similarity column 65134 ( 100 % ), 7629.74 column/sec, elapsed time 0.14 min\n",
      "SequentialEvaluator: Processed 45001 ( 64.42% ) in 30.34 seconds. Users per second: 1483\n",
      "SequentialEvaluator: Processed 69857 ( 100.00% ) in 46.54 seconds. Users per second: 1501\n",
      "BayesianSearch: Config is suboptimal. Config: {'topK': 5, 'add_zeros_quota': 0.35747392814147605, 'normalize_similarity': False, 'epochs': 0, 'max_epochs': 0} - results: {'ROC_AUC': 0.03925399983776381, 'PRECISION': 0.016944376846034545, 'RECALL': 0.002331466482678726, 'RECALL_TEST_LEN': 0.016944376846034545, 'MAP': 0.008698440305831322, 'MRR': 0.03727829709263195, 'NDCG': 0.00381478761590069, 'F1': 0.004098938346065516, 'HIT_RATE': 0.08451551025666719, 'ARHR': 0.040173974452571995, 'NOVELTY': 0.000997128748647216, 'DIVERSITY_MEAN_INTER_LIST': 0.98014424759261, 'DIVERSITY_HERFINDAHL': 0.9960260433738333, 'COVERAGE_ITEM': 0.050879724874873335, 'COVERAGE_USER': 0.9760926671137938, 'DIVERSITY_GINI': 0.14320690937018915, 'SHANNON_ENTROPY': 9.078284285883765}\n",
      "\n",
      "    5 | 01m08s |    0.00870 |            0.3575 |                 0.9678 |    0.0298 | \n"
     ]
    },
    {
     "name": "stderr",
     "output_type": "stream",
     "text": [
      "/home/maurizio/anaconda3/lib/python3.6/site-packages/sklearn/gaussian_process/gpr.py:357: UserWarning: Predicted variances smaller than 0. Setting those variances to 0.\n",
      "  warnings.warn(\"Predicted variances smaller than 0. \"\n"
     ]
    },
    {
     "name": "stdout",
     "output_type": "stream",
     "text": [
      "\u001b[31mBayesian Optimization\u001b[0m\n",
      "\u001b[94m--------------------------------------------------------------------------------------\u001b[0m\n",
      " Step |   Time |      Value |   add_zeros_quota |   normalize_similarity |      topK | \n",
      "BayesianSearch: Testing config: {'topK': 200, 'add_zeros_quota': 0.0008248131146192383, 'normalize_similarity': False}\n",
      "CFW_D_Similarity_Linalg: Generating train data\n",
      "Similarity column 65134 ( 100 % ), 7253.56 column/sec, elapsed time 0.15 min\n",
      "CFW_D_Similarity_Linalg: Collaborative S density: 1.65E-03, nonzero cells 6997140\n",
      "CFW_D_Similarity_Linalg: Content S density: 5.03E-04, nonzero cells 2134992\n",
      "CFW_D_Similarity_Linalg: Content S structure has 237124 out of 2134992 ( 11.11%) nonzero collaborative cells\n",
      "CFW_D_Similarity_Linalg: Nonzero collaborative cell sum is: 1.06E+04, average is: 4.48E-02, average over all collaborative data is 3.96E-02\n",
      "Similarity column 65134 ( 100 % ), 7353.67 column/sec, elapsed time 0.15 min\n",
      "SequentialEvaluator: Processed 35001 ( 50.10% ) in 30.12 seconds. Users per second: 1162\n",
      "SequentialEvaluator: Processed 69857 ( 100.00% ) in 59.92 seconds. Users per second: 1166\n",
      "BayesianSearch: Config is suboptimal. Config: {'topK': 200, 'add_zeros_quota': 0.0008248131146192383, 'normalize_similarity': False, 'epochs': 0, 'max_epochs': 0} - results: {'ROC_AUC': 0.03496786291996505, 'PRECISION': 0.016308554141557182, 'RECALL': 0.0024266475011878717, 'RECALL_TEST_LEN': 0.016308554141557182, 'MAP': 0.007736141132758693, 'MRR': 0.03359816005077042, 'NDCG': 0.0034373887727751932, 'F1': 0.004224679606896225, 'HIT_RATE': 0.0813662195628212, 'ARHR': 0.03599782412642966, 'NOVELTY': 0.0010698046195956453, 'DIVERSITY_MEAN_INTER_LIST': 0.9857632531671877, 'DIVERSITY_HERFINDAHL': 0.9971498284015834, 'COVERAGE_ITEM': 0.0780084134246323, 'COVERAGE_USER': 0.9760926671137938, 'DIVERSITY_GINI': 0.141265925735498, 'SHANNON_ENTROPY': 9.648111513319172}\n",
      "\n",
      "    6 | 01m38s |    0.00774 |            0.0008 |                 0.9995 |    6.2202 | \n",
      "BayesianSearch: Testing config: {'topK': 800, 'add_zeros_quota': 0.02399731634800717, 'normalize_similarity': False}\n",
      "CFW_D_Similarity_Linalg: Generating train data\n",
      "Similarity column 65134 ( 100 % ), 7272.10 column/sec, elapsed time 0.15 min\n",
      "CFW_D_Similarity_Linalg: Collaborative S density: 1.65E-03, nonzero cells 6997140\n",
      "CFW_D_Similarity_Linalg: Content S density: 1.97E-03, nonzero cells 8339369\n",
      "CFW_D_Similarity_Linalg: Generating train data. Sample 621450 ( 7.63 %) \n",
      "CFW_D_Similarity_Linalg: Content S structure has 800064 out of 8339369 ( 9.59%) nonzero collaborative cells\n",
      "CFW_D_Similarity_Linalg: Nonzero collaborative cell sum is: 3.48E+04, average is: 4.35E-02, average over all collaborative data is 3.96E-02\n",
      "Similarity column 65134 ( 100 % ), 7314.48 column/sec, elapsed time 0.15 min\n",
      "SequentialEvaluator: Processed 29756 ( 42.60% ) in 30.00 seconds. Users per second: 992\n",
      "SequentialEvaluator: Processed 60001 ( 85.89% ) in 60.67 seconds. Users per second: 989\n",
      "SequentialEvaluator: Processed 69857 ( 100.00% ) in 69.74 seconds. Users per second: 1002\n",
      "BayesianSearch: Config is suboptimal. Config: {'topK': 800, 'add_zeros_quota': 0.02399731634800717, 'normalize_similarity': False, 'epochs': 0, 'max_epochs': 0} - results: {'ROC_AUC': 0.02658526227388332, 'PRECISION': 0.012570441521012696, 'RECALL': 0.0019829462308329484, 'RECALL_TEST_LEN': 0.012570441521012696, 'MAP': 0.005496971591171284, 'MRR': 0.024882736638179963, 'NDCG': 0.002562041419069345, 'F1': 0.0034255267651804255, 'HIT_RATE': 0.0626279399344375, 'ARHR': 0.026109289930381644, 'NOVELTY': 0.0010744912400444237, 'DIVERSITY_MEAN_INTER_LIST': 0.966049075478326, 'DIVERSITY_HERFINDAHL': 0.993207049305335, 'COVERAGE_ITEM': 0.06432892191482176, 'COVERAGE_USER': 0.9760926671137938, 'DIVERSITY_GINI': 0.09425795691082968, 'SHANNON_ENTROPY': 8.597589369468878}\n",
      "\n",
      "    7 | 02m12s |    0.00550 |            0.0240 |                 0.9907 |   11.9593 | \n"
     ]
    },
    {
     "name": "stderr",
     "output_type": "stream",
     "text": [
      "/home/maurizio/anaconda3/lib/python3.6/site-packages/sklearn/gaussian_process/gpr.py:480: ConvergenceWarning: fmin_l_bfgs_b terminated abnormally with the  state: {'grad': array([-8.3431562e-05]), 'task': b'ABNORMAL_TERMINATION_IN_LNSRCH', 'funcalls': 64, 'nit': 7, 'warnflag': 2}\n",
      "  ConvergenceWarning)\n",
      "/home/maurizio/anaconda3/lib/python3.6/site-packages/sklearn/gaussian_process/gpr.py:480: ConvergenceWarning: fmin_l_bfgs_b terminated abnormally with the  state: {'grad': array([1.17750328e-05]), 'task': b'ABNORMAL_TERMINATION_IN_LNSRCH', 'funcalls': 54, 'nit': 7, 'warnflag': 2}\n",
      "  ConvergenceWarning)\n",
      "/home/maurizio/anaconda3/lib/python3.6/site-packages/sklearn/gaussian_process/gpr.py:357: UserWarning: Predicted variances smaller than 0. Setting those variances to 0.\n",
      "  warnings.warn(\"Predicted variances smaller than 0. \"\n"
     ]
    },
    {
     "name": "stdout",
     "output_type": "stream",
     "text": [
      "BayesianSearch: Best config is: Config {'topK': 50, 'add_zeros_quota': 0.5460399111630392, 'normalize_similarity': False, 'epochs': 0, 'max_epochs': 0}, MAP value is 0.0095\n",
      "\n"
     ]
    }
   ],
   "source": [
    "from ParameterTuning.BayesianSearch import BayesianSearch\n",
    "from ParameterTuning.AbstractClassSearch import DictionaryKeys\n",
    "\n",
    "from ParameterTuning.AbstractClassSearch import EvaluatorWrapper\n",
    "\n",
    "\n",
    "evaluator_validation_tuning = EvaluatorWrapper(evaluator_validation)\n",
    "evaluator_test_tuning = EvaluatorWrapper(evaluator_test)\n",
    "\n",
    "\n",
    "recommender_class = CFW_D_Similarity_Linalg\n",
    "\n",
    "parameterSearch = BayesianSearch(recommender_class,\n",
    "                                 evaluator_validation=evaluator_validation_tuning,\n",
    "                                 evaluator_test=evaluator_test_tuning)\n",
    "\n",
    "\n",
    "hyperparamethers_range_dictionary = {}\n",
    "hyperparamethers_range_dictionary[\"topK\"] = [5, 10, 20, 50, 100, 150, 200, 300, 400, 500, 600, 700, 800]\n",
    "hyperparamethers_range_dictionary[\"add_zeros_quota\"] = range(0,1)\n",
    "hyperparamethers_range_dictionary[\"normalize_similarity\"] = [True, False]\n",
    "\n",
    "\n",
    "\n",
    "recommenderDictionary = {DictionaryKeys.CONSTRUCTOR_POSITIONAL_ARGS: [URM_train, ICM_genres, W_sparse_CF],\n",
    "                         DictionaryKeys.CONSTRUCTOR_KEYWORD_ARGS: {},\n",
    "                         DictionaryKeys.FIT_POSITIONAL_ARGS: dict(),\n",
    "                         DictionaryKeys.FIT_KEYWORD_ARGS: dict(),\n",
    "                         DictionaryKeys.FIT_RANGE_KEYWORD_ARGS: hyperparamethers_range_dictionary}\n",
    "\n",
    "\n",
    "output_root_path = \"result_experiments/ICM_genres/\"\n",
    "\n",
    "import os\n",
    "\n",
    "# If directory does not exist, create\n",
    "if not os.path.exists(output_root_path):\n",
    "    os.makedirs(output_root_path)\n",
    "\n",
    "    \n",
    "output_root_path += recommender_class.RECOMMENDER_NAME      \n",
    "    \n",
    "n_cases = 2\n",
    "metric_to_optimize = \"MAP\"\n",
    "\n",
    "best_parameters_CFW_D = parameterSearch.search(recommenderDictionary,\n",
    "                                                 n_cases = n_cases,\n",
    "                                                 output_root_path = output_root_path,\n",
    "                                                 metric=metric_to_optimize)\n"
   ]
  },
  {
   "cell_type": "markdown",
   "metadata": {},
   "source": [
    "### Here the best solution has a MAP of 0.0204536... not great"
   ]
  },
  {
   "cell_type": "markdown",
   "metadata": {},
   "source": [
    "### Since we are weighting features, and weights can be applied only to common features, we expect a sparse ICM to have limited quality gains, whereas a more dense one to exhibit much higher improvements.\n",
    "\n",
    "## This however greatly depends on the ICM structure...\n",
    "\n",
    "## Tip:\n",
    "### If your ICM is very sparse, you may try to aggregate features (e.g., put them in OR, add them...) to reduce their number and get a new denser ICM on which to try feature weighting"
   ]
  },
  {
   "cell_type": "code",
   "execution_count": null,
   "metadata": {},
   "outputs": [],
   "source": []
  }
 ],
 "metadata": {
  "kernelspec": {
   "display_name": "Python 3",
   "language": "python",
   "name": "python3"
  },
  "language_info": {
   "codemirror_mode": {
    "name": "ipython",
    "version": 3
   },
   "file_extension": ".py",
   "mimetype": "text/x-python",
   "name": "python",
   "nbconvert_exporter": "python",
   "pygments_lexer": "ipython3",
   "version": "3.6.6"
  }
 },
 "nbformat": 4,
 "nbformat_minor": 2
}
