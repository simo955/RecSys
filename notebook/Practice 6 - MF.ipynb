{
 "cells": [
  {
   "cell_type": "markdown",
   "metadata": {},
   "source": [
    "# Recommender Systems 2018/19\n",
    "\n",
    "### Practice session on BPR-MF\n",
    "\n",
    "\n",
    "## Recap on BPR\n",
    "S.Rendle et al. BPR: Bayesian Personalized Ranking from Implicit Feedback. UAI2009\n",
    "\n",
    "The usual approach for item recommenders is to predict a personalized score $\\hat{x}_{ui}$ for an item that reflects the preference of the user for the item. Then the items are ranked by sorting them according to that score.\n",
    "\n",
    "Machine learning approaches are tipically fit by using observed items as a positive sample and missing ones for the negative class. A perfect model would thus be useless, as it would classify as negative (non-interesting) all the items that were non-observed at training time. The only reason why such methods work is regularization.\n",
    "\n",
    "BPR use a different approach. The training dataset is composed by triplets $(u,i,j)$ representing that user u is assumed to prefer i over j. For an implicit dataset this means that u observed i but not j:\n",
    "$$D_S := \\{(u,i,j) \\mid i \\in I_u^+ \\wedge j \\in I \\setminus I_u^+\\}$$\n",
    "\n",
    "### BPR-OPT\n",
    "A machine learning model can be represented by a parameter vector $\\Theta$ which is found at fitting time. BPR wants to find the parameter vector that is most probable given the desired, but latent, preference structure $>_u$:\n",
    "$$p(\\Theta \\mid >_u) \\propto p(>_u \\mid \\Theta)p(\\Theta) $$\n",
    "$$\\prod_{u\\in U} p(>_u \\mid \\Theta) = \\dots = \\prod_{(u,i,j) \\in D_S} p(i >_u j \\mid \\Theta) $$\n",
    "\n",
    "The probability that a user really prefers item $i$ to item $j$ is defined as:\n",
    "$$ p(i >_u j \\mid \\Theta) := \\sigma(\\hat{x}_{uij}(\\Theta)) $$\n",
    "Where $\\sigma$ represent the logistic sigmoid and $\\hat{x}_{uij}(\\Theta)$ is an arbitrary real-valued function of $\\Theta$ (the output of your arbitrary model).\n",
    "\n",
    "\n",
    "To complete the Bayesian setting, we define a prior density for the parameters:\n",
    "$$p(\\Theta) \\sim N(0, \\Sigma_\\Theta)$$\n",
    "And we can now formulate the maximum posterior estimator:\n",
    "$$BPR-OPT := \\log p(\\Theta \\mid >_u) $$\n",
    "$$ = \\log p(>_u \\mid \\Theta) p(\\Theta) $$\n",
    "$$ = \\log \\prod_{(u,i,j) \\in D_S} \\sigma(\\hat{x}_{uij})p(\\Theta) $$\n",
    "$$ = \\sum_{(u,i,j) \\in D_S} \\log \\sigma(\\hat{x}_{uij}) + \\log p(\\Theta) $$\n",
    "$$ = \\sum_{(u,i,j) \\in D_S} \\log \\sigma(\\hat{x}_{uij}) - \\lambda_\\Theta ||\\Theta||^2 $$\n",
    "\n",
    "Where $\\lambda_\\Theta$ are model specific regularization parameters.\n",
    "\n",
    "### BPR learning algorithm\n",
    "Once obtained the log-likelihood, we need to maximize it in order to find our obtimal $\\Theta$. As the crierion is differentiable, gradient descent algorithms are an obvious choiche for maximization.\n",
    "\n",
    "Gradient descent comes in many fashions, you can find an overview on my master thesis https://www.politesi.polimi.it/bitstream/10589/133864/3/tesi.pdf on pages 18-19-20 (I'm linking my thesis just because I'm sure of what it's written there, many posts you can find online contain some error). A nice post about momentum is available here https://distill.pub/2017/momentum/\n",
    "\n",
    "The basic version of gradient descent consists in evaluating the gradient using all the available samples and then perform a single update. The problem with this is, in our case, that our training dataset is very skewed. Suppose an item i is very popular. Then we habe many terms of the form $\\hat{x}_{uij}$ in the loss because for many users u the item i is compared against all negative items j.\n",
    "\n",
    "The other popular approach is stochastic gradient descent, where for each training sample an update is performed. This is a better approach, but the order in which the samples are traversed is crucial. To solve this issue BPR uses a stochastic gradient descent algorithm that choses the triples randomly.\n",
    "\n",
    "The gradient of BPR-OPT with respect to the model parameters is: \n",
    "$$\\frac{\\partial BPR-OPT}{\\partial \\Theta} = \\sum_{(u,i,j) \\in D_S} \\frac{\\partial}{\\partial \\Theta} \\log \\sigma (\\hat{x}_{uij}) - \\lambda_\\Theta \\frac{\\partial}{\\partial\\Theta} || \\Theta ||^2$$\n",
    "$$ =  \\sum_{(u,i,j) \\in D_S} \\frac{-e^{-\\hat{x}_{uij}}}{1+e^{-\\hat{x}_{uij}}} \\frac{\\partial}{\\partial \\Theta}\\hat{x}_{uij} - \\lambda_\\Theta \\Theta $$\n",
    "\n",
    "### BPR-MF\n",
    "\n",
    "In order to practically apply this learning schema to an existing algorithm, we first split the real valued preference term: $\\hat{x}_{uij} := \\hat{x}_{ui} − \\hat{x}_{uj}$. And now we can apply any standard collaborative filtering model that predicts $\\hat{x}_{ui}$.\n",
    "\n",
    "The problem of predicting $\\hat{x}_{ui}$ can be seen as the task of estimating a matrix $X:U×I$. With matrix factorization teh target matrix $X$ is approximated by the matrix product of two low-rank matrices $W:|U|\\times k$ and $H:|I|\\times k$:\n",
    "$$X := WH^t$$\n",
    "The prediction formula can also be written as:\n",
    "$$\\hat{x}_{ui} = \\langle w_u,h_i \\rangle = \\sum_{f=1}^k w_{uf} \\cdot h_{if}$$\n",
    "Besides the dot product ⟨⋅,⋅⟩, in general any kernel can be used.\n",
    "\n",
    "We can now specify the derivatives:\n",
    "$$ \\frac{\\partial}{\\partial \\theta} \\hat{x}_{uij} = \\begin{cases}\n",
    "(h_{if} - h_{jf}) \\text{ if } \\theta=w_{uf}, \\\\\n",
    "w_{uf} \\text{ if } \\theta = h_{if}, \\\\\n",
    "-w_{uf} \\text{ if } \\theta = h_{jf}, \\\\\n",
    "0 \\text{ else }\n",
    "\\end{cases} $$\n",
    "\n",
    "Which basically means: user $u$ prefer $i$ over $j$, let's do the following:\n",
    "- Increase the relevance (according to $u$) of features belonging to $i$ but not to $j$ and vice-versa\n",
    "- Increase the relevance of features assigned to $i$\n",
    "- Decrease the relevance of features assigned to $j$\n",
    "\n",
    "We're now ready to look at some code!"
   ]
  },
  {
   "cell_type": "code",
   "execution_count": 1,
   "metadata": {},
   "outputs": [],
   "source": [
    "from urllib.request import urlretrieve\n",
    "import zipfile\n",
    "\n",
    "# skip the download\n",
    "#urlretrieve (\"http://files.grouplens.org/datasets/movielens/ml-10m.zip\", \"data/Movielens_10M/movielens_10m.zip\")\n",
    "dataFile = zipfile.ZipFile(\"data/Movielens_10M/movielens_10m.zip\")\n",
    "URM_path = dataFile.extract(\"ml-10M100K/ratings.dat\", path = \"data/Movielens_10M\")\n",
    "URM_file = open(URM_path, 'r')\n",
    "\n",
    "\n",
    "def rowSplit (rowString):\n",
    "    \n",
    "    split = rowString.split(\"::\")\n",
    "    split[3] = split[3].replace(\"\\n\",\"\")\n",
    "    \n",
    "    split[0] = int(split[0])\n",
    "    split[1] = int(split[1])\n",
    "    split[2] = float(split[2])\n",
    "    split[3] = int(split[3])\n",
    "    \n",
    "    result = tuple(split)\n",
    "    \n",
    "    return result\n",
    "\n",
    "\n",
    "URM_file.seek(0)\n",
    "URM_tuples = []\n",
    "\n",
    "for line in URM_file:\n",
    "   URM_tuples.append(rowSplit (line))\n",
    "\n",
    "userList, itemList, ratingList, timestampList = zip(*URM_tuples)\n",
    "\n",
    "userList = list(userList)\n",
    "itemList = list(itemList)\n",
    "ratingList = list(ratingList)\n",
    "timestampList = list(timestampList)\n",
    "\n",
    "import scipy.sparse as sps\n",
    "\n",
    "URM_all = sps.coo_matrix((ratingList, (userList, itemList)))\n",
    "URM_all = URM_all.tocsr()\n",
    "\n",
    "\n",
    "\n",
    "from Notebooks_utils.data_splitter import train_test_holdout\n",
    "\n",
    "\n",
    "URM_train, URM_test = train_test_holdout(URM_all, train_perc = 0.8)"
   ]
  },
  {
   "cell_type": "markdown",
   "metadata": {},
   "source": [
    "### MF Computing prediction\n",
    "\n",
    "### In a MF model you have two matrices, one with a row per user and the other with a column per item. The other dimension, columns for the first one and rows for the second one is called latent factors"
   ]
  },
  {
   "cell_type": "code",
   "execution_count": 2,
   "metadata": {},
   "outputs": [],
   "source": [
    "num_factors = 10\n",
    "\n",
    "n_users, n_items = URM_train.shape"
   ]
  },
  {
   "cell_type": "code",
   "execution_count": 3,
   "metadata": {},
   "outputs": [],
   "source": [
    "import numpy as np\n",
    "\n",
    "user_factors = np.random.random((n_users, num_factors))\n",
    "\n",
    "item_factors = np.random.random((n_items, num_factors))"
   ]
  },
  {
   "cell_type": "markdown",
   "metadata": {},
   "source": [
    "### To compute the prediction we have to muliply the user factors to the item factors"
   ]
  },
  {
   "cell_type": "code",
   "execution_count": 4,
   "metadata": {},
   "outputs": [
    {
     "name": "stdout",
     "output_type": "stream",
     "text": [
      "Prediction is 2.48\n"
     ]
    }
   ],
   "source": [
    "item_index = 15\n",
    "user_index = 42\n",
    "\n",
    "prediction = np.dot(user_factors[user_index,:], item_factors[item_index,:])\n",
    "\n",
    "print(\"Prediction is {:.2f}\".format(prediction))"
   ]
  },
  {
   "cell_type": "markdown",
   "metadata": {},
   "source": [
    "# Train a MF MSE model\n",
    "\n",
    "### Use SGD as we saw for SLIM"
   ]
  },
  {
   "cell_type": "code",
   "execution_count": 5,
   "metadata": {},
   "outputs": [
    {
     "name": "stdout",
     "output_type": "stream",
     "text": [
      "Prediction error is 2.52\n"
     ]
    }
   ],
   "source": [
    "test_data = 5\n",
    "learning_rate = 1e-2\n",
    "regularization = 1e-3\n",
    "\n",
    "gradient = test_data - prediction\n",
    "\n",
    "print(\"Prediction error is {:.2f}\".format(gradient))"
   ]
  },
  {
   "cell_type": "code",
   "execution_count": 6,
   "metadata": {},
   "outputs": [],
   "source": [
    "# Copy original value to avoid messing up the updates\n",
    "H_i = item_factors[item_index,:]\n",
    "W_u = user_factors[user_index,:]\n",
    "\n",
    "user_factors[user_index,:] += learning_rate * (gradient * H_i - regularization * W_u)\n",
    "item_factors[item_index,:] += learning_rate * (gradient * W_u - regularization * H_i)\n"
   ]
  },
  {
   "cell_type": "code",
   "execution_count": 7,
   "metadata": {},
   "outputs": [
    {
     "name": "stdout",
     "output_type": "stream",
     "text": [
      "Prediction after the update is 2.66\n",
      "Prediction error is 2.34\n"
     ]
    }
   ],
   "source": [
    "prediction = np.dot(user_factors[user_index,:], item_factors[item_index,:])\n",
    "\n",
    "print(\"Prediction after the update is {:.2f}\".format(prediction))\n",
    "print(\"Prediction error is {:.2f}\".format(test_data - prediction))"
   ]
  },
  {
   "cell_type": "markdown",
   "metadata": {},
   "source": [
    "### WARNING: Initialization must be done with random non-zero values ... otherwise"
   ]
  },
  {
   "cell_type": "code",
   "execution_count": 8,
   "metadata": {},
   "outputs": [],
   "source": [
    "user_factors = np.zeros((n_users, num_factors))\n",
    "\n",
    "item_factors = np.zeros((n_items, num_factors))"
   ]
  },
  {
   "cell_type": "code",
   "execution_count": 9,
   "metadata": {},
   "outputs": [
    {
     "name": "stdout",
     "output_type": "stream",
     "text": [
      "Prediction is 0.00\n",
      "Prediction error is 5.00\n"
     ]
    }
   ],
   "source": [
    "prediction = np.dot(user_factors[user_index,:], item_factors[item_index,:])\n",
    "\n",
    "print(\"Prediction is {:.2f}\".format(prediction))\n",
    "\n",
    "gradient = test_data - prediction\n",
    "\n",
    "print(\"Prediction error is {:.2f}\".format(gradient))"
   ]
  },
  {
   "cell_type": "code",
   "execution_count": 10,
   "metadata": {},
   "outputs": [],
   "source": [
    "H_i = item_factors[item_index,:]\n",
    "W_u = user_factors[user_index,:]\n",
    "\n",
    "user_factors[user_index,:] += learning_rate * (gradient * H_i - regularization * W_u)\n",
    "item_factors[item_index,:] += learning_rate * (gradient * W_u - regularization * H_i)\n"
   ]
  },
  {
   "cell_type": "code",
   "execution_count": 11,
   "metadata": {},
   "outputs": [
    {
     "name": "stdout",
     "output_type": "stream",
     "text": [
      "Prediction after the update is 0.00\n",
      "Prediction error is 5.00\n"
     ]
    }
   ],
   "source": [
    "prediction = np.dot(user_factors[user_index,:], item_factors[item_index,:])\n",
    "\n",
    "print(\"Prediction after the update is {:.2f}\".format(prediction))\n",
    "print(\"Prediction error is {:.2f}\".format(test_data - prediction))"
   ]
  },
  {
   "cell_type": "markdown",
   "metadata": {},
   "source": [
    "### Since the updates multiply the gradient and the latent factors, if those are zero the SGD will never be able to move from that point"
   ]
  },
  {
   "cell_type": "markdown",
   "metadata": {},
   "source": [
    "# Train a MF BPR model"
   ]
  },
  {
   "cell_type": "markdown",
   "metadata": {},
   "source": [
    "## The basics are the same, except for how we compute the gradient, we have to sample a triplet"
   ]
  },
  {
   "cell_type": "code",
   "execution_count": 12,
   "metadata": {},
   "outputs": [],
   "source": [
    "URM_mask = URM_train.copy()\n",
    "URM_mask.data[URM_mask.data <= 3] = 0\n",
    "\n",
    "URM_mask.eliminate_zeros()\n",
    "\n",
    "# Extract users having at least one interaction to choose from\n",
    "eligibleUsers = []\n",
    "\n",
    "for user_id in range(n_users):\n",
    "\n",
    "    start_pos = URM_mask.indptr[user_id]\n",
    "    end_pos = URM_mask.indptr[user_id+1]\n",
    "\n",
    "    if len(URM_mask.indices[start_pos:end_pos]) > 0:\n",
    "        eligibleUsers.append(user_id)\n",
    "                \n",
    "                \n",
    "\n",
    "def sampleTriplet():\n",
    "    \n",
    "    # By randomly selecting a user in this way we could end up \n",
    "    # with a user with no interactions\n",
    "    #user_id = np.random.randint(0, n_users)\n",
    "    \n",
    "    user_id = np.random.choice(eligibleUsers)\n",
    "    \n",
    "    # Get user seen items and choose one\n",
    "    userSeenItems = URM_mask[user_id,:].indices\n",
    "    pos_item_id = np.random.choice(userSeenItems)\n",
    "\n",
    "    negItemSelected = False\n",
    "\n",
    "    # It's faster to just try again then to build a mapping of the non-seen items\n",
    "    while (not negItemSelected):\n",
    "        neg_item_id = np.random.randint(0, n_items)\n",
    "\n",
    "        if (neg_item_id not in userSeenItems):\n",
    "            \n",
    "            negItemSelected = True\n",
    "\n",
    "    return user_id, pos_item_id, neg_item_id\n"
   ]
  },
  {
   "cell_type": "code",
   "execution_count": 13,
   "metadata": {},
   "outputs": [
    {
     "name": "stdout",
     "output_type": "stream",
     "text": [
      "(66684, 1393, 45864)\n",
      "(59643, 6502, 2062)\n",
      "(62891, 47, 43248)\n",
      "(37105, 349, 32445)\n",
      "(47279, 3735, 45120)\n",
      "(70494, 2328, 51696)\n",
      "(11491, 780, 35812)\n",
      "(13572, 1320, 42365)\n",
      "(30479, 457, 44214)\n",
      "(40397, 3247, 32260)\n"
     ]
    }
   ],
   "source": [
    "for _ in range(10):\n",
    "    print(sampleTriplet())"
   ]
  },
  {
   "cell_type": "code",
   "execution_count": 14,
   "metadata": {},
   "outputs": [],
   "source": [
    "user_factors = np.random.random((n_users, num_factors))\n",
    "item_factors = np.random.random((n_items, num_factors))"
   ]
  },
  {
   "cell_type": "code",
   "execution_count": 15,
   "metadata": {},
   "outputs": [
    {
     "name": "stdout",
     "output_type": "stream",
     "text": [
      "28598 2268 21308\n"
     ]
    }
   ],
   "source": [
    "user_id, positive_item, negative_item = sampleTriplet()\n",
    "\n",
    "print(user_id, positive_item, negative_item)"
   ]
  },
  {
   "cell_type": "code",
   "execution_count": 16,
   "metadata": {},
   "outputs": [
    {
     "data": {
      "text/plain": [
       "-0.42732239823975204"
      ]
     },
     "execution_count": 16,
     "metadata": {},
     "output_type": "execute_result"
    }
   ],
   "source": [
    "x_uij = np.dot(user_factors[user_id, :], (item_factors[positive_item,:] - item_factors[negative_item,:]))\n",
    "\n",
    "x_uij"
   ]
  },
  {
   "cell_type": "code",
   "execution_count": 17,
   "metadata": {},
   "outputs": [
    {
     "data": {
      "text/plain": [
       "0.6052341009282085"
      ]
     },
     "execution_count": 17,
     "metadata": {},
     "output_type": "execute_result"
    }
   ],
   "source": [
    "sigmoid_item = 1 / (1 + np.exp(x_uij))\n",
    "\n",
    "sigmoid_item"
   ]
  },
  {
   "cell_type": "markdown",
   "metadata": {},
   "source": [
    "### When using BPR we have to update three components, the user factors and the item factors of both the positive and negative item"
   ]
  },
  {
   "cell_type": "code",
   "execution_count": 18,
   "metadata": {},
   "outputs": [],
   "source": [
    "\n",
    "H_i = item_factors[positive_item,:]\n",
    "H_j = item_factors[negative_item,:]\n",
    "W_u = user_factors[user_id,:]\n",
    "\n",
    "\n",
    "user_factors[user_index,:] += learning_rate * (sigmoid_item * ( H_i - H_j ) - regularization * W_u)\n",
    "item_factors[positive_item,:] += learning_rate * (sigmoid_item * ( W_u ) - regularization * H_i)\n",
    "item_factors[negative_item,:] += learning_rate * (sigmoid_item * (-W_u ) - regularization * H_j)\n"
   ]
  },
  {
   "cell_type": "code",
   "execution_count": 19,
   "metadata": {},
   "outputs": [
    {
     "data": {
      "text/plain": [
       "-0.3850862149057356"
      ]
     },
     "execution_count": 19,
     "metadata": {},
     "output_type": "execute_result"
    }
   ],
   "source": [
    "x_uij = np.dot(user_factors[user_id, :], (item_factors[positive_item,:] - item_factors[negative_item,:]))\n",
    "\n",
    "x_uij"
   ]
  },
  {
   "cell_type": "code",
   "execution_count": 20,
   "metadata": {},
   "outputs": [
    {
     "data": {
      "text/plain": [
       "array([2.59440076, 3.1408176 , 2.11425215, ..., 3.2081935 , 2.30431551,\n",
       "       2.43617798])"
      ]
     },
     "execution_count": 20,
     "metadata": {},
     "output_type": "execute_result"
    }
   ],
   "source": [
    "## How to rank items with MF ?\n",
    "\n",
    "## Compute the prediction for all items and rank them\n",
    "\n",
    "item_scores = np.dot(user_factors[user_index,:], item_factors.T)\n",
    "item_scores"
   ]
  },
  {
   "cell_type": "code",
   "execution_count": 21,
   "metadata": {},
   "outputs": [
    {
     "data": {
      "text/plain": [
       "(65134,)"
      ]
     },
     "execution_count": 21,
     "metadata": {},
     "output_type": "execute_result"
    }
   ],
   "source": [
    "item_scores.shape"
   ]
  },
  {
   "cell_type": "markdown",
   "metadata": {},
   "source": [
    "## Early stopping, how to used and when it is needed\n",
    "\n",
    "### Problem, how many epochs? 5, 10, 150, 2487 ?\n",
    "\n",
    "### We could try different values in increasing order: 5, 10, 15, 20, 25...\n",
    "### However, in this way we would train up to a point, test and then discard the model, to re-train it again up to that same point and then some more... not a good idea.\n",
    "\n",
    "### Early stopping! \n",
    "* Train the model up to a certain number of epochs, say 5\n",
    "* Compute the recommendation quality on the validation set\n",
    "* Train for other 5 epochs\n",
    "* Compute the recommendation quality on the validation set AND compare it with the previous one. If better, then we have another best model, if not, go ahead...\n",
    "* Repeat until you have either reached the max number of epoch you want to allow (e.g., 300) or a certain number of contiguous validation seps have not updated te best model\n",
    "\n",
    "### Advantages:\n",
    "* Easy to implement, we already have all that is required, a train function, a predictor function and an evaluator\n",
    "* MUCH faster than retraining everything from the beginning\n",
    "* Often allows to reach even better solutions\n",
    "\n",
    "### Challenges:\n",
    "* The evaluation step may be very slow compared to the time it takes to re-train the model"
   ]
  },
  {
   "cell_type": "markdown",
   "metadata": {},
   "source": [
    "# Train a PureSVD model\n",
    "\n",
    "### As opposed to the previous ones, PureSVD relies on the SVD decomposition of the URM, which is an easily available function"
   ]
  },
  {
   "cell_type": "code",
   "execution_count": 22,
   "metadata": {},
   "outputs": [],
   "source": [
    "from sklearn.utils.extmath import randomized_svd\n",
    "\n",
    "# Other SVDs are also available, like from sklearn.decomposition import TruncatedSVD"
   ]
  },
  {
   "cell_type": "code",
   "execution_count": 23,
   "metadata": {},
   "outputs": [],
   "source": [
    "U, Sigma, VT = randomized_svd(URM_train,\n",
    "              n_components=num_factors,\n",
    "              #n_iter=5,\n",
    "              random_state=None)"
   ]
  },
  {
   "cell_type": "code",
   "execution_count": 24,
   "metadata": {},
   "outputs": [
    {
     "data": {
      "text/plain": [
       "array([[-3.62860248e-21, -2.86908742e-15, -1.70833465e-15, ...,\n",
       "         6.05353976e-15,  8.17980280e-15, -1.27965256e-14],\n",
       "       [ 7.73702654e-04, -3.70932439e-03, -6.30083625e-04, ...,\n",
       "         5.37827209e-04,  3.79869107e-03, -5.85808191e-04],\n",
       "       [ 2.20534047e-04, -1.49250322e-04,  7.76749694e-05, ...,\n",
       "         1.80315491e-03, -1.02520131e-03,  7.04484079e-06],\n",
       "       ...,\n",
       "       [ 3.29725752e-03,  1.28308257e-03,  4.60025465e-03, ...,\n",
       "        -3.67094234e-03, -2.49380474e-03,  1.05406244e-03],\n",
       "       [ 1.58065632e-03, -5.67907694e-03,  1.54425631e-03, ...,\n",
       "         2.75470454e-04,  2.58417748e-03,  2.47037630e-03],\n",
       "       [ 1.28258378e-03, -1.69028440e-03, -1.27537791e-03, ...,\n",
       "         1.56111840e-04, -7.94927193e-04,  6.24569521e-03]])"
      ]
     },
     "execution_count": 24,
     "metadata": {},
     "output_type": "execute_result"
    }
   ],
   "source": [
    "U"
   ]
  },
  {
   "cell_type": "code",
   "execution_count": 25,
   "metadata": {},
   "outputs": [
    {
     "data": {
      "text/plain": [
       "(71568, 10)"
      ]
     },
     "execution_count": 25,
     "metadata": {},
     "output_type": "execute_result"
    }
   ],
   "source": [
    "U.shape"
   ]
  },
  {
   "cell_type": "code",
   "execution_count": 26,
   "metadata": {},
   "outputs": [
    {
     "data": {
      "text/plain": [
       "array([2679.32033857, 1135.51634312,  970.4556902 ,  792.87302934,\n",
       "        758.07221025,  658.67485515,  625.66690723,  599.51880552,\n",
       "        554.71522957,  496.27595451])"
      ]
     },
     "execution_count": 26,
     "metadata": {},
     "output_type": "execute_result"
    }
   ],
   "source": [
    "Sigma"
   ]
  },
  {
   "cell_type": "code",
   "execution_count": 27,
   "metadata": {},
   "outputs": [
    {
     "data": {
      "text/plain": [
       "(10,)"
      ]
     },
     "execution_count": 27,
     "metadata": {},
     "output_type": "execute_result"
    }
   ],
   "source": [
    "Sigma.shape"
   ]
  },
  {
   "cell_type": "code",
   "execution_count": 28,
   "metadata": {},
   "outputs": [
    {
     "data": {
      "text/plain": [
       "array([[ 1.44524003e-23,  8.11106148e-02,  3.46733422e-02, ...,\n",
       "         0.00000000e+00,  0.00000000e+00,  5.31624403e-05],\n",
       "       [ 1.75810964e-16, -4.62293928e-02, -4.78348455e-02, ...,\n",
       "        -0.00000000e+00, -0.00000000e+00,  8.08586300e-05],\n",
       "       [ 7.11726351e-16, -1.42087867e-02, -2.08641748e-02, ...,\n",
       "        -0.00000000e+00, -0.00000000e+00,  6.70975470e-05],\n",
       "       ...,\n",
       "       [-5.45842487e-17,  1.67520428e-01,  3.05554064e-02, ...,\n",
       "         0.00000000e+00,  0.00000000e+00,  1.22372329e-04],\n",
       "       [ 8.52557073e-17,  6.38527730e-02,  2.77012749e-02, ...,\n",
       "         0.00000000e+00,  0.00000000e+00, -2.12571017e-04],\n",
       "       [-1.39226914e-16, -6.78881547e-02, -7.75174561e-03, ...,\n",
       "        -0.00000000e+00, -0.00000000e+00,  6.04441228e-06]])"
      ]
     },
     "execution_count": 28,
     "metadata": {},
     "output_type": "execute_result"
    }
   ],
   "source": [
    "VT"
   ]
  },
  {
   "cell_type": "code",
   "execution_count": 29,
   "metadata": {},
   "outputs": [
    {
     "data": {
      "text/plain": [
       "(10, 65134)"
      ]
     },
     "execution_count": 29,
     "metadata": {},
     "output_type": "execute_result"
    }
   ],
   "source": [
    "VT.shape"
   ]
  },
  {
   "cell_type": "markdown",
   "metadata": {},
   "source": [
    "### Truncating the number of singular values introduces an approximation which allows to fill the missing urm entries\n",
    "\n",
    "### Computing a prediction"
   ]
  },
  {
   "cell_type": "code",
   "execution_count": 30,
   "metadata": {},
   "outputs": [],
   "source": [
    "# Store an intermediate pre-multiplied matrix\n",
    "\n",
    "s_Vt = sps.diags(Sigma)*VT"
   ]
  },
  {
   "cell_type": "code",
   "execution_count": 31,
   "metadata": {},
   "outputs": [
    {
     "name": "stdout",
     "output_type": "stream",
     "text": [
      "Prediction is 0.03\n"
     ]
    }
   ],
   "source": [
    "prediction = U[user_index, :].dot(s_Vt[:,item_index])\n",
    "\n",
    "print(\"Prediction is {:.2f}\".format(prediction))"
   ]
  },
  {
   "cell_type": "code",
   "execution_count": 32,
   "metadata": {},
   "outputs": [
    {
     "data": {
      "text/plain": [
       "array([-6.24023584e-16,  5.68159760e-01,  3.21676239e-01, ...,\n",
       "        0.00000000e+00,  0.00000000e+00,  2.68767896e-04])"
      ]
     },
     "execution_count": 32,
     "metadata": {},
     "output_type": "execute_result"
    }
   ],
   "source": [
    "item_scores = U[user_index, :].dot(s_Vt)\n",
    "item_scores"
   ]
  },
  {
   "cell_type": "code",
   "execution_count": 33,
   "metadata": {},
   "outputs": [
    {
     "data": {
      "text/plain": [
       "(65134,)"
      ]
     },
     "execution_count": 33,
     "metadata": {},
     "output_type": "execute_result"
    }
   ],
   "source": [
    "item_scores.shape"
   ]
  },
  {
   "cell_type": "markdown",
   "metadata": {},
   "source": [
    "# Let's compare the three MF: BPR, FunkSVD and PureSVD"
   ]
  },
  {
   "cell_type": "code",
   "execution_count": 34,
   "metadata": {},
   "outputs": [],
   "source": [
    "from MatrixFactorization.Cython.MatrixFactorization_Cython import MatrixFactorization_BPR_Cython, MatrixFactorization_FunkSVD_Cython\n",
    "from MatrixFactorization.PureSVD import PureSVDRecommender\n",
    "\n",
    "from Base.Evaluation.Evaluator import SequentialEvaluator\n",
    "\n",
    "evaluator_test = SequentialEvaluator(URM_test, cutoff_list=[5])\n",
    "\n",
    "evaluator_validation_early_stopping = SequentialEvaluator(URM_train, cutoff_list=[5], exclude_seen = False)\n"
   ]
  },
  {
   "cell_type": "code",
   "execution_count": 35,
   "metadata": {},
   "outputs": [
    {
     "name": "stdout",
     "output_type": "stream",
     "text": [
      "Processed 71568 ( 100.00% ) in 0.79 seconds. BPR loss 7.70E-02. Sample per second: 90320\n",
      "MF_BPR: Epoch 1 of 300. Elapsed time 0.00 min\n",
      "Processed 71568 ( 100.00% ) in 0.94 seconds. BPR loss 1.89E-01. Sample per second: 76316\n",
      "MF_BPR: Epoch 2 of 300. Elapsed time 0.01 min\n",
      "Processed 71568 ( 100.00% ) in 1.06 seconds. BPR loss 3.46E-01. Sample per second: 67605\n",
      "MF_BPR: Epoch 3 of 300. Elapsed time 0.01 min\n",
      "Processed 71568 ( 100.00% ) in 0.20 seconds. BPR loss 5.28E-01. Sample per second: 362019\n",
      "MF_BPR: Epoch 4 of 300. Elapsed time 0.01 min\n",
      "Processed 71568 ( 100.00% ) in 0.32 seconds. BPR loss 7.27E-01. Sample per second: 226577\n",
      "MF_BPR: Epoch 5 of 300. Elapsed time 0.01 min\n",
      "Processed 71568 ( 100.00% ) in 0.43 seconds. BPR loss 9.35E-01. Sample per second: 166934\n",
      "MF_BPR: Epoch 6 of 300. Elapsed time 0.01 min\n",
      "Processed 71568 ( 100.00% ) in 0.54 seconds. BPR loss 1.13E+00. Sample per second: 131321\n",
      "MF_BPR: Epoch 7 of 300. Elapsed time 0.02 min\n",
      "Processed 71568 ( 100.00% ) in 0.69 seconds. BPR loss 1.32E+00. Sample per second: 103562\n",
      "MF_BPR: Epoch 8 of 300. Elapsed time 0.02 min\n",
      "Processed 71568 ( 100.00% ) in 0.81 seconds. BPR loss 1.57E+00. Sample per second: 88425\n",
      "MF_BPR: Epoch 9 of 300. Elapsed time 0.02 min\n",
      "Processed 71568 ( 100.00% ) in 0.92 seconds. BPR loss 1.78E+00. Sample per second: 77545\n",
      "MF_BPR: Validation begins...\n",
      "SequentialEvaluator: Processed 13001 ( 18.61% ) in 31.76 seconds. Users per second: 409\n",
      "SequentialEvaluator: Processed 26001 ( 37.21% ) in 61.97 seconds. Users per second: 420\n",
      "SequentialEvaluator: Processed 40001 ( 57.24% ) in 92.86 seconds. Users per second: 431\n",
      "SequentialEvaluator: Processed 53696 ( 76.84% ) in 122.86 seconds. Users per second: 437\n",
      "SequentialEvaluator: Processed 67001 ( 95.88% ) in 154.48 seconds. Users per second: 434\n",
      "SequentialEvaluator: Processed 69878 ( 100.00% ) in 159.25 seconds. Users per second: 439\n",
      "MF_BPR: {'ROC_AUC': 0.3225097073947934, 'PRECISION': 0.23430908154216606, 'RECALL': 0.030455711507522288, 'RECALL_TEST_LEN': 0.23430908154216606, 'MAP': 0.15264787677574354, 'MRR': 0.37993550664490555, 'NDCG': 0.06696305686129249, 'F1': 0.05390482404283642, 'HIT_RATE': 1.1715418300466527, 'ARHR': 0.5425152885504871, 'NOVELTY': 0.0006340521692683072, 'DIVERSITY_MEAN_INTER_LIST': 0.08809747061846165, 'DIVERSITY_HERFINDAHL': 0.8176192419771781, 'COVERAGE_ITEM': 9.211778794485215e-05, 'COVERAGE_USER': 0.9763860943438408, 'DIVERSITY_GINI': 0.8759094421706402, 'SHANNON_ENTROPY': 2.5037486921027927}\n",
      "MF_BPR: Epoch 10 of 300. Elapsed time 2.68 min\n",
      "Processed 71568 ( 100.00% ) in 0.39 seconds. BPR loss 1.98E+00. Sample per second: 184975\n",
      "MF_BPR: Epoch 11 of 300. Elapsed time 2.68 min\n",
      "Processed 71568 ( 100.00% ) in 0.53 seconds. BPR loss 2.20E+00. Sample per second: 134767\n",
      "MF_BPR: Epoch 12 of 300. Elapsed time 2.68 min\n",
      "Processed 71568 ( 100.00% ) in 0.65 seconds. BPR loss 2.42E+00. Sample per second: 110366\n",
      "MF_BPR: Epoch 13 of 300. Elapsed time 2.68 min\n",
      "Processed 71568 ( 100.00% ) in 0.76 seconds. BPR loss 2.65E+00. Sample per second: 93663\n",
      "MF_BPR: Epoch 14 of 300. Elapsed time 2.69 min\n",
      "Processed 71568 ( 100.00% ) in 0.89 seconds. BPR loss 2.84E+00. Sample per second: 80458\n",
      "MF_BPR: Epoch 15 of 300. Elapsed time 2.69 min\n",
      "Processed 71568 ( 100.00% ) in 1.01 seconds. BPR loss 3.07E+00. Sample per second: 71207\n",
      "MF_BPR: Epoch 16 of 300. Elapsed time 2.69 min\n",
      "Processed 71568 ( 100.00% ) in 0.14 seconds. BPR loss 3.29E+00. Sample per second: 512812\n",
      "MF_BPR: Epoch 17 of 300. Elapsed time 2.69 min\n",
      "Processed 71568 ( 100.00% ) in 0.28 seconds. BPR loss 3.51E+00. Sample per second: 259827\n",
      "MF_BPR: Epoch 18 of 300. Elapsed time 2.69 min\n",
      "Processed 71568 ( 100.00% ) in 0.43 seconds. BPR loss 3.71E+00. Sample per second: 168106\n",
      "MF_BPR: Epoch 19 of 300. Elapsed time 2.70 min\n",
      "Processed 71568 ( 100.00% ) in 0.60 seconds. BPR loss 4.01E+00. Sample per second: 118923\n",
      "MF_BPR: Validation begins...\n",
      "SequentialEvaluator: Processed 13001 ( 18.61% ) in 31.63 seconds. Users per second: 411\n",
      "SequentialEvaluator: Processed 27001 ( 38.64% ) in 62.75 seconds. Users per second: 430\n",
      "SequentialEvaluator: Processed 41001 ( 58.68% ) in 94.55 seconds. Users per second: 434\n",
      "SequentialEvaluator: Processed 54001 ( 77.28% ) in 125.35 seconds. Users per second: 431\n",
      "SequentialEvaluator: Processed 66091 ( 94.58% ) in 155.35 seconds. Users per second: 425\n",
      "SequentialEvaluator: Processed 69878 ( 100.00% ) in 162.89 seconds. Users per second: 429\n",
      "MF_BPR: {'ROC_AUC': 0.32475171012335996, 'PRECISION': 0.23445290363209212, 'RECALL': 0.030598442394665994, 'RECALL_TEST_LEN': 0.23445290363209212, 'MAP': 0.1534592671036496, 'MRR': 0.38116169132868777, 'NDCG': 0.06679000792712683, 'F1': 0.05413210514557818, 'HIT_RATE': 1.172257362832365, 'ARHR': 0.545019414789553, 'NOVELTY': 0.000634022619976794, 'DIVERSITY_MEAN_INTER_LIST': 0.09299980192817144, 'DIVERSITY_HERFINDAHL': 0.8185996942080049, 'COVERAGE_ITEM': 9.211778794485215e-05, 'COVERAGE_USER': 0.9763860943438408, 'DIVERSITY_GINI': 0.8781541707383889, 'SHANNON_ENTROPY': 2.511705721598766}\n",
      "MF_BPR: Epoch 20 of 300. Elapsed time 5.42 min\n",
      "Processed 71568 ( 100.00% ) in 0.73 seconds. BPR loss 4.18E+00. Sample per second: 98028\n",
      "MF_BPR: Epoch 21 of 300. Elapsed time 5.42 min\n",
      "Processed 71568 ( 100.00% ) in 0.87 seconds. BPR loss 4.43E+00. Sample per second: 82233\n",
      "MF_BPR: Epoch 22 of 300. Elapsed time 5.42 min\n",
      "Processed 71568 ( 100.00% ) in 1.04 seconds. BPR loss 4.63E+00. Sample per second: 69011\n",
      "MF_BPR: Epoch 23 of 300. Elapsed time 5.42 min\n",
      "Processed 71568 ( 100.00% ) in 0.16 seconds. BPR loss 4.80E+00. Sample per second: 446244\n",
      "MF_BPR: Epoch 24 of 300. Elapsed time 5.43 min\n",
      "Processed 71568 ( 100.00% ) in 0.28 seconds. BPR loss 5.09E+00. Sample per second: 251663\n",
      "MF_BPR: Epoch 25 of 300. Elapsed time 5.43 min\n",
      "Processed 71568 ( 100.00% ) in 0.41 seconds. BPR loss 5.30E+00. Sample per second: 176135\n",
      "MF_BPR: Epoch 26 of 300. Elapsed time 5.43 min\n",
      "Processed 71568 ( 100.00% ) in 0.52 seconds. BPR loss 5.48E+00. Sample per second: 136341\n",
      "MF_BPR: Epoch 27 of 300. Elapsed time 5.43 min\n",
      "Processed 71568 ( 100.00% ) in 0.63 seconds. BPR loss 5.70E+00. Sample per second: 112856\n",
      "MF_BPR: Epoch 28 of 300. Elapsed time 5.43 min\n",
      "Processed 71568 ( 100.00% ) in 0.80 seconds. BPR loss 5.88E+00. Sample per second: 89070\n",
      "MF_BPR: Epoch 29 of 300. Elapsed time 5.44 min\n",
      "Processed 71568 ( 100.00% ) in 0.96 seconds. BPR loss 6.17E+00. Sample per second: 74860\n",
      "MF_BPR: Validation begins...\n",
      "SequentialEvaluator: Processed 13001 ( 18.61% ) in 31.75 seconds. Users per second: 409\n",
      "SequentialEvaluator: Processed 26517 ( 37.95% ) in 61.75 seconds. Users per second: 429\n",
      "SequentialEvaluator: Processed 40001 ( 57.24% ) in 93.50 seconds. Users per second: 428\n",
      "SequentialEvaluator: Processed 53001 ( 75.85% ) in 123.63 seconds. Users per second: 429\n",
      "SequentialEvaluator: Processed 67001 ( 95.88% ) in 155.00 seconds. Users per second: 432\n",
      "SequentialEvaluator: Processed 69878 ( 100.00% ) in 159.54 seconds. Users per second: 438\n",
      "MF_BPR: {'ROC_AUC': 0.3262185523340689, 'PRECISION': 0.2342089069521667, 'RECALL': 0.030306377045494475, 'RECALL_TEST_LEN': 0.2342089069521667, 'MAP': 0.1532071610521515, 'MRR': 0.38147509468883034, 'NDCG': 0.06683104422738194, 'F1': 0.05366815356929059, 'HIT_RATE': 1.1710409570966542, 'ARHR': 0.544773748533126, 'NOVELTY': 0.000634022619976794, 'DIVERSITY_MEAN_INTER_LIST': 0.00560349752990898, 'DIVERSITY_HERFINDAHL': 0.801120683468037, 'COVERAGE_ITEM': 9.211778794485215e-05, 'COVERAGE_USER': 0.9763860943438408, 'DIVERSITY_GINI': 0.857954884635671, 'SHANNON_ENTROPY': 2.343440763129874}\n",
      "MF_BPR: Epoch 30 of 300. Elapsed time 8.10 min\n",
      "Processed 71568 ( 100.00% ) in 0.64 seconds. BPR loss 6.32E+00. Sample per second: 111639\n",
      "MF_BPR: Epoch 31 of 300. Elapsed time 8.10 min\n",
      "Processed 71568 ( 100.00% ) in 0.77 seconds. BPR loss 6.47E+00. Sample per second: 93429\n",
      "MF_BPR: Epoch 32 of 300. Elapsed time 8.10 min\n",
      "Processed 71568 ( 100.00% ) in 0.89 seconds. BPR loss 6.76E+00. Sample per second: 80725\n",
      "MF_BPR: Epoch 33 of 300. Elapsed time 8.10 min\n",
      "Processed 71568 ( 100.00% ) in 1.00 seconds. BPR loss 6.94E+00. Sample per second: 71678\n",
      "MF_BPR: Epoch 34 of 300. Elapsed time 8.11 min\n",
      "Processed 71568 ( 100.00% ) in 0.11 seconds. BPR loss 7.15E+00. Sample per second: 651067\n"
     ]
    },
    {
     "name": "stdout",
     "output_type": "stream",
     "text": [
      "MF_BPR: Epoch 35 of 300. Elapsed time 8.11 min\n",
      "Processed 71568 ( 100.00% ) in 0.25 seconds. BPR loss 7.37E+00. Sample per second: 284475\n",
      "MF_BPR: Epoch 36 of 300. Elapsed time 8.11 min\n",
      "Processed 71568 ( 100.00% ) in 0.38 seconds. BPR loss 7.51E+00. Sample per second: 189790\n",
      "MF_BPR: Epoch 37 of 300. Elapsed time 8.11 min\n",
      "Processed 71568 ( 100.00% ) in 0.50 seconds. BPR loss 7.72E+00. Sample per second: 143831\n",
      "MF_BPR: Epoch 38 of 300. Elapsed time 8.11 min\n",
      "Processed 71568 ( 100.00% ) in 0.60 seconds. BPR loss 7.88E+00. Sample per second: 118896\n",
      "MF_BPR: Epoch 39 of 300. Elapsed time 8.12 min\n",
      "Processed 71568 ( 100.00% ) in 0.72 seconds. BPR loss 8.20E+00. Sample per second: 99923\n",
      "MF_BPR: Validation begins...\n",
      "SequentialEvaluator: Processed 13001 ( 18.61% ) in 31.63 seconds. Users per second: 411\n",
      "SequentialEvaluator: Processed 27001 ( 38.64% ) in 62.68 seconds. Users per second: 431\n",
      "SequentialEvaluator: Processed 41001 ( 58.68% ) in 93.62 seconds. Users per second: 438\n",
      "SequentialEvaluator: Processed 55001 ( 78.71% ) in 124.94 seconds. Users per second: 440\n",
      "SequentialEvaluator: Processed 69001 ( 98.74% ) in 155.37 seconds. Users per second: 444\n",
      "SequentialEvaluator: Processed 69878 ( 100.00% ) in 155.76 seconds. Users per second: 449\n",
      "MF_BPR: {'ROC_AUC': 0.326529809095855, 'PRECISION': 0.2341802856407383, 'RECALL': 0.03029791462314629, 'RECALL_TEST_LEN': 0.2341802856407383, 'MAP': 0.15336028506829322, 'MRR': 0.38225120925039935, 'NDCG': 0.0668696471075706, 'F1': 0.05365413326079693, 'HIT_RATE': 1.1708978505395118, 'ARHR': 0.5455274430674096, 'NOVELTY': 0.000634022619976794, 'DIVERSITY_MEAN_INTER_LIST': 0.0, 'DIVERSITY_HERFINDAHL': 0.7999999999999999, 'COVERAGE_ITEM': 7.676482328737679e-05, 'COVERAGE_USER': 0.9763860943438408, 'DIVERSITY_GINI': 1.0, 'SHANNON_ENTROPY': 2.321928094887362}\n",
      "MF_BPR: Epoch 40 of 300. Elapsed time 10.71 min\n",
      "Processed 71568 ( 100.00% ) in 0.61 seconds. BPR loss 8.33E+00. Sample per second: 116601\n",
      "MF_BPR: Epoch 41 of 300. Elapsed time 10.72 min\n",
      "Processed 71568 ( 100.00% ) in 0.71 seconds. BPR loss 8.54E+00. Sample per second: 101273\n",
      "MF_BPR: Epoch 42 of 300. Elapsed time 10.72 min\n",
      "Processed 71568 ( 100.00% ) in 0.81 seconds. BPR loss 8.74E+00. Sample per second: 88728\n",
      "MF_BPR: Epoch 43 of 300. Elapsed time 10.72 min\n",
      "Processed 71568 ( 100.00% ) in 0.90 seconds. BPR loss 8.90E+00. Sample per second: 79359\n",
      "MF_BPR: Epoch 44 of 300. Elapsed time 10.72 min\n",
      "Processed 71568 ( 100.00% ) in 1.03 seconds. BPR loss 9.08E+00. Sample per second: 69710\n",
      "MF_BPR: Epoch 45 of 300. Elapsed time 10.72 min\n",
      "Processed 71568 ( 100.00% ) in 0.13 seconds. BPR loss 9.19E+00. Sample per second: 553219\n",
      "MF_BPR: Epoch 46 of 300. Elapsed time 10.73 min\n",
      "Processed 71568 ( 100.00% ) in 0.23 seconds. BPR loss 9.54E+00. Sample per second: 312882\n",
      "MF_BPR: Epoch 47 of 300. Elapsed time 10.73 min\n",
      "Processed 71568 ( 100.00% ) in 0.32 seconds. BPR loss 9.63E+00. Sample per second: 221089\n",
      "MF_BPR: Epoch 48 of 300. Elapsed time 10.73 min\n",
      "Processed 71568 ( 100.00% ) in 0.45 seconds. BPR loss 9.91E+00. Sample per second: 160376\n",
      "MF_BPR: Epoch 49 of 300. Elapsed time 10.73 min\n",
      "Processed 71568 ( 100.00% ) in 0.55 seconds. BPR loss 1.01E+01. Sample per second: 130302\n",
      "MF_BPR: Validation begins...\n",
      "SequentialEvaluator: Processed 13001 ( 18.61% ) in 30.29 seconds. Users per second: 429\n",
      "SequentialEvaluator: Processed 27001 ( 38.64% ) in 60.89 seconds. Users per second: 443\n",
      "SequentialEvaluator: Processed 41001 ( 58.68% ) in 92.18 seconds. Users per second: 445\n",
      "SequentialEvaluator: Processed 55001 ( 78.71% ) in 122.86 seconds. Users per second: 448\n",
      "SequentialEvaluator: Processed 69001 ( 98.74% ) in 153.31 seconds. Users per second: 450\n",
      "SequentialEvaluator: Processed 69878 ( 100.00% ) in 153.73 seconds. Users per second: 455\n",
      "MF_BPR: {'ROC_AUC': 0.3274743123729959, 'PRECISION': 0.2341802856407383, 'RECALL': 0.03029791462314629, 'RECALL_TEST_LEN': 0.2341802856407383, 'MAP': 0.15384446225329024, 'MRR': 0.3846768653939636, 'NDCG': 0.06713534242999913, 'F1': 0.05365413326079693, 'HIT_RATE': 1.1708978505395118, 'ARHR': 0.5479507141016878, 'NOVELTY': 0.000634022619976794, 'DIVERSITY_MEAN_INTER_LIST': 0.0, 'DIVERSITY_HERFINDAHL': 0.7999999999999999, 'COVERAGE_ITEM': 7.676482328737679e-05, 'COVERAGE_USER': 0.9763860943438408, 'DIVERSITY_GINI': 1.0, 'SHANNON_ENTROPY': 2.321928094887362}\n",
      "MF_BPR: Epoch 50 of 300. Elapsed time 13.30 min\n",
      "Processed 71568 ( 100.00% ) in 0.54 seconds. BPR loss 1.01E+01. Sample per second: 131956\n",
      "MF_BPR: Epoch 51 of 300. Elapsed time 13.30 min\n",
      "Processed 71568 ( 100.00% ) in 0.64 seconds. BPR loss 1.03E+01. Sample per second: 111010\n",
      "MF_BPR: Epoch 52 of 300. Elapsed time 13.30 min\n",
      "Processed 71568 ( 100.00% ) in 0.74 seconds. BPR loss 1.05E+01. Sample per second: 96378\n",
      "MF_BPR: Epoch 53 of 300. Elapsed time 13.30 min\n",
      "Processed 71568 ( 100.00% ) in 0.85 seconds. BPR loss 1.07E+01. Sample per second: 84227\n",
      "MF_BPR: Epoch 54 of 300. Elapsed time 13.30 min\n",
      "Processed 71568 ( 100.00% ) in 0.95 seconds. BPR loss 1.08E+01. Sample per second: 75342\n",
      "MF_BPR: Epoch 55 of 300. Elapsed time 13.31 min\n",
      "Processed 71568 ( 100.00% ) in 1.06 seconds. BPR loss 1.11E+01. Sample per second: 67819\n",
      "MF_BPR: Epoch 56 of 300. Elapsed time 13.31 min\n",
      "Processed 71568 ( 100.00% ) in 0.15 seconds. BPR loss 1.12E+01. Sample per second: 466415\n",
      "MF_BPR: Epoch 57 of 300. Elapsed time 13.31 min\n",
      "Processed 71568 ( 100.00% ) in 0.27 seconds. BPR loss 1.13E+01. Sample per second: 269656\n",
      "MF_BPR: Epoch 58 of 300. Elapsed time 13.31 min\n",
      "Processed 71568 ( 100.00% ) in 0.36 seconds. BPR loss 1.15E+01. Sample per second: 198442\n",
      "MF_BPR: Epoch 59 of 300. Elapsed time 13.31 min\n",
      "Processed 71568 ( 100.00% ) in 0.47 seconds. BPR loss 1.16E+01. Sample per second: 151698\n",
      "MF_BPR: Validation begins...\n",
      "SequentialEvaluator: Processed 13001 ( 18.61% ) in 30.72 seconds. Users per second: 423\n",
      "SequentialEvaluator: Processed 27001 ( 38.64% ) in 61.61 seconds. Users per second: 438\n",
      "SequentialEvaluator: Processed 41001 ( 58.68% ) in 92.32 seconds. Users per second: 444\n",
      "SequentialEvaluator: Processed 55001 ( 78.71% ) in 123.42 seconds. Users per second: 446\n",
      "SequentialEvaluator: Processed 69001 ( 98.74% ) in 153.60 seconds. Users per second: 449\n",
      "SequentialEvaluator: Processed 69878 ( 100.00% ) in 154.04 seconds. Users per second: 454\n",
      "MF_BPR: {'ROC_AUC': 0.3277676808151382, 'PRECISION': 0.2341802856407383, 'RECALL': 0.03029791462314629, 'RECALL_TEST_LEN': 0.2341802856407383, 'MAP': 0.1539718270891467, 'MRR': 0.38531368957324735, 'NDCG': 0.06719648268970616, 'F1': 0.05365413326079693, 'HIT_RATE': 1.1708978505395118, 'ARHR': 0.5485875382809718, 'NOVELTY': 0.000634022619976794, 'DIVERSITY_MEAN_INTER_LIST': 0.0, 'DIVERSITY_HERFINDAHL': 0.7999999999999999, 'COVERAGE_ITEM': 7.676482328737679e-05, 'COVERAGE_USER': 0.9763860943438408, 'DIVERSITY_GINI': 1.0, 'SHANNON_ENTROPY': 2.321928094887362}\n",
      "MF_BPR: Epoch 60 of 300. Elapsed time 15.88 min\n",
      "Processed 71568 ( 100.00% ) in 0.68 seconds. BPR loss 1.18E+01. Sample per second: 104900\n",
      "MF_BPR: Epoch 61 of 300. Elapsed time 15.88 min\n",
      "Processed 71568 ( 100.00% ) in 0.81 seconds. BPR loss 1.19E+01. Sample per second: 88170\n",
      "MF_BPR: Epoch 62 of 300. Elapsed time 15.89 min\n",
      "Processed 71568 ( 100.00% ) in 0.94 seconds. BPR loss 1.21E+01. Sample per second: 76036\n",
      "MF_BPR: Epoch 63 of 300. Elapsed time 15.89 min\n",
      "Processed 71568 ( 100.00% ) in 1.05 seconds. BPR loss 1.23E+01. Sample per second: 68146\n",
      "MF_BPR: Epoch 64 of 300. Elapsed time 15.89 min\n",
      "Processed 71568 ( 100.00% ) in 0.18 seconds. BPR loss 1.24E+01. Sample per second: 392961\n",
      "MF_BPR: Epoch 65 of 300. Elapsed time 15.89 min\n",
      "Processed 71568 ( 100.00% ) in 0.29 seconds. BPR loss 1.26E+01. Sample per second: 243865\n",
      "MF_BPR: Epoch 66 of 300. Elapsed time 15.89 min\n",
      "Processed 71568 ( 100.00% ) in 0.40 seconds. BPR loss 1.29E+01. Sample per second: 180595\n",
      "MF_BPR: Epoch 67 of 300. Elapsed time 15.90 min\n",
      "Processed 71568 ( 100.00% ) in 0.50 seconds. BPR loss 1.29E+01. Sample per second: 144081\n",
      "MF_BPR: Epoch 68 of 300. Elapsed time 15.90 min\n",
      "Processed 71568 ( 100.00% ) in 0.60 seconds. BPR loss 1.31E+01. Sample per second: 119877\n",
      "MF_BPR: Epoch 69 of 300. Elapsed time 15.90 min\n",
      "Processed 71568 ( 100.00% ) in 0.69 seconds. BPR loss 1.32E+01. Sample per second: 103208\n",
      "MF_BPR: Validation begins...\n"
     ]
    },
    {
     "name": "stdout",
     "output_type": "stream",
     "text": [
      "SequentialEvaluator: Processed 13391 ( 19.16% ) in 30.00 seconds. Users per second: 446\n",
      "SequentialEvaluator: Processed 27001 ( 38.64% ) in 60.12 seconds. Users per second: 449\n",
      "SequentialEvaluator: Processed 41001 ( 58.68% ) in 90.20 seconds. Users per second: 455\n",
      "SequentialEvaluator: Processed 55001 ( 78.71% ) in 120.31 seconds. Users per second: 457\n",
      "SequentialEvaluator: Processed 69001 ( 98.74% ) in 150.71 seconds. Users per second: 458\n",
      "SequentialEvaluator: Processed 69878 ( 100.00% ) in 151.10 seconds. Users per second: 462\n",
      "MF_BPR: {'ROC_AUC': 0.32820296325977943, 'PRECISION': 0.2341802856407383, 'RECALL': 0.03029791462314629, 'RECALL_TEST_LEN': 0.2341802856407383, 'MAP': 0.15422941889200245, 'MRR': 0.3866016485875291, 'NDCG': 0.06731249751130026, 'F1': 0.05365413326079693, 'HIT_RATE': 1.1708978505395118, 'ARHR': 0.5498754972952541, 'NOVELTY': 0.000634022619976794, 'DIVERSITY_MEAN_INTER_LIST': 0.0, 'DIVERSITY_HERFINDAHL': 0.7999999999999999, 'COVERAGE_ITEM': 7.676482328737679e-05, 'COVERAGE_USER': 0.9763860943438408, 'DIVERSITY_GINI': 1.0, 'SHANNON_ENTROPY': 2.321928094887362}\n",
      "MF_BPR: Epoch 70 of 300. Elapsed time 18.42 min\n",
      "Processed 71568 ( 100.00% ) in 0.95 seconds. BPR loss 1.33E+01. Sample per second: 75024\n",
      "MF_BPR: Epoch 71 of 300. Elapsed time 18.42 min\n",
      "Processed 71568 ( 100.00% ) in 1.08 seconds. BPR loss 1.35E+01. Sample per second: 66121\n",
      "MF_BPR: Epoch 72 of 300. Elapsed time 18.42 min\n",
      "Processed 71568 ( 100.00% ) in 0.19 seconds. BPR loss 1.36E+01. Sample per second: 367049\n",
      "MF_BPR: Epoch 73 of 300. Elapsed time 18.43 min\n",
      "Processed 71568 ( 100.00% ) in 0.31 seconds. BPR loss 1.38E+01. Sample per second: 228604\n",
      "MF_BPR: Epoch 74 of 300. Elapsed time 18.43 min\n",
      "Processed 71568 ( 100.00% ) in 0.42 seconds. BPR loss 1.41E+01. Sample per second: 170245\n",
      "MF_BPR: Epoch 75 of 300. Elapsed time 18.43 min\n",
      "Processed 71568 ( 100.00% ) in 0.55 seconds. BPR loss 1.40E+01. Sample per second: 131238\n",
      "MF_BPR: Epoch 76 of 300. Elapsed time 18.43 min\n",
      "Processed 71568 ( 100.00% ) in 0.65 seconds. BPR loss 1.42E+01. Sample per second: 110520\n",
      "MF_BPR: Epoch 77 of 300. Elapsed time 18.43 min\n",
      "Processed 71568 ( 100.00% ) in 0.75 seconds. BPR loss 1.44E+01. Sample per second: 95490\n",
      "MF_BPR: Epoch 78 of 300. Elapsed time 18.44 min\n",
      "Processed 71568 ( 100.00% ) in 0.86 seconds. BPR loss 1.45E+01. Sample per second: 82977\n",
      "MF_BPR: Epoch 79 of 300. Elapsed time 18.44 min\n",
      "Processed 71568 ( 100.00% ) in 0.96 seconds. BPR loss 1.46E+01. Sample per second: 74241\n",
      "MF_BPR: Validation begins...\n",
      "SequentialEvaluator: Processed 13939 ( 19.95% ) in 30.00 seconds. Users per second: 465\n",
      "SequentialEvaluator: Processed 27971 ( 40.03% ) in 60.00 seconds. Users per second: 466\n",
      "SequentialEvaluator: Processed 41001 ( 58.68% ) in 90.63 seconds. Users per second: 452\n",
      "SequentialEvaluator: Processed 55001 ( 78.71% ) in 120.92 seconds. Users per second: 455\n",
      "SequentialEvaluator: Processed 69001 ( 98.74% ) in 151.20 seconds. Users per second: 456\n",
      "SequentialEvaluator: Processed 69878 ( 100.00% ) in 151.57 seconds. Users per second: 461\n",
      "MF_BPR: {'ROC_AUC': 0.3282816718662072, 'PRECISION': 0.2341802856407383, 'RECALL': 0.03029791462314629, 'RECALL_TEST_LEN': 0.2341802856407383, 'MAP': 0.1542780751214313, 'MRR': 0.38684492973467116, 'NDCG': 0.06735098397760483, 'F1': 0.05365413326079693, 'HIT_RATE': 1.1708978505395118, 'ARHR': 0.5501187784423962, 'NOVELTY': 0.000634022619976794, 'DIVERSITY_MEAN_INTER_LIST': 5.724262285736993e-06, 'DIVERSITY_HERFINDAHL': 0.8000011448360735, 'COVERAGE_ITEM': 9.211778794485215e-05, 'COVERAGE_USER': 0.9763860943438408, 'DIVERSITY_GINI': 0.8571436748946122, 'SHANNON_ENTROPY': 2.321978283030739}\n",
      "MF_BPR: Epoch 80 of 300. Elapsed time 20.97 min\n",
      "Processed 71568 ( 100.00% ) in 0.70 seconds. BPR loss 1.48E+01. Sample per second: 102452\n",
      "MF_BPR: Epoch 81 of 300. Elapsed time 20.97 min\n",
      "Processed 71568 ( 100.00% ) in 0.81 seconds. BPR loss 1.49E+01. Sample per second: 88182\n",
      "MF_BPR: Epoch 82 of 300. Elapsed time 20.97 min\n",
      "Processed 71568 ( 100.00% ) in 0.92 seconds. BPR loss 1.51E+01. Sample per second: 78185\n",
      "MF_BPR: Epoch 83 of 300. Elapsed time 20.97 min\n",
      "Processed 71568 ( 100.00% ) in 1.03 seconds. BPR loss 1.52E+01. Sample per second: 69709\n",
      "MF_BPR: Epoch 84 of 300. Elapsed time 20.97 min\n",
      "Processed 71568 ( 100.00% ) in 0.13 seconds. BPR loss 1.53E+01. Sample per second: 566729\n",
      "MF_BPR: Epoch 85 of 300. Elapsed time 20.98 min\n",
      "Processed 71568 ( 100.00% ) in 0.22 seconds. BPR loss 1.54E+01. Sample per second: 319734\n",
      "MF_BPR: Epoch 86 of 300. Elapsed time 20.98 min\n",
      "Processed 71568 ( 100.00% ) in 0.33 seconds. BPR loss 1.55E+01. Sample per second: 216677\n",
      "MF_BPR: Epoch 87 of 300. Elapsed time 20.98 min\n",
      "Processed 71568 ( 100.00% ) in 0.45 seconds. BPR loss 1.57E+01. Sample per second: 158833\n",
      "MF_BPR: Epoch 88 of 300. Elapsed time 20.98 min\n",
      "Processed 71568 ( 100.00% ) in 0.55 seconds. BPR loss 1.59E+01. Sample per second: 130323\n",
      "MF_BPR: Epoch 89 of 300. Elapsed time 20.98 min\n",
      "Processed 71568 ( 100.00% ) in 0.65 seconds. BPR loss 1.59E+01. Sample per second: 110680\n",
      "MF_BPR: Validation begins...\n",
      "SequentialEvaluator: Processed 13001 ( 18.61% ) in 30.18 seconds. Users per second: 431\n",
      "SequentialEvaluator: Processed 27001 ( 38.64% ) in 61.12 seconds. Users per second: 442\n",
      "SequentialEvaluator: Processed 41001 ( 58.68% ) in 91.79 seconds. Users per second: 447\n",
      "SequentialEvaluator: Processed 55001 ( 78.71% ) in 122.63 seconds. Users per second: 449\n",
      "SequentialEvaluator: Processed 69001 ( 98.74% ) in 153.79 seconds. Users per second: 449\n",
      "SequentialEvaluator: Processed 69878 ( 100.00% ) in 154.14 seconds. Users per second: 453\n",
      "MF_BPR: {'ROC_AUC': 0.3277664882604952, 'PRECISION': 0.2341802856407383, 'RECALL': 0.03029791462314629, 'RECALL_TEST_LEN': 0.2341802856407383, 'MAP': 0.15398327561371827, 'MRR': 0.38537093219610435, 'NDCG': 0.06719598333642562, 'F1': 0.05365413326079693, 'HIT_RATE': 1.1708978505395118, 'ARHR': 0.548644780903829, 'NOVELTY': 0.000634022619976794, 'DIVERSITY_MEAN_INTER_LIST': 0.0, 'DIVERSITY_HERFINDAHL': 0.7999999999999999, 'COVERAGE_ITEM': 7.676482328737679e-05, 'COVERAGE_USER': 0.9763860943438408, 'DIVERSITY_GINI': 1.0, 'SHANNON_ENTROPY': 2.321928094887362}\n",
      "MF_BPR: Epoch 90 of 300. Elapsed time 23.55 min\n",
      "Processed 71568 ( 100.00% ) in 0.91 seconds. BPR loss 1.62E+01. Sample per second: 78282\n",
      "MF_BPR: Epoch 91 of 300. Elapsed time 23.55 min\n",
      "Processed 71568 ( 100.00% ) in 1.01 seconds. BPR loss 1.61E+01. Sample per second: 70813\n",
      "MF_BPR: Epoch 92 of 300. Elapsed time 23.56 min\n",
      "Processed 71568 ( 100.00% ) in 0.11 seconds. BPR loss 1.63E+01. Sample per second: 629149\n",
      "MF_BPR: Epoch 93 of 300. Elapsed time 23.56 min\n",
      "Processed 71568 ( 100.00% ) in 0.21 seconds. BPR loss 1.65E+01. Sample per second: 336640\n",
      "MF_BPR: Epoch 94 of 300. Elapsed time 23.56 min\n",
      "Processed 71568 ( 100.00% ) in 0.31 seconds. BPR loss 1.65E+01. Sample per second: 228597\n",
      "MF_BPR: Epoch 95 of 300. Elapsed time 23.56 min\n",
      "Processed 71568 ( 100.00% ) in 0.42 seconds. BPR loss 1.67E+01. Sample per second: 171924\n",
      "MF_BPR: Epoch 96 of 300. Elapsed time 23.56 min\n",
      "Processed 71568 ( 100.00% ) in 0.52 seconds. BPR loss 1.68E+01. Sample per second: 138339\n",
      "MF_BPR: Epoch 97 of 300. Elapsed time 23.56 min\n",
      "Processed 71568 ( 100.00% ) in 0.62 seconds. BPR loss 1.69E+01. Sample per second: 115219\n",
      "MF_BPR: Epoch 98 of 300. Elapsed time 23.57 min\n",
      "Processed 71568 ( 100.00% ) in 0.75 seconds. BPR loss 1.71E+01. Sample per second: 95983\n",
      "MF_BPR: Epoch 99 of 300. Elapsed time 23.57 min\n",
      "Processed 71568 ( 100.00% ) in 0.87 seconds. BPR loss 1.71E+01. Sample per second: 81849\n",
      "MF_BPR: Validation begins...\n",
      "SequentialEvaluator: Processed 13001 ( 18.61% ) in 30.73 seconds. Users per second: 423\n",
      "SequentialEvaluator: Processed 27001 ( 38.64% ) in 62.42 seconds. Users per second: 433\n",
      "SequentialEvaluator: Processed 40001 ( 57.24% ) in 92.62 seconds. Users per second: 432\n",
      "SequentialEvaluator: Processed 52001 ( 74.42% ) in 123.12 seconds. Users per second: 422\n",
      "SequentialEvaluator: Processed 63001 ( 90.16% ) in 153.77 seconds. Users per second: 410\n",
      "SequentialEvaluator: Processed 69878 ( 100.00% ) in 168.33 seconds. Users per second: 415\n",
      "MF_BPR: {'ROC_AUC': 0.327686587099424, 'PRECISION': 0.2341802856407383, 'RECALL': 0.03029791462314629, 'RECALL_TEST_LEN': 0.2341802856407383, 'MAP': 0.15394177471214682, 'MRR': 0.3851634276882478, 'NDCG': 0.06717806436437268, 'F1': 0.05365413326079693, 'HIT_RATE': 1.1708978505395118, 'ARHR': 0.5484372763959724, 'NOVELTY': 0.000634022619976794, 'DIVERSITY_MEAN_INTER_LIST': 0.0, 'DIVERSITY_HERFINDAHL': 0.7999999999999999, 'COVERAGE_ITEM': 7.676482328737679e-05, 'COVERAGE_USER': 0.9763860943438408, 'DIVERSITY_GINI': 1.0, 'SHANNON_ENTROPY': 2.321928094887362}\n",
      "MF_BPR: Epoch 100 of 300. Elapsed time 26.38 min\n",
      "Processed 71568 ( 100.00% ) in 0.37 seconds. BPR loss 1.74E+01. Sample per second: 194907\n"
     ]
    },
    {
     "name": "stdout",
     "output_type": "stream",
     "text": [
      "MF_BPR: Epoch 101 of 300. Elapsed time 26.38 min\n",
      "Processed 71568 ( 100.00% ) in 0.49 seconds. BPR loss 1.74E+01. Sample per second: 147198\n",
      "MF_BPR: Epoch 102 of 300. Elapsed time 26.38 min\n",
      "Processed 71568 ( 100.00% ) in 0.60 seconds. BPR loss 1.76E+01. Sample per second: 119963\n",
      "MF_BPR: Epoch 103 of 300. Elapsed time 26.38 min\n",
      "Processed 71568 ( 100.00% ) in 0.71 seconds. BPR loss 1.76E+01. Sample per second: 101374\n",
      "MF_BPR: Epoch 104 of 300. Elapsed time 26.38 min\n",
      "Processed 71568 ( 100.00% ) in 0.83 seconds. BPR loss 1.76E+01. Sample per second: 86446\n",
      "MF_BPR: Epoch 105 of 300. Elapsed time 26.39 min\n",
      "Processed 71568 ( 100.00% ) in 0.94 seconds. BPR loss 1.79E+01. Sample per second: 75961\n",
      "MF_BPR: Epoch 106 of 300. Elapsed time 26.39 min\n",
      "Processed 71568 ( 100.00% ) in 1.09 seconds. BPR loss 1.81E+01. Sample per second: 65411\n",
      "MF_BPR: Epoch 107 of 300. Elapsed time 26.39 min\n",
      "Processed 71568 ( 100.00% ) in 0.20 seconds. BPR loss 1.81E+01. Sample per second: 363168\n",
      "MF_BPR: Epoch 108 of 300. Elapsed time 26.39 min\n",
      "Processed 71568 ( 100.00% ) in 0.31 seconds. BPR loss 1.82E+01. Sample per second: 231110\n",
      "MF_BPR: Epoch 109 of 300. Elapsed time 26.39 min\n",
      "Processed 71568 ( 100.00% ) in 0.42 seconds. BPR loss 1.83E+01. Sample per second: 170476\n",
      "MF_BPR: Validation begins...\n",
      "SequentialEvaluator: Processed 12001 ( 17.17% ) in 30.64 seconds. Users per second: 392\n",
      "SequentialEvaluator: Processed 25960 ( 37.15% ) in 60.65 seconds. Users per second: 428\n",
      "SequentialEvaluator: Processed 38001 ( 54.38% ) in 91.41 seconds. Users per second: 416\n",
      "SequentialEvaluator: Processed 51001 ( 72.99% ) in 121.62 seconds. Users per second: 419\n",
      "SequentialEvaluator: Processed 64001 ( 91.59% ) in 151.65 seconds. Users per second: 422\n",
      "SequentialEvaluator: Processed 69878 ( 100.00% ) in 162.90 seconds. Users per second: 429\n",
      "MF_BPR: {'ROC_AUC': 0.326211397006212, 'PRECISION': 0.2341802856407383, 'RECALL': 0.03029791462314629, 'RECALL_TEST_LEN': 0.2341802856407383, 'MAP': 0.15318903422158012, 'MRR': 0.3813997252354019, 'NDCG': 0.06682164489759311, 'F1': 0.05365413326079693, 'HIT_RATE': 1.1708978505395118, 'ARHR': 0.5446735739431263, 'NOVELTY': 0.000634022619976794, 'DIVERSITY_MEAN_INTER_LIST': 0.0, 'DIVERSITY_HERFINDAHL': 0.7999999999999999, 'COVERAGE_ITEM': 7.676482328737679e-05, 'COVERAGE_USER': 0.9763860943438408, 'DIVERSITY_GINI': 1.0, 'SHANNON_ENTROPY': 2.321928094887362}\n",
      "MF_BPR: Epoch 110 of 300. Elapsed time 29.11 min\n",
      "Processed 71568 ( 100.00% ) in 0.47 seconds. BPR loss 1.84E+01. Sample per second: 153465\n",
      "MF_BPR: Epoch 111 of 300. Elapsed time 29.11 min\n",
      "Processed 71568 ( 100.00% ) in 0.59 seconds. BPR loss 1.85E+01. Sample per second: 121591\n",
      "MF_BPR: Epoch 112 of 300. Elapsed time 29.12 min\n",
      "Processed 71568 ( 100.00% ) in 0.70 seconds. BPR loss 1.87E+01. Sample per second: 102648\n",
      "MF_BPR: Epoch 113 of 300. Elapsed time 29.12 min\n",
      "Processed 71568 ( 100.00% ) in 0.81 seconds. BPR loss 1.88E+01. Sample per second: 88824\n",
      "MF_BPR: Epoch 114 of 300. Elapsed time 29.12 min\n",
      "Processed 71568 ( 100.00% ) in 0.91 seconds. BPR loss 1.88E+01. Sample per second: 78621\n",
      "MF_BPR: Epoch 115 of 300. Elapsed time 29.12 min\n",
      "Processed 71568 ( 100.00% ) in 1.03 seconds. BPR loss 1.91E+01. Sample per second: 69647\n",
      "MF_BPR: Epoch 116 of 300. Elapsed time 29.12 min\n",
      "Processed 71568 ( 100.00% ) in 0.15 seconds. BPR loss 1.90E+01. Sample per second: 468930\n",
      "MF_BPR: Epoch 117 of 300. Elapsed time 29.13 min\n",
      "Processed 71568 ( 100.00% ) in 0.26 seconds. BPR loss 1.91E+01. Sample per second: 272378\n",
      "MF_BPR: Epoch 118 of 300. Elapsed time 29.13 min\n",
      "Processed 71568 ( 100.00% ) in 0.37 seconds. BPR loss 1.93E+01. Sample per second: 193824\n",
      "MF_BPR: Epoch 119 of 300. Elapsed time 29.13 min\n",
      "Processed 71568 ( 100.00% ) in 0.48 seconds. BPR loss 1.94E+01. Sample per second: 149051\n",
      "MF_BPR: Validation begins...\n",
      "SequentialEvaluator: Processed 12260 ( 17.54% ) in 30.00 seconds. Users per second: 409\n",
      "SequentialEvaluator: Processed 25001 ( 35.78% ) in 60.61 seconds. Users per second: 413\n",
      "SequentialEvaluator: Processed 38001 ( 54.38% ) in 91.83 seconds. Users per second: 414\n",
      "SequentialEvaluator: Processed 51001 ( 72.99% ) in 122.83 seconds. Users per second: 415\n",
      "SequentialEvaluator: Processed 64001 ( 91.59% ) in 153.22 seconds. Users per second: 418\n",
      "SequentialEvaluator: Processed 69878 ( 100.00% ) in 165.08 seconds. Users per second: 423\n",
      "MF_BPR: {'ROC_AUC': 0.3262746024022829, 'PRECISION': 0.2341802856407383, 'RECALL': 0.03029791462314629, 'RECALL_TEST_LEN': 0.2341802856407383, 'MAP': 0.15321193127072283, 'MRR': 0.381514210481116, 'NDCG': 0.06683400181238078, 'F1': 0.05365413326079693, 'HIT_RATE': 1.1708978505395118, 'ARHR': 0.5447880591888403, 'NOVELTY': 0.000634022619976794, 'DIVERSITY_MEAN_INTER_LIST': 0.0, 'DIVERSITY_HERFINDAHL': 0.7999999999999999, 'COVERAGE_ITEM': 7.676482328737679e-05, 'COVERAGE_USER': 0.9763860943438408, 'DIVERSITY_GINI': 1.0, 'SHANNON_ENTROPY': 2.321928094887362}\n",
      "MF_BPR: Epoch 120 of 300. Elapsed time 31.88 min\n",
      "Processed 71568 ( 100.00% ) in 0.72 seconds. BPR loss 1.95E+01. Sample per second: 99753\n",
      "MF_BPR: Epoch 121 of 300. Elapsed time 31.88 min\n",
      "Processed 71568 ( 100.00% ) in 0.83 seconds. BPR loss 1.96E+01. Sample per second: 86519\n",
      "MF_BPR: Epoch 122 of 300. Elapsed time 31.89 min\n",
      "Processed 71568 ( 100.00% ) in 0.93 seconds. BPR loss 1.96E+01. Sample per second: 76680\n",
      "MF_BPR: Epoch 123 of 300. Elapsed time 31.89 min\n",
      "Processed 71568 ( 100.00% ) in 1.04 seconds. BPR loss 1.96E+01. Sample per second: 68536\n",
      "MF_BPR: Epoch 124 of 300. Elapsed time 31.89 min\n",
      "Processed 71568 ( 100.00% ) in 0.16 seconds. BPR loss 1.99E+01. Sample per second: 456729\n",
      "MF_BPR: Epoch 125 of 300. Elapsed time 31.89 min\n",
      "Processed 71568 ( 100.00% ) in 0.25 seconds. BPR loss 1.99E+01. Sample per second: 280780\n",
      "MF_BPR: Epoch 126 of 300. Elapsed time 31.89 min\n",
      "Processed 71568 ( 100.00% ) in 0.36 seconds. BPR loss 2.00E+01. Sample per second: 200354\n",
      "MF_BPR: Epoch 127 of 300. Elapsed time 31.90 min\n",
      "Processed 71568 ( 100.00% ) in 0.47 seconds. BPR loss 2.02E+01. Sample per second: 150934\n",
      "MF_BPR: Epoch 128 of 300. Elapsed time 31.90 min\n",
      "Processed 71568 ( 100.00% ) in 0.61 seconds. BPR loss 2.03E+01. Sample per second: 117288\n",
      "MF_BPR: Epoch 129 of 300. Elapsed time 31.90 min\n",
      "Processed 71568 ( 100.00% ) in 0.75 seconds. BPR loss 2.03E+01. Sample per second: 95508\n",
      "MF_BPR: Validation begins...\n",
      "SequentialEvaluator: Processed 12001 ( 17.17% ) in 30.10 seconds. Users per second: 399\n",
      "SequentialEvaluator: Processed 25001 ( 35.78% ) in 60.24 seconds. Users per second: 415\n",
      "SequentialEvaluator: Processed 38001 ( 54.38% ) in 91.76 seconds. Users per second: 414\n",
      "SequentialEvaluator: Processed 51001 ( 72.99% ) in 121.91 seconds. Users per second: 418\n",
      "SequentialEvaluator: Processed 64001 ( 91.59% ) in 153.00 seconds. Users per second: 418\n",
      "SequentialEvaluator: Processed 69878 ( 100.00% ) in 164.79 seconds. Users per second: 424\n",
      "MF_BPR: {'ROC_AUC': 0.32627102473835434, 'PRECISION': 0.23418887203416688, 'RECALL': 0.030295284846779173, 'RECALL_TEST_LEN': 0.23418887203416688, 'MAP': 0.1532139347625229, 'MRR': 0.38152709007125885, 'NDCG': 0.0668290632483288, 'F1': 0.0536502350075709, 'HIT_RATE': 1.1709407825066545, 'ARHR': 0.544803800910126, 'NOVELTY': 0.000634022619976794, 'DIVERSITY_MEAN_INTER_LIST': 0.0006458048699124737, 'DIVERSITY_HERFINDAHL': 0.8001291591256042, 'COVERAGE_ITEM': 9.211778794485215e-05, 'COVERAGE_USER': 0.9763860943438408, 'DIVERSITY_GINI': 0.8572352630911833, 'SHANNON_ENTROPY': 2.325393193088928}\n",
      "MF_BPR: Convergence reached! Terminating at epoch 130. Best value for 'MAP' at epoch 80 is 0.1543. Elapsed time 34.65 min\n",
      "MF_BPR: Epoch 130 of 300. Elapsed time 34.65 min\n",
      "SequentialEvaluator: Processed 12001 ( 17.17% ) in 31.30 seconds. Users per second: 383\n",
      "SequentialEvaluator: Processed 25001 ( 35.78% ) in 61.93 seconds. Users per second: 404\n",
      "SequentialEvaluator: Processed 38490 ( 55.08% ) in 91.93 seconds. Users per second: 419\n",
      "SequentialEvaluator: Processed 51001 ( 72.99% ) in 122.34 seconds. Users per second: 417\n",
      "SequentialEvaluator: Processed 64001 ( 91.59% ) in 153.36 seconds. Users per second: 417\n",
      "SequentialEvaluator: Processed 69878 ( 100.00% ) in 165.38 seconds. Users per second: 423\n"
     ]
    }
   ],
   "source": [
    "recommender = MatrixFactorization_BPR_Cython(URM_train)\n",
    "recommender.fit(num_factors = 50, \n",
    "                validation_every_n = 10, \n",
    "                stop_on_validation = True, \n",
    "                evaluator_object = evaluator_validation_early_stopping,\n",
    "                lower_validatons_allowed = 5, \n",
    "                validation_metric = \"MAP\")\n",
    "\n",
    "result_dict, _ = evaluator_test.evaluateRecommender(recommender)"
   ]
  },
  {
   "cell_type": "code",
   "execution_count": 36,
   "metadata": {},
   "outputs": [
    {
     "data": {
      "text/plain": [
       "{5: {'ROC_AUC': 0.41810965778451625,\n",
       "  'PRECISION': 0.33416192029923675,\n",
       "  'RECALL': 0.04044970532023318,\n",
       "  'RECALL_TEST_LEN': 0.33416192029923675,\n",
       "  'MAP': 0.2668385853439912,\n",
       "  'MRR': 0.49559828081321394,\n",
       "  'NDCG': 0.09251542186105109,\n",
       "  'F1': 0.07216407757231579,\n",
       "  'HIT_RATE': 1.6707833652937978,\n",
       "  'ARHR': 0.8151852752892721,\n",
       "  'NOVELTY': 0.0006381631695154302,\n",
       "  'DIVERSITY_MEAN_INTER_LIST': 0.3464988925806891,\n",
       "  'DIVERSITY_HERFINDAHL': 0.8692987867908664,\n",
       "  'COVERAGE_ITEM': 0.00035311818712193327,\n",
       "  'COVERAGE_USER': 0.9763860943438408,\n",
       "  'DIVERSITY_GINI': 0.3354024156386845,\n",
       "  'SHANNON_ENTROPY': 3.124327469803162}}"
      ]
     },
     "execution_count": 36,
     "metadata": {},
     "output_type": "execute_result"
    }
   ],
   "source": [
    "result_dict"
   ]
  },
  {
   "cell_type": "code",
   "execution_count": 37,
   "metadata": {},
   "outputs": [
    {
     "name": "stdout",
     "output_type": "stream",
     "text": [
      "Processed 5002124 ( 100.00% ) in 5.08 seconds. MSE loss 1.73E+00. Sample per second: 984709\n",
      "FUNK_SVD: Epoch 1 of 300. Elapsed time 0.08 min\n",
      "Processed 5002124 ( 100.00% ) in 4.71 seconds. MSE loss 9.02E-01. Sample per second: 1061309\n",
      "FUNK_SVD: Epoch 2 of 300. Elapsed time 0.16 min\n",
      "Processed 5002124 ( 100.00% ) in 5.11 seconds. MSE loss 8.53E-01. Sample per second: 978075\n",
      "FUNK_SVD: Epoch 3 of 300. Elapsed time 0.23 min\n",
      "Processed 5002124 ( 100.00% ) in 4.85 seconds. MSE loss 8.35E-01. Sample per second: 1031556\n",
      "FUNK_SVD: Epoch 4 of 300. Elapsed time 0.31 min\n",
      "Processed 5002124 ( 100.00% ) in 5.56 seconds. MSE loss 8.25E-01. Sample per second: 899115\n",
      "FUNK_SVD: Epoch 5 of 300. Elapsed time 0.39 min\n",
      "Processed 5002124 ( 100.00% ) in 5.34 seconds. MSE loss 8.20E-01. Sample per second: 937096\n",
      "FUNK_SVD: Epoch 6 of 300. Elapsed time 0.47 min\n",
      "Processed 5002124 ( 100.00% ) in 5.17 seconds. MSE loss 8.17E-01. Sample per second: 968180\n",
      "FUNK_SVD: Epoch 7 of 300. Elapsed time 0.55 min\n",
      "Processed 5002124 ( 100.00% ) in 4.64 seconds. MSE loss 8.13E-01. Sample per second: 1078054\n",
      "FUNK_SVD: Epoch 8 of 300. Elapsed time 0.62 min\n",
      "Processed 5002124 ( 100.00% ) in 5.67 seconds. MSE loss 8.11E-01. Sample per second: 882650\n",
      "FUNK_SVD: Epoch 9 of 300. Elapsed time 0.71 min\n",
      "Processed 5002124 ( 100.00% ) in 5.46 seconds. MSE loss 8.09E-01. Sample per second: 916601\n",
      "FUNK_SVD: Validation begins...\n",
      "SequentialEvaluator: Processed 12001 ( 17.17% ) in 30.44 seconds. Users per second: 394\n",
      "SequentialEvaluator: Processed 25001 ( 35.78% ) in 62.24 seconds. Users per second: 402\n",
      "SequentialEvaluator: Processed 38001 ( 54.38% ) in 92.30 seconds. Users per second: 412\n",
      "SequentialEvaluator: Processed 53001 ( 75.85% ) in 123.83 seconds. Users per second: 428\n",
      "SequentialEvaluator: Processed 68001 ( 97.31% ) in 154.38 seconds. Users per second: 440\n",
      "SequentialEvaluator: Processed 69878 ( 100.00% ) in 156.55 seconds. Users per second: 446\n",
      "FUNK_SVD: {'ROC_AUC': 0.30224104868485124, 'PRECISION': 0.20523197572916493, 'RECALL': 0.02668797107170074, 'RECALL_TEST_LEN': 0.20523197572916493, 'MAP': 0.13297356344869282, 'MRR': 0.36304225459610207, 'NDCG': 0.06110519144169513, 'F1': 0.0472337554988392, 'HIT_RATE': 1.0261598786456396, 'ARHR': 0.4928766326072953, 'NOVELTY': 0.0006616867749652046, 'DIVERSITY_MEAN_INTER_LIST': 0.49798668548323166, 'DIVERSITY_HERFINDAHL': 0.8995959117934451, 'COVERAGE_ITEM': 0.00015352964657475358, 'COVERAGE_USER': 0.9763860943438408, 'DIVERSITY_GINI': 0.9711054851442383, 'SHANNON_ENTROPY': 3.319011248334438}\n",
      "FUNK_SVD: Epoch 10 of 300. Elapsed time 3.40 min\n",
      "Processed 5002124 ( 100.00% ) in 4.19 seconds. MSE loss 8.08E-01. Sample per second: 1193983\n",
      "FUNK_SVD: Epoch 11 of 300. Elapsed time 3.47 min\n",
      "Processed 5002124 ( 100.00% ) in 4.32 seconds. MSE loss 8.07E-01. Sample per second: 1156826\n",
      "FUNK_SVD: Epoch 12 of 300. Elapsed time 3.54 min\n",
      "Processed 5002124 ( 100.00% ) in 4.41 seconds. MSE loss 8.06E-01. Sample per second: 1134840\n",
      "FUNK_SVD: Epoch 13 of 300. Elapsed time 3.60 min\n",
      "Processed 5002124 ( 100.00% ) in 4.93 seconds. MSE loss 8.05E-01. Sample per second: 1014495\n",
      "FUNK_SVD: Epoch 14 of 300. Elapsed time 3.68 min\n",
      "Processed 5002124 ( 100.00% ) in 5.23 seconds. MSE loss 8.03E-01. Sample per second: 957041\n",
      "FUNK_SVD: Epoch 15 of 300. Elapsed time 3.75 min\n",
      "Processed 5002124 ( 100.00% ) in 4.54 seconds. MSE loss 8.04E-01. Sample per second: 1101713\n",
      "FUNK_SVD: Epoch 16 of 300. Elapsed time 3.82 min\n",
      "Processed 5002124 ( 100.00% ) in 4.80 seconds. MSE loss 8.03E-01. Sample per second: 1041312\n",
      "FUNK_SVD: Epoch 17 of 300. Elapsed time 3.89 min\n",
      "Processed 5002124 ( 100.00% ) in 4.87 seconds. MSE loss 8.03E-01. Sample per second: 1028087\n",
      "FUNK_SVD: Epoch 18 of 300. Elapsed time 3.96 min\n",
      "Processed 5002124 ( 100.00% ) in 5.00 seconds. MSE loss 8.01E-01. Sample per second: 1000688\n",
      "FUNK_SVD: Epoch 19 of 300. Elapsed time 4.03 min\n",
      "Processed 5002124 ( 100.00% ) in 4.14 seconds. MSE loss 8.02E-01. Sample per second: 1207752\n",
      "FUNK_SVD: Validation begins...\n",
      "SequentialEvaluator: Processed 16001 ( 22.90% ) in 31.12 seconds. Users per second: 514\n",
      "SequentialEvaluator: Processed 33001 ( 47.23% ) in 62.02 seconds. Users per second: 532\n",
      "SequentialEvaluator: Processed 50001 ( 71.55% ) in 92.59 seconds. Users per second: 540\n",
      "SequentialEvaluator: Processed 67001 ( 95.88% ) in 123.41 seconds. Users per second: 543\n",
      "SequentialEvaluator: Processed 69878 ( 100.00% ) in 127.34 seconds. Users per second: 549\n",
      "FUNK_SVD: {'ROC_AUC': 0.32072564564908085, 'PRECISION': 0.1959186009903308, 'RECALL': 0.02558345403890024, 'RECALL_TEST_LEN': 0.1959186009903308, 'MAP': 0.12962415447877257, 'MRR': 0.3574470267227388, 'NDCG': 0.059851707529954765, 'F1': 0.04525713789102594, 'HIT_RATE': 0.9795930049514868, 'ARHR': 0.48313966245926854, 'NOVELTY': 0.0006678032834508206, 'DIVERSITY_MEAN_INTER_LIST': 0.4976123630316066, 'DIVERSITY_HERFINDAHL': 0.89952104837448, 'COVERAGE_ITEM': 0.00015352964657475358, 'COVERAGE_USER': 0.9763860943438408, 'DIVERSITY_GINI': 0.9685425768026871, 'SHANNON_ENTROPY': 3.3184704260275537}\n",
      "FUNK_SVD: Epoch 20 of 300. Elapsed time 6.22 min\n",
      "Processed 5002124 ( 100.00% ) in 4.57 seconds. MSE loss 8.02E-01. Sample per second: 1095064\n",
      "FUNK_SVD: Epoch 21 of 300. Elapsed time 6.29 min\n",
      "Processed 5002124 ( 100.00% ) in 4.68 seconds. MSE loss 8.00E-01. Sample per second: 1069670\n",
      "FUNK_SVD: Epoch 22 of 300. Elapsed time 6.36 min\n",
      "Processed 5002124 ( 100.00% ) in 4.85 seconds. MSE loss 7.99E-01. Sample per second: 1030600\n",
      "FUNK_SVD: Epoch 23 of 300. Elapsed time 6.43 min\n",
      "Processed 5002124 ( 100.00% ) in 4.98 seconds. MSE loss 8.00E-01. Sample per second: 1004869\n",
      "FUNK_SVD: Epoch 24 of 300. Elapsed time 6.50 min\n",
      "Processed 5002124 ( 100.00% ) in 4.97 seconds. MSE loss 8.00E-01. Sample per second: 1005741\n",
      "FUNK_SVD: Epoch 25 of 300. Elapsed time 6.56 min\n",
      "Processed 5002124 ( 100.00% ) in 5.03 seconds. MSE loss 7.99E-01. Sample per second: 994975\n",
      "FUNK_SVD: Epoch 26 of 300. Elapsed time 6.63 min\n",
      "Processed 5002124 ( 100.00% ) in 4.28 seconds. MSE loss 7.99E-01. Sample per second: 1169254\n",
      "FUNK_SVD: Epoch 27 of 300. Elapsed time 6.70 min\n",
      "Processed 5002124 ( 100.00% ) in 4.53 seconds. MSE loss 7.98E-01. Sample per second: 1104449\n",
      "FUNK_SVD: Epoch 28 of 300. Elapsed time 6.77 min\n",
      "Processed 5002124 ( 100.00% ) in 4.62 seconds. MSE loss 8.00E-01. Sample per second: 1083075\n",
      "FUNK_SVD: Epoch 29 of 300. Elapsed time 6.84 min\n",
      "Processed 5002124 ( 100.00% ) in 4.89 seconds. MSE loss 7.98E-01. Sample per second: 1023123\n",
      "FUNK_SVD: Validation begins...\n",
      "SequentialEvaluator: Processed 15001 ( 21.47% ) in 30.79 seconds. Users per second: 487\n",
      "SequentialEvaluator: Processed 31001 ( 44.36% ) in 61.97 seconds. Users per second: 500\n",
      "SequentialEvaluator: Processed 46001 ( 65.83% ) in 92.16 seconds. Users per second: 499\n",
      "SequentialEvaluator: Processed 61001 ( 87.30% ) in 122.46 seconds. Users per second: 498\n",
      "SequentialEvaluator: Processed 69878 ( 100.00% ) in 138.71 seconds. Users per second: 504\n",
      "FUNK_SVD: {'ROC_AUC': 0.31994094469408746, 'PRECISION': 0.20236412032402862, 'RECALL': 0.026111050207860823, 'RECALL_TEST_LEN': 0.20236412032402862, 'MAP': 0.13422703378270706, 'MRR': 0.362752463817869, 'NDCG': 0.061638845591098036, 'F1': 0.04625395130463679, 'HIT_RATE': 1.0118206016199662, 'ARHR': 0.4952397988875299, 'NOVELTY': 0.00066277822753581, 'DIVERSITY_MEAN_INTER_LIST': 0.497420490022861, 'DIVERSITY_HERFINDAHL': 0.8994826743218967, 'COVERAGE_ITEM': 0.00015352964657475358, 'COVERAGE_USER': 0.9763860943438408, 'DIVERSITY_GINI': 0.9673066565364572, 'SHANNON_ENTROPY': 3.3181931547383967}\n",
      "FUNK_SVD: Epoch 30 of 300. Elapsed time 9.22 min\n",
      "Processed 5002124 ( 100.00% ) in 4.96 seconds. MSE loss 7.99E-01. Sample per second: 1008759\n",
      "FUNK_SVD: Epoch 31 of 300. Elapsed time 9.30 min\n",
      "Processed 5002124 ( 100.00% ) in 5.14 seconds. MSE loss 7.98E-01. Sample per second: 972780\n",
      "FUNK_SVD: Epoch 32 of 300. Elapsed time 9.37 min\n",
      "Processed 5002124 ( 100.00% ) in 4.62 seconds. MSE loss 7.99E-01. Sample per second: 1083581\n",
      "FUNK_SVD: Epoch 33 of 300. Elapsed time 9.44 min\n",
      "Processed 5002124 ( 100.00% ) in 4.85 seconds. MSE loss 7.98E-01. Sample per second: 1031713\n",
      "FUNK_SVD: Epoch 34 of 300. Elapsed time 9.51 min\n",
      "Processed 5002124 ( 100.00% ) in 4.98 seconds. MSE loss 7.98E-01. Sample per second: 1005316\n"
     ]
    },
    {
     "name": "stdout",
     "output_type": "stream",
     "text": [
      "FUNK_SVD: Epoch 35 of 300. Elapsed time 9.58 min\n",
      "Processed 5002124 ( 100.00% ) in 4.93 seconds. MSE loss 7.98E-01. Sample per second: 1014141\n",
      "FUNK_SVD: Epoch 36 of 300. Elapsed time 9.65 min\n",
      "Processed 5002124 ( 100.00% ) in 5.31 seconds. MSE loss 7.97E-01. Sample per second: 942355\n",
      "FUNK_SVD: Epoch 37 of 300. Elapsed time 9.72 min\n",
      "Processed 5002124 ( 100.00% ) in 4.26 seconds. MSE loss 7.97E-01. Sample per second: 1174405\n",
      "FUNK_SVD: Epoch 38 of 300. Elapsed time 9.78 min\n",
      "Processed 5002124 ( 100.00% ) in 4.28 seconds. MSE loss 7.97E-01. Sample per second: 1169776\n",
      "FUNK_SVD: Epoch 39 of 300. Elapsed time 9.85 min\n",
      "Processed 5002124 ( 100.00% ) in 5.75 seconds. MSE loss 7.97E-01. Sample per second: 870453\n",
      "FUNK_SVD: Validation begins...\n",
      "SequentialEvaluator: Processed 13001 ( 18.61% ) in 30.75 seconds. Users per second: 423\n",
      "SequentialEvaluator: Processed 27001 ( 38.64% ) in 62.09 seconds. Users per second: 435\n",
      "SequentialEvaluator: Processed 41246 ( 59.03% ) in 92.09 seconds. Users per second: 448\n",
      "SequentialEvaluator: Processed 55498 ( 79.42% ) in 122.10 seconds. Users per second: 455\n",
      "SequentialEvaluator: Processed 65001 ( 93.02% ) in 152.35 seconds. Users per second: 427\n",
      "SequentialEvaluator: Processed 69878 ( 100.00% ) in 164.55 seconds. Users per second: 425\n",
      "FUNK_SVD: {'ROC_AUC': 0.31313145768339085, 'PRECISION': 0.20666590343173333, 'RECALL': 0.02679828918437106, 'RECALL_TEST_LEN': 0.20666590343173333, 'MAP': 0.13500181268307776, 'MRR': 0.36472948090480073, 'NDCG': 0.06200027234263269, 'F1': 0.04744447174235199, 'HIT_RATE': 1.0333295171584762, 'ARHR': 0.4981885094974659, 'NOVELTY': 0.000659395842021327, 'DIVERSITY_MEAN_INTER_LIST': 0.4977739480844456, 'DIVERSITY_HERFINDAHL': 0.8995533649225702, 'COVERAGE_ITEM': 0.00015352964657475358, 'COVERAGE_USER': 0.9763860943438408, 'DIVERSITY_GINI': 0.9696223808247622, 'SHANNON_ENTROPY': 3.3187039012611628}\n",
      "FUNK_SVD: Epoch 40 of 300. Elapsed time 12.69 min\n",
      "Processed 5002124 ( 100.00% ) in 8.42 seconds. MSE loss 7.97E-01. Sample per second: 593734\n",
      "FUNK_SVD: Epoch 41 of 300. Elapsed time 12.82 min\n",
      "Processed 5002124 ( 100.00% ) in 7.35 seconds. MSE loss 7.97E-01. Sample per second: 680869\n",
      "FUNK_SVD: Epoch 42 of 300. Elapsed time 12.94 min\n",
      "Processed 5002124 ( 100.00% ) in 6.02 seconds. MSE loss 7.96E-01. Sample per second: 830936\n",
      "FUNK_SVD: Epoch 43 of 300. Elapsed time 13.03 min\n",
      "Processed 5002124 ( 100.00% ) in 5.11 seconds. MSE loss 7.98E-01. Sample per second: 978807\n",
      "FUNK_SVD: Epoch 44 of 300. Elapsed time 13.12 min\n",
      "Processed 5002124 ( 100.00% ) in 4.95 seconds. MSE loss 7.97E-01. Sample per second: 1011004\n",
      "FUNK_SVD: Epoch 45 of 300. Elapsed time 13.20 min\n",
      "Processed 5002124 ( 100.00% ) in 6.71 seconds. MSE loss 7.97E-01. Sample per second: 745651\n",
      "FUNK_SVD: Epoch 46 of 300. Elapsed time 13.29 min\n",
      "Processed 5002124 ( 100.00% ) in 7.10 seconds. MSE loss 7.97E-01. Sample per second: 704074\n",
      "FUNK_SVD: Epoch 47 of 300. Elapsed time 13.40 min\n",
      "Processed 5002124 ( 100.00% ) in 7.09 seconds. MSE loss 7.97E-01. Sample per second: 705667\n",
      "FUNK_SVD: Epoch 48 of 300. Elapsed time 13.52 min\n",
      "Processed 5002124 ( 100.00% ) in 6.75 seconds. MSE loss 7.97E-01. Sample per second: 740707\n",
      "FUNK_SVD: Epoch 49 of 300. Elapsed time 13.63 min\n",
      "Processed 5002124 ( 100.00% ) in 7.51 seconds. MSE loss 7.96E-01. Sample per second: 666307\n",
      "FUNK_SVD: Validation begins...\n",
      "SequentialEvaluator: Processed 14001 ( 20.04% ) in 31.23 seconds. Users per second: 448\n",
      "SequentialEvaluator: Processed 31001 ( 44.36% ) in 62.55 seconds. Users per second: 496\n",
      "SequentialEvaluator: Processed 48001 ( 68.69% ) in 93.45 seconds. Users per second: 514\n",
      "SequentialEvaluator: Processed 65001 ( 93.02% ) in 123.88 seconds. Users per second: 525\n",
      "SequentialEvaluator: Processed 69878 ( 100.00% ) in 131.09 seconds. Users per second: 533\n",
      "FUNK_SVD: {'ROC_AUC': 0.3062241811919819, 'PRECISION': 0.21156587194829163, 'RECALL': 0.027399231442871857, 'RECALL_TEST_LEN': 0.21156587194829163, 'MAP': 0.13810693875995345, 'MRR': 0.36534388505680127, 'NDCG': 0.06397927713414786, 'F1': 0.04851538746588877, 'HIT_RATE': 1.0578293597412634, 'ARHR': 0.5037267332588903, 'NOVELTY': 0.0006556235254197849, 'DIVERSITY_MEAN_INTER_LIST': 0.4975223974070276, 'DIVERSITY_HERFINDAHL': 0.8995030555070576, 'COVERAGE_ITEM': 0.00015352964657475358, 'COVERAGE_USER': 0.9763860943438408, 'DIVERSITY_GINI': 0.9679571408871046, 'SHANNON_ENTROPY': 3.318340423199875}\n",
      "FUNK_SVD: Epoch 50 of 300. Elapsed time 15.92 min\n",
      "Processed 5002124 ( 100.00% ) in 5.12 seconds. MSE loss 7.97E-01. Sample per second: 976475\n",
      "FUNK_SVD: Epoch 51 of 300. Elapsed time 16.00 min\n",
      "Processed 5002124 ( 100.00% ) in 4.77 seconds. MSE loss 7.96E-01. Sample per second: 1047862\n",
      "FUNK_SVD: Epoch 52 of 300. Elapsed time 16.08 min\n",
      "Processed 5002124 ( 100.00% ) in 5.36 seconds. MSE loss 7.96E-01. Sample per second: 932642\n",
      "FUNK_SVD: Epoch 53 of 300. Elapsed time 16.15 min\n",
      "Processed 5002124 ( 100.00% ) in 4.81 seconds. MSE loss 7.96E-01. Sample per second: 1040819\n",
      "FUNK_SVD: Epoch 54 of 300. Elapsed time 16.23 min\n",
      "Processed 5002124 ( 100.00% ) in 5.50 seconds. MSE loss 7.96E-01. Sample per second: 910068\n",
      "FUNK_SVD: Epoch 55 of 300. Elapsed time 16.31 min\n",
      "Processed 5002124 ( 100.00% ) in 6.98 seconds. MSE loss 7.96E-01. Sample per second: 716288\n",
      "FUNK_SVD: Epoch 56 of 300. Elapsed time 16.41 min\n",
      "Processed 5002124 ( 100.00% ) in 5.48 seconds. MSE loss 7.96E-01. Sample per second: 913380\n",
      "FUNK_SVD: Epoch 57 of 300. Elapsed time 16.49 min\n",
      "Processed 5002124 ( 100.00% ) in 5.50 seconds. MSE loss 7.96E-01. Sample per second: 909374\n",
      "FUNK_SVD: Epoch 58 of 300. Elapsed time 16.57 min\n",
      "Processed 5002124 ( 100.00% ) in 5.78 seconds. MSE loss 7.96E-01. Sample per second: 865971\n",
      "FUNK_SVD: Epoch 59 of 300. Elapsed time 16.66 min\n",
      "Processed 5002124 ( 100.00% ) in 5.15 seconds. MSE loss 7.97E-01. Sample per second: 970676\n",
      "FUNK_SVD: Validation begins...\n",
      "SequentialEvaluator: Processed 13962 ( 19.98% ) in 30.00 seconds. Users per second: 465\n",
      "SequentialEvaluator: Processed 28001 ( 40.07% ) in 60.12 seconds. Users per second: 466\n",
      "SequentialEvaluator: Processed 43001 ( 61.54% ) in 90.58 seconds. Users per second: 475\n",
      "SequentialEvaluator: Processed 59001 ( 84.43% ) in 121.92 seconds. Users per second: 484\n",
      "SequentialEvaluator: Processed 69878 ( 100.00% ) in 141.11 seconds. Users per second: 495\n",
      "FUNK_SVD: {'ROC_AUC': 0.3081644675959048, 'PRECISION': 0.19621697816197284, 'RECALL': 0.025328825637516674, 'RECALL_TEST_LEN': 0.19621697816197284, 'MAP': 0.1300008586393552, 'MRR': 0.3581267828691851, 'NDCG': 0.058762178824504754, 'F1': 0.04486607772976, 'HIT_RATE': 0.9810813131457683, 'ARHR': 0.4833695869944469, 'NOVELTY': 0.0006671240626583561, 'DIVERSITY_MEAN_INTER_LIST': 0.4975203793295284, 'DIVERSITY_HERFINDAHL': 0.8995026518973338, 'COVERAGE_ITEM': 0.00015352964657475358, 'COVERAGE_USER': 0.9763860943438408, 'DIVERSITY_GINI': 0.9679441312000916, 'SHANNON_ENTROPY': 3.3183375069320107}\n",
      "FUNK_SVD: Epoch 60 of 300. Elapsed time 19.09 min\n",
      "Processed 5002124 ( 100.00% ) in 4.03 seconds. MSE loss 7.96E-01. Sample per second: 1242579\n",
      "FUNK_SVD: Epoch 61 of 300. Elapsed time 19.15 min\n",
      "Processed 5002124 ( 100.00% ) in 3.83 seconds. MSE loss 7.95E-01. Sample per second: 1306865\n",
      "FUNK_SVD: Epoch 62 of 300. Elapsed time 19.21 min\n",
      "Processed 5002124 ( 100.00% ) in 4.54 seconds. MSE loss 7.95E-01. Sample per second: 1101183\n",
      "FUNK_SVD: Epoch 63 of 300. Elapsed time 19.27 min\n",
      "Processed 5002124 ( 100.00% ) in 4.39 seconds. MSE loss 7.95E-01. Sample per second: 1139431\n",
      "FUNK_SVD: Epoch 64 of 300. Elapsed time 19.34 min\n",
      "Processed 5002124 ( 100.00% ) in 4.20 seconds. MSE loss 7.96E-01. Sample per second: 1189626\n",
      "FUNK_SVD: Epoch 65 of 300. Elapsed time 19.40 min\n",
      "Processed 5002124 ( 100.00% ) in 4.16 seconds. MSE loss 7.96E-01. Sample per second: 1201972\n",
      "FUNK_SVD: Epoch 66 of 300. Elapsed time 19.47 min\n",
      "Processed 5002124 ( 100.00% ) in 4.17 seconds. MSE loss 7.96E-01. Sample per second: 1200036\n",
      "FUNK_SVD: Epoch 67 of 300. Elapsed time 19.53 min\n",
      "Processed 5002124 ( 100.00% ) in 4.10 seconds. MSE loss 7.95E-01. Sample per second: 1221099\n",
      "FUNK_SVD: Epoch 68 of 300. Elapsed time 19.60 min\n",
      "Processed 5002124 ( 100.00% ) in 3.91 seconds. MSE loss 7.95E-01. Sample per second: 1277988\n",
      "FUNK_SVD: Epoch 69 of 300. Elapsed time 19.66 min\n"
     ]
    },
    {
     "name": "stdout",
     "output_type": "stream",
     "text": [
      "Processed 5002124 ( 100.00% ) in 4.70 seconds. MSE loss 7.96E-01. Sample per second: 1064986\n",
      "FUNK_SVD: Validation begins...\n",
      "SequentialEvaluator: Processed 14001 ( 20.04% ) in 30.29 seconds. Users per second: 462\n",
      "SequentialEvaluator: Processed 29001 ( 41.50% ) in 60.80 seconds. Users per second: 477\n",
      "SequentialEvaluator: Processed 43556 ( 62.33% ) in 90.80 seconds. Users per second: 480\n",
      "SequentialEvaluator: Processed 58574 ( 83.82% ) in 120.81 seconds. Users per second: 485\n",
      "SequentialEvaluator: Processed 69878 ( 100.00% ) in 143.79 seconds. Users per second: 486\n",
      "FUNK_SVD: {'ROC_AUC': 0.308604520259119, 'PRECISION': 0.19620266750625867, 'RECALL': 0.02529725021994087, 'RECALL_TEST_LEN': 0.19620266750625867, 'MAP': 0.12983857580355646, 'MRR': 0.3583257009836068, 'NDCG': 0.05880995185181036, 'F1': 0.044816160878768635, 'HIT_RATE': 0.9810097598671971, 'ARHR': 0.48322600341544447, 'NOVELTY': 0.0006671221449425705, 'DIVERSITY_MEAN_INTER_LIST': 0.49745945608065006, 'DIVERSITY_HERFINDAHL': 0.8994904674219284, 'COVERAGE_ITEM': 0.00015352964657475358, 'COVERAGE_USER': 0.9763860943438408, 'DIVERSITY_GINI': 0.9675538405897031, 'SHANNON_ENTROPY': 3.3182494665783495}\n",
      "FUNK_SVD: Epoch 70 of 300. Elapsed time 22.12 min\n",
      "Processed 5002124 ( 100.00% ) in 4.50 seconds. MSE loss 7.96E-01. Sample per second: 1111136\n",
      "FUNK_SVD: Epoch 71 of 300. Elapsed time 22.19 min\n",
      "Processed 5002124 ( 100.00% ) in 4.89 seconds. MSE loss 7.95E-01. Sample per second: 1023327\n",
      "FUNK_SVD: Epoch 72 of 300. Elapsed time 22.26 min\n",
      "Processed 5002124 ( 100.00% ) in 5.21 seconds. MSE loss 7.95E-01. Sample per second: 959872\n",
      "FUNK_SVD: Epoch 73 of 300. Elapsed time 22.33 min\n",
      "Processed 5002124 ( 100.00% ) in 4.14 seconds. MSE loss 7.95E-01. Sample per second: 1208187\n",
      "FUNK_SVD: Epoch 74 of 300. Elapsed time 22.40 min\n",
      "Processed 5002124 ( 100.00% ) in 4.10 seconds. MSE loss 7.95E-01. Sample per second: 1220291\n",
      "FUNK_SVD: Epoch 75 of 300. Elapsed time 22.47 min\n",
      "Processed 5002124 ( 100.00% ) in 4.09 seconds. MSE loss 7.95E-01. Sample per second: 1223739\n",
      "FUNK_SVD: Epoch 76 of 300. Elapsed time 22.53 min\n",
      "Processed 5002124 ( 100.00% ) in 4.02 seconds. MSE loss 7.95E-01. Sample per second: 1244432\n",
      "FUNK_SVD: Epoch 77 of 300. Elapsed time 22.60 min\n",
      "Processed 5002124 ( 100.00% ) in 3.92 seconds. MSE loss 7.95E-01. Sample per second: 1274757\n",
      "FUNK_SVD: Epoch 78 of 300. Elapsed time 22.66 min\n",
      "Processed 5002124 ( 100.00% ) in 4.84 seconds. MSE loss 7.96E-01. Sample per second: 1034329\n",
      "FUNK_SVD: Epoch 79 of 300. Elapsed time 22.73 min\n",
      "Processed 5002124 ( 100.00% ) in 4.72 seconds. MSE loss 7.94E-01. Sample per second: 1059336\n",
      "FUNK_SVD: Validation begins...\n",
      "SequentialEvaluator: Processed 15001 ( 21.47% ) in 30.53 seconds. Users per second: 491\n",
      "SequentialEvaluator: Processed 31001 ( 44.36% ) in 61.37 seconds. Users per second: 505\n",
      "SequentialEvaluator: Processed 47001 ( 67.26% ) in 92.19 seconds. Users per second: 510\n",
      "SequentialEvaluator: Processed 63001 ( 90.16% ) in 122.62 seconds. Users per second: 514\n",
      "SequentialEvaluator: Processed 69878 ( 100.00% ) in 134.44 seconds. Users per second: 520\n",
      "FUNK_SVD: {'ROC_AUC': 0.32419001688657334, 'PRECISION': 0.19958785311546443, 'RECALL': 0.02574310962504566, 'RECALL_TEST_LEN': 0.19958785311546443, 'MAP': 0.13347529503803404, 'MRR': 0.37191891582470316, 'NDCG': 0.060030667486907247, 'F1': 0.04560413642306067, 'HIT_RATE': 0.9979392655771487, 'ARHR': 0.4996911283474584, 'NOVELTY': 0.0006648690782451022, 'DIVERSITY_MEAN_INTER_LIST': 0.4977509353655066, 'DIVERSITY_HERFINDAHL': 0.8995487624446479, 'COVERAGE_ITEM': 0.00015352964657475358, 'COVERAGE_USER': 0.9763860943438408, 'DIVERSITY_GINI': 0.9694662645806067, 'SHANNON_ENTROPY': 3.3186706515844575}\n",
      "FUNK_SVD: Epoch 80 of 300. Elapsed time 25.03 min\n",
      "Processed 5002124 ( 100.00% ) in 4.13 seconds. MSE loss 7.95E-01. Sample per second: 1211050\n",
      "FUNK_SVD: Epoch 81 of 300. Elapsed time 25.10 min\n",
      "Processed 5002124 ( 100.00% ) in 4.16 seconds. MSE loss 7.94E-01. Sample per second: 1202111\n",
      "FUNK_SVD: Epoch 82 of 300. Elapsed time 25.17 min\n",
      "Processed 5002124 ( 100.00% ) in 4.15 seconds. MSE loss 7.94E-01. Sample per second: 1206103\n",
      "FUNK_SVD: Epoch 83 of 300. Elapsed time 25.23 min\n",
      "Processed 5002124 ( 100.00% ) in 4.02 seconds. MSE loss 7.94E-01. Sample per second: 1243345\n",
      "FUNK_SVD: Epoch 84 of 300. Elapsed time 25.30 min\n",
      "Processed 5002124 ( 100.00% ) in 3.93 seconds. MSE loss 7.94E-01. Sample per second: 1273588\n",
      "FUNK_SVD: Epoch 85 of 300. Elapsed time 25.36 min\n",
      "Processed 5002124 ( 100.00% ) in 4.85 seconds. MSE loss 7.95E-01. Sample per second: 1030704\n",
      "FUNK_SVD: Epoch 86 of 300. Elapsed time 25.43 min\n",
      "Processed 5002124 ( 100.00% ) in 4.81 seconds. MSE loss 7.95E-01. Sample per second: 1040746\n",
      "FUNK_SVD: Epoch 87 of 300. Elapsed time 25.49 min\n",
      "Processed 5002124 ( 100.00% ) in 4.79 seconds. MSE loss 7.95E-01. Sample per second: 1044325\n",
      "FUNK_SVD: Epoch 88 of 300. Elapsed time 25.56 min\n",
      "Processed 5002124 ( 100.00% ) in 4.71 seconds. MSE loss 7.95E-01. Sample per second: 1062505\n",
      "FUNK_SVD: Epoch 89 of 300. Elapsed time 25.63 min\n",
      "Processed 5002124 ( 100.00% ) in 4.58 seconds. MSE loss 7.94E-01. Sample per second: 1093254\n",
      "FUNK_SVD: Validation begins...\n",
      "SequentialEvaluator: Processed 14001 ( 20.04% ) in 30.00 seconds. Users per second: 467\n",
      "SequentialEvaluator: Processed 29001 ( 41.50% ) in 60.44 seconds. Users per second: 480\n",
      "SequentialEvaluator: Processed 44001 ( 62.97% ) in 91.01 seconds. Users per second: 483\n",
      "SequentialEvaluator: Processed 59001 ( 84.43% ) in 121.23 seconds. Users per second: 487\n",
      "SequentialEvaluator: Processed 69878 ( 100.00% ) in 141.29 seconds. Users per second: 495\n",
      "FUNK_SVD: {'ROC_AUC': 0.3128285488041068, 'PRECISION': 0.20663441998916274, 'RECALL': 0.026802841313226473, 'RECALL_TEST_LEN': 0.20663441998916274, 'MAP': 0.13516600360630604, 'MRR': 0.36507293664194257, 'NDCG': 0.06210473965097296, 'F1': 0.047450775749513445, 'HIT_RATE': 1.0331720999456195, 'ARHR': 0.4986361945103943, 'NOVELTY': 0.0006594201810496166, 'DIVERSITY_MEAN_INTER_LIST': 0.497420490022861, 'DIVERSITY_HERFINDAHL': 0.8994826743218967, 'COVERAGE_ITEM': 0.00015352964657475358, 'COVERAGE_USER': 0.9763860943438408, 'DIVERSITY_GINI': 0.9673066565364572, 'SHANNON_ENTROPY': 3.3181931547383967}\n",
      "FUNK_SVD: Epoch 90 of 300. Elapsed time 28.05 min\n",
      "Processed 5002124 ( 100.00% ) in 4.71 seconds. MSE loss 7.95E-01. Sample per second: 1062977\n",
      "FUNK_SVD: Epoch 91 of 300. Elapsed time 28.11 min\n",
      "Processed 5002124 ( 100.00% ) in 4.57 seconds. MSE loss 7.95E-01. Sample per second: 1094142\n",
      "FUNK_SVD: Epoch 92 of 300. Elapsed time 28.17 min\n",
      "Processed 5002124 ( 100.00% ) in 4.58 seconds. MSE loss 7.95E-01. Sample per second: 1093223\n",
      "FUNK_SVD: Epoch 93 of 300. Elapsed time 28.24 min\n",
      "Processed 5002124 ( 100.00% ) in 4.38 seconds. MSE loss 7.95E-01. Sample per second: 1143170\n",
      "FUNK_SVD: Epoch 94 of 300. Elapsed time 28.30 min\n",
      "Processed 5002124 ( 100.00% ) in 4.12 seconds. MSE loss 7.93E-01. Sample per second: 1215434\n",
      "FUNK_SVD: Epoch 95 of 300. Elapsed time 28.37 min\n",
      "Processed 5002124 ( 100.00% ) in 3.87 seconds. MSE loss 7.96E-01. Sample per second: 1292366\n",
      "FUNK_SVD: Epoch 96 of 300. Elapsed time 28.43 min\n",
      "Processed 5002124 ( 100.00% ) in 4.65 seconds. MSE loss 7.94E-01. Sample per second: 1074982\n",
      "FUNK_SVD: Epoch 97 of 300. Elapsed time 28.49 min\n",
      "Processed 5002124 ( 100.00% ) in 4.44 seconds. MSE loss 7.94E-01. Sample per second: 1126679\n",
      "FUNK_SVD: Epoch 98 of 300. Elapsed time 28.55 min\n",
      "Processed 5002124 ( 100.00% ) in 4.23 seconds. MSE loss 7.95E-01. Sample per second: 1183229\n",
      "FUNK_SVD: Epoch 99 of 300. Elapsed time 28.62 min\n",
      "Processed 5002124 ( 100.00% ) in 4.18 seconds. MSE loss 7.94E-01. Sample per second: 1195379\n",
      "FUNK_SVD: Validation begins...\n",
      "SequentialEvaluator: Processed 16001 ( 22.90% ) in 30.46 seconds. Users per second: 525\n",
      "SequentialEvaluator: Processed 32721 ( 46.83% ) in 60.47 seconds. Users per second: 541\n",
      "SequentialEvaluator: Processed 49001 ( 70.12% ) in 91.28 seconds. Users per second: 537\n",
      "SequentialEvaluator: Processed 66001 ( 94.45% ) in 121.74 seconds. Users per second: 542\n",
      "SequentialEvaluator: Processed 69878 ( 100.00% ) in 127.33 seconds. Users per second: 549\n",
      "FUNK_SVD: {'ROC_AUC': 0.01850010017459, 'PRECISION': 0.00805117490483401, 'RECALL': 0.0004359398919590739, 'RECALL_TEST_LEN': 0.00805117490483401, 'MAP': 0.003164896915576658, 'MRR': 0.015107997748457062, 'NDCG': 0.0008699755016441022, 'F1': 0.000827095756848525, 'HIT_RATE': 0.0402558745241707, 'ARHR': 0.015452169018384605, 'NOVELTY': 0.0012042497475561304, 'DIVERSITY_MEAN_INTER_LIST': 0.6552211786458715, 'DIVERSITY_HERFINDAHL': 0.9310423604002334, 'COVERAGE_ITEM': 0.0005220007983541622, 'COVERAGE_USER': 0.9763860943438408, 'DIVERSITY_GINI': 0.40155879839557107, 'SHANNON_ENTROPY': 4.030459963163301}\n",
      "FUNK_SVD: Convergence reached! Terminating at epoch 100. Best value for 'MAP' at epoch 50 is 0.1381. Elapsed time 30.81 min\n",
      "FUNK_SVD: Epoch 100 of 300. Elapsed time 30.81 min\n"
     ]
    },
    {
     "name": "stdout",
     "output_type": "stream",
     "text": [
      "SequentialEvaluator: Processed 16001 ( 22.90% ) in 30.37 seconds. Users per second: 527\n",
      "SequentialEvaluator: Processed 34001 ( 48.66% ) in 61.46 seconds. Users per second: 553\n",
      "SequentialEvaluator: Processed 51001 ( 72.99% ) in 91.61 seconds. Users per second: 557\n",
      "SequentialEvaluator: Processed 69001 ( 98.74% ) in 122.54 seconds. Users per second: 563\n",
      "SequentialEvaluator: Processed 69878 ( 100.00% ) in 122.88 seconds. Users per second: 569\n"
     ]
    }
   ],
   "source": [
    "recommender = MatrixFactorization_FunkSVD_Cython(URM_train)\n",
    "recommender.fit(num_factors = 50, \n",
    "                validation_every_n = 10, \n",
    "                stop_on_validation = True, \n",
    "                evaluator_object = evaluator_validation_early_stopping,\n",
    "                lower_validatons_allowed = 5, \n",
    "                validation_metric = \"MAP\")\n",
    "\n",
    "result_dict, _ = evaluator_test.evaluateRecommender(recommender)"
   ]
  },
  {
   "cell_type": "code",
   "execution_count": 38,
   "metadata": {},
   "outputs": [
    {
     "name": "stdout",
     "output_type": "stream",
     "text": [
      "PureSVDRecommender Computing SVD decomposition...\n",
      "PureSVDRecommender Computing SVD decomposition... Done!\n",
      "SequentialEvaluator: Processed 22001 ( 31.48% ) in 30.86 seconds. Users per second: 713\n",
      "SequentialEvaluator: Processed 44883 ( 64.23% ) in 60.86 seconds. Users per second: 737\n",
      "SequentialEvaluator: Processed 67001 ( 95.88% ) in 91.48 seconds. Users per second: 732\n",
      "SequentialEvaluator: Processed 69878 ( 100.00% ) in 94.60 seconds. Users per second: 739\n"
     ]
    }
   ],
   "source": [
    "recommender = PureSVDRecommender(URM_train)\n",
    "recommender.fit()\n",
    "\n",
    "result_dict, _ = evaluator_test.evaluateRecommender(recommender)"
   ]
  },
  {
   "cell_type": "code",
   "execution_count": null,
   "metadata": {},
   "outputs": [],
   "source": []
  }
 ],
 "metadata": {
  "anaconda-cloud": {},
  "kernelspec": {
   "display_name": "Python 3",
   "language": "python",
   "name": "python3"
  },
  "language_info": {
   "codemirror_mode": {
    "name": "ipython",
    "version": 3
   },
   "file_extension": ".py",
   "mimetype": "text/x-python",
   "name": "python",
   "nbconvert_exporter": "python",
   "pygments_lexer": "ipython3",
   "version": "3.6.6"
  }
 },
 "nbformat": 4,
 "nbformat_minor": 1
}
