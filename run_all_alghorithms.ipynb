{
 "cells": [
  {
   "cell_type": "code",
   "execution_count": 1,
   "metadata": {},
   "outputs": [],
   "source": [
    "from SLIM_BPR.Cython.SLIM_BPR_Cython import SLIM_BPR_Cython\n",
    "from SLIM_ElasticNet.SLIMElasticNetRecommender import SLIMElasticNetRecommender\n",
    "\n",
    "from MatrixFactorization.Cython.MatrixFactorization_Cython import MatrixFactorization_BPR_Cython, MatrixFactorization_FunkSVD_Cython\n",
    "from MatrixFactorization.PureSVD import PureSVDRecommender\n",
    "\n",
    "from Base.NonPersonalizedRecommender import TopPop, Random\n",
    "\n",
    "from KNN.UserKNNCFRecommender import UserKNNCFRecommender\n",
    "from KNN.ItemKNNCFRecommender import ItemKNNCFRecommender\n",
    "from KNN.ItemKNNCBFRecommender import ItemKNNCBFRecommender\n",
    "from KNN.ItemKNNRatingHybridRecommender import ItemKNNRatingHybridRecommender\n",
    "from KNN.ItemKNNRatingHybridRecommender3 import ItemKNNRatingHybridRecommender3\n",
    "from KNN.ItemKNNRatingHybridRecommender4 import ItemKNNRatingHybridRecommender4\n",
    "\n",
    "from KNN.ItemKNNScoresHybridRecommender import ItemKNNScoresHybridRecommender\n",
    "from KNN.ItemKNNScoresHybridRecommender3 import ItemKNNScoresHybridRecommender3\n",
    "\n",
    "from KNN.ItemKNNSimilarityHybridRecommender import ItemKNNSimilarityHybridRecommender\n",
    "from KNN.ItemKNNSimilarityHybridRecommender3 import ItemKNNSimilarityHybridRecommender3\n",
    "from KNN.ItemKNNSimilarityHybridRecommender4 import ItemKNNSimilarityHybridRecommender4\n",
    "\n",
    "\n",
    "\n",
    "#from GraphBased.RP3betaRecommender import RP3betaRecommender\n",
    "#from GraphBased.P3alphaRecommender import P3alphaRecommender"
   ]
  },
  {
   "cell_type": "code",
   "execution_count": 4,
   "metadata": {},
   "outputs": [],
   "source": [
    "import traceback, os\n",
    "import scipy.sparse\n",
    "import pandas as pd\n",
    "import numpy as np\n",
    "\n",
    "URM_all = scipy.sparse.load_npz('./Matrix/URM_all_matrix.npz')\n",
    "ICM_all = scipy.sparse.load_npz('./Matrix/ICM_all_matrix.npz')\n",
    "URM_train = scipy.sparse.load_npz('./Matrix/URM_train_matrix.npz')\n",
    "URM_test = scipy.sparse.load_npz('./Matrix/URM_test_matrix.npz')\n",
    "\n",
    "#Load playlistsIDS\n",
    "data_playlists= pd.read_csv('all/train.csv',low_memory = False)\n",
    "userID=data_playlists.playlist_id.unique()"
   ]
  },
  {
   "cell_type": "markdown",
   "metadata": {},
   "source": [
    "CFrecommender = ItemKNNCFRecommender(URM_all)\n",
    "CFrecommender.fit()\n",
    "\n",
    "SLIMrecommender = SLIM_BPR_Cython(URM_all)\n",
    "SLIMrecommender.fit()\n",
    "\n",
    "CBFrecommender = ItemKNNCBFRecommender(ICM_all,URM_all)\n",
    "CBFrecommender.fit()\n",
    "\n",
    "SLIMErecommender = SLIMElasticNetRecommender(URM_all)\n",
    "SLIMErecommender.fit()\n",
    "\n",
    "UCFRecommender = UserKNNCFRecommender(URM_all)\n",
    "UCFRecommender.fit()\n",
    "\n",
    "\n"
   ]
  },
  {
   "cell_type": "code",
   "execution_count": null,
   "metadata": {},
   "outputs": [
    {
     "name": "stdout",
     "output_type": "stream",
     "text": [
      "Algorithm: <class 'SLIM_ElasticNet.SLIMElasticNetRecommender.SLIMElasticNetRecommender'>\n"
     ]
    }
   ],
   "source": [
    "recommender_list = [\n",
    "    #Random,\n",
    "    #TopPop,\n",
    "    #P3alphaRecommender,\n",
    "    #RP3betaRecommender,\n",
    "    #ItemKNNCFRecommender,\n",
    "    #UserKNNCFRecommender,\n",
    "    #MatrixFactorization_BPR_Cython,\n",
    "    #MatrixFactorization_FunkSVD_Cython,\n",
    "    #PureSVDRecommender,\n",
    "    #SLIM_BPR_Cython,\n",
    "    SLIMElasticNetRecommender\n",
    "    ]\n",
    "\n",
    "\n",
    "from Base.Evaluation.Evaluator import SequentialEvaluator\n",
    "\n",
    "evaluator = SequentialEvaluator(URM_test, [10], exclude_seen=True)\n",
    "\n",
    "\n",
    "output_root_path = \"result_experiments/\"\n",
    "\n",
    "# If directory does not exist, create\n",
    "if not os.path.exists(output_root_path):\n",
    "    os.makedirs(output_root_path)\n",
    "\n",
    "\n",
    "logFile = open(output_root_path + \"result_all_algorithms.txt\", \"a\")\n",
    "\n",
    "\n",
    "for recommender_class in recommender_list:\n",
    "\n",
    "    try:\n",
    "\n",
    "        print(\"Algorithm: {}\".format(recommender_class))\n",
    "\n",
    "\n",
    "        recommender = recommender_class(URM_train)\n",
    "        recommender.fit()\n",
    "        result=recommender.evaluateRecommendations(URM_test)\n",
    "        print(\"Recommender MAP is= {}\".format(result[\"MAP\"]))\n",
    "        #results_run, results_run_string = evaluator.evaluateRecommender(recommender)\n",
    "       \n",
    "        #print(\"Algorithm: {}, results: \\n{}\".format(recommender.__class__, results_run_string))\n",
    "        #logFile.write(\"Algorithm: {}, results: \\n{}\\n\".format(recommender.__class__, results_run_string))\n",
    "        #logFile.flush()\n",
    " \n",
    "        \n",
    "    except Exception as e:\n",
    "        traceback.print_exc()\n",
    "        logFile.write(\"Algorithm: {} - Exception: {}\\n\".format(recommender_class, str(e)))\n",
    "        logFile.flush()"
   ]
  },
  {
   "cell_type": "markdown",
   "metadata": {},
   "source": [
    "#PER ESEGUIRE SUBMISSION\n",
    "from createSubmission import create_submission\n",
    "\n",
    "recommender=UserKNNCFRecommender(URM_all)\n",
    "recommender.fit()\n",
    "\n",
    "create_submission(recommender)"
   ]
  },
  {
   "cell_type": "markdown",
   "metadata": {},
   "source": [
    "import re\n",
    "\n",
    "results_run_string\n",
    "m = re.search('MAP: (.+?),', results_run_string)\n",
    "if m:\n",
    "    found = m.group(1)\n",
    "found"
   ]
  },
  {
   "cell_type": "markdown",
   "metadata": {},
   "source": [
    "#PER CONTROLLARI DOPPIONI RACCOMANDAZIONE\n",
    "racommandation = CFrecommender.recommend(userToPredict)\n",
    "racommandation\n",
    "\n",
    "target_playlist= pd.read_csv('all/target_playlists.csv',low_memory = False)\n",
    "target_playlistIds=target_playlist.playlist_id.values\n",
    "target_playlistIds.sort()\n",
    "songs=data_playlists.loc[data_playlists['playlist_id'].isin(target_playlistIds)]\n",
    "songs\n",
    "\n",
    "counter=0\n",
    "for x in target_playlistIds:\n",
    "        raccomandate=racommandation[counter]\n",
    "        dfsongs = songs.loc[songs['playlist_id'] == x]\n",
    "        for row in dfsongs.itertuples():\n",
    "            if row.track_id in raccomandate:\n",
    "                print(\"ERRORRRR\")\n",
    "                print(x)\n",
    "                print(row.track_id)\n",
    "        counter=counter+1\n",
    "\n"
   ]
  },
  {
   "cell_type": "code",
   "execution_count": null,
   "metadata": {},
   "outputs": [],
   "source": [
    "from createSubmission import create_submission\n",
    "\n",
    "\n",
    "SuperSlimSimilarity=ItemKNNSimilarityHybridRecommender(URM_all,SLIMrecommender,SLIMErecommender,\"l2\")\n",
    "SuperSlimSimilarity.fit(alpha=0.5, topK=600)\n",
    "\n",
    "recommender=ItemKNNSimilarityHybridRecommender3(URM_all,SuperSlimSimilarity, CFrecommender,CBFrecommender,\"l2\")\n",
    "recommender.fit(topK=600,alpha=0.6,beta=0.2,gamma=0.2)\n",
    "\n",
    "create_submission(recommender)"
   ]
  }
 ],
 "metadata": {
  "kernelspec": {
   "display_name": "Python 3",
   "language": "python",
   "name": "python3"
  },
  "language_info": {
   "codemirror_mode": {
    "name": "ipython",
    "version": 3
   },
   "file_extension": ".py",
   "mimetype": "text/x-python",
   "name": "python",
   "nbconvert_exporter": "python",
   "pygments_lexer": "ipython3",
   "version": "3.6.4"
  }
 },
 "nbformat": 4,
 "nbformat_minor": 2
}
