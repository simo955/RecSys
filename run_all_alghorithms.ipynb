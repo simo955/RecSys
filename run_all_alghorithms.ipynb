{
 "cells": [
  {
   "cell_type": "code",
   "execution_count": 1,
   "metadata": {},
   "outputs": [],
   "source": [
    "#from SLIM_BPR.Cython.SLIM_BPR_Cython import SLIM_BPR_Cython\n",
    "#from SLIM_ElasticNet.SLIMElasticNetRecommender import SLIMElasticNetRecommender\n",
    "\n",
    "#from MatrixFactorization.Cython.MatrixFactorization_Cython import MatrixFactorization_BPR_Cython, MatrixFactorization_FunkSVD_Cython\n",
    "#from MatrixFactorization.PureSVD import PureSVDRecommender\n",
    "\n",
    "from Base.NonPersonalizedRecommender import TopPop, Random\n",
    "\n",
    "#from KNN.UserKNNCFRecommender import UserKNNCFRecommender\n",
    "from KNN.ItemKNNCFRecommender import ItemKNNCFRecommender\n",
    "from KNN.ItemKNNCBFRecommender import ItemKNNCBFRecommender\n",
    "#from GraphBased.RP3betaRecommender import RP3betaRecommender\n",
    "#from GraphBased.P3alphaRecommender import P3alphaRecommender\n",
    "\n"
   ]
  },
  {
   "cell_type": "code",
   "execution_count": 2,
   "metadata": {},
   "outputs": [],
   "source": [
    "import traceback, os\n",
    "import scipy.sparse\n",
    "URM_all = scipy.sparse.load_npz('URM_all_matrix.npz')\n",
    "ICM_all = scipy.sparse.load_npz('ICM_all_matrix.npz')\n",
    "URM_train = scipy.sparse.load_npz('URM_train_matrix.npz')\n",
    "URM_test = scipy.sparse.load_npz('URM_test_matrix.npz')"
   ]
  },
  {
   "cell_type": "code",
   "execution_count": 4,
   "metadata": {},
   "outputs": [
    {
     "name": "stdout",
     "output_type": "stream",
     "text": [
      "Algorithm: <class 'KNN.ItemKNNCFRecommender.ItemKNNCFRecommender'>\n",
      "Unable to load Cython Compute_Similarity, reverting to Python\n",
      "Similarity column 16600 ( 80 % ), 550.40 column/sec, elapsed time 0.50 min\n",
      "Similarity column 20600 ( 100 % ), 550.66 column/sec, elapsed time 0.62 min\n",
      "SequentialEvaluator: Processed 9676 ( 100.00% ) in 8.40 seconds. Users per second: 1152\n",
      "Algorithm: <class 'KNN.ItemKNNCFRecommender.ItemKNNCFRecommender'>, results: \n",
      "CUTOFF: 10 - ROC_AUC: 0.2942410, PRECISION: 0.1757979, RECALL: 0.1740760, RECALL_TEST_LEN: 0.1757979, MAP: 0.0833598, MRR: 0.2279479, NDCG: 0.1429207, F1: 0.1749327, HIT_RATE: 0.7549607, ARHR: 0.2864341, NOVELTY: 0.0056869, DIVERSITY_MEAN_INTER_LIST: 0.9874448, DIVERSITY_HERFINDAHL: 0.9987343, COVERAGE_ITEM: 0.2877635, COVERAGE_USER: 0.1918091, DIVERSITY_GINI: 0.2373247, SHANNON_ENTROPY: 10.6938154, \n",
      "\n"
     ]
    }
   ],
   "source": [
    "recommender_list = [\n",
    "    #Random,\n",
    "    #TopPop,\n",
    "    #P3alphaRecommender,\n",
    "    #RP3betaRecommender,\n",
    "    ItemKNNCFRecommender,\n",
    "    #UserKNNCFRecommender,\n",
    "    #MatrixFactorization_BPR_Cython,\n",
    "   #MatrixFactorization_FunkSVD_Cython,\n",
    "   #PureSVDRecommender,\n",
    "    #SLIM_BPR_Cython,\n",
    "    #SLIMElasticNetRecommender\n",
    "    ]\n",
    "\n",
    "\n",
    "from Base.Evaluation.Evaluator import SequentialEvaluator\n",
    "\n",
    "evaluator = SequentialEvaluator(URM_test, [10], exclude_seen=True)\n",
    "\n",
    "\n",
    "output_root_path = \"result_experiments/\"\n",
    "\n",
    "# If directory does not exist, create\n",
    "if not os.path.exists(output_root_path):\n",
    "    os.makedirs(output_root_path)\n",
    "\n",
    "\n",
    "logFile = open(output_root_path + \"result_all_algorithms.txt\", \"a\")\n",
    "\n",
    "\n",
    "for recommender_class in recommender_list:\n",
    "\n",
    "    try:\n",
    "\n",
    "        print(\"Algorithm: {}\".format(recommender_class))\n",
    "\n",
    "\n",
    "        recommender = recommender_class(URM_train)\n",
    "        recommender.fit()\n",
    "        results_run, results_run_string = evaluator.evaluateRecommender(recommender)\n",
    "       \n",
    "        print(\"Algorithm: {}, results: \\n{}\".format(recommender.__class__, results_run_string))\n",
    "        logFile.write(\"Algorithm: {}, results: \\n{}\\n\".format(recommender.__class__, results_run_string))\n",
    "        logFile.flush()\n",
    "\n",
    "\n",
    "        \n",
    "    except Exception as e:\n",
    "        traceback.print_exc()\n",
    "        logFile.write(\"Algorithm: {} - Exception: {}\\n\".format(recommender_class, str(e)))\n",
    "        logFile.flush()\n",
    "\n"
   ]
  },
  {
   "cell_type": "code",
   "execution_count": 5,
   "metadata": {},
   "outputs": [
    {
     "name": "stdout",
     "output_type": "stream",
     "text": [
      "Unable to load Cython Compute_Similarity, reverting to Python\n",
      "Similarity column 16800 ( 81 % ), 558.78 column/sec, elapsed time 0.50 min\n",
      "Similarity column 20600 ( 100 % ), 551.22 column/sec, elapsed time 0.62 min\n"
     ]
    },
    {
     "ename": "TypeError",
     "evalue": "recommend() got an unexpected keyword argument 'n'",
     "output_type": "error",
     "traceback": [
      "\u001b[0;31m---------------------------------------------------------------------------\u001b[0m",
      "\u001b[0;31mTypeError\u001b[0m                                 Traceback (most recent call last)",
      "\u001b[0;32m<ipython-input-5-4ca125341e7a>\u001b[0m in \u001b[0;36m<module>\u001b[0;34m()\u001b[0m\n\u001b[1;32m      4\u001b[0m \u001b[0mrecommender\u001b[0m\u001b[0;34m.\u001b[0m\u001b[0mfit\u001b[0m\u001b[0;34m(\u001b[0m\u001b[0;34m)\u001b[0m\u001b[0;34m\u001b[0m\u001b[0m\n\u001b[1;32m      5\u001b[0m \u001b[0;34m\u001b[0m\u001b[0m\n\u001b[0;32m----> 6\u001b[0;31m \u001b[0mcreate_submission\u001b[0m\u001b[0;34m(\u001b[0m\u001b[0mrecommender\u001b[0m\u001b[0;34m)\u001b[0m\u001b[0;34m\u001b[0m\u001b[0m\n\u001b[0m",
      "\u001b[0;32m~/Documents/GitHub/newRecSysExam/createSubmission.py\u001b[0m in \u001b[0;36mcreate_submission\u001b[0;34m(recommender)\u001b[0m\n\u001b[1;32m     25\u001b[0m \u001b[0;34m\u001b[0m\u001b[0m\n\u001b[1;32m     26\u001b[0m     \u001b[0;32mfor\u001b[0m \u001b[0mrow\u001b[0m \u001b[0;32min\u001b[0m \u001b[0mCFRec\u001b[0m\u001b[0;34m.\u001b[0m\u001b[0mitertuples\u001b[0m\u001b[0;34m(\u001b[0m\u001b[0;34m)\u001b[0m\u001b[0;34m:\u001b[0m\u001b[0;34m\u001b[0m\u001b[0m\n\u001b[0;32m---> 27\u001b[0;31m         \u001b[0mCFRec\u001b[0m\u001b[0;34m.\u001b[0m\u001b[0mat\u001b[0m\u001b[0;34m[\u001b[0m\u001b[0mrow\u001b[0m\u001b[0;34m.\u001b[0m\u001b[0mIndex\u001b[0m\u001b[0;34m,\u001b[0m \u001b[0;34m\"track_ids\"\u001b[0m\u001b[0;34m]\u001b[0m\u001b[0;34m=\u001b[0m \u001b[0mrecommendationSS\u001b[0m\u001b[0;34m(\u001b[0m\u001b[0mrow\u001b[0m\u001b[0;34m.\u001b[0m\u001b[0mplaylist_id\u001b[0m\u001b[0;34m)\u001b[0m\u001b[0;34m\u001b[0m\u001b[0m\n\u001b[0m\u001b[1;32m     28\u001b[0m \u001b[0;34m\u001b[0m\u001b[0m\n\u001b[1;32m     29\u001b[0m     \u001b[0mCFRec\u001b[0m\u001b[0;34m.\u001b[0m\u001b[0mto_csv\u001b[0m\u001b[0;34m(\u001b[0m\u001b[0;34m\"Submissions/newSubmission.csv\"\u001b[0m\u001b[0;34m,\u001b[0m \u001b[0mencoding\u001b[0m\u001b[0;34m=\u001b[0m\u001b[0;34m'utf-8'\u001b[0m\u001b[0;34m,\u001b[0m \u001b[0mindex\u001b[0m\u001b[0;34m=\u001b[0m\u001b[0;32mFalse\u001b[0m\u001b[0;34m)\u001b[0m\u001b[0;34m\u001b[0m\u001b[0m\n",
      "\u001b[0;32m~/Documents/GitHub/newRecSysExam/createSubmission.py\u001b[0m in \u001b[0;36mrecommendationSS\u001b[0;34m(playlistID)\u001b[0m\n\u001b[1;32m     13\u001b[0m         \u001b[0mtrackList\u001b[0m\u001b[0;34m=\u001b[0m \u001b[0mplayListTrack\u001b[0m\u001b[0;34m[\u001b[0m\u001b[0;34m\"track_id\"\u001b[0m\u001b[0;34m]\u001b[0m\u001b[0;34m\u001b[0m\u001b[0m\n\u001b[1;32m     14\u001b[0m \u001b[0;34m\u001b[0m\u001b[0m\n\u001b[0;32m---> 15\u001b[0;31m         \u001b[0mreccomandationList\u001b[0m \u001b[0;34m=\u001b[0m \u001b[0mRecommenderCSV\u001b[0m\u001b[0;34m.\u001b[0m\u001b[0mrecommend\u001b[0m\u001b[0;34m(\u001b[0m\u001b[0mplaylistID\u001b[0m\u001b[0;34m,\u001b[0m\u001b[0mn\u001b[0m\u001b[0;34m=\u001b[0m\u001b[0;36m100\u001b[0m\u001b[0;34m)\u001b[0m\u001b[0;34m\u001b[0m\u001b[0m\n\u001b[0m\u001b[1;32m     16\u001b[0m \u001b[0;34m\u001b[0m\u001b[0m\n\u001b[1;32m     17\u001b[0m         \u001b[0mrecommendation\u001b[0m \u001b[0;34m=\u001b[0m \u001b[0mlist\u001b[0m\u001b[0;34m(\u001b[0m\u001b[0;34m)\u001b[0m\u001b[0;34m\u001b[0m\u001b[0m\n",
      "\u001b[0;31mTypeError\u001b[0m: recommend() got an unexpected keyword argument 'n'"
     ]
    }
   ],
   "source": [
    "from createSubmission import create_submission\n",
    "\n",
    "recommender=ItemKNNCFRecommender(URM_all)\n",
    "recommender.fit()\n",
    "\n",
    "create_submission(recommender)"
   ]
  },
  {
   "cell_type": "code",
   "execution_count": null,
   "metadata": {},
   "outputs": [],
   "source": []
  }
 ],
 "metadata": {
  "kernelspec": {
   "display_name": "Python 3",
   "language": "python",
   "name": "python3"
  },
  "language_info": {
   "codemirror_mode": {
    "name": "ipython",
    "version": 3
   },
   "file_extension": ".py",
   "mimetype": "text/x-python",
   "name": "python",
   "nbconvert_exporter": "python",
   "pygments_lexer": "ipython3",
   "version": "3.6.4"
  }
 },
 "nbformat": 4,
 "nbformat_minor": 2
}
