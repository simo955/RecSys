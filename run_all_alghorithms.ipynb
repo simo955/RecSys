{
 "cells": [
  {
   "cell_type": "code",
   "execution_count": 1,
   "metadata": {},
   "outputs": [],
   "source": [
    "#from SLIM_BPR.Cython.SLIM_BPR_Cython import SLIM_BPR_Cython\n",
    "#from SLIM_ElasticNet.SLIMElasticNetRecommender import SLIMElasticNetRecommender\n",
    "\n",
    "#from MatrixFactorization.Cython.MatrixFactorization_Cython import MatrixFactorization_BPR_Cython, MatrixFactorization_FunkSVD_Cython\n",
    "#from MatrixFactorization.PureSVD import PureSVDRecommender\n",
    "\n",
    "from Base.NonPersonalizedRecommender import TopPop, Random\n",
    "\n",
    "#from KNN.UserKNNCFRecommender import UserKNNCFRecommender\n",
    "from KNN.ItemKNNCFRecommender import ItemKNNCFRecommender\n",
    "from KNN.ItemKNNCBFRecommender import ItemKNNCBFRecommender\n",
    "#from GraphBased.RP3betaRecommender import RP3betaRecommender\n",
    "#from GraphBased.P3alphaRecommender import P3alphaRecommender\n",
    "\n"
   ]
  },
  {
   "cell_type": "code",
   "execution_count": 2,
   "metadata": {},
   "outputs": [],
   "source": [
    "import traceback, os\n",
    "import scipy.sparse\n",
    "URM_all = scipy.sparse.load_npz('URM_all_matrix.npz')\n",
    "ICM_all = scipy.sparse.load_npz('ICM_all_matrix.npz')\n",
    "URM_train = scipy.sparse.load_npz('URM_train_matrix.npz')\n",
    "URM_test = scipy.sparse.load_npz('URM_test_matrix.npz')"
   ]
  },
  {
   "cell_type": "code",
   "execution_count": 4,
   "metadata": {},
   "outputs": [
    {
     "name": "stdout",
     "output_type": "stream",
     "text": [
      "Algorithm: <class 'KNN.ItemKNNCFRecommender.ItemKNNCFRecommender'>\n",
      "Unable to load Cython Compute_Similarity, reverting to Python\n",
      "Similarity column 20600 ( 100 % ), 693.04 column/sec, elapsed time 0.50 min\n",
      "Ignoring 0 Items\n",
      "Ignoring 0 Users\n",
      "SequentialEvaluator: Processed 9676 ( 100.00% ) in 8.27 seconds. Users per second: 1171\n",
      "Algorithm: <class 'KNN.ItemKNNCFRecommender.ItemKNNCFRecommender'>, results: {'roc_auc': 0.2942410365689611, 'precision': 0.175797874958168, 'recall': 0.17407603696451884, 'recall_test_len': 0.175797874958168, 'map': 0.08335977693520995, 'mrr': 0.22794789267505158, 'ndcg': 0.14292065444725413, 'f1': 0.17493271911204525, 'hit_rate': 0.7549607275733774, 'arhr': 0.28643407514583713, 'novelty': 0.005686893722092346, 'diversity_mean_inter_list': 0.9874447980191272, 'diversity_herfindahl': 0.9987342747089195, 'coverage_item': 0.28776350860189, 'coverage_user': 0.19180906315664276, 'diversity_gini': 0.2373246930119993, 'shannon_entropy': 10.693815350198495}\n"
     ]
    }
   ],
   "source": [
    "\n",
    "recommender_list = [\n",
    "    #Random,\n",
    "    #TopPop,\n",
    "    #P3alphaRecommender,\n",
    "    #RP3betaRecommender,\n",
    "    ItemKNNCFRecommender,\n",
    "    #UserKNNCFRecommender,\n",
    "    #MatrixFactorization_BPR_Cython,\n",
    "   #MatrixFactorization_FunkSVD_Cython,\n",
    "   #PureSVDRecommender,\n",
    "    #SLIM_BPR_Cython,\n",
    "    #SLIMElasticNetRecommender\n",
    "    ]\n",
    "\n",
    "\n",
    "from Base.Evaluation.Evaluator import SequentialEvaluator\n",
    "\n",
    "#evaluator = SequentialEvaluator(URM_test, [5, 20], exclude_seen=True)\n",
    "\n",
    "\n",
    "output_root_path = \"result_experiments/\"\n",
    "\n",
    "# If directory does not exist, create\n",
    "if not os.path.exists(output_root_path):\n",
    "    os.makedirs(output_root_path)\n",
    "\n",
    "\n",
    "logFile = open(output_root_path + \"result_all_algorithms.txt\", \"a\")\n",
    "\n",
    "\n",
    "for recommender_class in recommender_list:\n",
    "\n",
    "    try:\n",
    "\n",
    "        print(\"Algorithm: {}\".format(recommender_class))\n",
    "\n",
    "\n",
    "        recommender = recommender_class(URM_train)\n",
    "        recommender.fit()\n",
    "\n",
    "        \n",
    "        results_run = recommender.evaluateRecommendations(URM_test, at=10, exclude_seen=True)\n",
    "        print(\"Algorithm: {}, results: {}\".format(recommender.__class__, results_run))\n",
    "\n",
    "        '''\n",
    "        results_run, results_run_string = evaluator.evaluateRecommender(recommender)\n",
    "        print(\"Algorithm: {}, results: \\n{}\".format(recommender.__class__, results_run_string))\n",
    "        logFile.write(\"Algorithm: {}, results: \\n{}\\n\".format(recommender.__class__, results_run_string))\n",
    "        logFile.flush()\n",
    "        '''\n",
    "\n",
    "        \n",
    "    except Exception as e:\n",
    "        traceback.print_exc()\n",
    "        logFile.write(\"Algorithm: {} - Exception: {}\\n\".format(recommender_class, str(e)))\n",
    "        logFile.flush()\n",
    "\n"
   ]
  },
  {
   "cell_type": "code",
   "execution_count": null,
   "metadata": {},
   "outputs": [],
   "source": []
  }
 ],
 "metadata": {
  "kernelspec": {
   "display_name": "Python 3",
   "language": "python",
   "name": "python3"
  },
  "language_info": {
   "codemirror_mode": {
    "name": "ipython",
    "version": 3
   },
   "file_extension": ".py",
   "mimetype": "text/x-python",
   "name": "python",
   "nbconvert_exporter": "python",
   "pygments_lexer": "ipython3",
   "version": "3.6.4"
  }
 },
 "nbformat": 4,
 "nbformat_minor": 2
}
