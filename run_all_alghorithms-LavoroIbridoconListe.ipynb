{
 "cells": [
  {
   "cell_type": "code",
   "execution_count": 2,
   "metadata": {},
   "outputs": [],
   "source": [
    "from SLIM_BPR.Cython.SLIM_BPR_Cython import SLIM_BPR_Cython\n",
    "from SLIM_ElasticNet.SLIMElasticNetRecommender import SLIMElasticNetRecommender\n",
    "\n",
    "from MatrixFactorization.Cython.MatrixFactorization_Cython import MatrixFactorization_BPR_Cython, MatrixFactorization_FunkSVD_Cython\n",
    "from MatrixFactorization.PureSVD import PureSVDRecommender\n",
    "\n",
    "from Base.NonPersonalizedRecommender import TopPop, Random\n",
    "\n",
    "from KNN.UserKNNCFRecommender import UserKNNCFRecommender\n",
    "from KNN.ItemKNNCFRecommender import ItemKNNCFRecommender\n",
    "from KNN.ItemKNNCBFRecommender import ItemKNNCBFRecommender\n",
    "\n",
    "from KNN.ItemKNNScoresHybridRecommender import ItemKNNScoresHybridRecommender\n",
    "from KNN.ItemKNNScoresHybridRecommender3 import ItemKNNScoresHybridRecommender3\n",
    "\n",
    "from KNN.ItemKNNSimilarityHybridRecommender import ItemKNNSimilarityHybridRecommender\n",
    "from KNN.ItemKNNSimilarityHybridRecommender3 import ItemKNNSimilarityHybridRecommender3\n",
    "from KNN.ItemKNNSimilarityHybridRecommender4 import ItemKNNSimilarityHybridRecommender4\n",
    "\n",
    "from KNN.UserKNNCBFRecommender import UserKNNCBFRecommender\n",
    "\n",
    "from KNN.HybridScoresProva import HybridScoresProva\n",
    "from evaluation_function import evaluate_algorithm\n",
    "\n",
    "\n",
    "#from GraphBased.RP3betaRecommender import RP3betaRecommender\n",
    "from GraphBased.P3alphaRecommender import P3alphaRecommender"
   ]
  },
  {
   "cell_type": "code",
   "execution_count": 3,
   "metadata": {},
   "outputs": [],
   "source": [
    "import traceback, os\n",
    "import scipy.sparse\n",
    "import pandas as pd\n",
    "import numpy as np\n",
    "\n",
    "URM_all = scipy.sparse.load_npz('./Matrix/URM_all_matrix.npz')\n",
    "ICM_all = scipy.sparse.load_npz('./Matrix/ICM_all_matrix.npz')\n",
    "URM_train = scipy.sparse.load_npz('./Matrix/URM_train_matrix.npz')\n",
    "URM_test = scipy.sparse.load_npz('./Matrix/URM_test_matrix.npz')\n",
    "\n",
    "\n",
    "#Load playlistsIDS\n",
    "train_df= pd.read_csv('all/train.csv',low_memory = False)\n",
    "all_userID=train_df.playlist_id.unique()\n",
    "part1=all_userID[all_userID> 5000]\n"
   ]
  },
  {
   "cell_type": "code",
   "execution_count": null,
   "metadata": {},
   "outputs": [
    {
     "name": "stdout",
     "output_type": "stream",
     "text": [
      "Similarity column 20635 ( 100 % ), 2981.47 column/sec, elapsed time 0.12 min\n",
      "SLIM_BPR_Cython: Estimated memory required for similarity matrix of 20635 items is 1703.21 MB\n",
      "Processed 1211791 ( 100.00% ) in 8.92 seconds. BPR loss is 1.06E+00. Sample per second: 135853\n",
      "SLIM_BPR_Recommender: Epoch 1 of 100. Elapsed time 0.37 min\n",
      "Processed 1211791 ( 100.00% ) in 9.54 seconds. BPR loss is 2.38E+00. Sample per second: 127002\n",
      "SLIM_BPR_Recommender: Epoch 2 of 100. Elapsed time 0.52 min\n",
      "Processed 1211791 ( 100.00% ) in 7.14 seconds. BPR loss is 3.29E+00. Sample per second: 169722\n",
      "SLIM_BPR_Recommender: Epoch 3 of 100. Elapsed time 0.63 min\n",
      "Processed 1211791 ( 100.00% ) in 6.58 seconds. BPR loss is 4.05E+00. Sample per second: 184289\n",
      "SLIM_BPR_Recommender: Epoch 4 of 100. Elapsed time 0.73 min\n",
      "Processed 1211791 ( 100.00% ) in 8.19 seconds. BPR loss is 4.67E+00. Sample per second: 147909\n",
      "SLIM_BPR_Recommender: Epoch 5 of 100. Elapsed time 0.86 min\n",
      "Processed 1211791 ( 100.00% ) in 6.65 seconds. BPR loss is 5.23E+00. Sample per second: 182237\n",
      "SLIM_BPR_Recommender: Epoch 6 of 100. Elapsed time 0.97 min\n",
      "Processed 1211791 ( 100.00% ) in 9.54 seconds. BPR loss is 5.75E+00. Sample per second: 127043\n",
      "SLIM_BPR_Recommender: Epoch 7 of 100. Elapsed time 1.12 min\n",
      "Processed 1211791 ( 100.00% ) in 7.59 seconds. BPR loss is 6.22E+00. Sample per second: 159686\n",
      "SLIM_BPR_Recommender: Epoch 8 of 100. Elapsed time 1.23 min\n",
      "Processed 1211791 ( 100.00% ) in 6.69 seconds. BPR loss is 6.65E+00. Sample per second: 181038\n",
      "SLIM_BPR_Recommender: Epoch 9 of 100. Elapsed time 1.34 min\n",
      "Processed 1211791 ( 100.00% ) in 6.69 seconds. BPR loss is 7.05E+00. Sample per second: 181194\n",
      "SLIM_BPR_Recommender: Epoch 10 of 100. Elapsed time 1.44 min\n",
      "Processed 1211791 ( 100.00% ) in 6.65 seconds. BPR loss is 7.43E+00. Sample per second: 182238\n",
      "SLIM_BPR_Recommender: Epoch 11 of 100. Elapsed time 1.54 min\n",
      "Processed 1211791 ( 100.00% ) in 6.64 seconds. BPR loss is 7.75E+00. Sample per second: 182478\n",
      "SLIM_BPR_Recommender: Epoch 12 of 100. Elapsed time 1.63 min\n",
      "Processed 1211791 ( 100.00% ) in 8.13 seconds. BPR loss is 8.13E+00. Sample per second: 148992\n",
      "SLIM_BPR_Recommender: Epoch 13 of 100. Elapsed time 1.76 min\n",
      "Processed 1211791 ( 100.00% ) in 7.61 seconds. BPR loss is 8.45E+00. Sample per second: 159225\n",
      "SLIM_BPR_Recommender: Epoch 14 of 100. Elapsed time 1.88 min\n",
      "Processed 1211791 ( 100.00% ) in 6.74 seconds. BPR loss is 8.76E+00. Sample per second: 179665\n",
      "SLIM_BPR_Recommender: Epoch 15 of 100. Elapsed time 1.99 min\n",
      "Processed 1211791 ( 100.00% ) in 7.51 seconds. BPR loss is 9.05E+00. Sample per second: 161256\n",
      "SLIM_BPR_Recommender: Epoch 16 of 100. Elapsed time 2.10 min\n",
      "Processed 1211791 ( 100.00% ) in 8.93 seconds. BPR loss is 9.35E+00. Sample per second: 135681\n",
      "SLIM_BPR_Recommender: Epoch 17 of 100. Elapsed time 2.24 min\n",
      "Processed 1211791 ( 100.00% ) in 8.13 seconds. BPR loss is 9.64E+00. Sample per second: 149071\n",
      "SLIM_BPR_Recommender: Epoch 18 of 100. Elapsed time 2.36 min\n",
      "Processed 1211791 ( 100.00% ) in 9.66 seconds. BPR loss is 9.89E+00. Sample per second: 125422\n",
      "SLIM_BPR_Recommender: Epoch 19 of 100. Elapsed time 2.52 min\n",
      "Processed 1211791 ( 100.00% ) in 13.66 seconds. BPR loss is 1.01E+01. Sample per second: 88693\n",
      "SLIM_BPR_Recommender: Epoch 20 of 100. Elapsed time 2.74 min\n",
      "Processed 1211791 ( 100.00% ) in 11.81 seconds. BPR loss is 1.04E+01. Sample per second: 102569\n",
      "SLIM_BPR_Recommender: Epoch 21 of 100. Elapsed time 2.92 min\n",
      "Processed 1211791 ( 100.00% ) in 14.44 seconds. BPR loss is 1.06E+01. Sample per second: 83937\n",
      "SLIM_BPR_Recommender: Epoch 22 of 100. Elapsed time 3.15 min\n",
      "Processed 1211791 ( 100.00% ) in 11.92 seconds. BPR loss is 1.08E+01. Sample per second: 101696\n",
      "SLIM_BPR_Recommender: Epoch 23 of 100. Elapsed time 3.34 min\n",
      "Processed 1211791 ( 100.00% ) in 15.32 seconds. BPR loss is 1.11E+01. Sample per second: 79117\n",
      "SLIM_BPR_Recommender: Epoch 24 of 100. Elapsed time 3.58 min\n",
      "Processed 1211791 ( 100.00% ) in 11.35 seconds. BPR loss is 1.13E+01. Sample per second: 106800\n",
      "SLIM_BPR_Recommender: Epoch 25 of 100. Elapsed time 3.76 min\n",
      "Processed 1211791 ( 100.00% ) in 11.46 seconds. BPR loss is 1.15E+01. Sample per second: 105765\n",
      "SLIM_BPR_Recommender: Epoch 26 of 100. Elapsed time 3.95 min\n",
      "Processed 1211791 ( 100.00% ) in 10.49 seconds. BPR loss is 1.17E+01. Sample per second: 115482\n",
      "SLIM_BPR_Recommender: Epoch 27 of 100. Elapsed time 4.12 min\n",
      "Processed 1211791 ( 100.00% ) in 8.61 seconds. BPR loss is 1.19E+01. Sample per second: 140733\n",
      "SLIM_BPR_Recommender: Epoch 28 of 100. Elapsed time 4.25 min\n",
      "Processed 1211791 ( 100.00% ) in 8.52 seconds. BPR loss is 1.21E+01. Sample per second: 142259\n",
      "SLIM_BPR_Recommender: Epoch 29 of 100. Elapsed time 4.38 min\n",
      "Processed 1211791 ( 100.00% ) in 9.43 seconds. BPR loss is 1.23E+01. Sample per second: 128447\n",
      "SLIM_BPR_Recommender: Epoch 30 of 100. Elapsed time 4.53 min\n",
      "Processed 1211791 ( 100.00% ) in 8.50 seconds. BPR loss is 1.25E+01. Sample per second: 142583\n",
      "SLIM_BPR_Recommender: Epoch 31 of 100. Elapsed time 4.67 min\n",
      "Processed 1211791 ( 100.00% ) in 8.54 seconds. BPR loss is 1.27E+01. Sample per second: 141876\n",
      "SLIM_BPR_Recommender: Epoch 32 of 100. Elapsed time 4.80 min\n",
      "Processed 1211791 ( 100.00% ) in 8.91 seconds. BPR loss is 1.28E+01. Sample per second: 135989\n",
      "SLIM_BPR_Recommender: Epoch 33 of 100. Elapsed time 4.94 min\n",
      "Processed 1211791 ( 100.00% ) in 9.89 seconds. BPR loss is 1.30E+01. Sample per second: 122534\n",
      "SLIM_BPR_Recommender: Epoch 34 of 100. Elapsed time 5.09 min\n",
      "Processed 1211791 ( 100.00% ) in 9.43 seconds. BPR loss is 1.32E+01. Sample per second: 128500\n",
      "SLIM_BPR_Recommender: Epoch 35 of 100. Elapsed time 5.23 min\n",
      "Processed 1211791 ( 100.00% ) in 7.92 seconds. BPR loss is 1.34E+01. Sample per second: 152953\n",
      "SLIM_BPR_Recommender: Epoch 36 of 100. Elapsed time 5.36 min\n",
      "Processed 1211791 ( 100.00% ) in 6.94 seconds. BPR loss is 1.35E+01. Sample per second: 174620\n",
      "SLIM_BPR_Recommender: Epoch 37 of 100. Elapsed time 5.46 min\n",
      "Processed 1211791 ( 100.00% ) in 6.87 seconds. BPR loss is 1.37E+01. Sample per second: 176478\n",
      "SLIM_BPR_Recommender: Epoch 38 of 100. Elapsed time 5.56 min\n",
      "Processed 1211791 ( 100.00% ) in 7.01 seconds. BPR loss is 1.39E+01. Sample per second: 172773\n",
      "SLIM_BPR_Recommender: Epoch 39 of 100. Elapsed time 5.66 min\n",
      "Processed 1211791 ( 100.00% ) in 1013.21 seconds. BPR loss is 1.40E+01. Sample per second: 1196\n",
      "SLIM_BPR_Recommender: Epoch 40 of 100. Elapsed time 22.54 min\n",
      "Processed 1211791 ( 100.00% ) in 7.27 seconds. BPR loss is 1.42E+01. Sample per second: 166739\n",
      "SLIM_BPR_Recommender: Epoch 41 of 100. Elapsed time 22.66 min\n",
      "Processed 1211791 ( 100.00% ) in 7.88 seconds. BPR loss is 1.43E+01. Sample per second: 153878\n",
      "SLIM_BPR_Recommender: Epoch 42 of 100. Elapsed time 22.79 min\n",
      "Processed 1211791 ( 100.00% ) in 7.54 seconds. BPR loss is 1.45E+01. Sample per second: 160811\n",
      "SLIM_BPR_Recommender: Epoch 43 of 100. Elapsed time 22.90 min\n",
      "Processed 1211791 ( 100.00% ) in 6.74 seconds. BPR loss is 1.47E+01. Sample per second: 179830\n",
      "SLIM_BPR_Recommender: Epoch 44 of 100. Elapsed time 23.00 min\n",
      "Processed 1211791 ( 100.00% ) in 6.76 seconds. BPR loss is 1.48E+01. Sample per second: 179232\n",
      "SLIM_BPR_Recommender: Epoch 45 of 100. Elapsed time 23.10 min\n",
      "Processed 1211791 ( 100.00% ) in 7.25 seconds. BPR loss is 1.49E+01. Sample per second: 167088\n",
      "SLIM_BPR_Recommender: Epoch 46 of 100. Elapsed time 23.21 min\n",
      "Processed 1211791 ( 100.00% ) in 6.63 seconds. BPR loss is 1.50E+01. Sample per second: 182706\n",
      "SLIM_BPR_Recommender: Epoch 47 of 100. Elapsed time 23.32 min\n",
      "Processed 1211791 ( 100.00% ) in 6.73 seconds. BPR loss is 1.52E+01. Sample per second: 180174\n",
      "SLIM_BPR_Recommender: Epoch 48 of 100. Elapsed time 23.42 min\n",
      "Processed 1211791 ( 100.00% ) in 6.81 seconds. BPR loss is 1.53E+01. Sample per second: 177841\n",
      "SLIM_BPR_Recommender: Epoch 49 of 100. Elapsed time 23.52 min\n",
      "Processed 1211791 ( 100.00% ) in 6.70 seconds. BPR loss is 1.55E+01. Sample per second: 180787\n",
      "SLIM_BPR_Recommender: Epoch 50 of 100. Elapsed time 23.62 min\n",
      "Processed 1211791 ( 100.00% ) in 6.68 seconds. BPR loss is 1.56E+01. Sample per second: 181322\n",
      "SLIM_BPR_Recommender: Epoch 51 of 100. Elapsed time 23.72 min\n",
      "Processed 1211791 ( 100.00% ) in 6.58 seconds. BPR loss is 1.57E+01. Sample per second: 184066\n"
     ]
    },
    {
     "name": "stdout",
     "output_type": "stream",
     "text": [
      "SLIM_BPR_Recommender: Epoch 52 of 100. Elapsed time 23.82 min\n",
      "Processed 1211791 ( 100.00% ) in 6.57 seconds. BPR loss is 1.58E+01. Sample per second: 184338\n",
      "SLIM_BPR_Recommender: Epoch 53 of 100. Elapsed time 23.92 min\n",
      "Processed 1211791 ( 100.00% ) in 6.74 seconds. BPR loss is 1.59E+01. Sample per second: 179896\n",
      "SLIM_BPR_Recommender: Epoch 54 of 100. Elapsed time 24.02 min\n",
      "Processed 1211791 ( 100.00% ) in 6.76 seconds. BPR loss is 1.61E+01. Sample per second: 179182\n",
      "SLIM_BPR_Recommender: Epoch 55 of 100. Elapsed time 24.12 min\n",
      "Processed 1211791 ( 100.00% ) in 7.11 seconds. BPR loss is 1.62E+01. Sample per second: 170343\n",
      "SLIM_BPR_Recommender: Epoch 56 of 100. Elapsed time 24.23 min\n",
      "Processed 1211791 ( 100.00% ) in 5.95 seconds. BPR loss is 1.63E+01. Sample per second: 203536\n",
      "SLIM_BPR_Recommender: Epoch 57 of 100. Elapsed time 24.32 min\n",
      "Processed 1211791 ( 100.00% ) in 6.82 seconds. BPR loss is 1.64E+01. Sample per second: 177572\n",
      "SLIM_BPR_Recommender: Epoch 58 of 100. Elapsed time 24.42 min\n",
      "Processed 1211791 ( 100.00% ) in 6.86 seconds. BPR loss is 1.65E+01. Sample per second: 176521\n",
      "SLIM_BPR_Recommender: Epoch 59 of 100. Elapsed time 24.52 min\n",
      "Processed 1211791 ( 100.00% ) in 6.86 seconds. BPR loss is 1.67E+01. Sample per second: 176708\n",
      "SLIM_BPR_Recommender: Epoch 60 of 100. Elapsed time 24.62 min\n",
      "Processed 1211791 ( 100.00% ) in 7.05 seconds. BPR loss is 1.68E+01. Sample per second: 171789\n",
      "SLIM_BPR_Recommender: Epoch 61 of 100. Elapsed time 24.73 min\n",
      "Processed 1211791 ( 100.00% ) in 5.99 seconds. BPR loss is 1.69E+01. Sample per second: 202295\n",
      "SLIM_BPR_Recommender: Epoch 62 of 100. Elapsed time 24.82 min\n",
      "Processed 1211791 ( 100.00% ) in 6.49 seconds. BPR loss is 1.70E+01. Sample per second: 186719\n",
      "SLIM_BPR_Recommender: Epoch 63 of 100. Elapsed time 24.92 min\n",
      "Processed 1211791 ( 100.00% ) in 6.35 seconds. BPR loss is 1.71E+01. Sample per second: 190909\n",
      "SLIM_BPR_Recommender: Epoch 64 of 100. Elapsed time 25.01 min\n",
      "Processed 1211791 ( 100.00% ) in 6.28 seconds. BPR loss is 1.73E+01. Sample per second: 193061\n",
      "SLIM_BPR_Recommender: Epoch 65 of 100. Elapsed time 25.11 min\n",
      "Processed 1211791 ( 100.00% ) in 6.17 seconds. BPR loss is 1.74E+01. Sample per second: 196419\n",
      "SLIM_BPR_Recommender: Epoch 66 of 100. Elapsed time 25.21 min\n",
      "Processed 1211791 ( 100.00% ) in 6.41 seconds. BPR loss is 1.74E+01. Sample per second: 189017\n",
      "SLIM_BPR_Recommender: Epoch 67 of 100. Elapsed time 25.31 min\n",
      "Processed 1211791 ( 100.00% ) in 6.54 seconds. BPR loss is 1.76E+01. Sample per second: 185408\n",
      "SLIM_BPR_Recommender: Epoch 68 of 100. Elapsed time 25.42 min\n",
      "Processed 1211791 ( 100.00% ) in 6.74 seconds. BPR loss is 1.76E+01. Sample per second: 179725\n",
      "SLIM_BPR_Recommender: Epoch 69 of 100. Elapsed time 25.52 min\n",
      "Processed 1211791 ( 100.00% ) in 7.59 seconds. BPR loss is 1.78E+01. Sample per second: 159666\n",
      "SLIM_BPR_Recommender: Epoch 70 of 100. Elapsed time 25.63 min\n",
      "Processed 1211791 ( 100.00% ) in 8.17 seconds. BPR loss is 1.79E+01. Sample per second: 148392\n",
      "SLIM_BPR_Recommender: Epoch 71 of 100. Elapsed time 25.76 min\n",
      "Processed 1211791 ( 100.00% ) in 6.78 seconds. BPR loss is 1.80E+01. Sample per second: 178679\n",
      "SLIM_BPR_Recommender: Epoch 72 of 100. Elapsed time 25.87 min\n",
      "Processed 1211791 ( 100.00% ) in 8.47 seconds. BPR loss is 1.80E+01. Sample per second: 143082\n"
     ]
    }
   ],
   "source": [
    "CFrecommender = ItemKNNCFRecommender(URM_all)\n",
    "CFrecommender.fit()\n",
    "\n",
    "SLIMrecommender = SLIM_BPR_Cython(URM_all)\n",
    "SLIMrecommender.fit()\n",
    "\n",
    "CBFrecommender = ItemKNNCBFRecommender(ICM_all,URM_all)\n",
    "CBFrecommender.fit()\n",
    "\n",
    "SLIMErecommender = SLIMElasticNetRecommender(URM_all)\n",
    "SLIMErecommender.fit()\n",
    "\n",
    "UCFRecommender = UserKNNCFRecommender(URM_all)\n",
    "UCFRecommender.fit()"
   ]
  },
  {
   "cell_type": "code",
   "execution_count": 6,
   "metadata": {
    "scrolled": false
   },
   "outputs": [
    {
     "name": "stdout",
     "output_type": "stream",
     "text": [
      "Evaluated user 0 of 50446\n",
      "Evaluated user 10000 of 50446\n",
      "Evaluated user 20000 of 50446\n",
      "Evaluated user 30000 of 50446\n",
      "Evaluated user 40000 of 50446\n",
      "Evaluated user 50000 of 50446\n",
      "Recommender performance is: Precision = 0.0714, Recall = 0.1646, MAP = 0.0788\n"
     ]
    },
    {
     "data": {
      "text/plain": [
       "{'MAP': 0.07882404117714804,\n",
       " 'precision': 0.07143447705663866,\n",
       " 'recall': 0.16462491068292273}"
      ]
     },
     "execution_count": 6,
     "metadata": {},
     "output_type": "execute_result"
    }
   ],
   "source": [
    "Hrec= HybridScoresProva (URM_train,CFrecommender,CBFrecommender)\n",
    "Hrec.fit(part1)\n",
    "evaluate_algorithm(URM_test,Hrec)"
   ]
  },
  {
   "cell_type": "code",
   "execution_count": 7,
   "metadata": {},
   "outputs": [
    {
     "name": "stdout",
     "output_type": "stream",
     "text": [
      "SequentialEvaluator: Processed 9676 ( 100.00% ) in 9.03 seconds. Users per second: 1071\n",
      "Recommender MAP is= 0.08346309681605421\n"
     ]
    }
   ],
   "source": [
    "result = CFrecommender.evaluateRecommendations(URM_test)\n",
    "print(\"Recommender MAP is= {}\".format(result[\"MAP\"]))"
   ]
  },
  {
   "cell_type": "code",
   "execution_count": null,
   "metadata": {},
   "outputs": [],
   "source": []
  },
  {
   "cell_type": "code",
   "execution_count": null,
   "metadata": {},
   "outputs": [],
   "source": []
  }
 ],
 "metadata": {
  "kernelspec": {
   "display_name": "Python 3",
   "language": "python",
   "name": "python3"
  },
  "language_info": {
   "codemirror_mode": {
    "name": "ipython",
    "version": 3
   },
   "file_extension": ".py",
   "mimetype": "text/x-python",
   "name": "python",
   "nbconvert_exporter": "python",
   "pygments_lexer": "ipython3",
   "version": "3.6.4"
  }
 },
 "nbformat": 4,
 "nbformat_minor": 2
}
