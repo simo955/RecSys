{
 "cells": [
  {
   "cell_type": "markdown",
   "metadata": {},
   "source": [
    "Hrec= HybridScoresProva (URM_train,CFrecommender,CBFrecommender)\n",
    "Hrec.fit(part1)\n",
    "evaluate_algorithm(URM_test,Hrec)"
   ]
  },
  {
   "cell_type": "code",
   "execution_count": 2,
   "metadata": {},
   "outputs": [],
   "source": [
    "from SLIM_BPR.Cython.SLIM_BPR_Cython import SLIM_BPR_Cython\n",
    "from SLIM_ElasticNet.SLIMElasticNetRecommender import SLIMElasticNetRecommender\n",
    "\n",
    "from MatrixFactorization.Cython.MatrixFactorization_Cython import MatrixFactorization_BPR_Cython, MatrixFactorization_FunkSVD_Cython\n",
    "from MatrixFactorization.PureSVD import PureSVDRecommender\n",
    "\n",
    "from Base.NonPersonalizedRecommender import TopPop, Random\n",
    "\n",
    "from KNN.UserKNNCFRecommender import UserKNNCFRecommender\n",
    "from KNN.ItemKNNCFRecommender import ItemKNNCFRecommender\n",
    "from KNN.ItemKNNCBFRecommender import ItemKNNCBFRecommender\n",
    "\n",
    "from KNN.ItemKNNScoresHybridRecommender import ItemKNNScoresHybridRecommender\n",
    "from KNN.ItemKNNScoresHybridRecommender3 import ItemKNNScoresHybridRecommender3\n",
    "\n",
    "from KNN.ItemKNNSimilarityHybridRecommender import ItemKNNSimilarityHybridRecommender\n",
    "from KNN.ItemKNNSimilarityHybridRecommender3 import ItemKNNSimilarityHybridRecommender3\n",
    "from KNN.ItemKNNSimilarityHybridRecommender4 import ItemKNNSimilarityHybridRecommender4\n",
    "\n",
    "from KNN.UserKNNCBFRecommender import UserKNNCBFRecommender\n",
    "\n",
    "from KNN.HybridScoresProva import HybridScoresProva\n",
    "from evaluation_function import evaluate_algorithm\n",
    "\n",
    "\n",
    "#from GraphBased.RP3betaRecommender import RP3betaRecommender\n",
    "from GraphBased.P3alphaRecommender import P3alphaRecommender"
   ]
  },
  {
   "cell_type": "code",
   "execution_count": 3,
   "metadata": {},
   "outputs": [],
   "source": [
    "import traceback, os\n",
    "import scipy.sparse\n",
    "import pandas as pd\n",
    "import numpy as np\n",
    "\n",
    "URM_all = scipy.sparse.load_npz('./Matrix/URM_all_matrix.npz')\n",
    "ICM_all = scipy.sparse.load_npz('./Matrix/ICM_all_matrix.npz')\n",
    "URM_train = scipy.sparse.load_npz('./Matrix/URM_train_matrix.npz')\n",
    "URM_test = scipy.sparse.load_npz('./Matrix/URM_test_matrix.npz')\n",
    "\n",
    "\n",
    "#Load playlistsIDS\n",
    "train_df= pd.read_csv('all/train.csv',low_memory = False)\n",
    "all_userID=train_df.playlist_id.unique()\n",
    "part1=all_userID[all_userID> 5000]\n"
   ]
  },
  {
   "cell_type": "code",
   "execution_count": 9,
   "metadata": {
    "scrolled": false
   },
   "outputs": [
    {
     "name": "stdout",
     "output_type": "stream",
     "text": [
      "Similarity column 20635 ( 100 % ), 2656.00 column/sec, elapsed time 0.13 min\n",
      "SLIM_BPR_Cython: Estimated memory required for similarity matrix of 20635 items is 1703.21 MB\n",
      "Processed 1165777 ( 100.00% ) in 8.41 seconds. BPR loss is 9.46E-01. Sample per second: 138699\n",
      "SLIM_BPR_Recommender: Epoch 1 of 100. Elapsed time 0.38 min\n",
      "Processed 1165777 ( 100.00% ) in 6.43 seconds. BPR loss is 2.14E+00. Sample per second: 181343\n",
      "SLIM_BPR_Recommender: Epoch 2 of 100. Elapsed time 0.48 min\n",
      "Processed 1165777 ( 100.00% ) in 6.74 seconds. BPR loss is 2.98E+00. Sample per second: 173070\n",
      "SLIM_BPR_Recommender: Epoch 3 of 100. Elapsed time 0.58 min\n",
      "Processed 1165777 ( 100.00% ) in 6.87 seconds. BPR loss is 3.66E+00. Sample per second: 169777\n",
      "SLIM_BPR_Recommender: Epoch 4 of 100. Elapsed time 0.69 min\n",
      "Processed 1165777 ( 100.00% ) in 7.62 seconds. BPR loss is 4.27E+00. Sample per second: 153065\n",
      "SLIM_BPR_Recommender: Epoch 5 of 100. Elapsed time 0.80 min\n",
      "Processed 1165777 ( 100.00% ) in 7.13 seconds. BPR loss is 4.79E+00. Sample per second: 163405\n",
      "SLIM_BPR_Recommender: Epoch 6 of 100. Elapsed time 0.91 min\n",
      "Processed 1165777 ( 100.00% ) in 6.53 seconds. BPR loss is 5.24E+00. Sample per second: 178495\n",
      "SLIM_BPR_Recommender: Epoch 7 of 100. Elapsed time 1.01 min\n",
      "Processed 1165777 ( 100.00% ) in 7.16 seconds. BPR loss is 5.69E+00. Sample per second: 162847\n",
      "SLIM_BPR_Recommender: Epoch 8 of 100. Elapsed time 1.12 min\n",
      "Processed 1165777 ( 100.00% ) in 6.48 seconds. BPR loss is 6.11E+00. Sample per second: 180042\n",
      "SLIM_BPR_Recommender: Epoch 9 of 100. Elapsed time 1.23 min\n",
      "Processed 1165777 ( 100.00% ) in 6.68 seconds. BPR loss is 6.46E+00. Sample per second: 174544\n",
      "SLIM_BPR_Recommender: Epoch 10 of 100. Elapsed time 1.33 min\n",
      "Processed 1165777 ( 100.00% ) in 6.96 seconds. BPR loss is 6.84E+00. Sample per second: 167533\n",
      "SLIM_BPR_Recommender: Epoch 11 of 100. Elapsed time 1.44 min\n",
      "Processed 1165777 ( 100.00% ) in 7.05 seconds. BPR loss is 7.19E+00. Sample per second: 165336\n",
      "SLIM_BPR_Recommender: Epoch 12 of 100. Elapsed time 1.54 min\n",
      "Processed 1165777 ( 100.00% ) in 5.89 seconds. BPR loss is 7.47E+00. Sample per second: 197978\n",
      "SLIM_BPR_Recommender: Epoch 13 of 100. Elapsed time 1.64 min\n",
      "Processed 1165777 ( 100.00% ) in 6.93 seconds. BPR loss is 7.79E+00. Sample per second: 168208\n",
      "SLIM_BPR_Recommender: Epoch 14 of 100. Elapsed time 1.74 min\n",
      "Processed 1165777 ( 100.00% ) in 7.18 seconds. BPR loss is 8.10E+00. Sample per second: 162418\n",
      "SLIM_BPR_Recommender: Epoch 15 of 100. Elapsed time 1.84 min\n",
      "Processed 1165777 ( 100.00% ) in 6.18 seconds. BPR loss is 8.37E+00. Sample per second: 188665\n",
      "SLIM_BPR_Recommender: Epoch 16 of 100. Elapsed time 1.94 min\n",
      "Processed 1165777 ( 100.00% ) in 6.14 seconds. BPR loss is 8.64E+00. Sample per second: 189719\n",
      "SLIM_BPR_Recommender: Epoch 17 of 100. Elapsed time 2.04 min\n",
      "Processed 1165777 ( 100.00% ) in 6.79 seconds. BPR loss is 8.91E+00. Sample per second: 171676\n",
      "SLIM_BPR_Recommender: Epoch 18 of 100. Elapsed time 2.15 min\n",
      "Processed 1165777 ( 100.00% ) in 7.34 seconds. BPR loss is 9.16E+00. Sample per second: 158746\n",
      "SLIM_BPR_Recommender: Epoch 19 of 100. Elapsed time 2.26 min\n",
      "Processed 1165777 ( 100.00% ) in 5.84 seconds. BPR loss is 9.43E+00. Sample per second: 199509\n",
      "SLIM_BPR_Recommender: Epoch 20 of 100. Elapsed time 2.35 min\n",
      "Processed 1165777 ( 100.00% ) in 5.95 seconds. BPR loss is 9.62E+00. Sample per second: 195906\n",
      "SLIM_BPR_Recommender: Epoch 21 of 100. Elapsed time 2.44 min\n",
      "Processed 1165777 ( 100.00% ) in 5.58 seconds. BPR loss is 9.85E+00. Sample per second: 208970\n",
      "SLIM_BPR_Recommender: Epoch 22 of 100. Elapsed time 2.52 min\n",
      "Processed 1165777 ( 100.00% ) in 5.20 seconds. BPR loss is 1.01E+01. Sample per second: 224329\n",
      "SLIM_BPR_Recommender: Epoch 23 of 100. Elapsed time 2.59 min\n",
      "Processed 1165777 ( 100.00% ) in 4.81 seconds. BPR loss is 1.03E+01. Sample per second: 242530\n",
      "SLIM_BPR_Recommender: Epoch 24 of 100. Elapsed time 2.67 min\n",
      "Processed 1165777 ( 100.00% ) in 5.42 seconds. BPR loss is 1.05E+01. Sample per second: 215082\n",
      "SLIM_BPR_Recommender: Epoch 25 of 100. Elapsed time 2.75 min\n",
      "Processed 1165777 ( 100.00% ) in 5.03 seconds. BPR loss is 1.07E+01. Sample per second: 231806\n",
      "SLIM_BPR_Recommender: Epoch 26 of 100. Elapsed time 2.82 min\n",
      "Processed 1165777 ( 100.00% ) in 4.67 seconds. BPR loss is 1.09E+01. Sample per second: 249604\n",
      "SLIM_BPR_Recommender: Epoch 27 of 100. Elapsed time 2.90 min\n",
      "Processed 1165777 ( 100.00% ) in 5.31 seconds. BPR loss is 1.11E+01. Sample per second: 219646\n",
      "SLIM_BPR_Recommender: Epoch 28 of 100. Elapsed time 2.98 min\n",
      "Processed 1165777 ( 100.00% ) in 4.95 seconds. BPR loss is 1.13E+01. Sample per second: 235412\n",
      "SLIM_BPR_Recommender: Epoch 29 of 100. Elapsed time 3.05 min\n",
      "Processed 1165777 ( 100.00% ) in 5.05 seconds. BPR loss is 1.15E+01. Sample per second: 231003\n",
      "SLIM_BPR_Recommender: Epoch 30 of 100. Elapsed time 3.12 min\n",
      "Processed 1165777 ( 100.00% ) in 4.70 seconds. BPR loss is 1.17E+01. Sample per second: 247891\n",
      "SLIM_BPR_Recommender: Epoch 31 of 100. Elapsed time 3.20 min\n",
      "Processed 1165777 ( 100.00% ) in 5.29 seconds. BPR loss is 1.18E+01. Sample per second: 220540\n",
      "SLIM_BPR_Recommender: Epoch 32 of 100. Elapsed time 3.28 min\n",
      "Processed 1165777 ( 100.00% ) in 4.96 seconds. BPR loss is 1.20E+01. Sample per second: 235214\n",
      "SLIM_BPR_Recommender: Epoch 33 of 100. Elapsed time 3.35 min\n",
      "Processed 1165777 ( 100.00% ) in 5.62 seconds. BPR loss is 1.22E+01. Sample per second: 207555\n",
      "SLIM_BPR_Recommender: Epoch 34 of 100. Elapsed time 3.43 min\n",
      "Processed 1165777 ( 100.00% ) in 5.25 seconds. BPR loss is 1.24E+01. Sample per second: 222038\n",
      "SLIM_BPR_Recommender: Epoch 35 of 100. Elapsed time 3.51 min\n",
      "Processed 1165777 ( 100.00% ) in 4.31 seconds. BPR loss is 1.25E+01. Sample per second: 270541\n",
      "SLIM_BPR_Recommender: Epoch 36 of 100. Elapsed time 3.58 min\n",
      "Processed 1165777 ( 100.00% ) in 4.93 seconds. BPR loss is 1.27E+01. Sample per second: 236555\n",
      "SLIM_BPR_Recommender: Epoch 37 of 100. Elapsed time 3.65 min\n",
      "Processed 1165777 ( 100.00% ) in 5.58 seconds. BPR loss is 1.28E+01. Sample per second: 209027\n",
      "SLIM_BPR_Recommender: Epoch 38 of 100. Elapsed time 3.73 min\n",
      "Processed 1165777 ( 100.00% ) in 5.24 seconds. BPR loss is 1.30E+01. Sample per second: 222352\n",
      "SLIM_BPR_Recommender: Epoch 39 of 100. Elapsed time 3.81 min\n",
      "Processed 1165777 ( 100.00% ) in 5.05 seconds. BPR loss is 1.31E+01. Sample per second: 231017\n",
      "SLIM_BPR_Recommender: Epoch 40 of 100. Elapsed time 3.89 min\n",
      "Processed 1165777 ( 100.00% ) in 4.83 seconds. BPR loss is 1.33E+01. Sample per second: 241526\n",
      "SLIM_BPR_Recommender: Epoch 41 of 100. Elapsed time 3.97 min\n",
      "Processed 1165777 ( 100.00% ) in 5.30 seconds. BPR loss is 1.34E+01. Sample per second: 219978\n",
      "SLIM_BPR_Recommender: Epoch 42 of 100. Elapsed time 4.04 min\n",
      "Processed 1165777 ( 100.00% ) in 4.91 seconds. BPR loss is 1.36E+01. Sample per second: 237321\n",
      "SLIM_BPR_Recommender: Epoch 43 of 100. Elapsed time 4.12 min\n",
      "Processed 1165777 ( 100.00% ) in 5.45 seconds. BPR loss is 1.37E+01. Sample per second: 213965\n",
      "SLIM_BPR_Recommender: Epoch 44 of 100. Elapsed time 4.20 min\n",
      "Processed 1165777 ( 100.00% ) in 4.91 seconds. BPR loss is 1.38E+01. Sample per second: 237630\n",
      "SLIM_BPR_Recommender: Epoch 45 of 100. Elapsed time 4.27 min\n",
      "Processed 1165777 ( 100.00% ) in 5.59 seconds. BPR loss is 1.40E+01. Sample per second: 208544\n",
      "SLIM_BPR_Recommender: Epoch 46 of 100. Elapsed time 4.35 min\n",
      "Processed 1165777 ( 100.00% ) in 5.26 seconds. BPR loss is 1.41E+01. Sample per second: 221823\n",
      "SLIM_BPR_Recommender: Epoch 47 of 100. Elapsed time 4.43 min\n",
      "Processed 1165777 ( 100.00% ) in 4.87 seconds. BPR loss is 1.42E+01. Sample per second: 239368\n",
      "SLIM_BPR_Recommender: Epoch 48 of 100. Elapsed time 4.50 min\n",
      "Processed 1165777 ( 100.00% ) in 5.52 seconds. BPR loss is 1.44E+01. Sample per second: 211204\n",
      "SLIM_BPR_Recommender: Epoch 49 of 100. Elapsed time 4.58 min\n",
      "Processed 1165777 ( 100.00% ) in 4.99 seconds. BPR loss is 1.45E+01. Sample per second: 233797\n",
      "SLIM_BPR_Recommender: Epoch 50 of 100. Elapsed time 4.66 min\n",
      "Processed 1165777 ( 100.00% ) in 5.58 seconds. BPR loss is 1.46E+01. Sample per second: 208937\n",
      "SLIM_BPR_Recommender: Epoch 51 of 100. Elapsed time 4.73 min\n",
      "Processed 1165777 ( 100.00% ) in 5.22 seconds. BPR loss is 1.48E+01. Sample per second: 223126\n"
     ]
    },
    {
     "name": "stdout",
     "output_type": "stream",
     "text": [
      "SLIM_BPR_Recommender: Epoch 52 of 100. Elapsed time 4.81 min\n",
      "Processed 1165777 ( 100.00% ) in 4.85 seconds. BPR loss is 1.49E+01. Sample per second: 240422\n",
      "SLIM_BPR_Recommender: Epoch 53 of 100. Elapsed time 4.89 min\n",
      "Processed 1165777 ( 100.00% ) in 5.49 seconds. BPR loss is 1.50E+01. Sample per second: 212231\n",
      "SLIM_BPR_Recommender: Epoch 54 of 100. Elapsed time 4.96 min\n",
      "Processed 1165777 ( 100.00% ) in 5.12 seconds. BPR loss is 1.51E+01. Sample per second: 227815\n",
      "SLIM_BPR_Recommender: Epoch 55 of 100. Elapsed time 5.04 min\n",
      "Processed 1165777 ( 100.00% ) in 4.84 seconds. BPR loss is 1.52E+01. Sample per second: 240815\n",
      "SLIM_BPR_Recommender: Epoch 56 of 100. Elapsed time 5.12 min\n",
      "Processed 1165777 ( 100.00% ) in 5.41 seconds. BPR loss is 1.54E+01. Sample per second: 215375\n",
      "SLIM_BPR_Recommender: Epoch 57 of 100. Elapsed time 5.20 min\n",
      "Processed 1165777 ( 100.00% ) in 4.98 seconds. BPR loss is 1.55E+01. Sample per second: 233987\n",
      "SLIM_BPR_Recommender: Epoch 58 of 100. Elapsed time 5.27 min\n",
      "Processed 1165777 ( 100.00% ) in 5.83 seconds. BPR loss is 1.56E+01. Sample per second: 200130\n",
      "SLIM_BPR_Recommender: Epoch 59 of 100. Elapsed time 5.35 min\n",
      "Processed 1165777 ( 100.00% ) in 5.50 seconds. BPR loss is 1.57E+01. Sample per second: 212128\n",
      "SLIM_BPR_Recommender: Epoch 60 of 100. Elapsed time 5.43 min\n",
      "Processed 1165777 ( 100.00% ) in 5.04 seconds. BPR loss is 1.58E+01. Sample per second: 231335\n",
      "SLIM_BPR_Recommender: Epoch 61 of 100. Elapsed time 5.51 min\n",
      "Processed 1165777 ( 100.00% ) in 4.55 seconds. BPR loss is 1.59E+01. Sample per second: 256235\n",
      "SLIM_BPR_Recommender: Epoch 62 of 100. Elapsed time 5.58 min\n",
      "Processed 1165777 ( 100.00% ) in 5.18 seconds. BPR loss is 1.60E+01. Sample per second: 225238\n",
      "SLIM_BPR_Recommender: Epoch 63 of 100. Elapsed time 5.66 min\n",
      "Processed 1165777 ( 100.00% ) in 3.82 seconds. BPR loss is 1.61E+01. Sample per second: 305527\n",
      "SLIM_BPR_Recommender: Epoch 64 of 100. Elapsed time 5.72 min\n",
      "Processed 1165777 ( 100.00% ) in 5.03 seconds. BPR loss is 1.62E+01. Sample per second: 231773\n",
      "SLIM_BPR_Recommender: Epoch 65 of 100. Elapsed time 5.79 min\n",
      "Processed 1165777 ( 100.00% ) in 4.68 seconds. BPR loss is 1.63E+01. Sample per second: 249027\n",
      "SLIM_BPR_Recommender: Epoch 66 of 100. Elapsed time 5.87 min\n",
      "Processed 1165777 ( 100.00% ) in 5.33 seconds. BPR loss is 1.64E+01. Sample per second: 218594\n",
      "SLIM_BPR_Recommender: Epoch 67 of 100. Elapsed time 5.94 min\n",
      "Processed 1165777 ( 100.00% ) in 4.64 seconds. BPR loss is 1.65E+01. Sample per second: 251304\n",
      "SLIM_BPR_Recommender: Epoch 68 of 100. Elapsed time 6.02 min\n",
      "Processed 1165777 ( 100.00% ) in 5.28 seconds. BPR loss is 1.66E+01. Sample per second: 220636\n",
      "SLIM_BPR_Recommender: Epoch 69 of 100. Elapsed time 6.09 min\n",
      "Processed 1165777 ( 100.00% ) in 4.91 seconds. BPR loss is 1.68E+01. Sample per second: 237309\n",
      "SLIM_BPR_Recommender: Epoch 70 of 100. Elapsed time 6.17 min\n",
      "Processed 1165777 ( 100.00% ) in 5.78 seconds. BPR loss is 1.68E+01. Sample per second: 201827\n",
      "SLIM_BPR_Recommender: Epoch 71 of 100. Elapsed time 6.25 min\n",
      "Processed 1165777 ( 100.00% ) in 7.62 seconds. BPR loss is 1.69E+01. Sample per second: 152947\n",
      "SLIM_BPR_Recommender: Epoch 72 of 100. Elapsed time 6.37 min\n",
      "Processed 1165777 ( 100.00% ) in 7.21 seconds. BPR loss is 1.71E+01. Sample per second: 161699\n",
      "SLIM_BPR_Recommender: Epoch 73 of 100. Elapsed time 6.48 min\n",
      "Processed 1165777 ( 100.00% ) in 5.83 seconds. BPR loss is 1.71E+01. Sample per second: 200125\n",
      "SLIM_BPR_Recommender: Epoch 74 of 100. Elapsed time 6.57 min\n",
      "Processed 1165777 ( 100.00% ) in 6.47 seconds. BPR loss is 1.72E+01. Sample per second: 180112\n",
      "SLIM_BPR_Recommender: Epoch 75 of 100. Elapsed time 6.66 min\n",
      "Processed 1165777 ( 100.00% ) in 6.61 seconds. BPR loss is 1.73E+01. Sample per second: 176296\n",
      "SLIM_BPR_Recommender: Epoch 76 of 100. Elapsed time 6.77 min\n",
      "Processed 1165777 ( 100.00% ) in 5.65 seconds. BPR loss is 1.74E+01. Sample per second: 206394\n",
      "SLIM_BPR_Recommender: Epoch 77 of 100. Elapsed time 6.85 min\n",
      "Processed 1165777 ( 100.00% ) in 5.69 seconds. BPR loss is 1.75E+01. Sample per second: 204987\n",
      "SLIM_BPR_Recommender: Epoch 78 of 100. Elapsed time 6.93 min\n",
      "Processed 1165777 ( 100.00% ) in 6.01 seconds. BPR loss is 1.76E+01. Sample per second: 194003\n",
      "SLIM_BPR_Recommender: Epoch 79 of 100. Elapsed time 7.02 min\n",
      "Processed 1165777 ( 100.00% ) in 5.64 seconds. BPR loss is 1.77E+01. Sample per second: 206607\n",
      "SLIM_BPR_Recommender: Epoch 80 of 100. Elapsed time 7.12 min\n",
      "Processed 1165777 ( 100.00% ) in 6.08 seconds. BPR loss is 1.78E+01. Sample per second: 191834\n",
      "SLIM_BPR_Recommender: Epoch 81 of 100. Elapsed time 7.21 min\n",
      "Processed 1165777 ( 100.00% ) in 5.28 seconds. BPR loss is 1.79E+01. Sample per second: 220910\n",
      "SLIM_BPR_Recommender: Epoch 82 of 100. Elapsed time 7.29 min\n",
      "Processed 1165777 ( 100.00% ) in 6.06 seconds. BPR loss is 1.79E+01. Sample per second: 192424\n",
      "SLIM_BPR_Recommender: Epoch 83 of 100. Elapsed time 7.39 min\n",
      "Processed 1165777 ( 100.00% ) in 6.11 seconds. BPR loss is 1.80E+01. Sample per second: 190653\n",
      "SLIM_BPR_Recommender: Epoch 84 of 100. Elapsed time 7.49 min\n",
      "Processed 1165777 ( 100.00% ) in 5.03 seconds. BPR loss is 1.82E+01. Sample per second: 231914\n",
      "SLIM_BPR_Recommender: Epoch 85 of 100. Elapsed time 7.57 min\n",
      "Processed 1165777 ( 100.00% ) in 4.70 seconds. BPR loss is 1.82E+01. Sample per second: 248064\n",
      "SLIM_BPR_Recommender: Epoch 86 of 100. Elapsed time 7.65 min\n",
      "Processed 1165777 ( 100.00% ) in 5.14 seconds. BPR loss is 1.83E+01. Sample per second: 226749\n",
      "SLIM_BPR_Recommender: Epoch 87 of 100. Elapsed time 7.72 min\n",
      "Processed 1165777 ( 100.00% ) in 5.91 seconds. BPR loss is 1.83E+01. Sample per second: 197398\n",
      "SLIM_BPR_Recommender: Epoch 88 of 100. Elapsed time 7.82 min\n",
      "Processed 1165777 ( 100.00% ) in 7.24 seconds. BPR loss is 1.84E+01. Sample per second: 160920\n",
      "SLIM_BPR_Recommender: Epoch 89 of 100. Elapsed time 7.93 min\n",
      "Processed 1165777 ( 100.00% ) in 5.65 seconds. BPR loss is 1.85E+01. Sample per second: 206459\n",
      "SLIM_BPR_Recommender: Epoch 90 of 100. Elapsed time 8.02 min\n",
      "Processed 1165777 ( 100.00% ) in 5.51 seconds. BPR loss is 1.86E+01. Sample per second: 211488\n",
      "SLIM_BPR_Recommender: Epoch 91 of 100. Elapsed time 8.10 min\n",
      "Processed 1165777 ( 100.00% ) in 4.94 seconds. BPR loss is 1.87E+01. Sample per second: 235991\n",
      "SLIM_BPR_Recommender: Epoch 92 of 100. Elapsed time 8.17 min\n",
      "Processed 1165777 ( 100.00% ) in 5.38 seconds. BPR loss is 1.88E+01. Sample per second: 216845\n",
      "SLIM_BPR_Recommender: Epoch 93 of 100. Elapsed time 8.24 min\n",
      "Processed 1165777 ( 100.00% ) in 4.99 seconds. BPR loss is 1.88E+01. Sample per second: 233837\n",
      "SLIM_BPR_Recommender: Epoch 94 of 100. Elapsed time 8.32 min\n",
      "Processed 1165777 ( 100.00% ) in 5.66 seconds. BPR loss is 1.89E+01. Sample per second: 206039\n",
      "SLIM_BPR_Recommender: Epoch 95 of 100. Elapsed time 8.40 min\n",
      "Processed 1165777 ( 100.00% ) in 5.22 seconds. BPR loss is 1.89E+01. Sample per second: 223296\n",
      "SLIM_BPR_Recommender: Epoch 96 of 100. Elapsed time 8.48 min\n",
      "Processed 1165777 ( 100.00% ) in 4.68 seconds. BPR loss is 1.91E+01. Sample per second: 249253\n",
      "SLIM_BPR_Recommender: Epoch 97 of 100. Elapsed time 8.55 min\n",
      "Processed 1165777 ( 100.00% ) in 5.35 seconds. BPR loss is 1.92E+01. Sample per second: 217721\n",
      "SLIM_BPR_Recommender: Epoch 98 of 100. Elapsed time 8.63 min\n",
      "Processed 1165777 ( 100.00% ) in 6.05 seconds. BPR loss is 1.92E+01. Sample per second: 192734\n",
      "SLIM_BPR_Recommender: Epoch 99 of 100. Elapsed time 8.72 min\n",
      "Processed 1165777 ( 100.00% ) in 5.66 seconds. BPR loss is 1.92E+01. Sample per second: 206116\n",
      "SLIM_BPR_Recommender: Epoch 100 of 100. Elapsed time 8.82 min\n",
      "Similarity column 20635 ( 100 % ), 5804.53 column/sec, elapsed time 0.06 min\n",
      "Processed 4289 ( 20.79% ) in 5.00 minutes. Items per second: 14\n",
      "Processed 9238 ( 44.77% ) in 10.00 minutes. Items per second: 15\n",
      "Processed 14002 ( 67.86% ) in 15.00 minutes. Items per second: 16\n",
      "Processed 19013 ( 92.14% ) in 20.00 minutes. Items per second: 16\n",
      "Processed 20635 ( 100.00% ) in 21.59 minutes. Items per second: 16\n",
      "Similarity column 50446 ( 100 % ), 1443.03 column/sec, elapsed time 0.58 min\n"
     ]
    }
   ],
   "source": [
    "CFrecommender = ItemKNNCFRecommender(URM_train)\n",
    "CFrecommender.fit()\n",
    "\n",
    "SLIMrecommender = SLIM_BPR_Cython(URM_train)\n",
    "SLIMrecommender.fit()\n",
    "\n",
    "CBFrecommender = ItemKNNCBFRecommender(ICM_all,URM_train)\n",
    "CBFrecommender.fit()\n",
    "\n",
    "SLIMErecommender = SLIMElasticNetRecommender(URM_train)\n",
    "SLIMErecommender.fit()\n",
    "\n",
    "UCFRecommender = UserKNNCFRecommender(URM_train)\n",
    "UCFRecommender.fit()"
   ]
  },
  {
   "cell_type": "code",
   "execution_count": 10,
   "metadata": {},
   "outputs": [
    {
     "name": "stdout",
     "output_type": "stream",
     "text": [
      "PureSVDRecommender Computing SVD decomposition...\n",
      "PureSVDRecommender Computing SVD decomposition... Done!\n",
      "Similarity column 39809 ( 79 % ), 1064.57 column/sec, elapsed time 0.62 min\n",
      "Similarity column 50446 ( 100 % ), 1004.41 column/sec, elapsed time 0.84 min\n"
     ]
    }
   ],
   "source": [
    "SVDrecommender = PureSVDRecommender (URM_train)\n",
    "SVDrecommender.fit(num_factors=1000,n_iter=40)\n",
    "UCFRecommender = UserKNNCFRecommender(URM_train)\n",
    "UCFRecommender.fit()\n",
    "p3Arecommender=P3alphaRecommender(URM_train)\n",
    "p3Arecommender.fit()"
   ]
  },
  {
   "cell_type": "code",
   "execution_count": 15,
   "metadata": {},
   "outputs": [
    {
     "name": "stdout",
     "output_type": "stream",
     "text": [
      "SequentialEvaluator: Processed 9676 ( 100.00% ) in 14.81 seconds. Users per second: 653\n",
      "Recommender MAP is= 0.08630428189737015\n"
     ]
    }
   ],
   "source": [
    "#a is= 0.8370574561096252 ,b is= 0.5748212713395399, c is= 0.10620581835605974\n",
    "Hrecommender=ItemKNNScoresHybridRecommender3(URM_train,UCFRecommender, p3Arecommender,SVDrecommender)\n",
    "Hrecommender.fit(0.80,0.55,0.1)\n",
    "result = Hrecommender.evaluateRecommendations(URM_test)\n",
    "print(\"Recommender MAP is= {}\".format(result[\"MAP\"]))"
   ]
  },
  {
   "cell_type": "code",
   "execution_count": 16,
   "metadata": {},
   "outputs": [
    {
     "name": "stdout",
     "output_type": "stream",
     "text": [
      "SequentialEvaluator: Processed 9676 ( 100.00% ) in 9.94 seconds. Users per second: 974\n",
      "Recommender MAP is= 0.09880054182900656\n"
     ]
    }
   ],
   "source": [
    "SuperSimilarity = ItemKNNSimilarityHybridRecommender(URM_train, SLIMrecommender, SLIMErecommender)\n",
    "SuperSimilarity.fit(alpha=0.5, topK=600)\n",
    "HSimilaritySuper = ItemKNNSimilarityHybridRecommender3(URM_train, SuperSimilarity, CFrecommender,CBFrecommender)\n",
    "HSimilaritySuper.fit(topK=800, alpha=0.7, beta=0.4, gamma=0.2)\n",
    "result = HSimilaritySuper.evaluateRecommendations(URM_test)\n",
    "print(\"Recommender MAP is= {}\".format(result[\"MAP\"]))"
   ]
  },
  {
   "cell_type": "code",
   "execution_count": 21,
   "metadata": {},
   "outputs": [
    {
     "name": "stdout",
     "output_type": "stream",
     "text": [
      "0\n",
      "SequentialEvaluator: Processed 9676 ( 100.00% ) in 17.74 seconds. Users per second: 545\n",
      "Recommender MAP is= 0.08605655007647113\n",
      "0.1\n",
      "SequentialEvaluator: Processed 9676 ( 100.00% ) in 17.85 seconds. Users per second: 542\n",
      "Recommender MAP is= 0.09201224609314608\n",
      "0.2\n",
      "SequentialEvaluator: Processed 9676 ( 100.00% ) in 22.30 seconds. Users per second: 434\n",
      "Recommender MAP is= 0.09503374919643878\n",
      "0.3\n",
      "SequentialEvaluator: Processed 9676 ( 100.00% ) in 18.75 seconds. Users per second: 516\n",
      "Recommender MAP is= 0.09593356948945292\n",
      "0.4\n",
      "SequentialEvaluator: Processed 9676 ( 100.00% ) in 20.53 seconds. Users per second: 471\n",
      "Recommender MAP is= 0.09699821462812619\n",
      "0.5\n",
      "SequentialEvaluator: Processed 9676 ( 100.00% ) in 19.08 seconds. Users per second: 507\n",
      "Recommender MAP is= 0.09770709877910257\n",
      "0.6\n",
      "SequentialEvaluator: Processed 9676 ( 100.00% ) in 19.81 seconds. Users per second: 488\n",
      "Recommender MAP is= 0.0979543749188237\n",
      "0.7\n",
      "SequentialEvaluator: Processed 9676 ( 100.00% ) in 20.09 seconds. Users per second: 482\n",
      "Recommender MAP is= 0.09816359461714508\n",
      "0.8\n",
      "SequentialEvaluator: Processed 9676 ( 100.00% ) in 19.98 seconds. Users per second: 484\n",
      "Recommender MAP is= 0.09845971108862926\n",
      "0.9\n",
      "SequentialEvaluator: Processed 9676 ( 100.00% ) in 20.28 seconds. Users per second: 477\n",
      "Recommender MAP is= 0.09865562393637521\n",
      "1\n",
      "SequentialEvaluator: Processed 9676 ( 100.00% ) in 21.60 seconds. Users per second: 448\n",
      "Recommender MAP is= 0.09880054182900656\n"
     ]
    }
   ],
   "source": [
    "Hrecommender.fit(0.6)\n",
    "HHHrecommender=ItemKNNScoresHybridRecommender(URM_train,HSimilaritySuper,Hrecommender)\n",
    "alpha=[0,0.1,0.2,0.3,0.4,0.5,0.6,0.7,0.8,0.9,1]\n",
    "for a in alpha:\n",
    "    print(a)\n",
    "    HHHrecommender.fit(a)\n",
    "    result = HHHrecommender.evaluateRecommendations(URM_test)\n",
    "    print(\"Recommender MAP is= {}\".format(result[\"MAP\"]))"
   ]
  },
  {
   "cell_type": "code",
   "execution_count": 20,
   "metadata": {},
   "outputs": [
    {
     "name": "stdout",
     "output_type": "stream",
     "text": [
      "0\n",
      "SequentialEvaluator: Processed 9676 ( 100.00% ) in 7.82 seconds. Users per second: 1237\n",
      "Recommender MAP is= 0.07859592796073765\n",
      "0.1\n",
      "SequentialEvaluator: Processed 9676 ( 100.00% ) in 7.89 seconds. Users per second: 1227\n",
      "Recommender MAP is= 0.08011273015284535\n",
      "0.2\n",
      "SequentialEvaluator: Processed 9676 ( 100.00% ) in 7.74 seconds. Users per second: 1250\n",
      "Recommender MAP is= 0.08162191014961857\n",
      "0.3\n",
      "SequentialEvaluator: Processed 9676 ( 100.00% ) in 8.81 seconds. Users per second: 1099\n",
      "Recommender MAP is= 0.0830353894664062\n",
      "0.4\n",
      "SequentialEvaluator: Processed 9676 ( 100.00% ) in 9.50 seconds. Users per second: 1019\n",
      "Recommender MAP is= 0.0841205579970953\n",
      "0.5\n",
      "SequentialEvaluator: Processed 9676 ( 100.00% ) in 9.21 seconds. Users per second: 1050\n",
      "Recommender MAP is= 0.08513879285408062\n",
      "0.6\n",
      "SequentialEvaluator: Processed 9676 ( 100.00% ) in 11.00 seconds. Users per second: 880\n",
      "Recommender MAP is= 0.08605655007647113\n",
      "0.7\n",
      "SequentialEvaluator: Processed 9676 ( 100.00% ) in 10.08 seconds. Users per second: 960\n",
      "Recommender MAP is= 0.08611683650099458\n",
      "0.8\n",
      "SequentialEvaluator: Processed 9676 ( 100.00% ) in 10.98 seconds. Users per second: 881\n",
      "Recommender MAP is= 0.08655099320399688\n",
      "0.9\n",
      "SequentialEvaluator: Processed 9676 ( 100.00% ) in 12.01 seconds. Users per second: 805\n",
      "Recommender MAP is= 0.08554355514291646\n",
      "1\n",
      "SequentialEvaluator: Processed 9676 ( 100.00% ) in 12.89 seconds. Users per second: 751\n",
      "Recommender MAP is= 0.08169599022240999\n"
     ]
    }
   ],
   "source": [
    "Hrecommender=ItemKNNScoresHybridRecommender(URM_train,UCFRecommender, p3Arecommender)\n",
    "alpha=[0,0.1,0.2,0.3,0.4,0.5,0.6,0.7,0.8,0.9,1]\n",
    "for a in alpha:\n",
    "    print(a)\n",
    "    Hrecommender.fit(a)\n",
    "    result = Hrecommender.evaluateRecommendations(URM_test)\n",
    "    print(\"Recommender MAP is= {}\".format(result[\"MAP\"]))\n"
   ]
  },
  {
   "cell_type": "code",
   "execution_count": 25,
   "metadata": {},
   "outputs": [
    {
     "data": {
      "text/plain": [
       "(10000,)"
      ]
     },
     "execution_count": 25,
     "metadata": {},
     "output_type": "execute_result"
    }
   ],
   "source": [
    "#Load playlistsIDS\n",
    "train_df= pd.read_csv('all/train.csv',low_memory = False)\n",
    "targetP_df= pd.read_csv('all/target_playlists.csv',low_memory = False)\n",
    "targetP_df= targetP_df.playlist_id.values"
   ]
  },
  {
   "cell_type": "code",
   "execution_count": 27,
   "metadata": {},
   "outputs": [],
   "source": [
    "URM_all=URM_all.todense()"
   ]
  },
  {
   "cell_type": "code",
   "execution_count": 33,
   "metadata": {},
   "outputs": [],
   "source": [
    "#media delle interazione 23, min=7, max=75\n",
    "resultDf = pd.DataFrame()\n",
    "for x in targetP_df:\n",
    "    c = np.count_nonzero(URM_all[x,])\n",
    "    resultDf.at[x, \"interactions\"]=c\n"
   ]
  },
  {
   "cell_type": "code",
   "execution_count": 65,
   "metadata": {},
   "outputs": [
    {
     "data": {
      "text/plain": [
       "(1112,)"
      ]
     },
     "execution_count": 65,
     "metadata": {},
     "output_type": "execute_result"
    }
   ],
   "source": [
    "a= resultDf.loc[resultDf['interactions']< 10]\n",
    "list_low_interaction_indexes=a.index.values\n",
    "list_low_interaction_indexes.shape"
   ]
  },
  {
   "cell_type": "code",
   "execution_count": 64,
   "metadata": {},
   "outputs": [
    {
     "name": "stdout",
     "output_type": "stream",
     "text": [
      "Evaluated user 0 of 50446\n",
      "Evaluated user 10000 of 50446\n",
      "Evaluated user 20000 of 50446\n",
      "Evaluated user 30000 of 50446\n",
      "Evaluated user 40000 of 50446\n",
      "Evaluated user 50000 of 50446\n",
      "Recommender performance is: Precision = 0.0869, Recall = 0.2003, MAP = 0.0988\n",
      "Evaluated user 0 of 50446\n",
      "Evaluated user 10000 of 50446\n",
      "Evaluated user 20000 of 50446\n",
      "Evaluated user 30000 of 50446\n",
      "Evaluated user 40000 of 50446\n",
      "Evaluated user 50000 of 50446\n",
      "Recommender performance is: Precision = 0.0870, Recall = 0.2004, MAP = 0.0987\n",
      "Evaluated user 0 of 50446\n",
      "Evaluated user 10000 of 50446\n",
      "Evaluated user 20000 of 50446\n",
      "Evaluated user 30000 of 50446\n",
      "Evaluated user 40000 of 50446\n",
      "Evaluated user 50000 of 50446\n",
      "Recommender performance is: Precision = 0.0866, Recall = 0.1980, MAP = 0.0975\n",
      "Evaluated user 0 of 50446\n",
      "Evaluated user 10000 of 50446\n",
      "Evaluated user 20000 of 50446\n",
      "Evaluated user 30000 of 50446\n",
      "Evaluated user 40000 of 50446\n",
      "Evaluated user 50000 of 50446\n",
      "Recommender performance is: Precision = 0.0862, Recall = 0.1963, MAP = 0.0966\n",
      "Evaluated user 0 of 50446\n",
      "Evaluated user 10000 of 50446\n",
      "Evaluated user 20000 of 50446\n",
      "Evaluated user 30000 of 50446\n",
      "Evaluated user 40000 of 50446\n",
      "Evaluated user 50000 of 50446\n",
      "Recommender performance is: Precision = 0.0859, Recall = 0.1950, MAP = 0.0960\n",
      "Evaluated user 0 of 50446\n",
      "Evaluated user 10000 of 50446\n",
      "Evaluated user 20000 of 50446\n",
      "Evaluated user 30000 of 50446\n",
      "Evaluated user 40000 of 50446\n",
      "Evaluated user 50000 of 50446\n",
      "Recommender performance is: Precision = 0.0858, Recall = 0.1945, MAP = 0.0958\n"
     ]
    }
   ],
   "source": [
    "Hrec= HybridScoresProva (URM_train,Hrecommender,HSimilaritySuper)\n",
    "lista =[7,8,9,10,11,12]\n",
    "\n",
    "for x in lista:\n",
    "    print(x)\n",
    "    a= resultDf.loc[resultDf['interactions']< x]\n",
    "    list_low_interaction_indexes=a.index.values\n",
    "    print(list_low_interaction_indexes.shape)\n",
    "    Hrec.fit(list_low_interaction_indexes)\n",
    "    evaluate_algorithm(URM_test,Hrec)"
   ]
  },
  {
   "cell_type": "code",
   "execution_count": null,
   "metadata": {},
   "outputs": [],
   "source": []
  }
 ],
 "metadata": {
  "kernelspec": {
   "display_name": "Python 3",
   "language": "python",
   "name": "python3"
  },
  "language_info": {
   "codemirror_mode": {
    "name": "ipython",
    "version": 3
   },
   "file_extension": ".py",
   "mimetype": "text/x-python",
   "name": "python",
   "nbconvert_exporter": "python",
   "pygments_lexer": "ipython3",
   "version": "3.6.4"
  }
 },
 "nbformat": 4,
 "nbformat_minor": 2
}
