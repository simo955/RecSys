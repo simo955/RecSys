{
 "cells": [
  {
   "cell_type": "markdown",
   "metadata": {},
   "source": [
    "Hrec= HybridScoresProva (URM_train,CFrecommender,CBFrecommender)\n",
    "Hrec.fit(part1)\n",
    "evaluate_algorithm(URM_test,Hrec)"
   ]
  },
  {
   "cell_type": "code",
   "execution_count": 1,
   "metadata": {},
   "outputs": [],
   "source": [
    "from KNN.SuperHybridRecommender import SuperHybridRecommender"
   ]
  },
  {
   "cell_type": "code",
   "execution_count": 8,
   "metadata": {},
   "outputs": [],
   "source": [
    "from SLIM_BPR.Cython.SLIM_BPR_Cython import SLIM_BPR_Cython\n",
    "from SLIM_ElasticNet.SLIMElasticNetRecommender import SLIMElasticNetRecommender\n",
    "\n",
    "from MatrixFactorization.Cython.MatrixFactorization_Cython import MatrixFactorization_BPR_Cython, MatrixFactorization_FunkSVD_Cython\n",
    "from MatrixFactorization.PureSVD import PureSVDRecommender\n",
    "\n",
    "from Base.NonPersonalizedRecommender import TopPop, Random\n",
    "\n",
    "from KNN.UserKNNCFRecommender import UserKNNCFRecommender\n",
    "from KNN.ItemKNNCFRecommender import ItemKNNCFRecommender\n",
    "from KNN.ItemKNNCBFRecommender import ItemKNNCBFRecommender\n",
    "\n",
    "from KNN.ItemKNNScoresHybridRecommender import ItemKNNScoresHybridRecommender\n",
    "from KNN.ItemKNNScoresHybridRecommender3 import ItemKNNScoresHybridRecommender3\n",
    "\n",
    "from KNN.ItemKNNSimilarityHybridRecommender import ItemKNNSimilarityHybridRecommender\n",
    "from KNN.ItemKNNSimilarityHybridRecommender3 import ItemKNNSimilarityHybridRecommender3\n",
    "from KNN.ItemKNNSimilarityHybridRecommender4 import ItemKNNSimilarityHybridRecommender4\n",
    "\n",
    "from KNN.UserKNNCBFRecommender import UserKNNCBFRecommender\n",
    "\n",
    "from KNN.Hybrid_List import Hybrid_List\n",
    "from evaluation_function import evaluate_algorithm\n",
    "\n",
    "\n",
    "#from GraphBased.RP3betaRecommender import RP3betaRecommender\n",
    "from GraphBased.P3alphaRecommender import P3alphaRecommender"
   ]
  },
  {
   "cell_type": "code",
   "execution_count": 9,
   "metadata": {},
   "outputs": [],
   "source": [
    "import traceback, os\n",
    "import scipy.sparse\n",
    "import pandas as pd\n",
    "import numpy as np\n",
    "\n",
    "URM_all = scipy.sparse.load_npz('./Matrix/URM_all_matrix.npz')\n",
    "ICM_all = scipy.sparse.load_npz('./Matrix/ICM_all_matrix.npz')\n",
    "URM_train = scipy.sparse.load_npz('./Matrix/URM_train_matrix.npz')\n",
    "URM_test = scipy.sparse.load_npz('./Matrix/URM_test_matrix.npz')\n",
    "\n",
    "\n",
    "#Load playlistsIDS\n",
    "train_df= pd.read_csv('all/train.csv',low_memory = False)\n",
    "all_userID=train_df.playlist_id.unique()"
   ]
  },
  {
   "cell_type": "code",
   "execution_count": null,
   "metadata": {},
   "outputs": [],
   "source": [
    "CFrecommender = ItemKNNCFRecommender(URM_train)\n",
    "CFrecommender.fit()\n",
    "\n",
    "SLIMrecommender = SLIM_BPR_Cython(URM_train)\n",
    "SLIMrecommender.fit()\n",
    "\n",
    "CBFrecommender = ItemKNNCBFRecommender(ICM_all,URM_train)\n",
    "CBFrecommender.fit()\n",
    "\n",
    "SLIMErecommender = SLIMElasticNetRecommender(URM_train)\n",
    "SLIMErecommender.fit()\n",
    "\n",
    "UCFRecommender = UserKNNCFRecommender(URM_train)\n",
    "UCFRecommender.fit()\n",
    "\n",
    "SVDrecommender = PureSVDRecommender (URM_train)\n",
    "SVDrecommender.fit()\n",
    "\n",
    "p3Arecommender=P3alphaRecommender(URM_train)\n",
    "p3Arecommender.fit()\n",
    "\n",
    "UserCBFrecommender = UserKNNCBFRecommender(UCM_all,URM_train) \n",
    "UserCBFrecommender.fit()\n",
    "\n",
    "SVDrecommender = PureSVDRecommender (URM_train)\n",
    "SVDrecommender.fit()"
   ]
  },
  {
   "cell_type": "code",
   "execution_count": 11,
   "metadata": {},
   "outputs": [
    {
     "ename": "TypeError",
     "evalue": "list indices must be integers or slices, not csr_matrix",
     "output_type": "error",
     "traceback": [
      "\u001b[0;31m---------------------------------------------------------------------------\u001b[0m",
      "\u001b[0;31mTypeError\u001b[0m                                 Traceback (most recent call last)",
      "\u001b[0;32m<ipython-input-11-6703724ff014>\u001b[0m in \u001b[0;36m<module>\u001b[0;34m()\u001b[0m\n\u001b[1;32m      1\u001b[0m \u001b[0mrecList\u001b[0m\u001b[0;34m=\u001b[0m\u001b[0;34m[\u001b[0m\u001b[0mCFrecommender\u001b[0m\u001b[0;34m,\u001b[0m\u001b[0mCBFrecommender\u001b[0m\u001b[0;34m]\u001b[0m\u001b[0;34m\u001b[0m\u001b[0m\n\u001b[0;32m----> 2\u001b[0;31m \u001b[0mHrec\u001b[0m\u001b[0;34m=\u001b[0m\u001b[0mSuperHybridRecommender\u001b[0m\u001b[0;34m(\u001b[0m\u001b[0mURM_train\u001b[0m\u001b[0;34m,\u001b[0m\u001b[0mrecList\u001b[0m\u001b[0;34m)\u001b[0m\u001b[0;34m\u001b[0m\u001b[0m\n\u001b[0m",
      "\u001b[0;32m~/Documents/GitHub/newRecSysExam/KNN/SuperHybridRecommender.py\u001b[0m in \u001b[0;36m__init__\u001b[0;34m(self, URM_train, RecList, Type)\u001b[0m\n\u001b[1;32m     40\u001b[0m             \u001b[0msimilarity_shape\u001b[0m \u001b[0;34m=\u001b[0m \u001b[0mself\u001b[0m\u001b[0;34m.\u001b[0m\u001b[0msimilarity_list\u001b[0m\u001b[0;34m[\u001b[0m\u001b[0;36m0\u001b[0m\u001b[0;34m]\u001b[0m\u001b[0;34m.\u001b[0m\u001b[0mshape\u001b[0m\u001b[0;34m\u001b[0m\u001b[0m\n\u001b[1;32m     41\u001b[0m             \u001b[0;32mfor\u001b[0m \u001b[0mn\u001b[0m \u001b[0;32min\u001b[0m \u001b[0mself\u001b[0m\u001b[0;34m.\u001b[0m\u001b[0msimilarity_list\u001b[0m\u001b[0;34m:\u001b[0m\u001b[0;34m\u001b[0m\u001b[0m\n\u001b[0;32m---> 42\u001b[0;31m                 \u001b[0;32mif\u001b[0m \u001b[0msimilarity_shape\u001b[0m \u001b[0;34m!=\u001b[0m \u001b[0mself\u001b[0m\u001b[0;34m.\u001b[0m\u001b[0msimilarity_list\u001b[0m\u001b[0;34m[\u001b[0m\u001b[0mn\u001b[0m\u001b[0;34m]\u001b[0m\u001b[0;34m.\u001b[0m\u001b[0mshape\u001b[0m\u001b[0;34m:\u001b[0m\u001b[0;34m\u001b[0m\u001b[0m\n\u001b[0m\u001b[1;32m     43\u001b[0m                     \u001b[0;32mraise\u001b[0m \u001b[0mValueError\u001b[0m\u001b[0;34m(\u001b[0m\u001b[0;34m\"ItemKNNSimilarityHybridRecommender: similarities have different size, S1 is {}, S2 is {}\"\u001b[0m\u001b[0;34m.\u001b[0m\u001b[0mformat\u001b[0m\u001b[0;34m(\u001b[0m\u001b[0msimilarity_shape\u001b[0m\u001b[0;34m,\u001b[0m \u001b[0mself\u001b[0m\u001b[0;34m.\u001b[0m\u001b[0msimilarity_list\u001b[0m\u001b[0;34m[\u001b[0m\u001b[0mn\u001b[0m\u001b[0;34m]\u001b[0m\u001b[0;34m.\u001b[0m\u001b[0mshape\u001b[0m\u001b[0;34m)\u001b[0m\u001b[0;34m)\u001b[0m\u001b[0;34m\u001b[0m\u001b[0m\n\u001b[1;32m     44\u001b[0m \u001b[0;34m\u001b[0m\u001b[0m\n",
      "\u001b[0;31mTypeError\u001b[0m: list indices must be integers or slices, not csr_matrix"
     ]
    }
   ],
   "source": [
    "recList=[CFrecommender,CBFrecommender]\n",
    "Hrec=SuperHybridRecommender(URM_train,recList)"
   ]
  },
  {
   "cell_type": "code",
   "execution_count": 10,
   "metadata": {},
   "outputs": [
    {
     "name": "stdout",
     "output_type": "stream",
     "text": [
      "Similarity column 20635 ( 100 % ), 3546.28 column/sec, elapsed time 0.10 min\n",
      "Similarity column 42629 ( 85 % ), 1359.86 column/sec, elapsed time 0.52 min\n",
      "Similarity column 50446 ( 100 % ), 1360.78 column/sec, elapsed time 0.62 min\n",
      "Similarity column 20635 ( 100 % ), 6421.72 column/sec, elapsed time 0.05 min\n"
     ]
    }
   ],
   "source": [
    "CFrecommender = ItemKNNCFRecommender(URM_train)\n",
    "CFrecommender.fit()\n",
    "UCFRecommender = UserKNNCFRecommender(URM_train)\n",
    "UCFRecommender.fit()\n",
    "CBFrecommender = ItemKNNCBFRecommender(ICM_all,URM_train)\n",
    "CBFrecommender.fit()"
   ]
  },
  {
   "cell_type": "code",
   "execution_count": 4,
   "metadata": {},
   "outputs": [],
   "source": [
    "#Load playlistsIDS\n",
    "train_df= pd.read_csv('all/train.csv',low_memory = False)\n",
    "targetP_df= pd.read_csv('all/target_playlists.csv',low_memory = False)\n",
    "targetP_df= targetP_df.playlist_id.values\n",
    "\n",
    "\n",
    "#media delle interazione 23, min=7, max=75\n",
    "URM_all=URM_all.todense()\n",
    "resultDf = pd.DataFrame()\n",
    "for x in targetP_df:\n",
    "    c = np.count_nonzero(URM_all[x,])\n",
    "    resultDf.at[x, \"interactions\"]=c\n",
    "\n",
    "a= resultDf.loc[resultDf['interactions']< 10]\n",
    "list_low_interaction_indexes=a.index.values"
   ]
  },
  {
   "cell_type": "code",
   "execution_count": 27,
   "metadata": {},
   "outputs": [],
   "source": [
    "Hrec= Hybrid_List (URM_train,CFrecommender,CBFrecommender)\n",
    "Hrec.fit(list_low_interaction_indexes)\n",
    "evaluate_algorithm(URM_test,Hrec)\n"
   ]
  }
 ],
 "metadata": {
  "kernelspec": {
   "display_name": "Python 3",
   "language": "python",
   "name": "python3"
  },
  "language_info": {
   "codemirror_mode": {
    "name": "ipython",
    "version": 3
   },
   "file_extension": ".py",
   "mimetype": "text/x-python",
   "name": "python",
   "nbconvert_exporter": "python",
   "pygments_lexer": "ipython3",
   "version": "3.6.4"
  }
 },
 "nbformat": 4,
 "nbformat_minor": 2
}
