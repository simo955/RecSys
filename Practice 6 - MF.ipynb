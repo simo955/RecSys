{
 "cells": [
  {
   "cell_type": "markdown",
   "metadata": {},
   "source": [
    "# Recommender Systems 2018/19\n",
    "\n",
    "### Practice session on BPR-MF\n",
    "\n",
    "### Course survey on the challenge! https://goo.gl/forms/dgWszJeJW8D9I1Q62\n",
    "\n",
    "\n",
    "## Recap on BPR\n",
    "S.Rendle et al. BPR: Bayesian Personalized Ranking from Implicit Feedback. UAI2009\n",
    "\n",
    "The usual approach for item recommenders is to predict a personalized score $\\hat{x}_{ui}$ for an item that reflects the preference of the user for the item. Then the items are ranked by sorting them according to that score.\n",
    "\n",
    "Machine learning approaches are tipically fit by using observed items as a positive sample and missing ones for the negative class. A perfect model would thus be useless, as it would classify as negative (non-interesting) all the items that were non-observed at training time. The only reason why such methods work is regularization.\n",
    "\n",
    "BPR use a different approach. The training dataset is composed by triplets $(u,i,j)$ representing that user u is assumed to prefer i over j. For an implicit dataset this means that u observed i but not j:\n",
    "$$D_S := \\{(u,i,j) \\mid i \\in I_u^+ \\wedge j \\in I \\setminus I_u^+\\}$$\n",
    "\n",
    "### BPR-OPT\n",
    "A machine learning model can be represented by a parameter vector $\\Theta$ which is found at fitting time. BPR wants to find the parameter vector that is most probable given the desired, but latent, preference structure $>_u$:\n",
    "$$p(\\Theta \\mid >_u) \\propto p(>_u \\mid \\Theta)p(\\Theta) $$\n",
    "$$\\prod_{u\\in U} p(>_u \\mid \\Theta) = \\dots = \\prod_{(u,i,j) \\in D_S} p(i >_u j \\mid \\Theta) $$\n",
    "\n",
    "The probability that a user really prefers item $i$ to item $j$ is defined as:\n",
    "$$ p(i >_u j \\mid \\Theta) := \\sigma(\\hat{x}_{uij}(\\Theta)) $$\n",
    "Where $\\sigma$ represent the logistic sigmoid and $\\hat{x}_{uij}(\\Theta)$ is an arbitrary real-valued function of $\\Theta$ (the output of your arbitrary model).\n",
    "\n",
    "\n",
    "To complete the Bayesian setting, we define a prior density for the parameters:\n",
    "$$p(\\Theta) \\sim N(0, \\Sigma_\\Theta)$$\n",
    "And we can now formulate the maximum posterior estimator:\n",
    "$$BPR-OPT := \\log p(\\Theta \\mid >_u) $$\n",
    "$$ = \\log p(>_u \\mid \\Theta) p(\\Theta) $$\n",
    "$$ = \\log \\prod_{(u,i,j) \\in D_S} \\sigma(\\hat{x}_{uij})p(\\Theta) $$\n",
    "$$ = \\sum_{(u,i,j) \\in D_S} \\log \\sigma(\\hat{x}_{uij}) + \\log p(\\Theta) $$\n",
    "$$ = \\sum_{(u,i,j) \\in D_S} \\log \\sigma(\\hat{x}_{uij}) - \\lambda_\\Theta ||\\Theta||^2 $$\n",
    "\n",
    "Where $\\lambda_\\Theta$ are model specific regularization parameters.\n",
    "\n",
    "### BPR learning algorithm\n",
    "Once obtained the log-likelihood, we need to maximize it in order to find our obtimal $\\Theta$. As the crierion is differentiable, gradient descent algorithms are an obvious choiche for maximization.\n",
    "\n",
    "Gradient descent comes in many fashions, you can find an overview on my master thesis https://www.politesi.polimi.it/bitstream/10589/133864/3/tesi.pdf on pages 18-19-20 (I'm linking my thesis just because I'm sure of what it's written there, many posts you can find online contain some error). A nice post about momentum is available here https://distill.pub/2017/momentum/\n",
    "\n",
    "The basic version of gradient descent consists in evaluating the gradient using all the available samples and then perform a single update. The problem with this is, in our case, that our training dataset is very skewed. Suppose an item i is very popular. Then we habe many terms of the form $\\hat{x}_{uij}$ in the loss because for many users u the item i is compared against all negative items j.\n",
    "\n",
    "The other popular approach is stochastic gradient descent, where for each training sample an update is performed. This is a better approach, but the order in which the samples are traversed is crucial. To solve this issue BPR uses a stochastic gradient descent algorithm that choses the triples randomly.\n",
    "\n",
    "The gradient of BPR-OPT with respect to the model parameters is: \n",
    "$$\\frac{\\partial BPR-OPT}{\\partial \\Theta} = \\sum_{(u,i,j) \\in D_S} \\frac{\\partial}{\\partial \\Theta} \\log \\sigma (\\hat{x}_{uij}) - \\lambda_\\Theta \\frac{\\partial}{\\partial\\Theta} || \\Theta ||^2$$\n",
    "$$ =  \\sum_{(u,i,j) \\in D_S} \\frac{-e^{-\\hat{x}_{uij}}}{1+e^{-\\hat{x}_{uij}}} \\frac{\\partial}{\\partial \\Theta}\\hat{x}_{uij} - \\lambda_\\Theta \\Theta $$\n",
    "\n",
    "### BPR-MF\n",
    "\n",
    "In order to practically apply this learning schema to an existing algorithm, we first split the real valued preference term: $\\hat{x}_{uij} := \\hat{x}_{ui} − \\hat{x}_{uj}$. And now we can apply any standard collaborative filtering model that predicts $\\hat{x}_{ui}$.\n",
    "\n",
    "The problem of predicting $\\hat{x}_{ui}$ can be seen as the task of estimating a matrix $X:U×I$. With matrix factorization teh target matrix $X$ is approximated by the matrix product of two low-rank matrices $W:|U|\\times k$ and $H:|I|\\times k$:\n",
    "$$X := WH^t$$\n",
    "The prediction formula can also be written as:\n",
    "$$\\hat{x}_{ui} = \\langle w_u,h_i \\rangle = \\sum_{f=1}^k w_{uf} \\cdot h_{if}$$\n",
    "Besides the dot product ⟨⋅,⋅⟩, in general any kernel can be used.\n",
    "\n",
    "We can now specify the derivatives:\n",
    "$$ \\frac{\\partial}{\\partial \\theta} \\hat{x}_{uij} = \\begin{cases}\n",
    "(h_{if} - h_{jf}) \\text{ if } \\theta=w_{uf}, \\\\\n",
    "w_{uf} \\text{ if } \\theta = h_{if}, \\\\\n",
    "-w_{uf} \\text{ if } \\theta = h_{jf}, \\\\\n",
    "0 \\text{ else }\n",
    "\\end{cases} $$\n",
    "\n",
    "Which basically means: user $u$ prefer $i$ over $j$, let's do the following:\n",
    "- Increase the relevance (according to $u$) of features belonging to $i$ but not to $j$ and vice-versa\n",
    "- Increase the relevance of features assigned to $i$\n",
    "- Decrease the relevance of features assigned to $j$\n",
    "\n",
    "We're now ready to look at some code!"
   ]
  },
  {
   "cell_type": "code",
   "execution_count": 1,
   "metadata": {},
   "outputs": [],
   "source": [
    "from urllib.request import urlretrieve\n",
    "import zipfile\n",
    "\n",
    "# skip the download\n",
    "#urlretrieve (\"http://files.grouplens.org/datasets/movielens/ml-10m.zip\", \"movielens_10m.zip\")\n",
    "dataFile = zipfile.ZipFile(\"movielens_10m.zip\")\n",
    "URM_path = dataFile.extract(\"ml-10M100K/ratings.dat\")\n",
    "URM_file = open(URM_path, 'r')\n",
    "\n",
    "\n",
    "def rowSplit (rowString):\n",
    "    \n",
    "    split = rowString.split(\"::\")\n",
    "    split[3] = split[3].replace(\"\\n\",\"\")\n",
    "    \n",
    "    split[0] = int(split[0])\n",
    "    split[1] = int(split[1])\n",
    "    split[2] = float(split[2])\n",
    "    split[3] = int(split[3])\n",
    "    \n",
    "    result = tuple(split)\n",
    "    \n",
    "    return result\n",
    "\n",
    "\n",
    "URM_file.seek(0)\n",
    "URM_tuples = []\n",
    "\n",
    "for line in URM_file:\n",
    "   URM_tuples.append(rowSplit (line))\n",
    "\n",
    "userList, itemList, ratingList, timestampList = zip(*URM_tuples)\n",
    "\n",
    "userList = list(userList)\n",
    "itemList = list(itemList)\n",
    "ratingList = list(ratingList)\n",
    "timestampList = list(timestampList)\n",
    "\n",
    "import scipy.sparse as sps\n",
    "\n",
    "URM_all = sps.coo_matrix((ratingList, (userList, itemList)))\n",
    "URM_all = URM_all.tocsr()\n",
    "\n",
    "\n",
    "\n",
    "from data_splitter import train_test_holdout\n",
    "\n",
    "\n",
    "URM_train, URM_test = train_test_holdout(URM_all, train_perc = 0.8)"
   ]
  },
  {
   "cell_type": "markdown",
   "metadata": {},
   "source": [
    "### MF Computing prediction\n",
    "\n",
    "### In a MF model you have two matrices, one with a row per user and the other with a column per item. The other dimension, columns for the first one and rows for the second one is called latent factors"
   ]
  },
  {
   "cell_type": "code",
   "execution_count": 4,
   "metadata": {},
   "outputs": [],
   "source": [
    "num_factors = 100\n",
    "\n",
    "n_users, n_items = URM_train.shape"
   ]
  },
  {
   "cell_type": "code",
   "execution_count": 5,
   "metadata": {},
   "outputs": [],
   "source": [
    "import numpy as np\n",
    "\n",
    "user_factors = np.random.random((n_users, num_factors))\n",
    "\n",
    "item_factors = np.random.random((n_items, num_factors))"
   ]
  },
  {
   "cell_type": "markdown",
   "metadata": {},
   "source": [
    "### To compute the prediction we have to muliply the user factors to the item factors"
   ]
  },
  {
   "cell_type": "code",
   "execution_count": 16,
   "metadata": {},
   "outputs": [
    {
     "name": "stdout",
     "output_type": "stream",
     "text": [
      "Prediction is 23.73\n"
     ]
    }
   ],
   "source": [
    "item_index = 15\n",
    "user_index = 42\n",
    "\n",
    "prediction = np.dot(user_factors[user_index,:], item_factors[item_index,:])\n",
    "\n",
    "print(\"Prediction is {:.2f}\".format(prediction))"
   ]
  },
  {
   "cell_type": "markdown",
   "metadata": {},
   "source": [
    "# Train a MF MSE model\n",
    "\n",
    "### Use SGD as we saw for SLIM"
   ]
  },
  {
   "cell_type": "code",
   "execution_count": 5,
   "metadata": {},
   "outputs": [
    {
     "name": "stdout",
     "output_type": "stream",
     "text": [
      "Prediction error is 3.05\n"
     ]
    }
   ],
   "source": [
    "test_data = 5\n",
    "learning_rate = 1e-2\n",
    "regularization = 1e-3\n",
    "\n",
    "gradient = test_data - prediction\n",
    "\n",
    "print(\"Prediction error is {:.2f}\".format(gradient))"
   ]
  },
  {
   "cell_type": "code",
   "execution_count": 6,
   "metadata": {},
   "outputs": [],
   "source": [
    "# Copy original value to avoid messing up the updates\n",
    "H_i = item_factors[item_index,:]\n",
    "W_u = user_factors[user_index,:]\n",
    "\n",
    "user_factors[user_index,:] += learning_rate * (gradient * H_i - regularization * W_u)\n",
    "item_factors[item_index,:] += learning_rate * (gradient * W_u - regularization * H_i)\n"
   ]
  },
  {
   "cell_type": "code",
   "execution_count": 7,
   "metadata": {},
   "outputs": [
    {
     "name": "stdout",
     "output_type": "stream",
     "text": [
      "Prediction after the update is 2.12\n",
      "Prediction error is 2.88\n"
     ]
    }
   ],
   "source": [
    "prediction = np.dot(user_factors[user_index,:], item_factors[item_index,:])\n",
    "\n",
    "print(\"Prediction after the update is {:.2f}\".format(prediction))\n",
    "print(\"Prediction error is {:.2f}\".format(test_data - prediction))"
   ]
  },
  {
   "cell_type": "markdown",
   "metadata": {},
   "source": [
    "### WARNING: Initialization must be done with random non-zero values ... otherwise"
   ]
  },
  {
   "cell_type": "code",
   "execution_count": 8,
   "metadata": {},
   "outputs": [],
   "source": [
    "user_factors = np.zeros((n_users, num_factors))\n",
    "\n",
    "item_factors = np.zeros((n_items, num_factors))"
   ]
  },
  {
   "cell_type": "code",
   "execution_count": 9,
   "metadata": {},
   "outputs": [
    {
     "name": "stdout",
     "output_type": "stream",
     "text": [
      "Prediction is 0.00\n",
      "Prediction error is 5.00\n"
     ]
    }
   ],
   "source": [
    "prediction = np.dot(user_factors[user_index,:], item_factors[item_index,:])\n",
    "\n",
    "print(\"Prediction is {:.2f}\".format(prediction))\n",
    "\n",
    "gradient = test_data - prediction\n",
    "\n",
    "print(\"Prediction error is {:.2f}\".format(gradient))"
   ]
  },
  {
   "cell_type": "code",
   "execution_count": 10,
   "metadata": {},
   "outputs": [],
   "source": [
    "H_i = item_factors[item_index,:]\n",
    "W_u = user_factors[user_index,:]\n",
    "\n",
    "user_factors[user_index,:] += learning_rate * (gradient * H_i - regularization * W_u)\n",
    "item_factors[item_index,:] += learning_rate * (gradient * W_u - regularization * H_i)\n"
   ]
  },
  {
   "cell_type": "code",
   "execution_count": 11,
   "metadata": {},
   "outputs": [
    {
     "name": "stdout",
     "output_type": "stream",
     "text": [
      "Prediction after the update is 0.00\n",
      "Prediction error is 5.00\n"
     ]
    }
   ],
   "source": [
    "prediction = np.dot(user_factors[user_index,:], item_factors[item_index,:])\n",
    "\n",
    "print(\"Prediction after the update is {:.2f}\".format(prediction))\n",
    "print(\"Prediction error is {:.2f}\".format(test_data - prediction))"
   ]
  },
  {
   "cell_type": "markdown",
   "metadata": {},
   "source": [
    "### Since the updates multiply the gradient and the latent factors, if those are zero the SGD will never be able to move from that point"
   ]
  },
  {
   "cell_type": "markdown",
   "metadata": {},
   "source": [
    "# Train a MF BPR model"
   ]
  },
  {
   "cell_type": "markdown",
   "metadata": {},
   "source": [
    "## The basics are the same, except for how we compute the gradient, we have to sample a triplet"
   ]
  },
  {
   "cell_type": "code",
   "execution_count": 12,
   "metadata": {},
   "outputs": [],
   "source": [
    "URM_mask = URM_train.copy()\n",
    "URM_mask.data[URM_mask.data <= 3] = 0\n",
    "\n",
    "URM_mask.eliminate_zeros()\n",
    "\n",
    "# Extract users having at least one interaction to choose from\n",
    "eligibleUsers = []\n",
    "\n",
    "for user_id in range(n_users):\n",
    "\n",
    "    start_pos = URM_mask.indptr[user_id]\n",
    "    end_pos = URM_mask.indptr[user_id+1]\n",
    "\n",
    "    if len(URM_mask.indices[start_pos:end_pos]) > 0:\n",
    "        eligibleUsers.append(user_id)\n",
    "                \n",
    "                \n",
    "\n",
    "def sampleTriplet():\n",
    "    \n",
    "    # By randomly selecting a user in this way we could end up \n",
    "    # with a user with no interactions\n",
    "    #user_id = np.random.randint(0, n_users)\n",
    "    \n",
    "    user_id = np.random.choice(eligibleUsers)\n",
    "    \n",
    "    # Get user seen items and choose one\n",
    "    userSeenItems = URM_mask[user_id,:].indices\n",
    "    pos_item_id = np.random.choice(userSeenItems)\n",
    "\n",
    "    negItemSelected = False\n",
    "\n",
    "    # It's faster to just try again then to build a mapping of the non-seen items\n",
    "    while (not negItemSelected):\n",
    "        neg_item_id = np.random.randint(0, n_items)\n",
    "\n",
    "        if (neg_item_id not in userSeenItems):\n",
    "            \n",
    "            negItemSelected = True\n",
    "\n",
    "    return user_id, pos_item_id, neg_item_id\n"
   ]
  },
  {
   "cell_type": "code",
   "execution_count": 13,
   "metadata": {},
   "outputs": [
    {
     "name": "stdout",
     "output_type": "stream",
     "text": [
      "(62193, 798, 19585)\n",
      "(70514, 7, 26389)\n",
      "(45194, 3255, 61872)\n",
      "(67604, 1466, 2096)\n",
      "(69865, 3275, 24910)\n",
      "(36657, 281, 13051)\n",
      "(43716, 780, 53689)\n",
      "(55536, 4672, 1139)\n",
      "(68467, 6377, 8112)\n",
      "(47261, 1261, 31021)\n"
     ]
    }
   ],
   "source": [
    "#USER, POSITIVE, NEGATIVE.  ITEMS\n",
    "\n",
    "for _ in range(10):\n",
    "    print(sampleTriplet())"
   ]
  },
  {
   "cell_type": "code",
   "execution_count": 14,
   "metadata": {},
   "outputs": [],
   "source": [
    "user_factors = np.random.random((n_users, num_factors))\n",
    "item_factors = np.random.random((n_items, num_factors))"
   ]
  },
  {
   "cell_type": "code",
   "execution_count": 15,
   "metadata": {},
   "outputs": [
    {
     "name": "stdout",
     "output_type": "stream",
     "text": [
      "52015 110 46652\n"
     ]
    }
   ],
   "source": [
    "user_id, positive_item, negative_item = sampleTriplet()\n",
    "\n",
    "print(user_id, positive_item, negative_item)"
   ]
  },
  {
   "cell_type": "code",
   "execution_count": 16,
   "metadata": {},
   "outputs": [
    {
     "data": {
      "text/plain": [
       "0.369793948804664"
      ]
     },
     "execution_count": 16,
     "metadata": {},
     "output_type": "execute_result"
    }
   ],
   "source": [
    "x_uij = np.dot(user_factors[user_id, :], (item_factors[positive_item,:] - item_factors[negative_item,:]))\n",
    "\n",
    "x_uij"
   ]
  },
  {
   "cell_type": "code",
   "execution_count": 17,
   "metadata": {},
   "outputs": [
    {
     "data": {
      "text/plain": [
       "0.40859081173853357"
      ]
     },
     "execution_count": 17,
     "metadata": {},
     "output_type": "execute_result"
    }
   ],
   "source": [
    "sigmoid_item = 1 / (1 + np.exp(x_uij))\n",
    "\n",
    "sigmoid_item"
   ]
  },
  {
   "cell_type": "markdown",
   "metadata": {},
   "source": [
    "### When using BPR we have to update three components, the user factors and the item factors of both the positive and negative item"
   ]
  },
  {
   "cell_type": "code",
   "execution_count": 18,
   "metadata": {},
   "outputs": [],
   "source": [
    "\n",
    "H_i = item_factors[positive_item,:]\n",
    "H_j = item_factors[negative_item,:]\n",
    "W_u = user_factors[user_id,:]\n",
    "\n",
    "\n",
    "user_factors[user_index,:] += learning_rate * (sigmoid_item * ( H_i - H_j ) - regularization * W_u)\n",
    "item_factors[positive_item,:] += learning_rate * (sigmoid_item * ( W_u ) - regularization * H_i)\n",
    "item_factors[negative_item,:] += learning_rate * (sigmoid_item * (-W_u ) - regularization * H_j)\n"
   ]
  },
  {
   "cell_type": "code",
   "execution_count": null,
   "metadata": {},
   "outputs": [
    {
     "data": {
      "text/plain": [
       "0.4029981504158613"
      ]
     },
     "execution_count": 19,
     "metadata": {},
     "output_type": "execute_result"
    }
   ],
   "source": [
    "x_uij = np.dot(user_factors[user_id, :], (item_factors[positive_item,:] - item_factors[negative_item,:]))\n",
    "\n",
    "x_uij"
   ]
  },
  {
   "cell_type": "code",
   "execution_count": null,
   "metadata": {},
   "outputs": [
    {
     "data": {
      "text/plain": [
       "array([3.66240547, 2.68317025, 2.30127807, ..., 2.90799558, 2.91489822,\n",
       "       2.28287199])"
      ]
     },
     "execution_count": 20,
     "metadata": {},
     "output_type": "execute_result"
    }
   ],
   "source": [
    "## How to rank items with MF ?\n",
    "\n",
    "## Compute the prediction for all items and rank them\n",
    "\n",
    "item_scores = np.dot(user_factors[user_index,:], item_factors.T)\n",
    "item_scores"
   ]
  },
  {
   "cell_type": "code",
   "execution_count": null,
   "metadata": {},
   "outputs": [
    {
     "data": {
      "text/plain": [
       "(65134,)"
      ]
     },
     "execution_count": 21,
     "metadata": {},
     "output_type": "execute_result"
    }
   ],
   "source": [
    "item_scores.shape"
   ]
  },
  {
   "cell_type": "markdown",
   "metadata": {},
   "source": [
    "## Early stopping, how to used and when it is needed\n",
    "\n",
    "### Problem, how many epochs? 5, 10, 150, 2487 ?\n",
    "\n",
    "### We could try different values in increasing order: 5, 10, 15, 20, 25...\n",
    "### However, in this way we would train up to a point, test and then discard the model, to re-train it again up to that same point and then some more... not a good idea.\n",
    "\n",
    "### Early stopping! \n",
    "* Train the model up to a certain number of epochs, say 5\n",
    "* Compute the recommendation quality on the validation set\n",
    "* Train for other 5 epochs\n",
    "* Compute the recommendation quality on the validation set AND compare it with the previous one. If better, then we have another best model, if not, go ahead...\n",
    "* Repeat until you have either reached the max number of epoch you want to allow (e.g., 300) or a certain number of contiguous validation seps have not updated te best model\n",
    "\n",
    "### Advantages:\n",
    "* Easy to implement, we already have all that is required, a train function, a predictor function and an evaluator\n",
    "* MUCH faster than retraining everything from the beginning\n",
    "* Often allows to reach even better solutions\n",
    "\n",
    "### Challenges:\n",
    "* The evaluation step may be very slow compared to the time it takes to re-train the model"
   ]
  },
  {
   "cell_type": "markdown",
   "metadata": {},
   "source": [
    "# Train a PureSVD model\n",
    "\n",
    "### As opposed to the previous ones, PureSVD relies on the SVD decomposition of the URM, which is an easily available function"
   ]
  },
  {
   "cell_type": "code",
   "execution_count": 1,
   "metadata": {},
   "outputs": [],
   "source": [
    "import traceback, os\n",
    "import scipy.sparse\n",
    "URM_all = scipy.sparse.load_npz('URM_all_matrix.npz')\n",
    "ICM_all = scipy.sparse.load_npz('ICM_all_matrix.npz')\n",
    "URM_train = scipy.sparse.load_npz('URM_train_matrix.npz')\n",
    "URM_test = scipy.sparse.load_npz('URM_test_matrix.npz')"
   ]
  },
  {
   "cell_type": "code",
   "execution_count": 2,
   "metadata": {},
   "outputs": [],
   "source": [
    "from sklearn.utils.extmath import randomized_svd\n",
    "\n",
    "# Other SVDs are also available, like from sklearn.decomposition import TruncatedSVD"
   ]
  },
  {
   "cell_type": "code",
   "execution_count": 7,
   "metadata": {},
   "outputs": [],
   "source": [
    "U, Sigma, VT = randomized_svd(URM_train,\n",
    "              n_components=num_factors,\n",
    "              #n_iter=5,\n",
    "              random_state=None)"
   ]
  },
  {
   "cell_type": "code",
   "execution_count": 8,
   "metadata": {},
   "outputs": [
    {
     "data": {
      "text/plain": [
       "array([[ 1.36627032e-04, -1.02436585e-04, -2.59348639e-05, ...,\n",
       "        -7.07183581e-04, -1.60134672e-04, -2.52842909e-05],\n",
       "       [ 2.54179563e-03, -3.41401232e-03, -2.02794893e-03, ...,\n",
       "        -4.15893249e-04,  3.21816392e-03, -4.71935063e-03],\n",
       "       [ 1.55282076e-04, -5.75937734e-04, -1.52631890e-04, ...,\n",
       "         1.57135764e-04, -8.44233271e-04,  4.68803424e-04],\n",
       "       ...,\n",
       "       [ 4.18034156e-03, -3.87202721e-03, -2.29676599e-03, ...,\n",
       "        -6.51662157e-04, -3.41256434e-04,  1.70713196e-03],\n",
       "       [ 3.25880451e-03, -3.20144001e-04,  3.40756186e-04, ...,\n",
       "        -2.97416396e-03, -1.50444644e-03,  6.20581656e-03],\n",
       "       [ 8.45179879e-03, -1.04611113e-02, -4.17630174e-03, ...,\n",
       "         5.12132991e-03,  5.98923150e-03,  2.37429184e-03]])"
      ]
     },
     "execution_count": 8,
     "metadata": {},
     "output_type": "execute_result"
    }
   ],
   "source": [
    "U"
   ]
  },
  {
   "cell_type": "code",
   "execution_count": 9,
   "metadata": {},
   "outputs": [
    {
     "data": {
      "text/plain": [
       "(50446, 100)"
      ]
     },
     "execution_count": 9,
     "metadata": {},
     "output_type": "execute_result"
    }
   ],
   "source": [
    "U.shape"
   ]
  },
  {
   "cell_type": "code",
   "execution_count": 10,
   "metadata": {},
   "outputs": [
    {
     "data": {
      "text/plain": [
       "array([136.34340895, 107.08019788,  98.28755243,  95.00801674,\n",
       "        90.8362704 ,  85.43678189,  76.76293765,  69.26126842,\n",
       "        68.58360878,  68.29430423,  67.06304444,  65.85364616,\n",
       "        64.1343918 ,  60.98944089,  59.83165091,  58.42113869,\n",
       "        57.30650465,  56.6233953 ,  54.58954357,  54.3839567 ,\n",
       "        53.39075328,  52.9868973 ,  52.34160765,  51.5630173 ,\n",
       "        50.87513463,  50.25528566,  50.0119143 ,  48.93039761,\n",
       "        48.09262602,  47.92621976,  46.86989776,  46.75942708,\n",
       "        46.19205583,  45.60913482,  45.14380376,  44.87749341,\n",
       "        44.57652779,  44.23674792,  44.02459877,  43.71687246,\n",
       "        43.23113151,  43.0616171 ,  42.94469899,  42.75057804,\n",
       "        42.60650943,  42.51779875,  42.12742848,  41.92577775,\n",
       "        41.59461573,  41.15428304,  41.05143588,  40.78110103,\n",
       "        40.72751156,  40.70432942,  40.3669702 ,  40.1937926 ,\n",
       "        40.04740289,  39.91532354,  39.73765189,  39.64392867,\n",
       "        39.32533137,  39.24193123,  39.14934602,  39.1152985 ,\n",
       "        38.99243674,  38.75004698,  38.68729578,  38.50732647,\n",
       "        38.3989969 ,  38.23645869,  38.19202213,  38.07348325,\n",
       "        37.90818169,  37.83492294,  37.79243441,  37.57884839,\n",
       "        37.45504267,  37.37852024,  37.14272216,  37.06073409,\n",
       "        36.8624655 ,  36.7082984 ,  36.61075789,  36.56586072,\n",
       "        36.38056235,  36.24015064,  36.07382251,  35.97727156,\n",
       "        35.87520255,  35.82083557,  35.66226847,  35.59587262,\n",
       "        35.45640018,  35.36349771,  35.26305606,  35.11818087,\n",
       "        34.99970421,  34.93081712,  34.78504028,  34.69848128])"
      ]
     },
     "execution_count": 10,
     "metadata": {},
     "output_type": "execute_result"
    }
   ],
   "source": [
    "Sigma"
   ]
  },
  {
   "cell_type": "code",
   "execution_count": 11,
   "metadata": {},
   "outputs": [
    {
     "data": {
      "text/plain": [
       "(100,)"
      ]
     },
     "execution_count": 11,
     "metadata": {},
     "output_type": "execute_result"
    }
   ],
   "source": [
    "Sigma.shape"
   ]
  },
  {
   "cell_type": "code",
   "execution_count": 12,
   "metadata": {},
   "outputs": [
    {
     "data": {
      "text/plain": [
       "array([[ 1.01649501e-03,  3.24983582e-03,  6.00966105e-04, ...,\n",
       "         3.09477439e-03,  3.08148682e-07,  7.98173946e-07],\n",
       "       [-1.09329831e-03,  1.97624804e-03, -9.28313176e-04, ...,\n",
       "        -7.24069029e-03, -8.41308491e-07, -2.17701454e-06],\n",
       "       [-7.29722782e-04, -3.61007029e-04, -2.97223461e-04, ...,\n",
       "        -2.08465194e-03,  1.47272235e-07, -7.90891136e-07],\n",
       "       ...,\n",
       "       [-1.12641149e-03, -3.40337924e-03, -6.26001220e-04, ...,\n",
       "        -4.32205013e-03,  1.31299401e-05,  6.35498304e-05],\n",
       "       [ 3.82979199e-03, -4.38783484e-03, -2.46702872e-03, ...,\n",
       "        -3.04233310e-03,  1.63561993e-05,  2.72739627e-05],\n",
       "       [-2.06516483e-03, -2.94601939e-03, -8.17868305e-04, ...,\n",
       "         1.94412733e-03,  8.89334948e-06,  3.95782407e-05]])"
      ]
     },
     "execution_count": 12,
     "metadata": {},
     "output_type": "execute_result"
    }
   ],
   "source": [
    "VT"
   ]
  },
  {
   "cell_type": "code",
   "execution_count": 13,
   "metadata": {},
   "outputs": [
    {
     "data": {
      "text/plain": [
       "(100, 20635)"
      ]
     },
     "execution_count": 13,
     "metadata": {},
     "output_type": "execute_result"
    }
   ],
   "source": [
    "VT.shape"
   ]
  },
  {
   "cell_type": "markdown",
   "metadata": {},
   "source": [
    "### Truncating the number of singular values introduces an approximation which allows to fill the missing urm entries\n",
    "\n",
    "### Computing a prediction"
   ]
  },
  {
   "cell_type": "code",
   "execution_count": null,
   "metadata": {},
   "outputs": [],
   "source": []
  },
  {
   "cell_type": "code",
   "execution_count": 14,
   "metadata": {},
   "outputs": [],
   "source": [
    "# Store an intermediate pre-multiplied matrix\n",
    "import scipy.sparse as sps\n",
    "\n",
    "\n",
    "s_Vt = sps.diags(Sigma)*VT"
   ]
  },
  {
   "cell_type": "code",
   "execution_count": 17,
   "metadata": {},
   "outputs": [
    {
     "name": "stdout",
     "output_type": "stream",
     "text": [
      "Prediction is -0.00\n"
     ]
    }
   ],
   "source": [
    "prediction = U[user_index, :].dot(s_Vt[:,item_index])\n",
    "\n",
    "print(\"Prediction is {:.2f}\".format(prediction))"
   ]
  },
  {
   "cell_type": "code",
   "execution_count": 18,
   "metadata": {},
   "outputs": [
    {
     "data": {
      "text/plain": [
       "array([ 1.02818659e-03,  8.51895450e-04, -1.32128459e-03, ...,\n",
       "        6.28031499e-03, -7.45080900e-06, -5.65298238e-05])"
      ]
     },
     "execution_count": 18,
     "metadata": {},
     "output_type": "execute_result"
    }
   ],
   "source": [
    "item_scores = U[user_index, :].dot(s_Vt)\n",
    "item_scores"
   ]
  },
  {
   "cell_type": "code",
   "execution_count": 19,
   "metadata": {},
   "outputs": [
    {
     "data": {
      "text/plain": [
       "(20635,)"
      ]
     },
     "execution_count": 19,
     "metadata": {},
     "output_type": "execute_result"
    }
   ],
   "source": [
    "item_scores.shape"
   ]
  },
  {
   "cell_type": "markdown",
   "metadata": {},
   "source": [
    "# Let's compare the three MF: BPR, FunkSVD and PureSVD"
   ]
  },
  {
   "cell_type": "code",
   "execution_count": 20,
   "metadata": {},
   "outputs": [],
   "source": [
    "from MatrixFactorization.Cython.MatrixFactorization_Cython import MatrixFactorization_BPR_Cython, MatrixFactorization_FunkSVD_Cython\n",
    "from MatrixFactorization.PureSVD import PureSVDRecommender\n",
    "\n",
    "from Base.Evaluation.Evaluator import SequentialEvaluator\n",
    "\n",
    "evaluator_test = SequentialEvaluator(URM_test, cutoff_list=[10])\n",
    "\n",
    "evaluator_validation_early_stopping = SequentialEvaluator(URM_train, cutoff_list=[10], exclude_seen = False)\n"
   ]
  },
  {
   "cell_type": "code",
   "execution_count": 21,
   "metadata": {},
   "outputs": [
    {
     "name": "stdout",
     "output_type": "stream",
     "text": [
      "Compiling in Cython\n",
      "Compiled module saved in subfolder: /MatrixFactorization/Cython\n",
      "Compilation Complete\n",
      "Processed 50446 ( 100.00% ) in 0.71 seconds. BPR loss 5.50E-02. Sample per second: 70602\n",
      "MF_BPR: Epoch 1 of 300. Elapsed time 0.00 min\n",
      "Processed 50446 ( 100.00% ) in 0.77 seconds. BPR loss 5.50E-02. Sample per second: 65704\n",
      "MF_BPR: Epoch 2 of 300. Elapsed time 0.00 min\n",
      "Processed 50446 ( 100.00% ) in 0.83 seconds. BPR loss 5.56E-02. Sample per second: 60729\n",
      "MF_BPR: Epoch 3 of 300. Elapsed time 0.00 min\n",
      "Processed 50446 ( 100.00% ) in 0.88 seconds. BPR loss 5.65E-02. Sample per second: 57031\n",
      "MF_BPR: Epoch 4 of 300. Elapsed time 0.00 min\n",
      "Processed 50446 ( 100.00% ) in 0.94 seconds. BPR loss 5.96E-02. Sample per second: 53692\n",
      "MF_BPR: Epoch 5 of 300. Elapsed time 0.01 min\n",
      "Processed 50446 ( 100.00% ) in 0.99 seconds. BPR loss 6.20E-02. Sample per second: 50936\n",
      "MF_BPR: Epoch 6 of 300. Elapsed time 0.01 min\n",
      "Processed 50446 ( 100.00% ) in 1.05 seconds. BPR loss 6.60E-02. Sample per second: 47956\n",
      "MF_BPR: Epoch 7 of 300. Elapsed time 0.01 min\n",
      "Processed 50446 ( 100.00% ) in 0.11 seconds. BPR loss 6.87E-02. Sample per second: 455998\n",
      "MF_BPR: Epoch 8 of 300. Elapsed time 0.01 min\n",
      "Processed 50446 ( 100.00% ) in 0.17 seconds. BPR loss 7.40E-02. Sample per second: 300217\n",
      "MF_BPR: Epoch 9 of 300. Elapsed time 0.01 min\n",
      "Processed 50446 ( 100.00% ) in 0.23 seconds. BPR loss 8.03E-02. Sample per second: 217497\n",
      "MF_BPR: Validation begins...\n"
     ]
    },
    {
     "ename": "KeyboardInterrupt",
     "evalue": "",
     "output_type": "error",
     "traceback": [
      "\u001b[0;31m---------------------------------------------------------------------------\u001b[0m",
      "\u001b[0;31mKeyboardInterrupt\u001b[0m                         Traceback (most recent call last)",
      "\u001b[0;32m<ipython-input-21-ba8af75593d0>\u001b[0m in \u001b[0;36m<module>\u001b[0;34m()\u001b[0m\n\u001b[1;32m      5\u001b[0m                 \u001b[0mevaluator_object\u001b[0m \u001b[0;34m=\u001b[0m \u001b[0mevaluator_validation_early_stopping\u001b[0m\u001b[0;34m,\u001b[0m\u001b[0;34m\u001b[0m\u001b[0m\n\u001b[1;32m      6\u001b[0m                 \u001b[0mlower_validatons_allowed\u001b[0m \u001b[0;34m=\u001b[0m \u001b[0;36m5\u001b[0m\u001b[0;34m,\u001b[0m\u001b[0;34m\u001b[0m\u001b[0m\n\u001b[0;32m----> 7\u001b[0;31m                 validation_metric = \"MAP\")\n\u001b[0m\u001b[1;32m      8\u001b[0m \u001b[0;34m\u001b[0m\u001b[0m\n\u001b[1;32m      9\u001b[0m \u001b[0mresult_dict\u001b[0m\u001b[0;34m,\u001b[0m \u001b[0m_\u001b[0m \u001b[0;34m=\u001b[0m \u001b[0mevaluator_test\u001b[0m\u001b[0;34m.\u001b[0m\u001b[0mevaluateRecommender\u001b[0m\u001b[0;34m(\u001b[0m\u001b[0mrecommender\u001b[0m\u001b[0;34m)\u001b[0m\u001b[0;34m\u001b[0m\u001b[0m\n",
      "\u001b[0;32m~/Documents/GitHub/newRecSysExam/MatrixFactorization/Cython/MatrixFactorization_Cython.py\u001b[0m in \u001b[0;36mfit\u001b[0;34m(self, **key_args)\u001b[0m\n\u001b[1;32m    307\u001b[0m \u001b[0;34m\u001b[0m\u001b[0m\n\u001b[1;32m    308\u001b[0m     \u001b[0;32mdef\u001b[0m \u001b[0mfit\u001b[0m\u001b[0;34m(\u001b[0m\u001b[0mself\u001b[0m\u001b[0;34m,\u001b[0m \u001b[0;34m**\u001b[0m\u001b[0mkey_args\u001b[0m\u001b[0;34m)\u001b[0m\u001b[0;34m:\u001b[0m\u001b[0;34m\u001b[0m\u001b[0m\n\u001b[0;32m--> 309\u001b[0;31m         \u001b[0msuper\u001b[0m\u001b[0;34m(\u001b[0m\u001b[0mMatrixFactorization_BPR_Cython\u001b[0m\u001b[0;34m,\u001b[0m \u001b[0mself\u001b[0m\u001b[0;34m)\u001b[0m\u001b[0;34m.\u001b[0m\u001b[0mfit\u001b[0m\u001b[0;34m(\u001b[0m\u001b[0;34m**\u001b[0m\u001b[0mkey_args\u001b[0m\u001b[0;34m)\u001b[0m\u001b[0;34m\u001b[0m\u001b[0m\n\u001b[0m\u001b[1;32m    310\u001b[0m \u001b[0;34m\u001b[0m\u001b[0m\n\u001b[1;32m    311\u001b[0m \u001b[0;34m\u001b[0m\u001b[0m\n",
      "\u001b[0;32m~/Documents/GitHub/newRecSysExam/MatrixFactorization/Cython/MatrixFactorization_Cython.py\u001b[0m in \u001b[0;36mfit\u001b[0;34m(self, epochs, batch_size, num_factors, learning_rate, sgd_mode, user_reg, positive_reg, negative_reg, stop_on_validation, lower_validatons_allowed, validation_metric, evaluator_object, validation_every_n)\u001b[0m\n\u001b[1;32m    136\u001b[0m         self._train_with_early_stopping(epochs, validation_every_n, stop_on_validation,\n\u001b[1;32m    137\u001b[0m                                     \u001b[0mvalidation_metric\u001b[0m\u001b[0;34m,\u001b[0m \u001b[0mlower_validatons_allowed\u001b[0m\u001b[0;34m,\u001b[0m \u001b[0mevaluator_object\u001b[0m\u001b[0;34m,\u001b[0m\u001b[0;34m\u001b[0m\u001b[0m\n\u001b[0;32m--> 138\u001b[0;31m                                     algorithm_name = self.algorithm)\n\u001b[0m\u001b[1;32m    139\u001b[0m \u001b[0;34m\u001b[0m\u001b[0m\n\u001b[1;32m    140\u001b[0m \u001b[0;34m\u001b[0m\u001b[0m\n",
      "\u001b[0;32m~/Documents/GitHub/newRecSysExam/Base/Incremental_Training_Early_Stopping.py\u001b[0m in \u001b[0;36m_train_with_early_stopping\u001b[0;34m(self, epochs, validation_every_n, stop_on_validation, validation_metric, lower_validatons_allowed, evaluator_object, algorithm_name)\u001b[0m\n\u001b[1;32m    112\u001b[0m                 \u001b[0mself\u001b[0m\u001b[0;34m.\u001b[0m\u001b[0m_update_incremental_model\u001b[0m\u001b[0;34m(\u001b[0m\u001b[0;34m)\u001b[0m\u001b[0;34m\u001b[0m\u001b[0m\n\u001b[1;32m    113\u001b[0m \u001b[0;34m\u001b[0m\u001b[0m\n\u001b[0;32m--> 114\u001b[0;31m                 \u001b[0mresults_run\u001b[0m\u001b[0;34m,\u001b[0m \u001b[0m_\u001b[0m \u001b[0;34m=\u001b[0m \u001b[0mevaluator_object\u001b[0m\u001b[0;34m.\u001b[0m\u001b[0mevaluateRecommender\u001b[0m\u001b[0;34m(\u001b[0m\u001b[0mself\u001b[0m\u001b[0;34m)\u001b[0m\u001b[0;34m\u001b[0m\u001b[0m\n\u001b[0m\u001b[1;32m    115\u001b[0m                 \u001b[0mresults_run\u001b[0m \u001b[0;34m=\u001b[0m \u001b[0mresults_run\u001b[0m\u001b[0;34m[\u001b[0m\u001b[0mlist\u001b[0m\u001b[0;34m(\u001b[0m\u001b[0mresults_run\u001b[0m\u001b[0;34m.\u001b[0m\u001b[0mkeys\u001b[0m\u001b[0;34m(\u001b[0m\u001b[0;34m)\u001b[0m\u001b[0;34m)\u001b[0m\u001b[0;34m[\u001b[0m\u001b[0;36m0\u001b[0m\u001b[0;34m]\u001b[0m\u001b[0;34m]\u001b[0m\u001b[0;34m\u001b[0m\u001b[0m\n\u001b[1;32m    116\u001b[0m \u001b[0;34m\u001b[0m\u001b[0m\n",
      "\u001b[0;32m~/Documents/GitHub/newRecSysExam/Base/Evaluation/Evaluator.py\u001b[0m in \u001b[0;36mevaluateRecommender\u001b[0;34m(self, recommender_object)\u001b[0m\n\u001b[1;32m    435\u001b[0m \u001b[0;34m\u001b[0m\u001b[0m\n\u001b[1;32m    436\u001b[0m \u001b[0;34m\u001b[0m\u001b[0m\n\u001b[0;32m--> 437\u001b[0;31m         \u001b[0mresults_dict\u001b[0m\u001b[0;34m,\u001b[0m \u001b[0mn_users_evaluated\u001b[0m \u001b[0;34m=\u001b[0m \u001b[0mself\u001b[0m\u001b[0;34m.\u001b[0m\u001b[0m_run_evaluation_on_selected_users\u001b[0m\u001b[0;34m(\u001b[0m\u001b[0mrecommender_object\u001b[0m\u001b[0;34m,\u001b[0m \u001b[0mself\u001b[0m\u001b[0;34m.\u001b[0m\u001b[0musersToEvaluate\u001b[0m\u001b[0;34m)\u001b[0m\u001b[0;34m\u001b[0m\u001b[0m\n\u001b[0m\u001b[1;32m    438\u001b[0m \u001b[0;34m\u001b[0m\u001b[0m\n\u001b[1;32m    439\u001b[0m \u001b[0;34m\u001b[0m\u001b[0m\n",
      "\u001b[0;32m~/Documents/GitHub/newRecSysExam/Base/Evaluation/Evaluator.py\u001b[0m in \u001b[0;36m_run_evaluation_on_selected_users\u001b[0;34m(self, recommender_object, usersToEvaluate, block_size)\u001b[0m\n\u001b[1;32m    385\u001b[0m                     \u001b[0mresults_current_cutoff\u001b[0m\u001b[0;34m[\u001b[0m\u001b[0mEvaluatorMetrics\u001b[0m\u001b[0;34m.\u001b[0m\u001b[0mMAP\u001b[0m\u001b[0;34m.\u001b[0m\u001b[0mvalue\u001b[0m\u001b[0;34m]\u001b[0m                  \u001b[0;34m+=\u001b[0m \u001b[0mmap\u001b[0m\u001b[0;34m(\u001b[0m\u001b[0mis_relevant_current_cutoff\u001b[0m\u001b[0;34m,\u001b[0m \u001b[0mrelevant_items\u001b[0m\u001b[0;34m)\u001b[0m\u001b[0;34m\u001b[0m\u001b[0m\n\u001b[1;32m    386\u001b[0m                     \u001b[0mresults_current_cutoff\u001b[0m\u001b[0;34m[\u001b[0m\u001b[0mEvaluatorMetrics\u001b[0m\u001b[0;34m.\u001b[0m\u001b[0mMRR\u001b[0m\u001b[0;34m.\u001b[0m\u001b[0mvalue\u001b[0m\u001b[0;34m]\u001b[0m                  \u001b[0;34m+=\u001b[0m \u001b[0mrr\u001b[0m\u001b[0;34m(\u001b[0m\u001b[0mis_relevant_current_cutoff\u001b[0m\u001b[0;34m)\u001b[0m\u001b[0;34m\u001b[0m\u001b[0m\n\u001b[0;32m--> 387\u001b[0;31m                     \u001b[0mresults_current_cutoff\u001b[0m\u001b[0;34m[\u001b[0m\u001b[0mEvaluatorMetrics\u001b[0m\u001b[0;34m.\u001b[0m\u001b[0mNDCG\u001b[0m\u001b[0;34m.\u001b[0m\u001b[0mvalue\u001b[0m\u001b[0;34m]\u001b[0m                 \u001b[0;34m+=\u001b[0m \u001b[0mndcg\u001b[0m\u001b[0;34m(\u001b[0m\u001b[0mrecommended_items_current_cutoff\u001b[0m\u001b[0;34m,\u001b[0m \u001b[0mrelevant_items\u001b[0m\u001b[0;34m,\u001b[0m \u001b[0mrelevance\u001b[0m\u001b[0;34m=\u001b[0m\u001b[0mself\u001b[0m\u001b[0;34m.\u001b[0m\u001b[0mget_user_test_ratings\u001b[0m\u001b[0;34m(\u001b[0m\u001b[0muser_id\u001b[0m\u001b[0;34m)\u001b[0m\u001b[0;34m,\u001b[0m \u001b[0mat\u001b[0m\u001b[0;34m=\u001b[0m\u001b[0mcutoff\u001b[0m\u001b[0;34m)\u001b[0m\u001b[0;34m\u001b[0m\u001b[0m\n\u001b[0m\u001b[1;32m    388\u001b[0m                     \u001b[0mresults_current_cutoff\u001b[0m\u001b[0;34m[\u001b[0m\u001b[0mEvaluatorMetrics\u001b[0m\u001b[0;34m.\u001b[0m\u001b[0mHIT_RATE\u001b[0m\u001b[0;34m.\u001b[0m\u001b[0mvalue\u001b[0m\u001b[0;34m]\u001b[0m             \u001b[0;34m+=\u001b[0m \u001b[0mis_relevant_current_cutoff\u001b[0m\u001b[0;34m.\u001b[0m\u001b[0msum\u001b[0m\u001b[0;34m(\u001b[0m\u001b[0;34m)\u001b[0m\u001b[0;34m\u001b[0m\u001b[0m\n\u001b[1;32m    389\u001b[0m                     \u001b[0mresults_current_cutoff\u001b[0m\u001b[0;34m[\u001b[0m\u001b[0mEvaluatorMetrics\u001b[0m\u001b[0;34m.\u001b[0m\u001b[0mARHR\u001b[0m\u001b[0;34m.\u001b[0m\u001b[0mvalue\u001b[0m\u001b[0;34m]\u001b[0m                 \u001b[0;34m+=\u001b[0m \u001b[0marhr\u001b[0m\u001b[0;34m(\u001b[0m\u001b[0mis_relevant_current_cutoff\u001b[0m\u001b[0;34m)\u001b[0m\u001b[0;34m\u001b[0m\u001b[0m\n",
      "\u001b[0;31mKeyboardInterrupt\u001b[0m: "
     ]
    }
   ],
   "source": [
    "recommender = MatrixFactorization_BPR_Cython(URM_train)\n",
    "recommender.fit(num_factors = 50, \n",
    "                validation_every_n = 10, \n",
    "                stop_on_validation = True, \n",
    "                evaluator_object = evaluator_validation_early_stopping,\n",
    "                lower_validatons_allowed = 5, \n",
    "                validation_metric = \"MAP\")\n",
    "\n",
    "result_dict, _ = evaluator_test.evaluateRecommender(recommender)"
   ]
  },
  {
   "cell_type": "code",
   "execution_count": null,
   "metadata": {},
   "outputs": [],
   "source": [
    "result_dict"
   ]
  },
  {
   "cell_type": "code",
   "execution_count": null,
   "metadata": {},
   "outputs": [
    {
     "name": "stdout",
     "output_type": "stream",
     "text": [
      "Compiling in Cython\n",
      "Compiled module saved in subfolder: /MatrixFactorization/Cython\n",
      "Compilation Complete\n",
      "Processed 1160777 ( 100.00% ) in 1.35 seconds. MSE loss 8.72E-01. Sample per second: 860400\n",
      "FUNK_SVD: Epoch 1 of 300. Elapsed time 0.02 min\n",
      "Processed 1160777 ( 100.00% ) in 1.24 seconds. MSE loss 5.13E-01. Sample per second: 937677\n",
      "FUNK_SVD: Epoch 2 of 300. Elapsed time 0.03 min\n",
      "Processed 1160777 ( 100.00% ) in 1.11 seconds. MSE loss 3.51E-01. Sample per second: 1044533\n",
      "FUNK_SVD: Epoch 3 of 300. Elapsed time 0.04 min\n",
      "Processed 1160777 ( 100.00% ) in 0.97 seconds. MSE loss 2.73E-01. Sample per second: 1191009\n",
      "FUNK_SVD: Epoch 4 of 300. Elapsed time 0.06 min\n",
      "Processed 1160777 ( 100.00% ) in 1.84 seconds. MSE loss 2.39E-01. Sample per second: 630856\n",
      "FUNK_SVD: Epoch 5 of 300. Elapsed time 0.07 min\n",
      "Processed 1160777 ( 100.00% ) in 1.77 seconds. MSE loss 2.19E-01. Sample per second: 657257\n",
      "FUNK_SVD: Epoch 6 of 300. Elapsed time 0.09 min\n",
      "Processed 1160777 ( 100.00% ) in 1.53 seconds. MSE loss 2.08E-01. Sample per second: 758432\n",
      "FUNK_SVD: Epoch 7 of 300. Elapsed time 0.10 min\n",
      "Processed 1160777 ( 100.00% ) in 1.25 seconds. MSE loss 2.01E-01. Sample per second: 927081\n",
      "FUNK_SVD: Epoch 8 of 300. Elapsed time 0.11 min\n",
      "Processed 1160777 ( 100.00% ) in 0.96 seconds. MSE loss 1.98E-01. Sample per second: 1211769\n",
      "FUNK_SVD: Epoch 9 of 300. Elapsed time 0.13 min\n",
      "Processed 1160777 ( 100.00% ) in 1.66 seconds. MSE loss 1.94E-01. Sample per second: 698336\n",
      "FUNK_SVD: Validation begins...\n",
      "SequentialEvaluator: Processed 36001 ( 71.37% ) in 30.31 seconds. Users per second: 1188\n",
      "SequentialEvaluator: Processed 50446 ( 100.00% ) in 41.48 seconds. Users per second: 1216\n",
      "FUNK_SVD: {'ROC_AUC': 0.0855580814373879, 'PRECISION': 0.02417819557483778, 'RECALL': 0.009328056410617649, 'RECALL_TEST_LEN': 0.02417819557483778, 'MAP': 0.008475828676984378, 'MRR': 0.0567716445496649, 'NDCG': 0.012170430999836442, 'F1': 0.013462297861720525, 'HIT_RATE': 0.23712484637037626, 'ARHR': 0.06868775758330943, 'NOVELTY': 0.004822230692240586, 'DIVERSITY_MEAN_INTER_LIST': 0.04484762173764081, 'DIVERSITY_HERFINDAHL': 0.9044846732715286, 'COVERAGE_ITEM': 0.03309910346498667, 'COVERAGE_USER': 1.0, 'DIVERSITY_GINI': 0.019956925742841684, 'SHANNON_ENTROPY': 3.554513577055006}\n",
      "FUNK_SVD: Epoch 10 of 300. Elapsed time 0.83 min\n",
      "Processed 1160777 ( 100.00% ) in 1.04 seconds. MSE loss 1.91E-01. Sample per second: 1119918\n",
      "FUNK_SVD: Epoch 11 of 300. Elapsed time 0.84 min\n",
      "Processed 1160777 ( 100.00% ) in 0.71 seconds. MSE loss 1.91E-01. Sample per second: 1624761\n",
      "FUNK_SVD: Epoch 12 of 300. Elapsed time 0.85 min\n",
      "Processed 1160777 ( 100.00% ) in 1.40 seconds. MSE loss 1.90E-01. Sample per second: 831587\n",
      "FUNK_SVD: Epoch 13 of 300. Elapsed time 0.87 min\n",
      "Processed 1160777 ( 100.00% ) in 1.10 seconds. MSE loss 1.87E-01. Sample per second: 1058544\n",
      "FUNK_SVD: Epoch 14 of 300. Elapsed time 0.88 min\n",
      "Processed 1160777 ( 100.00% ) in 0.76 seconds. MSE loss 1.88E-01. Sample per second: 1530211\n",
      "FUNK_SVD: Epoch 15 of 300. Elapsed time 0.89 min\n",
      "Processed 1160777 ( 100.00% ) in 1.41 seconds. MSE loss 1.86E-01. Sample per second: 822525\n",
      "FUNK_SVD: Epoch 16 of 300. Elapsed time 0.90 min\n",
      "Processed 1160777 ( 100.00% ) in 1.12 seconds. MSE loss 1.85E-01. Sample per second: 1040135\n",
      "FUNK_SVD: Epoch 17 of 300. Elapsed time 0.91 min\n",
      "Processed 1160777 ( 100.00% ) in 0.88 seconds. MSE loss 1.85E-01. Sample per second: 1323945\n",
      "FUNK_SVD: Epoch 18 of 300. Elapsed time 0.92 min\n",
      "Processed 1160777 ( 100.00% ) in 1.61 seconds. MSE loss 1.83E-01. Sample per second: 719791\n",
      "FUNK_SVD: Epoch 19 of 300. Elapsed time 0.94 min\n",
      "Processed 1160777 ( 100.00% ) in 1.27 seconds. MSE loss 1.82E-01. Sample per second: 913247\n",
      "FUNK_SVD: Validation begins...\n"
     ]
    }
   ],
   "source": [
    "recommender = MatrixFactorization_FunkSVD_Cython(URM_train)\n",
    "recommender.fit(num_factors = 50, \n",
    "                validation_every_n = 10, \n",
    "                stop_on_validation = True, \n",
    "                evaluator_object = evaluator_validation_early_stopping,\n",
    "                lower_validatons_allowed = 5, \n",
    "                validation_metric = \"MAP\")\n",
    "\n",
    "result_dict, _ = evaluator_test.evaluateRecommender(recommender)"
   ]
  },
  {
   "cell_type": "code",
   "execution_count": null,
   "metadata": {},
   "outputs": [],
   "source": [
    "recommender = PureSVDRecommender(URM_train)\n",
    "recommender.fit()\n",
    "\n",
    "result_dict, _ = evaluator_test.evaluateRecommender(recommender)"
   ]
  },
  {
   "cell_type": "code",
   "execution_count": null,
   "metadata": {},
   "outputs": [],
   "source": []
  }
 ],
 "metadata": {
  "anaconda-cloud": {},
  "kernelspec": {
   "display_name": "Python 3",
   "language": "python",
   "name": "python3"
  },
  "language_info": {
   "codemirror_mode": {
    "name": "ipython",
    "version": 3
   },
   "file_extension": ".py",
   "mimetype": "text/x-python",
   "name": "python",
   "nbconvert_exporter": "python",
   "pygments_lexer": "ipython3",
   "version": "3.6.4"
  }
 },
 "nbformat": 4,
 "nbformat_minor": 1
}
