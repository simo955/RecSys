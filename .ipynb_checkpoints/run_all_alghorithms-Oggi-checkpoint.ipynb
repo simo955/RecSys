{
 "cells": [
  {
   "cell_type": "code",
   "execution_count": 1,
   "metadata": {},
   "outputs": [],
   "source": [
    "from SLIM_BPR.Cython.SLIM_BPR_Cython import SLIM_BPR_Cython\n",
    "from SLIM_ElasticNet.SLIMElasticNetRecommender import SLIMElasticNetRecommender\n",
    "\n",
    "from MatrixFactorization.Cython.MatrixFactorization_Cython import MatrixFactorization_BPR_Cython, MatrixFactorization_FunkSVD_Cython\n",
    "from MatrixFactorization.PureSVD import PureSVDRecommender\n",
    "\n",
    "from Base.NonPersonalizedRecommender import TopPop, Random\n",
    "\n",
    "from KNN.UserKNNCFRecommender import UserKNNCFRecommender\n",
    "from KNN.ItemKNNCFRecommender import ItemKNNCFRecommender\n",
    "from KNN.ItemKNNCBFRecommender import ItemKNNCBFRecommender\n",
    "\n",
    "from KNN.ItemKNNScoresHybridRecommender import ItemKNNScoresHybridRecommender\n",
    "from KNN.ItemKNNScoresHybridRecommender3 import ItemKNNScoresHybridRecommender3\n",
    "\n",
    "from KNN.ItemKNNSimilarityHybridRecommender import ItemKNNSimilarityHybridRecommender\n",
    "from KNN.ItemKNNSimilarityHybridRecommender3 import ItemKNNSimilarityHybridRecommender3\n",
    "from KNN.ItemKNNSimilarityHybridRecommender4 import ItemKNNSimilarityHybridRecommender4\n",
    "\n",
    "from KNN.UserKNNCBF1Recommender import UserKNNCBF1Recommender\n",
    "from KNN.UserKNNCBFRecommender import UserKNNCBFRecommender\n",
    "\n",
    "\n",
    "#from GraphBased.RP3betaRecommender import RP3betaRecommender\n",
    "#from GraphBased.P3alphaRecommender import P3alphaRecommender"
   ]
  },
  {
   "cell_type": "code",
   "execution_count": 2,
   "metadata": {},
   "outputs": [],
   "source": [
    "import traceback, os\n",
    "import scipy.sparse\n",
    "import pandas as pd\n",
    "import numpy as np\n",
    "\n",
    "URM_all = scipy.sparse.load_npz('./Matrix/URM_all_matrix.npz')\n",
    "ICM_all = scipy.sparse.load_npz('./Matrix/ICM_all_matrix.npz')\n",
    "URM_train = scipy.sparse.load_npz('./Matrix/URM_train_matrix.npz')\n",
    "URM_test = scipy.sparse.load_npz('./Matrix/URM_test_matrix.npz')\n",
    "#UCM_all = scipy.sparse.load_npz('./Matrix/UCM_all_matrix.npz')\n",
    "#UCM_train = scipy.sparse.load_npz('UCM_train_matrix1.npz')\n",
    "\n",
    "\n",
    "\n",
    "#Load playlistsIDS\n",
    "train_df= pd.read_csv('all/train.csv',low_memory = False)\n",
    "all_userID=train_df.playlist_id.unique()"
   ]
  },
  {
   "cell_type": "code",
   "execution_count": 3,
   "metadata": {},
   "outputs": [],
   "source": [
    "import pandas as pd\n",
    "from numpy import *\n",
    "import numpy as np\n",
    "from scipy import sparse\n",
    "\n",
    "\n",
    "\n",
    "train_df= pd.read_csv('all/train.csv',low_memory = False)\n",
    "\n",
    "\n",
    "\n",
    "#prendo il 20% delle random playlist da target playlist\n",
    "target_playlist_df= pd.read_csv('all/target_playlists.csv',low_memory = False)\n",
    "random_playlist=target_playlist.iloc[5000:10000]\n",
    "random_id = random_playlist.playlist_id.values\n",
    "random_data=data_playlists.loc[data_playlists['playlist_id'].isin(random_id)]\n",
    "#random_data.shape = (114513, 2)\n",
    "n=round((114513/100)*20)\n",
    "random_subset = random_data.sample(n=n)\n",
    "\n",
    "#prendo il 20% delle sequential playlist da target playlist\n",
    "sequential_playlist=target_playlist.iloc[:5000]\n",
    "sequential_id = sequential_playlist.playlist_id.values\n",
    "sequential_data=data_playlists.loc[data_playlists['playlist_id'].isin(sequential_id)]\n",
    "n1=round((115553/100)*20)\n",
    "for pid in sequential_id:\n",
    "    playlistID=sequential_data.loc[sequential_data['playlist_id']==pid]\n",
    "    start=sequential_data.index[sequential_data['playlist_id'] == pid][0]\n",
    "    end=start+round((playlistID.shape[0]*50)/100)\n",
    "\n",
    "    dropping=list(range(start, end))    \n",
    "    sequential_data=sequential_data.drop(dropping)\n",
    "\n",
    "\n",
    "sequential_subset = sequential_data.sample(n=n1)"
   ]
  },
  {
   "cell_type": "code",
   "execution_count": 8,
   "metadata": {},
   "outputs": [
    {
     "name": "stdout",
     "output_type": "stream",
     "text": [
      "(1211791,)\n",
      "(22903,)\n",
      "(23111,)\n"
     ]
    }
   ],
   "source": [
    "indexes=data_playlists.index.values\n",
    "index_random=random_subset.index.values\n",
    "index_sequential=sequential_subset.index.values\n",
    "print(indexes.shape)\n",
    "print(index_random.shape)\n",
    "print(index_sequential.shape)"
   ]
  },
  {
   "cell_type": "code",
   "execution_count": 11,
   "metadata": {},
   "outputs": [],
   "source": [
    "data_playlists=data_playlists[~data_playlists.isin(sequential_subset)].dropna()\n",
    "data_playlists=data_playlists[~data_playlists.isin(random_subset)].dropna()"
   ]
  },
  {
   "cell_type": "code",
   "execution_count": 13,
   "metadata": {},
   "outputs": [],
   "source": [
    "#CREAZIONE DELLA UCM_ALL\n",
    "UCM_train=zeros((50446,19412))\n",
    "\n",
    "#inizializzazione completa\n",
    "for row in data_playlists.itertuples():\n",
    "    riga = int(row.playlist_id)\n",
    "    #print(riga)\n",
    "    track=data_tracks.loc[data_tracks['track_id'] == int(row.track_id)]\n",
    "    #print(colonna)\n",
    "    UCM_train[riga,int(track.album_id)]=1\n",
    "    UCM_train[riga,12744+int(track.artist_id)]=1\n",
    "\n",
    "UCM_train=sparse.csr_matrix(UCM_train)   \n",
    "sparse.save_npz('UCM_train_matrix.npz', UCM_train)\n",
    "\n"
   ]
  },
  {
   "cell_type": "code",
   "execution_count": 14,
   "metadata": {},
   "outputs": [
    {
     "name": "stdout",
     "output_type": "stream",
     "text": [
      "Similarity column 31160 ( 62 % ), 1013.08 column/sec, elapsed time 0.51 min\n",
      "Similarity column 50446 ( 100 % ), 1024.11 column/sec, elapsed time 0.82 min\n",
      "SequentialEvaluator: Processed 9676 ( 100.00% ) in 5.61 seconds. Users per second: 1724\n",
      "Recommender MAP is= 0.22881342188533615\n"
     ]
    }
   ],
   "source": [
    "User1CBFrecommender = UserKNNCBF1Recommender(UCM_train,URM_train) \n",
    "User1CBFrecommender.fit(topK=200)\n",
    "\n",
    "result = User1CBFrecommender.evaluateRecommendations(URM_test)\n",
    "print(\"Recommender MAP is= {}\".format(result[\"MAP\"]))"
   ]
  },
  {
   "cell_type": "code",
   "execution_count": 15,
   "metadata": {},
   "outputs": [],
   "source": [
    "import pandas as pd\n",
    "from numpy import *\n",
    "import numpy as np\n",
    "from scipy import sparse\n",
    "\n",
    "\n",
    "\n",
    "data_playlists= pd.read_csv('all/train.csv',low_memory = False)\n",
    "data_tracks= pd.read_csv('all/tracks.csv',low_memory = False)\n",
    "\n",
    "\n",
    "\n",
    "#SPLITTAGGIO DEI DATI\n",
    "\n",
    "#prendo il 20% delle random playlist da target playlist\n",
    "target_playlist= pd.read_csv('all/target_playlists.csv',low_memory = False)\n",
    "random_playlist=target_playlist.iloc[5000:10000]\n",
    "random_id = random_playlist.playlist_id.values\n",
    "random_data=data_playlists.loc[data_playlists['playlist_id'].isin(random_id)]\n",
    "#random_data.shape = (114513, 2)\n",
    "n=round((114513/100)*20)\n",
    "random_subset = random_data.sample(n=n)\n",
    "\n",
    "#prendo il 20% delle sequential playlist da target playlist\n",
    "sequential_playlist=target_playlist.iloc[:5000]\n",
    "sequential_id = sequential_playlist.playlist_id.values\n",
    "sequential_data=data_playlists.loc[data_playlists['playlist_id'].isin(sequential_id)]\n",
    "n1=round((115553/100)*20)\n",
    "for pid in sequential_id:\n",
    "    playlistID=sequential_data.loc[sequential_data['playlist_id']==pid]\n",
    "    start=sequential_data.index[sequential_data['playlist_id'] == pid][0]\n",
    "    end=start+round((playlistID.shape[0]*50)/100)\n",
    "\n",
    "    dropping=list(range(start, end))    \n",
    "    sequential_data=sequential_data.drop(dropping)\n",
    "\n",
    "\n",
    "sequential_subset = sequential_data.sample(n=n1)\n",
    "\n",
    "\n",
    "#CREAZIONE DELLA UCM_ALL\n",
    "UCM_train1=zeros((50446,19412))\n",
    "\n",
    "#inizializzazione completa\n",
    "for row in data_playlists.itertuples():\n",
    "    riga = row.playlist_id\n",
    "    #print(riga)\n",
    "    track=data_tracks.loc[data_tracks['track_id'] == row.track_id]\n",
    "    #print(colonna)\n",
    "    UCM_train1[riga,track.album_id]=1\n",
    "    UCM_train1[riga,12744+track.artist_id]=1\n",
    "    \n",
    "for row in sequential_subset.itertuples():\n",
    "    riga = row.playlist_id\n",
    "    #print(riga)\n",
    "    track=data_tracks.loc[data_tracks['track_id'] == row.track_id]\n",
    "    #print(colonna)\n",
    "    UCM_train1[riga,track.album_id]=0\n",
    "    UCM_train1[riga,12744+track.artist_id]=0\n",
    "for row in random_subset.itertuples():\n",
    "    riga = row.playlist_id\n",
    "    #print(riga)\n",
    "    track=data_tracks.loc[data_tracks['track_id'] == row.track_id]\n",
    "    #print(colonna)\n",
    "    UCM_train1[riga,track.album_id]=0\n",
    "    UCM_train1[riga,12744+track.artist_id]=0\n",
    "\n",
    "UCM_train1=sparse.csr_matrix(UCM_train1)   \n",
    "sparse.save_npz('UCM_train_matrix1.npz', UCM_train1)\n",
    "\n",
    "\n"
   ]
  },
  {
   "cell_type": "code",
   "execution_count": null,
   "metadata": {},
   "outputs": [],
   "source": []
  }
 ],
 "metadata": {
  "kernelspec": {
   "display_name": "Python 3",
   "language": "python",
   "name": "python3"
  },
  "language_info": {
   "codemirror_mode": {
    "name": "ipython",
    "version": 3
   },
   "file_extension": ".py",
   "mimetype": "text/x-python",
   "name": "python",
   "nbconvert_exporter": "python",
   "pygments_lexer": "ipython3",
   "version": "3.6.4"
  }
 },
 "nbformat": 4,
 "nbformat_minor": 2
}
