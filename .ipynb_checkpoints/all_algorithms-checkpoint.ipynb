{
 "cells": [
  {
   "cell_type": "code",
   "execution_count": null,
   "metadata": {},
   "outputs": [],
   "source": [
    "from SLIM_BPR.Cython.SLIM_BPR_Cython import SLIM_BPR_Cython\n",
    "from SLIM_RMSE.SLIM_RMSE import SLIM_RMSE\n",
    "\n",
    "from MatrixFactorization.Cython.MF_BPR_Cython import MF_BPR_Cython\n",
    "from MatrixFactorization.MatrixFactorization_RMSE import FunkSVD\n",
    "\n",
    "from KNN.user_knn_CF import UserKNNCFRecommender\n",
    "from KNN.item_knn_CF import ItemKNNCFRecommender\n",
    "from KNN.item_knn_CBF import ItemKNNCBFRecommender\n",
    "\n"
   ]
  },
  {
   "cell_type": "code",
   "execution_count": null,
   "metadata": {},
   "outputs": [],
   "source": [
    "\n",
    "URM_train = dataReader.get_URM_train()\n",
    "URM_validation = dataReader.get_URM_validation()\n",
    "URM_test = dataReader.get_URM_test()\n",
    "\n",
    "recommender_list = []\n",
    "recommender_list.append(ItemKNNCFRecommender(URM_train))\n",
    "recommender_list.append(UserKNNCFRecommender(URM_train))\n",
    "recommender_list.append(MF_BPR_Cython(URM_train))\n",
    "recommender_list.append(FunkSVD(URM_train))\n",
    "recommender_list.append(SLIM_BPR_Cython(URM_train, sparse_weights=False))\n",
    "recommender_list.append(SLIM_RMSE(URM_train))\n",
    "\n",
    "\n",
    "\n",
    "for recommender in recommender_list:\n",
    "\n",
    "    print(\"Algorithm: {}\".format(recommender.__class__))\n",
    "\n",
    "    recommender.fit()\n",
    "\n",
    "    results_run = recommender.evaluateRecommendations(URM_test, at=5, exclude_seen=True)\n",
    "    print(\"Algorithm: {}, results: {}\".format(recommender.__class__, results_run))\n",
    "\n"
   ]
  }
 ],
 "metadata": {
  "kernelspec": {
   "display_name": "Python 3",
   "language": "python",
   "name": "python3"
  },
  "language_info": {
   "codemirror_mode": {
    "name": "ipython",
    "version": 3
   },
   "file_extension": ".py",
   "mimetype": "text/x-python",
   "name": "python",
   "nbconvert_exporter": "python",
   "pygments_lexer": "ipython3",
   "version": "3.6.4"
  }
 },
 "nbformat": 4,
 "nbformat_minor": 2
}
