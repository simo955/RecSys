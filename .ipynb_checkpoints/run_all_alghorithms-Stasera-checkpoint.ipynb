{
 "cells": [
  {
   "cell_type": "code",
   "execution_count": 5,
   "metadata": {},
   "outputs": [],
   "source": [
    "from SLIM_BPR.Cython.SLIM_BPR_Cython import SLIM_BPR_Cython\n",
    "from SLIM_ElasticNet.SLIMElasticNetRecommender import SLIMElasticNetRecommender\n",
    "\n",
    "from MatrixFactorization.Cython.MatrixFactorization_Cython import MatrixFactorization_BPR_Cython, MatrixFactorization_FunkSVD_Cython\n",
    "from MatrixFactorization.PureSVD import PureSVDRecommender\n",
    "\n",
    "from Base.NonPersonalizedRecommender import TopPop, Random\n",
    "\n",
    "from KNN.UserKNNCFRecommender import UserKNNCFRecommender\n",
    "from KNN.ItemKNNCFRecommender import ItemKNNCFRecommender\n",
    "from KNN.ItemKNNCBFRecommender import ItemKNNCBFRecommender\n",
    "from KNN.ItemKNNRatingHybridRecommender import ItemKNNRatingHybridRecommender\n",
    "from KNN.ItemKNNRatingHybridRecommender3 import ItemKNNRatingHybridRecommender3\n",
    "from KNN.ItemKNNRatingHybridRecommender4 import ItemKNNRatingHybridRecommender4\n",
    "\n",
    "\n",
    "\n",
    "\n",
    "from KNN.ItemKNNScoresHybridRecommender import ItemKNNScoresHybridRecommender\n",
    "from KNN.ItemKNNScoresHybridRecommender3 import ItemKNNScoresHybridRecommender3\n",
    "\n",
    "\n",
    "#from GraphBased.RP3betaRecommender import RP3betaRecommender\n",
    "#from GraphBased.P3alphaRecommender import P3alphaRecommender\n",
    "\n"
   ]
  },
  {
   "cell_type": "code",
   "execution_count": 2,
   "metadata": {},
   "outputs": [],
   "source": [
    "import scipy.sparse\n",
    "import pandas as pd\n",
    "import numpy as np\n",
    "URM_all = scipy.sparse.load_npz('URM_all_matrix.npz')\n",
    "ICM_all = scipy.sparse.load_npz('ICM_all_matrix.npz')\n",
    "URM_train = scipy.sparse.load_npz('URM_train_matrix.npz')\n",
    "URM_test = scipy.sparse.load_npz('URM_test_matrix.npz')\n",
    "#Load playlistsIDS\n",
    "data_playlists= pd.read_csv('all/train.csv',low_memory = False)\n",
    "userID=data_playlists.playlist_id.unique()"
   ]
  },
  {
   "cell_type": "code",
   "execution_count": 3,
   "metadata": {
    "scrolled": true
   },
   "outputs": [
    {
     "name": "stdout",
     "output_type": "stream",
     "text": [
      "Unable to load Cython Compute_Similarity, reverting to Python\n",
      "Similarity column 16300 ( 79 % ), 543.33 column/sec, elapsed time 0.50 min\n",
      "Similarity column 20600 ( 100 % ), 545.66 column/sec, elapsed time 0.63 min\n",
      "SequentialEvaluator: Processed 9676 ( 100.00% ) in 8.48 seconds. Users per second: 1142\n",
      "SLIM_BPR_Cython: Estimated memory required for similarity matrix of 20635 items is 1703.21 MB\n",
      "Compiling in Cython\n",
      "Compiled module saved in subfolder: /SLIM_BPR/Cython\n",
      "Compilation Complete\n",
      "Processed 1165777 ( 100.00% ) in 5.75 seconds. BPR loss is 9.42E-01. Sample per second: 202591\n",
      "SLIM_BPR_Recommender: Epoch 1 of 100. Elapsed time 0.23 min\n",
      "Processed 1165777 ( 100.00% ) in 5.44 seconds. BPR loss is 2.13E+00. Sample per second: 214455\n",
      "SLIM_BPR_Recommender: Epoch 2 of 100. Elapsed time 0.31 min\n",
      "Processed 1165777 ( 100.00% ) in 5.12 seconds. BPR loss is 2.96E+00. Sample per second: 227643\n",
      "SLIM_BPR_Recommender: Epoch 3 of 100. Elapsed time 0.39 min\n",
      "Processed 1165777 ( 100.00% ) in 5.57 seconds. BPR loss is 3.66E+00. Sample per second: 209131\n",
      "SLIM_BPR_Recommender: Epoch 4 of 100. Elapsed time 0.48 min\n",
      "Processed 1165777 ( 100.00% ) in 5.67 seconds. BPR loss is 4.24E+00. Sample per second: 205577\n",
      "SLIM_BPR_Recommender: Epoch 5 of 100. Elapsed time 0.56 min\n",
      "Processed 1165777 ( 100.00% ) in 5.93 seconds. BPR loss is 4.76E+00. Sample per second: 196448\n",
      "SLIM_BPR_Recommender: Epoch 6 of 100. Elapsed time 0.65 min\n",
      "Processed 1165777 ( 100.00% ) in 6.15 seconds. BPR loss is 5.24E+00. Sample per second: 189609\n",
      "SLIM_BPR_Recommender: Epoch 7 of 100. Elapsed time 0.74 min\n",
      "Processed 1165777 ( 100.00% ) in 5.98 seconds. BPR loss is 5.69E+00. Sample per second: 194856\n",
      "SLIM_BPR_Recommender: Epoch 8 of 100. Elapsed time 0.84 min\n",
      "Processed 1165777 ( 100.00% ) in 6.80 seconds. BPR loss is 6.09E+00. Sample per second: 171427\n",
      "SLIM_BPR_Recommender: Epoch 9 of 100. Elapsed time 0.93 min\n",
      "Processed 1165777 ( 100.00% ) in 6.53 seconds. BPR loss is 6.47E+00. Sample per second: 178445\n",
      "SLIM_BPR_Recommender: Epoch 10 of 100. Elapsed time 1.03 min\n",
      "Processed 1165777 ( 100.00% ) in 6.31 seconds. BPR loss is 6.83E+00. Sample per second: 184776\n",
      "SLIM_BPR_Recommender: Epoch 11 of 100. Elapsed time 1.12 min\n",
      "Processed 1165777 ( 100.00% ) in 5.46 seconds. BPR loss is 7.14E+00. Sample per second: 213652\n",
      "SLIM_BPR_Recommender: Epoch 12 of 100. Elapsed time 1.21 min\n",
      "Processed 1165777 ( 100.00% ) in 6.23 seconds. BPR loss is 7.45E+00. Sample per second: 187117\n",
      "SLIM_BPR_Recommender: Epoch 13 of 100. Elapsed time 1.31 min\n",
      "Processed 1165777 ( 100.00% ) in 4.32 seconds. BPR loss is 7.79E+00. Sample per second: 269636\n",
      "SLIM_BPR_Recommender: Epoch 14 of 100. Elapsed time 1.37 min\n",
      "Processed 1165777 ( 100.00% ) in 5.07 seconds. BPR loss is 8.09E+00. Sample per second: 229723\n",
      "SLIM_BPR_Recommender: Epoch 15 of 100. Elapsed time 1.45 min\n",
      "Processed 1165777 ( 100.00% ) in 7.00 seconds. BPR loss is 8.34E+00. Sample per second: 166460\n",
      "SLIM_BPR_Recommender: Epoch 16 of 100. Elapsed time 1.57 min\n",
      "Processed 1165777 ( 100.00% ) in 6.22 seconds. BPR loss is 8.65E+00. Sample per second: 187547\n",
      "SLIM_BPR_Recommender: Epoch 17 of 100. Elapsed time 1.67 min\n",
      "Processed 1165777 ( 100.00% ) in 5.43 seconds. BPR loss is 8.89E+00. Sample per second: 214600\n",
      "SLIM_BPR_Recommender: Epoch 18 of 100. Elapsed time 1.76 min\n",
      "Processed 1165777 ( 100.00% ) in 5.12 seconds. BPR loss is 9.16E+00. Sample per second: 227610\n",
      "SLIM_BPR_Recommender: Epoch 19 of 100. Elapsed time 1.84 min\n",
      "Processed 1165777 ( 100.00% ) in 4.21 seconds. BPR loss is 9.39E+00. Sample per second: 276699\n",
      "SLIM_BPR_Recommender: Epoch 20 of 100. Elapsed time 1.91 min\n",
      "Processed 1165777 ( 100.00% ) in 4.26 seconds. BPR loss is 9.60E+00. Sample per second: 273681\n",
      "SLIM_BPR_Recommender: Epoch 21 of 100. Elapsed time 1.97 min\n",
      "Processed 1165777 ( 100.00% ) in 4.45 seconds. BPR loss is 9.84E+00. Sample per second: 262002\n",
      "SLIM_BPR_Recommender: Epoch 22 of 100. Elapsed time 2.04 min\n",
      "Processed 1165777 ( 100.00% ) in 4.14 seconds. BPR loss is 1.01E+01. Sample per second: 281815\n",
      "SLIM_BPR_Recommender: Epoch 23 of 100. Elapsed time 2.10 min\n",
      "Processed 1165777 ( 100.00% ) in 4.60 seconds. BPR loss is 1.03E+01. Sample per second: 253688\n",
      "SLIM_BPR_Recommender: Epoch 24 of 100. Elapsed time 2.18 min\n",
      "Processed 1165777 ( 100.00% ) in 5.29 seconds. BPR loss is 1.05E+01. Sample per second: 220238\n",
      "SLIM_BPR_Recommender: Epoch 25 of 100. Elapsed time 2.26 min\n",
      "Processed 1165777 ( 100.00% ) in 4.94 seconds. BPR loss is 1.07E+01. Sample per second: 235850\n",
      "SLIM_BPR_Recommender: Epoch 26 of 100. Elapsed time 2.33 min\n",
      "Processed 1165777 ( 100.00% ) in 5.56 seconds. BPR loss is 1.09E+01. Sample per second: 209551\n",
      "SLIM_BPR_Recommender: Epoch 27 of 100. Elapsed time 2.41 min\n",
      "Processed 1165777 ( 100.00% ) in 5.08 seconds. BPR loss is 1.11E+01. Sample per second: 229412\n",
      "SLIM_BPR_Recommender: Epoch 28 of 100. Elapsed time 2.49 min\n",
      "Processed 1165777 ( 100.00% ) in 4.50 seconds. BPR loss is 1.13E+01. Sample per second: 258934\n",
      "SLIM_BPR_Recommender: Epoch 29 of 100. Elapsed time 2.56 min\n",
      "Processed 1165777 ( 100.00% ) in 4.66 seconds. BPR loss is 1.14E+01. Sample per second: 250118\n",
      "SLIM_BPR_Recommender: Epoch 30 of 100. Elapsed time 2.63 min\n",
      "Processed 1165777 ( 100.00% ) in 4.33 seconds. BPR loss is 1.16E+01. Sample per second: 268980\n",
      "SLIM_BPR_Recommender: Epoch 31 of 100. Elapsed time 2.69 min\n",
      "Processed 1165777 ( 100.00% ) in 4.07 seconds. BPR loss is 1.18E+01. Sample per second: 286508\n",
      "SLIM_BPR_Recommender: Epoch 32 of 100. Elapsed time 2.75 min\n",
      "Processed 1165777 ( 100.00% ) in 3.69 seconds. BPR loss is 1.20E+01. Sample per second: 316288\n",
      "SLIM_BPR_Recommender: Epoch 33 of 100. Elapsed time 2.81 min\n",
      "Processed 1165777 ( 100.00% ) in 5.08 seconds. BPR loss is 1.22E+01. Sample per second: 229279\n",
      "SLIM_BPR_Recommender: Epoch 34 of 100. Elapsed time 2.89 min\n",
      "Processed 1165777 ( 100.00% ) in 4.71 seconds. BPR loss is 1.23E+01. Sample per second: 247749\n",
      "SLIM_BPR_Recommender: Epoch 35 of 100. Elapsed time 2.96 min\n",
      "Processed 1165777 ( 100.00% ) in 5.36 seconds. BPR loss is 1.25E+01. Sample per second: 217474\n",
      "SLIM_BPR_Recommender: Epoch 36 of 100. Elapsed time 3.04 min\n",
      "Processed 1165777 ( 100.00% ) in 5.01 seconds. BPR loss is 1.26E+01. Sample per second: 232763\n",
      "SLIM_BPR_Recommender: Epoch 37 of 100. Elapsed time 3.12 min\n",
      "Processed 1165777 ( 100.00% ) in 4.62 seconds. BPR loss is 1.28E+01. Sample per second: 252123\n",
      "SLIM_BPR_Recommender: Epoch 38 of 100. Elapsed time 3.20 min\n",
      "Processed 1165777 ( 100.00% ) in 5.29 seconds. BPR loss is 1.29E+01. Sample per second: 220462\n",
      "SLIM_BPR_Recommender: Epoch 39 of 100. Elapsed time 3.27 min\n",
      "Processed 1165777 ( 100.00% ) in 4.92 seconds. BPR loss is 1.31E+01. Sample per second: 236756\n",
      "SLIM_BPR_Recommender: Epoch 40 of 100. Elapsed time 3.35 min\n",
      "Processed 1165777 ( 100.00% ) in 5.54 seconds. BPR loss is 1.32E+01. Sample per second: 210363\n",
      "SLIM_BPR_Recommender: Epoch 41 of 100. Elapsed time 3.43 min\n",
      "Processed 1165777 ( 100.00% ) in 5.20 seconds. BPR loss is 1.34E+01. Sample per second: 224265\n",
      "SLIM_BPR_Recommender: Epoch 42 of 100. Elapsed time 3.51 min\n",
      "Processed 1165777 ( 100.00% ) in 4.83 seconds. BPR loss is 1.35E+01. Sample per second: 241166\n",
      "SLIM_BPR_Recommender: Epoch 43 of 100. Elapsed time 3.58 min\n",
      "Processed 1165777 ( 100.00% ) in 5.48 seconds. BPR loss is 1.37E+01. Sample per second: 212823\n",
      "SLIM_BPR_Recommender: Epoch 44 of 100. Elapsed time 3.66 min\n",
      "Processed 1165777 ( 100.00% ) in 5.21 seconds. BPR loss is 1.39E+01. Sample per second: 223545\n",
      "SLIM_BPR_Recommender: Epoch 45 of 100. Elapsed time 3.74 min\n",
      "Processed 1165777 ( 100.00% ) in 4.89 seconds. BPR loss is 1.40E+01. Sample per second: 238484\n",
      "SLIM_BPR_Recommender: Epoch 46 of 100. Elapsed time 3.82 min\n",
      "Processed 1165777 ( 100.00% ) in 5.52 seconds. BPR loss is 1.41E+01. Sample per second: 211130\n",
      "SLIM_BPR_Recommender: Epoch 47 of 100. Elapsed time 3.89 min\n",
      "Processed 1165777 ( 100.00% ) in 5.09 seconds. BPR loss is 1.42E+01. Sample per second: 228822\n",
      "SLIM_BPR_Recommender: Epoch 48 of 100. Elapsed time 3.97 min\n",
      "Processed 1165777 ( 100.00% ) in 4.62 seconds. BPR loss is 1.44E+01. Sample per second: 252136\n",
      "SLIM_BPR_Recommender: Epoch 49 of 100. Elapsed time 4.05 min\n",
      "Processed 1165777 ( 100.00% ) in 5.26 seconds. BPR loss is 1.45E+01. Sample per second: 221502\n"
     ]
    },
    {
     "name": "stdout",
     "output_type": "stream",
     "text": [
      "SLIM_BPR_Recommender: Epoch 50 of 100. Elapsed time 4.12 min\n",
      "Processed 1165777 ( 100.00% ) in 4.89 seconds. BPR loss is 1.46E+01. Sample per second: 238391\n",
      "SLIM_BPR_Recommender: Epoch 51 of 100. Elapsed time 4.20 min\n",
      "Processed 1165777 ( 100.00% ) in 5.63 seconds. BPR loss is 1.48E+01. Sample per second: 207117\n",
      "SLIM_BPR_Recommender: Epoch 52 of 100. Elapsed time 4.28 min\n",
      "Processed 1165777 ( 100.00% ) in 5.28 seconds. BPR loss is 1.49E+01. Sample per second: 220788\n",
      "SLIM_BPR_Recommender: Epoch 53 of 100. Elapsed time 4.36 min\n",
      "Processed 1165777 ( 100.00% ) in 4.90 seconds. BPR loss is 1.49E+01. Sample per second: 237895\n",
      "SLIM_BPR_Recommender: Epoch 54 of 100. Elapsed time 4.43 min\n",
      "Processed 1165777 ( 100.00% ) in 5.52 seconds. BPR loss is 1.51E+01. Sample per second: 211300\n",
      "SLIM_BPR_Recommender: Epoch 55 of 100. Elapsed time 4.51 min\n",
      "Processed 1165777 ( 100.00% ) in 5.11 seconds. BPR loss is 1.52E+01. Sample per second: 227923\n",
      "SLIM_BPR_Recommender: Epoch 56 of 100. Elapsed time 4.59 min\n",
      "Processed 1165777 ( 100.00% ) in 4.77 seconds. BPR loss is 1.54E+01. Sample per second: 244593\n",
      "SLIM_BPR_Recommender: Epoch 57 of 100. Elapsed time 4.66 min\n",
      "Processed 1165777 ( 100.00% ) in 5.44 seconds. BPR loss is 1.55E+01. Sample per second: 214307\n",
      "SLIM_BPR_Recommender: Epoch 58 of 100. Elapsed time 4.74 min\n",
      "Processed 1165777 ( 100.00% ) in 5.08 seconds. BPR loss is 1.56E+01. Sample per second: 229706\n",
      "SLIM_BPR_Recommender: Epoch 59 of 100. Elapsed time 4.82 min\n",
      "Processed 1165777 ( 100.00% ) in 4.86 seconds. BPR loss is 1.56E+01. Sample per second: 240028\n",
      "SLIM_BPR_Recommender: Epoch 60 of 100. Elapsed time 4.90 min\n",
      "Processed 1165777 ( 100.00% ) in 5.43 seconds. BPR loss is 1.58E+01. Sample per second: 214523\n",
      "SLIM_BPR_Recommender: Epoch 61 of 100. Elapsed time 4.98 min\n",
      "Processed 1165777 ( 100.00% ) in 5.10 seconds. BPR loss is 1.59E+01. Sample per second: 228589\n",
      "SLIM_BPR_Recommender: Epoch 62 of 100. Elapsed time 5.05 min\n",
      "Processed 1165777 ( 100.00% ) in 4.75 seconds. BPR loss is 1.60E+01. Sample per second: 245463\n",
      "SLIM_BPR_Recommender: Epoch 63 of 100. Elapsed time 5.13 min\n",
      "Processed 1165777 ( 100.00% ) in 5.38 seconds. BPR loss is 1.61E+01. Sample per second: 216820\n",
      "SLIM_BPR_Recommender: Epoch 64 of 100. Elapsed time 5.21 min\n",
      "Processed 1165777 ( 100.00% ) in 5.15 seconds. BPR loss is 1.62E+01. Sample per second: 226435\n",
      "SLIM_BPR_Recommender: Epoch 65 of 100. Elapsed time 5.29 min\n",
      "Processed 1165777 ( 100.00% ) in 4.78 seconds. BPR loss is 1.63E+01. Sample per second: 244128\n",
      "SLIM_BPR_Recommender: Epoch 66 of 100. Elapsed time 5.37 min\n",
      "Processed 1165777 ( 100.00% ) in 5.39 seconds. BPR loss is 1.64E+01. Sample per second: 216159\n",
      "SLIM_BPR_Recommender: Epoch 67 of 100. Elapsed time 5.44 min\n",
      "Processed 1165777 ( 100.00% ) in 5.02 seconds. BPR loss is 1.66E+01. Sample per second: 232145\n",
      "SLIM_BPR_Recommender: Epoch 68 of 100. Elapsed time 5.52 min\n",
      "Processed 1165777 ( 100.00% ) in 4.68 seconds. BPR loss is 1.66E+01. Sample per second: 248844\n",
      "SLIM_BPR_Recommender: Epoch 69 of 100. Elapsed time 5.60 min\n",
      "Processed 1165777 ( 100.00% ) in 5.34 seconds. BPR loss is 1.67E+01. Sample per second: 218232\n",
      "SLIM_BPR_Recommender: Epoch 70 of 100. Elapsed time 5.67 min\n",
      "Processed 1165777 ( 100.00% ) in 5.00 seconds. BPR loss is 1.68E+01. Sample per second: 233152\n",
      "SLIM_BPR_Recommender: Epoch 71 of 100. Elapsed time 5.75 min\n",
      "Processed 1165777 ( 100.00% ) in 4.59 seconds. BPR loss is 1.69E+01. Sample per second: 253904\n",
      "SLIM_BPR_Recommender: Epoch 72 of 100. Elapsed time 5.83 min\n",
      "Processed 1165777 ( 100.00% ) in 5.19 seconds. BPR loss is 1.70E+01. Sample per second: 224544\n",
      "SLIM_BPR_Recommender: Epoch 73 of 100. Elapsed time 5.91 min\n",
      "Processed 1165777 ( 100.00% ) in 4.74 seconds. BPR loss is 1.71E+01. Sample per second: 246087\n",
      "SLIM_BPR_Recommender: Epoch 74 of 100. Elapsed time 5.98 min\n",
      "Processed 1165777 ( 100.00% ) in 5.37 seconds. BPR loss is 1.72E+01. Sample per second: 216988\n",
      "SLIM_BPR_Recommender: Epoch 75 of 100. Elapsed time 6.06 min\n",
      "Processed 1165777 ( 100.00% ) in 5.01 seconds. BPR loss is 1.73E+01. Sample per second: 232468\n",
      "SLIM_BPR_Recommender: Epoch 76 of 100. Elapsed time 6.14 min\n",
      "Processed 1165777 ( 100.00% ) in 4.63 seconds. BPR loss is 1.74E+01. Sample per second: 251938\n",
      "SLIM_BPR_Recommender: Epoch 77 of 100. Elapsed time 6.21 min\n",
      "Processed 1165777 ( 100.00% ) in 5.32 seconds. BPR loss is 1.75E+01. Sample per second: 219335\n",
      "SLIM_BPR_Recommender: Epoch 78 of 100. Elapsed time 6.29 min\n",
      "Processed 1165777 ( 100.00% ) in 4.97 seconds. BPR loss is 1.76E+01. Sample per second: 234493\n",
      "SLIM_BPR_Recommender: Epoch 79 of 100. Elapsed time 6.37 min\n",
      "Processed 1165777 ( 100.00% ) in 5.65 seconds. BPR loss is 1.77E+01. Sample per second: 206371\n",
      "SLIM_BPR_Recommender: Epoch 80 of 100. Elapsed time 6.45 min\n",
      "Processed 1165777 ( 100.00% ) in 5.35 seconds. BPR loss is 1.77E+01. Sample per second: 217722\n",
      "SLIM_BPR_Recommender: Epoch 81 of 100. Elapsed time 6.52 min\n",
      "Processed 1165777 ( 100.00% ) in 4.98 seconds. BPR loss is 1.78E+01. Sample per second: 234096\n",
      "SLIM_BPR_Recommender: Epoch 82 of 100. Elapsed time 6.60 min\n",
      "Processed 1165777 ( 100.00% ) in 5.61 seconds. BPR loss is 1.79E+01. Sample per second: 207645\n",
      "SLIM_BPR_Recommender: Epoch 83 of 100. Elapsed time 6.68 min\n",
      "Processed 1165777 ( 100.00% ) in 5.24 seconds. BPR loss is 1.80E+01. Sample per second: 222656\n",
      "SLIM_BPR_Recommender: Epoch 84 of 100. Elapsed time 6.76 min\n",
      "Processed 1165777 ( 100.00% ) in 4.92 seconds. BPR loss is 1.80E+01. Sample per second: 236826\n",
      "SLIM_BPR_Recommender: Epoch 85 of 100. Elapsed time 6.83 min\n",
      "Processed 1165777 ( 100.00% ) in 5.70 seconds. BPR loss is 1.81E+01. Sample per second: 204453\n",
      "SLIM_BPR_Recommender: Epoch 86 of 100. Elapsed time 6.91 min\n",
      "Processed 1165777 ( 100.00% ) in 5.37 seconds. BPR loss is 1.82E+01. Sample per second: 216897\n",
      "SLIM_BPR_Recommender: Epoch 87 of 100. Elapsed time 6.99 min\n",
      "Processed 1165777 ( 100.00% ) in 5.03 seconds. BPR loss is 1.84E+01. Sample per second: 231540\n",
      "SLIM_BPR_Recommender: Epoch 88 of 100. Elapsed time 7.07 min\n",
      "Processed 1165777 ( 100.00% ) in 4.67 seconds. BPR loss is 1.84E+01. Sample per second: 249878\n",
      "SLIM_BPR_Recommender: Epoch 89 of 100. Elapsed time 7.15 min\n",
      "Processed 1165777 ( 100.00% ) in 5.30 seconds. BPR loss is 1.85E+01. Sample per second: 219837\n",
      "SLIM_BPR_Recommender: Epoch 90 of 100. Elapsed time 7.22 min\n",
      "Processed 1165777 ( 100.00% ) in 5.03 seconds. BPR loss is 1.86E+01. Sample per second: 231814\n",
      "SLIM_BPR_Recommender: Epoch 91 of 100. Elapsed time 7.30 min\n",
      "Processed 1165777 ( 100.00% ) in 4.68 seconds. BPR loss is 1.86E+01. Sample per second: 248852\n",
      "SLIM_BPR_Recommender: Epoch 92 of 100. Elapsed time 7.38 min\n",
      "Processed 1165777 ( 100.00% ) in 5.32 seconds. BPR loss is 1.87E+01. Sample per second: 219082\n",
      "SLIM_BPR_Recommender: Epoch 93 of 100. Elapsed time 7.46 min\n",
      "Processed 1165777 ( 100.00% ) in 4.97 seconds. BPR loss is 1.88E+01. Sample per second: 234794\n",
      "SLIM_BPR_Recommender: Epoch 94 of 100. Elapsed time 7.53 min\n",
      "Processed 1165777 ( 100.00% ) in 5.60 seconds. BPR loss is 1.89E+01. Sample per second: 208044\n",
      "SLIM_BPR_Recommender: Epoch 95 of 100. Elapsed time 7.61 min\n",
      "Processed 1165777 ( 100.00% ) in 5.24 seconds. BPR loss is 1.89E+01. Sample per second: 222483\n",
      "SLIM_BPR_Recommender: Epoch 96 of 100. Elapsed time 7.69 min\n",
      "Processed 1165777 ( 100.00% ) in 4.87 seconds. BPR loss is 1.91E+01. Sample per second: 239193\n",
      "SLIM_BPR_Recommender: Epoch 97 of 100. Elapsed time 7.77 min\n",
      "Processed 1165777 ( 100.00% ) in 5.46 seconds. BPR loss is 1.91E+01. Sample per second: 213661\n",
      "SLIM_BPR_Recommender: Epoch 98 of 100. Elapsed time 7.84 min\n",
      "Processed 1165777 ( 100.00% ) in 5.05 seconds. BPR loss is 1.92E+01. Sample per second: 230868\n",
      "SLIM_BPR_Recommender: Epoch 99 of 100. Elapsed time 7.92 min\n",
      "Processed 1165777 ( 100.00% ) in 4.56 seconds. BPR loss is 1.93E+01. Sample per second: 255813\n",
      "SLIM_BPR_Recommender: Epoch 100 of 100. Elapsed time 7.99 min\n",
      "SequentialEvaluator: Processed 9676 ( 100.00% ) in 8.52 seconds. Users per second: 1135\n",
      "Unable to load Cython Compute_Similarity, reverting to Python\n",
      "Similarity column 20600 ( 100 % ), 2912.61 column/sec, elapsed time 0.12 min\n",
      "SequentialEvaluator: Processed 9676 ( 100.00% ) in 4.53 seconds. Users per second: 2138\n"
     ]
    }
   ],
   "source": [
    "CFrecommender = ItemKNNCFRecommender(URM_all)\n",
    "CFrecommender.fit()\n",
    "\n",
    "SLIMrecommender = SLIM_BPR_Cython(URM_all)\n",
    "SLIMrecommender.fit()\n",
    "\n",
    "CBFrecommender = ItemKNNCBFRecommender(ICM_all,URM_all)\n",
    "CBFrecommender.fit()\n",
    "\n",
    "SLIMErecommender = SLIMElasticNetRecommender(URM_all)\n",
    "SLIMErecommender.fit()\n"
   ]
  },
  {
   "cell_type": "code",
   "execution_count": 12,
   "metadata": {},
   "outputs": [
    {
     "name": "stdout",
     "output_type": "stream",
     "text": [
      "PERSONAL RECOMMENDER2\n",
      "PERSONAL RECOMMENDER2\n",
      "PERSONAL RECOMMENDER2\n",
      "PERSONAL RECOMMENDER2\n",
      "PERSONAL RECOMMENDER2\n",
      "PERSONAL RECOMMENDER2\n",
      "PERSONAL RECOMMENDER2\n",
      "PERSONAL RECOMMENDER2\n",
      "PERSONAL RECOMMENDER2\n",
      "PERSONAL RECOMMENDER2\n",
      "SequentialEvaluator: Processed 9676 ( 100.00% ) in 9.03 seconds. Users per second: 1072\n"
     ]
    },
    {
     "data": {
      "text/plain": [
       "{'MAP': 0.09015432424252004}"
      ]
     },
     "execution_count": 12,
     "metadata": {},
     "output_type": "execute_result"
    }
   ],
   "source": [
    "H1recc=ItemKNNRatingHybridRecommender(URM_train,CBFrecommender, SLIMrecommender,userID)\n",
    "H1recc.fit(alpha=0.2)\n",
    "H1recc.evaluateRecommendations(URM_test)"
   ]
  },
  {
   "cell_type": "code",
   "execution_count": 13,
   "metadata": {},
   "outputs": [
    {
     "name": "stdout",
     "output_type": "stream",
     "text": [
      "SequentialEvaluator: Processed 9676 ( 100.00% ) in 11.04 seconds. Users per second: 876\n"
     ]
    },
    {
     "data": {
      "text/plain": [
       "{'MAP': 0.0915261006432032}"
      ]
     },
     "execution_count": 13,
     "metadata": {},
     "output_type": "execute_result"
    }
   ],
   "source": [
    "H12recc=ItemKNNScoresHybridRecommender(URM_train,CBFrecommender, SLIMrecommender)\n",
    "H12recc.fit(alpha=0.2)\n",
    "H12recc.evaluateRecommendations(URM_test)"
   ]
  },
  {
   "cell_type": "code",
   "execution_count": 14,
   "metadata": {
    "scrolled": false
   },
   "outputs": [
    {
     "name": "stdout",
     "output_type": "stream",
     "text": [
      "PERSONAL RECOMMENDER2\n",
      "PERSONAL RECOMMENDER2\n",
      "PERSONAL RECOMMENDER2\n",
      "PERSONAL RECOMMENDER2\n",
      "PERSONAL RECOMMENDER2\n",
      "PERSONAL RECOMMENDER2\n",
      "PERSONAL RECOMMENDER2\n",
      "PERSONAL RECOMMENDER2\n",
      "PERSONAL RECOMMENDER2\n",
      "PERSONAL RECOMMENDER2\n",
      "SequentialEvaluator: Processed 9676 ( 100.00% ) in 17.09 seconds. Users per second: 566\n"
     ]
    },
    {
     "data": {
      "text/plain": [
       "{'MAP': 0.0932469315763985}"
      ]
     },
     "execution_count": 14,
     "metadata": {},
     "output_type": "execute_result"
    }
   ],
   "source": [
    "H13recc=ItemKNNRatingHybridRecommender3(URM_train,CFrecommender, SLIMrecommender,CBFrecommender,userID)\n",
    "H13recc.fit(alpha=0.4,beta=0.5,gamma=0.1)\n",
    "H13recc.evaluateRecommendations(URM_test)"
   ]
  },
  {
   "cell_type": "code",
   "execution_count": 4,
   "metadata": {},
   "outputs": [
    {
     "name": "stdout",
     "output_type": "stream",
     "text": [
      "SequentialEvaluator: Processed 9676 ( 100.00% ) in 13.81 seconds. Users per second: 701\n"
     ]
    },
    {
     "data": {
      "text/plain": [
       "{'MAP': 0.09259191893306848}"
      ]
     },
     "execution_count": 4,
     "metadata": {},
     "output_type": "execute_result"
    }
   ],
   "source": [
    "H123recc=ItemKNNScoresHybridRecommender3(URM_train,CFrecommender, SLIMrecommender,CBFrecommender)\n",
    "H123recc.fit(alpha=0.4,beta=0.5,gamma=0.1)\n",
    "H123recc.evaluateRecommendations(URM_test)"
   ]
  },
  {
   "cell_type": "code",
   "execution_count": 8,
   "metadata": {},
   "outputs": [
    {
     "name": "stdout",
     "output_type": "stream",
     "text": [
      "PERSONAL RECOMMENDER2\n",
      "PERSONAL RECOMMENDER2\n",
      "PERSONAL RECOMMENDER2\n",
      "PERSONAL RECOMMENDER2\n",
      "PERSONAL RECOMMENDER2\n",
      "PERSONAL RECOMMENDER2\n",
      "PERSONAL RECOMMENDER2\n",
      "PERSONAL RECOMMENDER2\n",
      "PERSONAL RECOMMENDER2\n",
      "PERSONAL RECOMMENDER2\n",
      "SequentialEvaluator: Processed 9676 ( 100.00% ) in 23.78 seconds. Users per second: 407\n"
     ]
    },
    {
     "data": {
      "text/plain": [
       "{'MAP': 0.09646166935896133}"
      ]
     },
     "execution_count": 8,
     "metadata": {},
     "output_type": "execute_result"
    }
   ],
   "source": [
    "H4recc=ItemKNNRatingHybridRecommender4(URM_train,SLIMrecommender,CFrecommender,SLIMErecommender,CBFrecommender,userID)\n",
    "H4recc.fit(alpha=0.5,beta=0.3,gamma=0.1,delta=0.1)\n",
    "H4recc.evaluateRecommendations(URM_test)"
   ]
  },
  {
   "cell_type": "code",
   "execution_count": 9,
   "metadata": {},
   "outputs": [
    {
     "name": "stdout",
     "output_type": "stream",
     "text": [
      "PERSONAL RECOMMENDER2\n",
      "PERSONAL RECOMMENDER2\n",
      "PERSONAL RECOMMENDER2\n",
      "PERSONAL RECOMMENDER2\n",
      "PERSONAL RECOMMENDER2\n",
      "PERSONAL RECOMMENDER2\n",
      "PERSONAL RECOMMENDER2\n",
      "PERSONAL RECOMMENDER2\n",
      "PERSONAL RECOMMENDER2\n",
      "PERSONAL RECOMMENDER2\n",
      "SequentialEvaluator: Processed 9676 ( 100.00% ) in 24.05 seconds. Users per second: 402\n"
     ]
    },
    {
     "data": {
      "text/plain": [
       "{'MAP': 0.09685331966602263}"
      ]
     },
     "execution_count": 9,
     "metadata": {},
     "output_type": "execute_result"
    }
   ],
   "source": [
    "H3recc=ItemKNNRatingHybridRecommender3(URM_train, SLIMrecommender,SLIMErecommender,CBFrecommender,userID)\n",
    "H3recc.fit(alpha=0.55,beta=0.3,gamma=0.2)\n",
    "H3recc.evaluateRecommendations(URM_test)"
   ]
  },
  {
   "cell_type": "code",
   "execution_count": 10,
   "metadata": {},
   "outputs": [
    {
     "name": "stdout",
     "output_type": "stream",
     "text": [
      "0.4\n",
      "PERSONAL RECOMMENDER2\n",
      "PERSONAL RECOMMENDER2\n",
      "PERSONAL RECOMMENDER2\n",
      "PERSONAL RECOMMENDER2\n",
      "PERSONAL RECOMMENDER2\n",
      "PERSONAL RECOMMENDER2\n",
      "PERSONAL RECOMMENDER2\n",
      "PERSONAL RECOMMENDER2\n",
      "PERSONAL RECOMMENDER2\n",
      "PERSONAL RECOMMENDER2\n",
      "SequentialEvaluator: Processed 9676 ( 100.00% ) in 22.59 seconds. Users per second: 428\n",
      "Recommender MAP is= 0.09694750074692648\n",
      "0.4\n",
      "PERSONAL RECOMMENDER2\n",
      "PERSONAL RECOMMENDER2\n",
      "PERSONAL RECOMMENDER2\n",
      "PERSONAL RECOMMENDER2\n",
      "PERSONAL RECOMMENDER2\n",
      "PERSONAL RECOMMENDER2\n",
      "PERSONAL RECOMMENDER2\n",
      "PERSONAL RECOMMENDER2\n",
      "PERSONAL RECOMMENDER2\n",
      "PERSONAL RECOMMENDER2\n",
      "SequentialEvaluator: Processed 9676 ( 100.00% ) in 19.15 seconds. Users per second: 505\n",
      "Recommender MAP is= 0.09735042213262748\n",
      "0.5\n",
      "PERSONAL RECOMMENDER2\n",
      "PERSONAL RECOMMENDER2\n",
      "PERSONAL RECOMMENDER2\n",
      "PERSONAL RECOMMENDER2\n",
      "PERSONAL RECOMMENDER2\n",
      "PERSONAL RECOMMENDER2\n",
      "PERSONAL RECOMMENDER2\n",
      "PERSONAL RECOMMENDER2\n",
      "PERSONAL RECOMMENDER2\n",
      "PERSONAL RECOMMENDER2\n",
      "SequentialEvaluator: Processed 9676 ( 100.00% ) in 17.68 seconds. Users per second: 547\n",
      "Recommender MAP is= 0.09697569797271878\n",
      "0.8\n",
      "PERSONAL RECOMMENDER2\n",
      "PERSONAL RECOMMENDER2\n",
      "PERSONAL RECOMMENDER2\n",
      "PERSONAL RECOMMENDER2\n",
      "PERSONAL RECOMMENDER2\n",
      "PERSONAL RECOMMENDER2\n",
      "PERSONAL RECOMMENDER2\n",
      "PERSONAL RECOMMENDER2\n",
      "PERSONAL RECOMMENDER2\n",
      "PERSONAL RECOMMENDER2\n",
      "SequentialEvaluator: Processed 9676 ( 100.00% ) in 18.94 seconds. Users per second: 511\n",
      "Recommender MAP is= 0.09691455000155712\n",
      "0.5\n",
      "PERSONAL RECOMMENDER2\n",
      "PERSONAL RECOMMENDER2\n",
      "PERSONAL RECOMMENDER2\n",
      "PERSONAL RECOMMENDER2\n",
      "PERSONAL RECOMMENDER2\n",
      "PERSONAL RECOMMENDER2\n",
      "PERSONAL RECOMMENDER2\n",
      "PERSONAL RECOMMENDER2\n",
      "PERSONAL RECOMMENDER2\n",
      "PERSONAL RECOMMENDER2\n",
      "SequentialEvaluator: Processed 9676 ( 100.00% ) in 26.50 seconds. Users per second: 365\n",
      "Recommender MAP is= 0.09795365879957876\n",
      "0.5\n",
      "PERSONAL RECOMMENDER2\n",
      "PERSONAL RECOMMENDER2\n",
      "PERSONAL RECOMMENDER2\n",
      "PERSONAL RECOMMENDER2\n",
      "PERSONAL RECOMMENDER2\n",
      "PERSONAL RECOMMENDER2\n",
      "PERSONAL RECOMMENDER2\n",
      "PERSONAL RECOMMENDER2\n",
      "PERSONAL RECOMMENDER2\n",
      "PERSONAL RECOMMENDER2\n",
      "SequentialEvaluator: Processed 9676 ( 100.00% ) in 21.79 seconds. Users per second: 444\n",
      "Recommender MAP is= 0.09788577608845071\n"
     ]
    }
   ],
   "source": [
    "alphaList =[(0.4,0.6,0.1),(0.4,0.5,0.1), (0.5,0.5,0.2),(0.8,0.9,0.3),(0.5,0.4,0.1),(0.5,0.3,0.1)]\n",
    "\n",
    "for x,y,z in alphaList:\n",
    "    print(x)\n",
    "    H3recc.fit(alpha=x,beta=y,gamma=z)\n",
    "    result=H3recc.evaluateRecommendations(URM_test)\n",
    "    print(\"Recommender MAP is= {}\".format(result[\"MAP\"]))\n",
    "\n"
   ]
  },
  {
   "cell_type": "code",
   "execution_count": null,
   "metadata": {},
   "outputs": [],
   "source": [
    "#BLOCCO PER FARE SUBMISSIONS\n",
    "from createSubmission import create_submission\n",
    "\n",
    "\n",
    "recommender = ItemKNNRatingHybridRecommender3(URM_all, SLIMrecommender,SLIMErecommender,CBFrecommender,userID)\n",
    "recommender.fit(alpha=0.5,beta=0.4,gamma=0.1)\n",
    "create_submission(recommender)"
   ]
  }
 ],
 "metadata": {
  "kernelspec": {
   "display_name": "Python 3",
   "language": "python",
   "name": "python3"
  },
  "language_info": {
   "codemirror_mode": {
    "name": "ipython",
    "version": 3
   },
   "file_extension": ".py",
   "mimetype": "text/x-python",
   "name": "python",
   "nbconvert_exporter": "python",
   "pygments_lexer": "ipython3",
   "version": "3.6.4"
  }
 },
 "nbformat": 4,
 "nbformat_minor": 2
}
