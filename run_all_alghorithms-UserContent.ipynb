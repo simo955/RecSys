{
 "cells": [
  {
   "cell_type": "code",
   "execution_count": 1,
   "metadata": {},
   "outputs": [],
   "source": [
    "from SLIM_BPR.Cython.SLIM_BPR_Cython import SLIM_BPR_Cython\n",
    "from SLIM_ElasticNet.SLIMElasticNetRecommender import SLIMElasticNetRecommender\n",
    "\n",
    "from MatrixFactorization.Cython.MatrixFactorization_Cython import MatrixFactorization_BPR_Cython, MatrixFactorization_FunkSVD_Cython\n",
    "from MatrixFactorization.PureSVD import PureSVDRecommender\n",
    "\n",
    "from Base.NonPersonalizedRecommender import TopPop, Random\n",
    "\n",
    "from KNN.UserKNNCFRecommender import UserKNNCFRecommender\n",
    "from KNN.ItemKNNCFRecommender import ItemKNNCFRecommender\n",
    "from KNN.ItemKNNCBFRecommender import ItemKNNCBFRecommender\n",
    "\n",
    "from KNN.ItemKNNScoresHybridRecommender import ItemKNNScoresHybridRecommender\n",
    "from KNN.ItemKNNScoresHybridRecommender3 import ItemKNNScoresHybridRecommender3\n",
    "\n",
    "from KNN.ItemKNNSimilarityHybridRecommender import ItemKNNSimilarityHybridRecommender\n",
    "from KNN.ItemKNNSimilarityHybridRecommender3 import ItemKNNSimilarityHybridRecommender3\n",
    "from KNN.ItemKNNSimilarityHybridRecommender4 import ItemKNNSimilarityHybridRecommender4\n",
    "\n",
    "from KNN.UserKNNCBFRecommender import UserKNNCBFRecommender\n",
    "\n",
    "\n",
    "#from GraphBased.RP3betaRecommender import RP3betaRecommender\n",
    "#from GraphBased.P3alphaRecommender import P3alphaRecommender"
   ]
  },
  {
   "cell_type": "code",
   "execution_count": 2,
   "metadata": {},
   "outputs": [],
   "source": [
    "import traceback, os\n",
    "import scipy.sparse\n",
    "import pandas as pd\n",
    "import numpy as np\n",
    "\n",
    "URM_all = scipy.sparse.load_npz('./Matrix/URM_all_matrix.npz')\n",
    "ICM_all = scipy.sparse.load_npz('./Matrix/ICM_all_matrix.npz')\n",
    "URM_train = scipy.sparse.load_npz('./Matrix/URM_train_matrix.npz')\n",
    "URM_test = scipy.sparse.load_npz('./Matrix/URM_test_matrix.npz')\n",
    "#UCM_all = scipy.sparse.load_npz('./Matrix/UCM_all_matrix.npz')\n",
    "#UCM_train1 = scipy.sparse.load_npz('UCM_train_matrix1.npz')\n",
    "\n",
    "\n",
    "\n",
    "#Load playlistsIDS\n",
    "train_df= pd.read_csv('all/train.csv',low_memory = False)\n",
    "all_userID=train_df.playlist_id.unique()"
   ]
  },
  {
   "cell_type": "code",
   "execution_count": 5,
   "metadata": {},
   "outputs": [
    {
     "name": "stdout",
     "output_type": "stream",
     "text": [
      "Similarity column 22143 ( 44 % ), 603.00 column/sec, elapsed time 0.61 min\n",
      "Similarity column 50446 ( 100 % ), 645.43 column/sec, elapsed time 1.30 min\n",
      "SequentialEvaluator: Processed 9676 ( 100.00% ) in 9.51 seconds. Users per second: 1017\n",
      "Recommender MAP is= 0.24810987000158252\n"
     ]
    }
   ],
   "source": [
    "UserCBFrecommender = UserKNNCBFRecommender(UCM_train,URM_train) \n",
    "UserCBFrecommender.fit(topK=300, shrink=80, feature_weighting = \"BM25\")\n",
    "result = UserCBFrecommender.evaluateRecommendations(URM_test)\n",
    "print(\"Recommender MAP is= {}\".format(result[\"MAP\"]))"
   ]
  },
  {
   "cell_type": "code",
   "execution_count": 3,
   "metadata": {},
   "outputs": [],
   "source": [
    "import pandas as pd\n",
    "from numpy import *\n",
    "import numpy as np\n",
    "from scipy import sparse\n",
    "\n",
    "\n",
    "\n",
    "data_playlists= pd.read_csv('all/train.csv',low_memory = False)\n",
    "data_tracks= pd.read_csv('all/tracks.csv',low_memory = False)\n",
    "\n",
    "\n",
    "\n",
    "#SPLITTAGGIO DEI DATI\n",
    "\n",
    "#prendo il 20% delle random playlist da target playlist\n",
    "target_playlist= pd.read_csv('all/target_playlists.csv',low_memory = False)\n",
    "random_playlist=target_playlist.iloc[5000:10000]\n",
    "random_id = random_playlist.playlist_id.values\n",
    "random_data=data_playlists.loc[data_playlists['playlist_id'].isin(random_id)]\n",
    "#random_data.shape = (114513, 2)\n",
    "n=round((114513/100)*20)\n",
    "random_subset = random_data.sample(n=n)\n",
    "\n",
    "#prendo il 20% delle sequential playlist da target playlist\n",
    "sequential_playlist=target_playlist.iloc[:5000]\n",
    "sequential_id = sequential_playlist.playlist_id.values\n",
    "sequential_data=data_playlists.loc[data_playlists['playlist_id'].isin(sequential_id)]\n",
    "n1=round((115553/100)*20)\n",
    "for pid in sequential_id:\n",
    "    playlistID=sequential_data.loc[sequential_data['playlist_id']==pid]\n",
    "    start=sequential_data.index[sequential_data['playlist_id'] == pid][0]\n",
    "    end=start+round((playlistID.shape[0]*50)/100)\n",
    "\n",
    "    dropping=list(range(start, end))    \n",
    "    sequential_data=sequential_data.drop(dropping)\n",
    "\n",
    "\n",
    "sequential_subset = sequential_data.sample(n=n1)"
   ]
  },
  {
   "cell_type": "code",
   "execution_count": 6,
   "metadata": {},
   "outputs": [
    {
     "name": "stdout",
     "output_type": "stream",
     "text": [
      "(1211791,)\n",
      "(22903,)\n",
      "(23111,)\n"
     ]
    }
   ],
   "source": [
    "indexes=data_playlists.index.values\n",
    "index_random=random_subset.index.values\n",
    "index_sequential=sequential_subset.index.values\n",
    "print(indexes.shape)\n",
    "print(index_random.shape)\n",
    "print(index_sequential.shape)"
   ]
  },
  {
   "cell_type": "code",
   "execution_count": 7,
   "metadata": {},
   "outputs": [],
   "source": [
    "data_playlists=data_playlists[~data_playlists.isin(sequential_subset)].dropna()\n",
    "data_playlists=data_playlists[~data_playlists.isin(random_subset)].dropna()"
   ]
  },
  {
   "cell_type": "code",
   "execution_count": 11,
   "metadata": {},
   "outputs": [],
   "source": [
    "#CREAZIONE DELLA UCM_ALL\n",
    "UCM_train=zeros((50446,19412))\n",
    "URM_train=zeros((50446,20635))\n",
    "\n",
    "#inizializzazione completa\n",
    "for row in data_playlists.itertuples():\n",
    "    riga = int(row.playlist_id)\n",
    "    #print(riga)\n",
    "    #track=data_tracks.loc[data_tracks['track_id'] == int(row.track_id)]\n",
    "    #print(colonna)\n",
    "    colonna= int(row.track_id)\n",
    "    URM_train[riga,colonna]=1\n",
    "   #UCM_train[riga,int(track.album_id)]=1\n",
    "    #UCM_train[riga,12744+int(track.artist_id)]=1\n",
    "\n",
    "#UCM_train=sparse.csr_matrix(UCM_train)   \n",
    "#sparse.save_npz('UCM_train_matrix.npz', UCM_train)\n",
    "URM_train=sparse.csr_matrix(URM_train)   \n",
    "\n",
    "\n",
    "\n",
    "\n",
    "\n"
   ]
  },
  {
   "cell_type": "code",
   "execution_count": 11,
   "metadata": {},
   "outputs": [],
   "source": [
    "import pandas as pd\n",
    "from numpy import *\n",
    "import numpy as np\n",
    "from scipy import sparse\n",
    "\n",
    "\n",
    "\n",
    "data_playlists= pd.read_csv('all/train.csv',low_memory = False)\n",
    "data_tracks= pd.read_csv('all/tracks.csv',low_memory = False)\n",
    "\n",
    "\n",
    "\n",
    "#SPLITTAGGIO DEI DATI\n",
    "\n",
    "#prendo il 20% delle random playlist da target playlist\n",
    "target_playlist= pd.read_csv('all/target_playlists.csv',low_memory = False)\n",
    "random_playlist=target_playlist.iloc[5000:10000]\n",
    "random_id = random_playlist.playlist_id.values\n",
    "random_data=data_playlists.loc[data_playlists['playlist_id'].isin(random_id)]\n",
    "#random_data.shape = (114513, 2)\n",
    "n=round((114513/100)*20)\n",
    "random_subset = random_data.sample(n=n)\n",
    "\n",
    "#prendo il 20% delle sequential playlist da target playlist\n",
    "sequential_playlist=target_playlist.iloc[:5000]\n",
    "sequential_id = sequential_playlist.playlist_id.values\n",
    "sequential_data=data_playlists.loc[data_playlists['playlist_id'].isin(sequential_id)]\n",
    "n1=round((115553/100)*20)\n",
    "for pid in sequential_id:\n",
    "    playlistID=sequential_data.loc[sequential_data['playlist_id']==pid]\n",
    "    start=sequential_data.index[sequential_data['playlist_id'] == pid][0]\n",
    "    end=start+round((playlistID.shape[0]*50)/100)\n",
    "\n",
    "    dropping=list(range(start, end))    \n",
    "    sequential_data=sequential_data.drop(dropping)\n",
    "\n",
    "\n",
    "sequential_subset = sequential_data.sample(n=n1)\n",
    "\n",
    "\n",
    "#CREAZIONE DELLA UCM_ALL\n",
    "UCM_train1=zeros((50446,19412))\n",
    "\n",
    "#inizializzazione completa\n",
    "for row in data_playlists.itertuples():\n",
    "    riga = row.playlist_id\n",
    "    #print(riga)\n",
    "    track=data_tracks.loc[data_tracks['track_id'] == row.track_id]\n",
    "    #print(colonna)\n",
    "    UCM_train1[riga,int(track.album_id.values)]=1\n",
    "    UCM_train1[riga,12744+int(track.artist_id.values)]=1\n",
    "    \n",
    "for row in sequential_subset.itertuples():\n",
    "    riga = row.playlist_id\n",
    "    #print(riga)\n",
    "    track=data_tracks.loc[data_tracks['track_id'] == row.track_id]\n",
    "    #print(colonna)\n",
    "    UCM_train1[riga,int(track.album_id.values)]=0\n",
    "    UCM_train1[riga,12744+int(track.artist_id.values)]=0\n",
    "for row in random_subset.itertuples():\n",
    "    riga = row.playlist_id\n",
    "    #print(riga)\n",
    "    track=data_tracks.loc[data_tracks['track_id'] == row.track_id]\n",
    "    #print(colonna)\n",
    "    UCM_train1[riga,int(track.album_id.values)]=0\n",
    "    UCM_train1[riga,12744+int(track.artist_id.values)]=0\n",
    "\n",
    "UCM_train1=sparse.csr_matrix(UCM_train1)   \n",
    "sparse.save_npz('UCM_train_matrix1.npz', UCM_train1)\n",
    "\n",
    "\n"
   ]
  },
  {
   "cell_type": "code",
   "execution_count": 5,
   "metadata": {},
   "outputs": [],
   "source": [
    "data_playlists= pd.read_csv('all/train.csv',low_memory = False)\n",
    "data_tracks= pd.read_csv('all/tracks.csv',low_memory = False)\n",
    "\n",
    "\n",
    "\n",
    "#SPLITTAGGIO DEI DATI\n",
    "\n",
    "#prendo il 20% delle random playlist da target playlist\n",
    "target_playlist= pd.read_csv('all/target_playlists.csv',low_memory = False)\n",
    "random_playlist=target_playlist.iloc[5000:10000]\n",
    "random_id = random_playlist.playlist_id.values\n",
    "random_data=data_playlists.loc[data_playlists['playlist_id'].isin(random_id)]\n",
    "#random_data.shape = (114513, 2)\n",
    "n=round((114513/100)*20)\n",
    "random_subset = random_data.sample(n=n)\n",
    "\n",
    "#prendo il 20% delle sequential playlist da target playlist\n",
    "sequential_playlist=target_playlist.iloc[:5000]\n",
    "sequential_id = sequential_playlist.playlist_id.values\n",
    "sequential_data=data_playlists.loc[data_playlists['playlist_id'].isin(sequential_id)]\n",
    "n1=round((115553/100)*20)\n",
    "for pid in sequential_id:\n",
    "    playlistID=sequential_data.loc[sequential_data['playlist_id']==pid]\n",
    "    start=sequential_data.index[sequential_data['playlist_id'] == pid][0]\n",
    "    end=start+round((playlistID.shape[0]*50)/100)\n",
    "\n",
    "    dropping=list(range(start, end))    \n",
    "    sequential_data=sequential_data.drop(dropping)\n",
    "\n",
    "\n",
    "sequential_subset = sequential_data.sample(n=n1)"
   ]
  },
  {
   "cell_type": "code",
   "execution_count": 41,
   "metadata": {},
   "outputs": [
    {
     "ename": "KeyboardInterrupt",
     "evalue": "",
     "output_type": "error",
     "traceback": [
      "\u001b[0;31m---------------------------------------------------------------------------\u001b[0m",
      "\u001b[0;31mKeyboardInterrupt\u001b[0m                         Traceback (most recent call last)",
      "\u001b[0;32m<ipython-input-41-223790ee1c6b>\u001b[0m in \u001b[0;36m<module>\u001b[0;34m()\u001b[0m\n\u001b[1;32m      2\u001b[0m \u001b[0;32mfor\u001b[0m \u001b[0mrow\u001b[0m \u001b[0;32min\u001b[0m \u001b[0msequential_subset\u001b[0m\u001b[0;34m.\u001b[0m\u001b[0mitertuples\u001b[0m\u001b[0;34m(\u001b[0m\u001b[0;34m)\u001b[0m\u001b[0;34m:\u001b[0m\u001b[0;34m\u001b[0m\u001b[0m\n\u001b[1;32m      3\u001b[0m     \u001b[0mriga\u001b[0m \u001b[0;34m=\u001b[0m \u001b[0mrow\u001b[0m\u001b[0;34m.\u001b[0m\u001b[0mplaylist_id\u001b[0m\u001b[0;34m\u001b[0m\u001b[0m\n\u001b[0;32m----> 4\u001b[0;31m     \u001b[0mtrack\u001b[0m\u001b[0;34m=\u001b[0m\u001b[0mdata_tracks\u001b[0m\u001b[0;34m.\u001b[0m\u001b[0mloc\u001b[0m\u001b[0;34m[\u001b[0m\u001b[0mdata_tracks\u001b[0m\u001b[0;34m[\u001b[0m\u001b[0;34m'track_id'\u001b[0m\u001b[0;34m]\u001b[0m \u001b[0;34m==\u001b[0m \u001b[0mrow\u001b[0m\u001b[0;34m.\u001b[0m\u001b[0mtrack_id\u001b[0m\u001b[0;34m]\u001b[0m\u001b[0;34m\u001b[0m\u001b[0m\n\u001b[0m\u001b[1;32m      5\u001b[0m     \u001b[0mcolonna1\u001b[0m\u001b[0;34m=\u001b[0m \u001b[0mint\u001b[0m\u001b[0;34m(\u001b[0m\u001b[0mtrack\u001b[0m\u001b[0;34m.\u001b[0m\u001b[0malbum_id\u001b[0m\u001b[0;34m.\u001b[0m\u001b[0mvalues\u001b[0m\u001b[0;34m)\u001b[0m\u001b[0;34m\u001b[0m\u001b[0m\n\u001b[1;32m      6\u001b[0m     \u001b[0mcolonna2\u001b[0m\u001b[0;34m=\u001b[0m\u001b[0;36m12744\u001b[0m\u001b[0;34m+\u001b[0m\u001b[0mint\u001b[0m\u001b[0;34m(\u001b[0m\u001b[0mtrack\u001b[0m\u001b[0;34m.\u001b[0m\u001b[0martist_id\u001b[0m\u001b[0;34m.\u001b[0m\u001b[0mvalues\u001b[0m\u001b[0;34m)\u001b[0m\u001b[0;34m\u001b[0m\u001b[0m\n",
      "\u001b[0;32m/anaconda3/lib/python3.6/site-packages/pandas/core/indexing.py\u001b[0m in \u001b[0;36m__getitem__\u001b[0;34m(self, key)\u001b[0m\n\u001b[1;32m   1476\u001b[0m \u001b[0;34m\u001b[0m\u001b[0m\n\u001b[1;32m   1477\u001b[0m             \u001b[0mmaybe_callable\u001b[0m \u001b[0;34m=\u001b[0m \u001b[0mcom\u001b[0m\u001b[0;34m.\u001b[0m\u001b[0m_apply_if_callable\u001b[0m\u001b[0;34m(\u001b[0m\u001b[0mkey\u001b[0m\u001b[0;34m,\u001b[0m \u001b[0mself\u001b[0m\u001b[0;34m.\u001b[0m\u001b[0mobj\u001b[0m\u001b[0;34m)\u001b[0m\u001b[0;34m\u001b[0m\u001b[0m\n\u001b[0;32m-> 1478\u001b[0;31m             \u001b[0;32mreturn\u001b[0m \u001b[0mself\u001b[0m\u001b[0;34m.\u001b[0m\u001b[0m_getitem_axis\u001b[0m\u001b[0;34m(\u001b[0m\u001b[0mmaybe_callable\u001b[0m\u001b[0;34m,\u001b[0m \u001b[0maxis\u001b[0m\u001b[0;34m=\u001b[0m\u001b[0maxis\u001b[0m\u001b[0;34m)\u001b[0m\u001b[0;34m\u001b[0m\u001b[0m\n\u001b[0m\u001b[1;32m   1479\u001b[0m \u001b[0;34m\u001b[0m\u001b[0m\n\u001b[1;32m   1480\u001b[0m     \u001b[0;32mdef\u001b[0m \u001b[0m_is_scalar_access\u001b[0m\u001b[0;34m(\u001b[0m\u001b[0mself\u001b[0m\u001b[0;34m,\u001b[0m \u001b[0mkey\u001b[0m\u001b[0;34m)\u001b[0m\u001b[0;34m:\u001b[0m\u001b[0;34m\u001b[0m\u001b[0m\n",
      "\u001b[0;32m/anaconda3/lib/python3.6/site-packages/pandas/core/indexing.py\u001b[0m in \u001b[0;36m_getitem_axis\u001b[0;34m(self, key, axis)\u001b[0m\n\u001b[1;32m   1866\u001b[0m             \u001b[0;32mreturn\u001b[0m \u001b[0mself\u001b[0m\u001b[0;34m.\u001b[0m\u001b[0m_get_slice_axis\u001b[0m\u001b[0;34m(\u001b[0m\u001b[0mkey\u001b[0m\u001b[0;34m,\u001b[0m \u001b[0maxis\u001b[0m\u001b[0;34m=\u001b[0m\u001b[0maxis\u001b[0m\u001b[0;34m)\u001b[0m\u001b[0;34m\u001b[0m\u001b[0m\n\u001b[1;32m   1867\u001b[0m         \u001b[0;32melif\u001b[0m \u001b[0mcom\u001b[0m\u001b[0;34m.\u001b[0m\u001b[0mis_bool_indexer\u001b[0m\u001b[0;34m(\u001b[0m\u001b[0mkey\u001b[0m\u001b[0;34m)\u001b[0m\u001b[0;34m:\u001b[0m\u001b[0;34m\u001b[0m\u001b[0m\n\u001b[0;32m-> 1868\u001b[0;31m             \u001b[0;32mreturn\u001b[0m \u001b[0mself\u001b[0m\u001b[0;34m.\u001b[0m\u001b[0m_getbool_axis\u001b[0m\u001b[0;34m(\u001b[0m\u001b[0mkey\u001b[0m\u001b[0;34m,\u001b[0m \u001b[0maxis\u001b[0m\u001b[0;34m=\u001b[0m\u001b[0maxis\u001b[0m\u001b[0;34m)\u001b[0m\u001b[0;34m\u001b[0m\u001b[0m\n\u001b[0m\u001b[1;32m   1869\u001b[0m         \u001b[0;32melif\u001b[0m \u001b[0mis_list_like_indexer\u001b[0m\u001b[0;34m(\u001b[0m\u001b[0mkey\u001b[0m\u001b[0;34m)\u001b[0m\u001b[0;34m:\u001b[0m\u001b[0;34m\u001b[0m\u001b[0m\n\u001b[1;32m   1870\u001b[0m \u001b[0;34m\u001b[0m\u001b[0m\n",
      "\u001b[0;32m/anaconda3/lib/python3.6/site-packages/pandas/core/indexing.py\u001b[0m in \u001b[0;36m_getbool_axis\u001b[0;34m(self, key, axis)\u001b[0m\n\u001b[1;32m   1494\u001b[0m         \u001b[0minds\u001b[0m\u001b[0;34m,\u001b[0m \u001b[0;34m=\u001b[0m \u001b[0mkey\u001b[0m\u001b[0;34m.\u001b[0m\u001b[0mnonzero\u001b[0m\u001b[0;34m(\u001b[0m\u001b[0;34m)\u001b[0m\u001b[0;34m\u001b[0m\u001b[0m\n\u001b[1;32m   1495\u001b[0m         \u001b[0;32mtry\u001b[0m\u001b[0;34m:\u001b[0m\u001b[0;34m\u001b[0m\u001b[0m\n\u001b[0;32m-> 1496\u001b[0;31m             \u001b[0;32mreturn\u001b[0m \u001b[0mself\u001b[0m\u001b[0;34m.\u001b[0m\u001b[0mobj\u001b[0m\u001b[0;34m.\u001b[0m\u001b[0m_take\u001b[0m\u001b[0;34m(\u001b[0m\u001b[0minds\u001b[0m\u001b[0;34m,\u001b[0m \u001b[0maxis\u001b[0m\u001b[0;34m=\u001b[0m\u001b[0maxis\u001b[0m\u001b[0;34m)\u001b[0m\u001b[0;34m\u001b[0m\u001b[0m\n\u001b[0m\u001b[1;32m   1497\u001b[0m         \u001b[0;32mexcept\u001b[0m \u001b[0mException\u001b[0m \u001b[0;32mas\u001b[0m \u001b[0mdetail\u001b[0m\u001b[0;34m:\u001b[0m\u001b[0;34m\u001b[0m\u001b[0m\n\u001b[1;32m   1498\u001b[0m             \u001b[0;32mraise\u001b[0m \u001b[0mself\u001b[0m\u001b[0;34m.\u001b[0m\u001b[0m_exception\u001b[0m\u001b[0;34m(\u001b[0m\u001b[0mdetail\u001b[0m\u001b[0;34m)\u001b[0m\u001b[0;34m\u001b[0m\u001b[0m\n",
      "\u001b[0;32m/anaconda3/lib/python3.6/site-packages/pandas/core/generic.py\u001b[0m in \u001b[0;36m_take\u001b[0;34m(self, indices, axis, is_copy)\u001b[0m\n\u001b[1;32m   2787\u001b[0m         new_data = self._data.take(indices,\n\u001b[1;32m   2788\u001b[0m                                    \u001b[0maxis\u001b[0m\u001b[0;34m=\u001b[0m\u001b[0mself\u001b[0m\u001b[0;34m.\u001b[0m\u001b[0m_get_block_manager_axis\u001b[0m\u001b[0;34m(\u001b[0m\u001b[0maxis\u001b[0m\u001b[0;34m)\u001b[0m\u001b[0;34m,\u001b[0m\u001b[0;34m\u001b[0m\u001b[0m\n\u001b[0;32m-> 2789\u001b[0;31m                                    verify=True)\n\u001b[0m\u001b[1;32m   2790\u001b[0m         \u001b[0mresult\u001b[0m \u001b[0;34m=\u001b[0m \u001b[0mself\u001b[0m\u001b[0;34m.\u001b[0m\u001b[0m_constructor\u001b[0m\u001b[0;34m(\u001b[0m\u001b[0mnew_data\u001b[0m\u001b[0;34m)\u001b[0m\u001b[0;34m.\u001b[0m\u001b[0m__finalize__\u001b[0m\u001b[0;34m(\u001b[0m\u001b[0mself\u001b[0m\u001b[0;34m)\u001b[0m\u001b[0;34m\u001b[0m\u001b[0m\n\u001b[1;32m   2791\u001b[0m \u001b[0;34m\u001b[0m\u001b[0m\n",
      "\u001b[0;32m/anaconda3/lib/python3.6/site-packages/pandas/core/internals.py\u001b[0m in \u001b[0;36mtake\u001b[0;34m(self, indexer, axis, verify, convert)\u001b[0m\n\u001b[1;32m   4537\u001b[0m         \u001b[0mnew_labels\u001b[0m \u001b[0;34m=\u001b[0m \u001b[0mself\u001b[0m\u001b[0;34m.\u001b[0m\u001b[0maxes\u001b[0m\u001b[0;34m[\u001b[0m\u001b[0maxis\u001b[0m\u001b[0;34m]\u001b[0m\u001b[0;34m.\u001b[0m\u001b[0mtake\u001b[0m\u001b[0;34m(\u001b[0m\u001b[0mindexer\u001b[0m\u001b[0;34m)\u001b[0m\u001b[0;34m\u001b[0m\u001b[0m\n\u001b[1;32m   4538\u001b[0m         return self.reindex_indexer(new_axis=new_labels, indexer=indexer,\n\u001b[0;32m-> 4539\u001b[0;31m                                     axis=axis, allow_dups=True)\n\u001b[0m\u001b[1;32m   4540\u001b[0m \u001b[0;34m\u001b[0m\u001b[0m\n\u001b[1;32m   4541\u001b[0m     \u001b[0;32mdef\u001b[0m \u001b[0mmerge\u001b[0m\u001b[0;34m(\u001b[0m\u001b[0mself\u001b[0m\u001b[0;34m,\u001b[0m \u001b[0mother\u001b[0m\u001b[0;34m,\u001b[0m \u001b[0mlsuffix\u001b[0m\u001b[0;34m=\u001b[0m\u001b[0;34m''\u001b[0m\u001b[0;34m,\u001b[0m \u001b[0mrsuffix\u001b[0m\u001b[0;34m=\u001b[0m\u001b[0;34m''\u001b[0m\u001b[0;34m)\u001b[0m\u001b[0;34m:\u001b[0m\u001b[0;34m\u001b[0m\u001b[0m\n",
      "\u001b[0;32m/anaconda3/lib/python3.6/site-packages/pandas/core/internals.py\u001b[0m in \u001b[0;36mreindex_indexer\u001b[0;34m(self, new_axis, indexer, axis, fill_value, allow_dups, copy)\u001b[0m\n\u001b[1;32m   4423\u001b[0m             new_blocks = [blk.take_nd(indexer, axis=axis, fill_tuple=(\n\u001b[1;32m   4424\u001b[0m                 fill_value if fill_value is not None else blk.fill_value,))\n\u001b[0;32m-> 4425\u001b[0;31m                 for blk in self.blocks]\n\u001b[0m\u001b[1;32m   4426\u001b[0m \u001b[0;34m\u001b[0m\u001b[0m\n\u001b[1;32m   4427\u001b[0m         \u001b[0mnew_axes\u001b[0m \u001b[0;34m=\u001b[0m \u001b[0mlist\u001b[0m\u001b[0;34m(\u001b[0m\u001b[0mself\u001b[0m\u001b[0;34m.\u001b[0m\u001b[0maxes\u001b[0m\u001b[0;34m)\u001b[0m\u001b[0;34m\u001b[0m\u001b[0m\n",
      "\u001b[0;32m/anaconda3/lib/python3.6/site-packages/pandas/core/internals.py\u001b[0m in \u001b[0;36m<listcomp>\u001b[0;34m(.0)\u001b[0m\n\u001b[1;32m   4423\u001b[0m             new_blocks = [blk.take_nd(indexer, axis=axis, fill_tuple=(\n\u001b[1;32m   4424\u001b[0m                 fill_value if fill_value is not None else blk.fill_value,))\n\u001b[0;32m-> 4425\u001b[0;31m                 for blk in self.blocks]\n\u001b[0m\u001b[1;32m   4426\u001b[0m \u001b[0;34m\u001b[0m\u001b[0m\n\u001b[1;32m   4427\u001b[0m         \u001b[0mnew_axes\u001b[0m \u001b[0;34m=\u001b[0m \u001b[0mlist\u001b[0m\u001b[0;34m(\u001b[0m\u001b[0mself\u001b[0m\u001b[0;34m.\u001b[0m\u001b[0maxes\u001b[0m\u001b[0;34m)\u001b[0m\u001b[0;34m\u001b[0m\u001b[0m\n",
      "\u001b[0;32m/anaconda3/lib/python3.6/site-packages/pandas/core/internals.py\u001b[0m in \u001b[0;36mtake_nd\u001b[0;34m(self, indexer, axis, new_mgr_locs, fill_tuple)\u001b[0m\n\u001b[1;32m   1256\u001b[0m             \u001b[0mfill_value\u001b[0m \u001b[0;34m=\u001b[0m \u001b[0mfill_tuple\u001b[0m\u001b[0;34m[\u001b[0m\u001b[0;36m0\u001b[0m\u001b[0;34m]\u001b[0m\u001b[0;34m\u001b[0m\u001b[0m\n\u001b[1;32m   1257\u001b[0m             new_values = algos.take_nd(values, indexer, axis=axis,\n\u001b[0;32m-> 1258\u001b[0;31m                                        allow_fill=True, fill_value=fill_value)\n\u001b[0m\u001b[1;32m   1259\u001b[0m \u001b[0;34m\u001b[0m\u001b[0m\n\u001b[1;32m   1260\u001b[0m         \u001b[0;32mif\u001b[0m \u001b[0mnew_mgr_locs\u001b[0m \u001b[0;32mis\u001b[0m \u001b[0;32mNone\u001b[0m\u001b[0;34m:\u001b[0m\u001b[0;34m\u001b[0m\u001b[0m\n",
      "\u001b[0;31mKeyboardInterrupt\u001b[0m: "
     ]
    }
   ],
   "source": [
    "#inizializzazione completa\n",
    "for row in sequential_subset.itertuples():\n",
    "    riga = row.playlist_id\n",
    "    track=data_tracks.loc[data_tracks['track_id'] == row.track_id]\n",
    "    colonna1= int(track.album_id.values)\n",
    "    colonna2=12744+int(track.artist_id.values)\n",
    "    if UCM_train1[riga,colonna1]==1:\n",
    "        print(\"Error\")\n",
    "        print(\" Riga = {}, Colonna1 = {}\".format(riga, colonna1))  \n",
    "\n",
    "    if UCM_train1[riga,colonna2]==1:\n",
    "        print(\"Error\")\n",
    "        print(\" Riga = {}, Colonna2 = {}\".format(riga, colonna2))  \n",
    "        \n",
    "\n",
    "\n"
   ]
  },
  {
   "cell_type": "code",
   "execution_count": 36,
   "metadata": {},
   "outputs": [
    {
     "data": {
      "text/plain": [
       "matrix([[0., 0., 0., ..., 0., 0., 0.],\n",
       "        [0., 0., 0., ..., 0., 0., 0.],\n",
       "        [0., 0., 0., ..., 0., 0., 0.],\n",
       "        ...,\n",
       "        [0., 0., 0., ..., 0., 0., 0.],\n",
       "        [0., 0., 0., ..., 0., 0., 0.],\n",
       "        [0., 0., 0., ..., 0., 0., 0.]])"
      ]
     },
     "execution_count": 36,
     "metadata": {},
     "output_type": "execute_result"
    }
   ],
   "source": [
    "UCM_train1"
   ]
  },
  {
   "cell_type": "code",
   "execution_count": 4,
   "metadata": {},
   "outputs": [],
   "source": [
    "from tqdm import tqdm\n",
    "UCM_train1 = scipy.sparse.load_npz('UCM_train_matrix2.npz')\n",
    "UCM_train1=UCM_train1.todense()"
   ]
  },
  {
   "cell_type": "code",
   "execution_count": 9,
   "metadata": {},
   "outputs": [
    {
     "name": "stderr",
     "output_type": "stream",
     "text": [
      "22903it [00:16, 1403.86it/s]\n"
     ]
    }
   ],
   "source": [
    "for row in tqdm(random_subset.itertuples()):\n",
    "    riga = row.playlist_id\n",
    "    track=data_tracks.loc[data_tracks['track_id'] == row.track_id]\n",
    "    colonna1= int(track.album_id.values)\n",
    "    colonna2=12744+int(track.artist_id.values)\n",
    "    if UCM_train1[riga,colonna1]==1:\n",
    "        print(UCM_train1[riga,colonna1]\n",
    "             )\n",
    "        print(\"Error\")\n",
    "        print(\" Riga = {}, Colonna1 = {}\".format(riga, colonna1))  \n",
    "\n",
    "    if UCM_train1[riga,colonna2]==1:\n",
    "        print(\"Error\")\n",
    "        print(\" Riga = {}, Colonna2 = {}\".format(riga, colonna2))  \n",
    "       "
   ]
  },
  {
   "cell_type": "code",
   "execution_count": 6,
   "metadata": {},
   "outputs": [
    {
     "name": "stderr",
     "output_type": "stream",
     "text": [
      "22903it [00:13, 1645.85it/s]\n"
     ]
    }
   ],
   "source": [
    "for row in tqdm(random_subset.itertuples()):\n",
    "    riga = row.playlist_id\n",
    "    track=data_tracks.loc[data_tracks['track_id'] == row.track_id]\n",
    "    colonna1= int(track.album_id.values)\n",
    "    colonna2=12744+int(track.artist_id.values)\n",
    "    UCM_train1[riga,colonna1]=0\n",
    "    UCM_train1[riga,colonna2]=0\n",
    "\n",
    "\n"
   ]
  },
  {
   "cell_type": "code",
   "execution_count": 8,
   "metadata": {},
   "outputs": [
    {
     "name": "stdout",
     "output_type": "stream",
     "text": [
      "0.0\n",
      "0.0\n",
      "0.0\n",
      "0.0\n"
     ]
    }
   ],
   "source": [
    "print(UCM_train1[4189,9302])\n",
    "print(UCM_train1[45478,17977])\n",
    "print(UCM_train1[1629,9156])\n",
    "print(UCM_train1[1629,18491])\n",
    "UCM_train2=sparse.csr_matrix(UCM_train1)   \n"
   ]
  },
  {
   "cell_type": "code",
   "execution_count": 39,
   "metadata": {},
   "outputs": [],
   "source": [
    "from scipy import sparse\n",
    "\n",
    "\n",
    "UCM_train1=sparse.csr_matrix(UCM_train1)   \n",
    "\n"
   ]
  },
  {
   "cell_type": "code",
   "execution_count": null,
   "metadata": {},
   "outputs": [],
   "source": [
    "UserCBFrecommender = UserKNNCBFRecommender(UCM_train2,URM_train) \n",
    "UserCBFrecommender.fit(topK=300, shrink=80)\n",
    "result = UserCBFrecommender.evaluateRecommendations(URM_test)\n",
    "print(\"Recommender MAP is= {}\".format(result[\"MAP\"]))"
   ]
  },
  {
   "cell_type": "code",
   "execution_count": null,
   "metadata": {},
   "outputs": [],
   "source": []
  }
 ],
 "metadata": {
  "kernelspec": {
   "display_name": "Python 3",
   "language": "python",
   "name": "python3"
  },
  "language_info": {
   "codemirror_mode": {
    "name": "ipython",
    "version": 3
   },
   "file_extension": ".py",
   "mimetype": "text/x-python",
   "name": "python",
   "nbconvert_exporter": "python",
   "pygments_lexer": "ipython3",
   "version": "3.6.4"
  }
 },
 "nbformat": 4,
 "nbformat_minor": 2
}
