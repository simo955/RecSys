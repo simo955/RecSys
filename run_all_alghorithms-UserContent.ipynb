{
 "cells": [
  {
   "cell_type": "code",
   "execution_count": 1,
   "metadata": {},
   "outputs": [],
   "source": [
    "from SLIM_BPR.Cython.SLIM_BPR_Cython import SLIM_BPR_Cython\n",
    "from SLIM_ElasticNet.SLIMElasticNetRecommender import SLIMElasticNetRecommender\n",
    "\n",
    "from MatrixFactorization.Cython.MatrixFactorization_Cython import MatrixFactorization_BPR_Cython, MatrixFactorization_FunkSVD_Cython\n",
    "from MatrixFactorization.PureSVD import PureSVDRecommender\n",
    "\n",
    "from Base.NonPersonalizedRecommender import TopPop, Random\n",
    "\n",
    "from KNN.UserKNNCFRecommender import UserKNNCFRecommender\n",
    "from KNN.ItemKNNCFRecommender import ItemKNNCFRecommender\n",
    "from KNN.ItemKNNCBFRecommender import ItemKNNCBFRecommender\n",
    "\n",
    "from KNN.ItemKNNScoresHybridRecommender import ItemKNNScoresHybridRecommender\n",
    "from KNN.ItemKNNScoresHybridRecommender3 import ItemKNNScoresHybridRecommender3\n",
    "\n",
    "from KNN.ItemKNNSimilarityHybridRecommender import ItemKNNSimilarityHybridRecommender\n",
    "from KNN.ItemKNNSimilarityHybridRecommender3 import ItemKNNSimilarityHybridRecommender3\n",
    "from KNN.ItemKNNSimilarityHybridRecommender4 import ItemKNNSimilarityHybridRecommender4\n",
    "\n",
    "from KNN.UserKNNCBFRecommender import UserKNNCBFRecommender\n",
    "\n",
    "\n",
    "#from GraphBased.RP3betaRecommender import RP3betaRecommender\n",
    "#from GraphBased.P3alphaRecommender import P3alphaRecommender"
   ]
  },
  {
   "cell_type": "code",
   "execution_count": 2,
   "metadata": {},
   "outputs": [],
   "source": [
    "import traceback, os\n",
    "import scipy.sparse\n",
    "import pandas as pd\n",
    "import numpy as np\n",
    "\n",
    "URM_all = scipy.sparse.load_npz('./Matrix/URM_all_matrix.npz')\n",
    "ICM_all = scipy.sparse.load_npz('./Matrix/ICM_all_matrix.npz')\n",
    "URM_train = scipy.sparse.load_npz('./Matrix/URM_train_matrix.npz')\n",
    "URM_test = scipy.sparse.load_npz('./Matrix/URM_test_matrix.npz')\n",
    "#UCM_all = scipy.sparse.load_npz('./Matrix/UCM_all_matrix.npz')\n",
    "\n",
    "\n",
    "\n",
    "#Load playlistsIDS\n",
    "train_df= pd.read_csv('all/train.csv',low_memory = False)\n",
    "all_userID=train_df.playlist_id.unique()"
   ]
  },
  {
   "cell_type": "code",
   "execution_count": 3,
   "metadata": {},
   "outputs": [
    {
     "name": "stdout",
     "output_type": "stream",
     "text": [
      "Similarity column 20635 ( 100 % ), 3447.18 column/sec, elapsed time 0.10 min\n",
      "SLIM_BPR_Cython: Estimated memory required for similarity matrix of 20635 items is 1703.21 MB\n",
      "Processed 1165777 ( 100.00% ) in 8.76 seconds. BPR loss is 9.42E-01. Sample per second: 133094\n",
      "SLIM_BPR_Recommender: Epoch 1 of 100. Elapsed time 0.31 min\n",
      "Processed 1165777 ( 100.00% ) in 7.10 seconds. BPR loss is 2.13E+00. Sample per second: 164289\n",
      "SLIM_BPR_Recommender: Epoch 2 of 100. Elapsed time 0.41 min\n",
      "Processed 1165777 ( 100.00% ) in 5.91 seconds. BPR loss is 2.96E+00. Sample per second: 197099\n",
      "SLIM_BPR_Recommender: Epoch 3 of 100. Elapsed time 0.51 min\n",
      "Processed 1165777 ( 100.00% ) in 6.83 seconds. BPR loss is 3.66E+00. Sample per second: 170772\n",
      "SLIM_BPR_Recommender: Epoch 4 of 100. Elapsed time 0.61 min\n",
      "Processed 1165777 ( 100.00% ) in 6.58 seconds. BPR loss is 4.24E+00. Sample per second: 177061\n",
      "SLIM_BPR_Recommender: Epoch 5 of 100. Elapsed time 0.71 min\n",
      "Processed 1165777 ( 100.00% ) in 6.57 seconds. BPR loss is 4.76E+00. Sample per second: 177549\n",
      "SLIM_BPR_Recommender: Epoch 6 of 100. Elapsed time 0.81 min\n",
      "Processed 1165777 ( 100.00% ) in 6.17 seconds. BPR loss is 5.24E+00. Sample per second: 188830\n",
      "SLIM_BPR_Recommender: Epoch 7 of 100. Elapsed time 0.90 min\n",
      "Processed 1165777 ( 100.00% ) in 5.38 seconds. BPR loss is 5.69E+00. Sample per second: 216533\n",
      "SLIM_BPR_Recommender: Epoch 8 of 100. Elapsed time 0.99 min\n",
      "Processed 1165777 ( 100.00% ) in 6.10 seconds. BPR loss is 6.09E+00. Sample per second: 191000\n",
      "SLIM_BPR_Recommender: Epoch 9 of 100. Elapsed time 1.08 min\n",
      "Processed 1165777 ( 100.00% ) in 5.54 seconds. BPR loss is 6.47E+00. Sample per second: 210483\n",
      "SLIM_BPR_Recommender: Epoch 10 of 100. Elapsed time 1.17 min\n",
      "Processed 1165777 ( 100.00% ) in 6.37 seconds. BPR loss is 6.83E+00. Sample per second: 183000\n",
      "SLIM_BPR_Recommender: Epoch 11 of 100. Elapsed time 1.27 min\n",
      "Processed 1165777 ( 100.00% ) in 6.09 seconds. BPR loss is 7.14E+00. Sample per second: 191494\n",
      "SLIM_BPR_Recommender: Epoch 12 of 100. Elapsed time 1.36 min\n",
      "Processed 1165777 ( 100.00% ) in 5.86 seconds. BPR loss is 7.45E+00. Sample per second: 198791\n",
      "SLIM_BPR_Recommender: Epoch 13 of 100. Elapsed time 1.46 min\n",
      "Processed 1165777 ( 100.00% ) in 6.51 seconds. BPR loss is 7.79E+00. Sample per second: 179133\n",
      "SLIM_BPR_Recommender: Epoch 14 of 100. Elapsed time 1.55 min\n",
      "Processed 1165777 ( 100.00% ) in 6.20 seconds. BPR loss is 8.09E+00. Sample per second: 187982\n",
      "SLIM_BPR_Recommender: Epoch 15 of 100. Elapsed time 1.65 min\n",
      "Processed 1165777 ( 100.00% ) in 5.66 seconds. BPR loss is 8.34E+00. Sample per second: 205912\n",
      "SLIM_BPR_Recommender: Epoch 16 of 100. Elapsed time 1.74 min\n",
      "Processed 1165777 ( 100.00% ) in 6.12 seconds. BPR loss is 8.65E+00. Sample per second: 190411\n",
      "SLIM_BPR_Recommender: Epoch 17 of 100. Elapsed time 1.83 min\n",
      "Processed 1165777 ( 100.00% ) in 5.58 seconds. BPR loss is 8.89E+00. Sample per second: 209075\n",
      "SLIM_BPR_Recommender: Epoch 18 of 100. Elapsed time 1.92 min\n",
      "Processed 1165777 ( 100.00% ) in 5.89 seconds. BPR loss is 9.16E+00. Sample per second: 198042\n",
      "SLIM_BPR_Recommender: Epoch 19 of 100. Elapsed time 2.01 min\n",
      "Processed 1165777 ( 100.00% ) in 6.50 seconds. BPR loss is 9.39E+00. Sample per second: 179330\n",
      "SLIM_BPR_Recommender: Epoch 20 of 100. Elapsed time 2.10 min\n",
      "Processed 1165777 ( 100.00% ) in 6.20 seconds. BPR loss is 9.60E+00. Sample per second: 188010\n",
      "SLIM_BPR_Recommender: Epoch 21 of 100. Elapsed time 2.20 min\n",
      "Processed 1165777 ( 100.00% ) in 5.98 seconds. BPR loss is 9.84E+00. Sample per second: 194907\n",
      "SLIM_BPR_Recommender: Epoch 22 of 100. Elapsed time 2.30 min\n",
      "Processed 1165777 ( 100.00% ) in 6.62 seconds. BPR loss is 1.01E+01. Sample per second: 176139\n",
      "SLIM_BPR_Recommender: Epoch 23 of 100. Elapsed time 2.39 min\n",
      "Processed 1165777 ( 100.00% ) in 6.42 seconds. BPR loss is 1.03E+01. Sample per second: 181591\n",
      "SLIM_BPR_Recommender: Epoch 24 of 100. Elapsed time 2.49 min\n",
      "Processed 1165777 ( 100.00% ) in 5.86 seconds. BPR loss is 1.05E+01. Sample per second: 199060\n",
      "SLIM_BPR_Recommender: Epoch 25 of 100. Elapsed time 2.58 min\n",
      "Processed 1165777 ( 100.00% ) in 5.91 seconds. BPR loss is 1.07E+01. Sample per second: 197186\n",
      "SLIM_BPR_Recommender: Epoch 26 of 100. Elapsed time 2.66 min\n",
      "Processed 1165777 ( 100.00% ) in 6.50 seconds. BPR loss is 1.09E+01. Sample per second: 179433\n",
      "SLIM_BPR_Recommender: Epoch 27 of 100. Elapsed time 2.75 min\n",
      "Processed 1165777 ( 100.00% ) in 6.32 seconds. BPR loss is 1.11E+01. Sample per second: 184425\n",
      "SLIM_BPR_Recommender: Epoch 28 of 100. Elapsed time 2.85 min\n",
      "Processed 1165777 ( 100.00% ) in 6.01 seconds. BPR loss is 1.13E+01. Sample per second: 193820\n",
      "SLIM_BPR_Recommender: Epoch 29 of 100. Elapsed time 2.95 min\n",
      "Processed 1165777 ( 100.00% ) in 5.63 seconds. BPR loss is 1.14E+01. Sample per second: 207242\n",
      "SLIM_BPR_Recommender: Epoch 30 of 100. Elapsed time 3.04 min\n",
      "Processed 1165777 ( 100.00% ) in 6.34 seconds. BPR loss is 1.16E+01. Sample per second: 183752\n",
      "SLIM_BPR_Recommender: Epoch 31 of 100. Elapsed time 3.13 min\n",
      "Processed 1165777 ( 100.00% ) in 4.97 seconds. BPR loss is 1.18E+01. Sample per second: 234340\n",
      "SLIM_BPR_Recommender: Epoch 32 of 100. Elapsed time 3.21 min\n",
      "Processed 1165777 ( 100.00% ) in 5.38 seconds. BPR loss is 1.20E+01. Sample per second: 216704\n",
      "SLIM_BPR_Recommender: Epoch 33 of 100. Elapsed time 3.29 min\n",
      "Processed 1165777 ( 100.00% ) in 6.03 seconds. BPR loss is 1.22E+01. Sample per second: 193418\n",
      "SLIM_BPR_Recommender: Epoch 34 of 100. Elapsed time 3.38 min\n",
      "Processed 1165777 ( 100.00% ) in 5.67 seconds. BPR loss is 1.23E+01. Sample per second: 205748\n",
      "SLIM_BPR_Recommender: Epoch 35 of 100. Elapsed time 3.47 min\n",
      "Processed 1165777 ( 100.00% ) in 6.38 seconds. BPR loss is 1.25E+01. Sample per second: 182688\n",
      "SLIM_BPR_Recommender: Epoch 36 of 100. Elapsed time 3.57 min\n",
      "Processed 1165777 ( 100.00% ) in 6.29 seconds. BPR loss is 1.26E+01. Sample per second: 185374\n",
      "SLIM_BPR_Recommender: Epoch 37 of 100. Elapsed time 3.67 min\n",
      "Processed 1165777 ( 100.00% ) in 6.16 seconds. BPR loss is 1.28E+01. Sample per second: 189105\n",
      "SLIM_BPR_Recommender: Epoch 38 of 100. Elapsed time 3.77 min\n",
      "Processed 1165777 ( 100.00% ) in 5.98 seconds. BPR loss is 1.29E+01. Sample per second: 194814\n",
      "SLIM_BPR_Recommender: Epoch 39 of 100. Elapsed time 3.86 min\n",
      "Processed 1165777 ( 100.00% ) in 6.25 seconds. BPR loss is 1.31E+01. Sample per second: 186412\n",
      "SLIM_BPR_Recommender: Epoch 40 of 100. Elapsed time 3.95 min\n",
      "Processed 1165777 ( 100.00% ) in 5.94 seconds. BPR loss is 1.32E+01. Sample per second: 196364\n",
      "SLIM_BPR_Recommender: Epoch 41 of 100. Elapsed time 4.04 min\n",
      "Processed 1165777 ( 100.00% ) in 6.53 seconds. BPR loss is 1.34E+01. Sample per second: 178508\n",
      "SLIM_BPR_Recommender: Epoch 42 of 100. Elapsed time 4.14 min\n",
      "Processed 1165777 ( 100.00% ) in 6.23 seconds. BPR loss is 1.35E+01. Sample per second: 186979\n",
      "SLIM_BPR_Recommender: Epoch 43 of 100. Elapsed time 4.23 min\n",
      "Processed 1165777 ( 100.00% ) in 6.02 seconds. BPR loss is 1.37E+01. Sample per second: 193703\n",
      "SLIM_BPR_Recommender: Epoch 44 of 100. Elapsed time 4.33 min\n",
      "Processed 1165777 ( 100.00% ) in 5.69 seconds. BPR loss is 1.39E+01. Sample per second: 204874\n",
      "SLIM_BPR_Recommender: Epoch 45 of 100. Elapsed time 4.42 min\n",
      "Processed 1165777 ( 100.00% ) in 6.31 seconds. BPR loss is 1.40E+01. Sample per second: 184871\n",
      "SLIM_BPR_Recommender: Epoch 46 of 100. Elapsed time 4.52 min\n",
      "Processed 1165777 ( 100.00% ) in 6.07 seconds. BPR loss is 1.41E+01. Sample per second: 191954\n",
      "SLIM_BPR_Recommender: Epoch 47 of 100. Elapsed time 4.61 min\n",
      "Processed 1165777 ( 100.00% ) in 5.96 seconds. BPR loss is 1.42E+01. Sample per second: 195624\n",
      "SLIM_BPR_Recommender: Epoch 48 of 100. Elapsed time 4.71 min\n",
      "Processed 1165777 ( 100.00% ) in 6.66 seconds. BPR loss is 1.44E+01. Sample per second: 175064\n",
      "SLIM_BPR_Recommender: Epoch 49 of 100. Elapsed time 4.81 min\n",
      "Processed 1165777 ( 100.00% ) in 6.41 seconds. BPR loss is 1.45E+01. Sample per second: 181821\n",
      "SLIM_BPR_Recommender: Epoch 50 of 100. Elapsed time 4.90 min\n",
      "Processed 1165777 ( 100.00% ) in 6.09 seconds. BPR loss is 1.46E+01. Sample per second: 191443\n",
      "SLIM_BPR_Recommender: Epoch 51 of 100. Elapsed time 5.00 min\n",
      "Processed 1165777 ( 100.00% ) in 5.74 seconds. BPR loss is 1.48E+01. Sample per second: 202957\n"
     ]
    },
    {
     "name": "stdout",
     "output_type": "stream",
     "text": [
      "SLIM_BPR_Recommender: Epoch 52 of 100. Elapsed time 5.09 min\n",
      "Processed 1165777 ( 100.00% ) in 6.40 seconds. BPR loss is 1.49E+01. Sample per second: 182114\n",
      "SLIM_BPR_Recommender: Epoch 53 of 100. Elapsed time 5.19 min\n",
      "Processed 1165777 ( 100.00% ) in 6.16 seconds. BPR loss is 1.49E+01. Sample per second: 189259\n",
      "SLIM_BPR_Recommender: Epoch 54 of 100. Elapsed time 5.28 min\n",
      "Processed 1165777 ( 100.00% ) in 5.88 seconds. BPR loss is 1.51E+01. Sample per second: 198144\n",
      "SLIM_BPR_Recommender: Epoch 55 of 100. Elapsed time 5.38 min\n",
      "Processed 1165777 ( 100.00% ) in 6.53 seconds. BPR loss is 1.52E+01. Sample per second: 178582\n",
      "SLIM_BPR_Recommender: Epoch 56 of 100. Elapsed time 5.47 min\n",
      "Processed 1165777 ( 100.00% ) in 6.20 seconds. BPR loss is 1.54E+01. Sample per second: 187897\n",
      "SLIM_BPR_Recommender: Epoch 57 of 100. Elapsed time 5.57 min\n",
      "Processed 1165777 ( 100.00% ) in 5.84 seconds. BPR loss is 1.55E+01. Sample per second: 199540\n",
      "SLIM_BPR_Recommender: Epoch 58 of 100. Elapsed time 5.66 min\n",
      "Processed 1165777 ( 100.00% ) in 6.03 seconds. BPR loss is 1.56E+01. Sample per second: 193218\n",
      "SLIM_BPR_Recommender: Epoch 59 of 100. Elapsed time 5.75 min\n",
      "Processed 1165777 ( 100.00% ) in 5.82 seconds. BPR loss is 1.56E+01. Sample per second: 200219\n",
      "SLIM_BPR_Recommender: Epoch 60 of 100. Elapsed time 5.84 min\n",
      "Processed 1165777 ( 100.00% ) in 6.59 seconds. BPR loss is 1.58E+01. Sample per second: 176804\n",
      "SLIM_BPR_Recommender: Epoch 61 of 100. Elapsed time 5.94 min\n",
      "Processed 1165777 ( 100.00% ) in 6.31 seconds. BPR loss is 1.59E+01. Sample per second: 184786\n",
      "SLIM_BPR_Recommender: Epoch 62 of 100. Elapsed time 6.03 min\n",
      "Processed 1165777 ( 100.00% ) in 5.96 seconds. BPR loss is 1.60E+01. Sample per second: 195700\n",
      "SLIM_BPR_Recommender: Epoch 63 of 100. Elapsed time 6.13 min\n",
      "Processed 1165777 ( 100.00% ) in 6.58 seconds. BPR loss is 1.61E+01. Sample per second: 177151\n",
      "SLIM_BPR_Recommender: Epoch 64 of 100. Elapsed time 6.22 min\n",
      "Processed 1165777 ( 100.00% ) in 6.32 seconds. BPR loss is 1.62E+01. Sample per second: 184412\n",
      "SLIM_BPR_Recommender: Epoch 65 of 100. Elapsed time 6.32 min\n",
      "Processed 1165777 ( 100.00% ) in 6.07 seconds. BPR loss is 1.63E+01. Sample per second: 191986\n",
      "SLIM_BPR_Recommender: Epoch 66 of 100. Elapsed time 6.41 min\n",
      "Processed 1165777 ( 100.00% ) in 5.68 seconds. BPR loss is 1.64E+01. Sample per second: 205138\n",
      "SLIM_BPR_Recommender: Epoch 67 of 100. Elapsed time 6.51 min\n",
      "Processed 1165777 ( 100.00% ) in 6.31 seconds. BPR loss is 1.66E+01. Sample per second: 184843\n",
      "SLIM_BPR_Recommender: Epoch 68 of 100. Elapsed time 6.60 min\n",
      "Processed 1165777 ( 100.00% ) in 5.91 seconds. BPR loss is 1.66E+01. Sample per second: 197230\n",
      "SLIM_BPR_Recommender: Epoch 69 of 100. Elapsed time 6.69 min\n",
      "Processed 1165777 ( 100.00% ) in 6.80 seconds. BPR loss is 1.67E+01. Sample per second: 171506\n",
      "SLIM_BPR_Recommender: Epoch 70 of 100. Elapsed time 6.79 min\n",
      "Processed 1165777 ( 100.00% ) in 6.60 seconds. BPR loss is 1.68E+01. Sample per second: 176620\n",
      "SLIM_BPR_Recommender: Epoch 71 of 100. Elapsed time 6.89 min\n",
      "Processed 1165777 ( 100.00% ) in 6.29 seconds. BPR loss is 1.69E+01. Sample per second: 185346\n",
      "SLIM_BPR_Recommender: Epoch 72 of 100. Elapsed time 6.98 min\n",
      "Processed 1165777 ( 100.00% ) in 5.93 seconds. BPR loss is 1.70E+01. Sample per second: 196493\n",
      "SLIM_BPR_Recommender: Epoch 73 of 100. Elapsed time 7.08 min\n",
      "Processed 1165777 ( 100.00% ) in 6.55 seconds. BPR loss is 1.71E+01. Sample per second: 178041\n",
      "SLIM_BPR_Recommender: Epoch 74 of 100. Elapsed time 7.17 min\n",
      "Processed 1165777 ( 100.00% ) in 6.34 seconds. BPR loss is 1.72E+01. Sample per second: 183832\n",
      "SLIM_BPR_Recommender: Epoch 75 of 100. Elapsed time 7.27 min\n",
      "Processed 1165777 ( 100.00% ) in 5.98 seconds. BPR loss is 1.73E+01. Sample per second: 194916\n",
      "SLIM_BPR_Recommender: Epoch 76 of 100. Elapsed time 7.36 min\n",
      "Processed 1165777 ( 100.00% ) in 6.82 seconds. BPR loss is 1.74E+01. Sample per second: 170991\n",
      "SLIM_BPR_Recommender: Epoch 77 of 100. Elapsed time 7.46 min\n",
      "Processed 1165777 ( 100.00% ) in 6.46 seconds. BPR loss is 1.75E+01. Sample per second: 180340\n",
      "SLIM_BPR_Recommender: Epoch 78 of 100. Elapsed time 7.55 min\n",
      "Processed 1165777 ( 100.00% ) in 6.43 seconds. BPR loss is 1.76E+01. Sample per second: 181201\n",
      "SLIM_BPR_Recommender: Epoch 79 of 100. Elapsed time 7.65 min\n",
      "Processed 1165777 ( 100.00% ) in 8.76 seconds. BPR loss is 1.77E+01. Sample per second: 133107\n",
      "SLIM_BPR_Recommender: Epoch 80 of 100. Elapsed time 7.79 min\n",
      "Processed 1165777 ( 100.00% ) in 8.74 seconds. BPR loss is 1.77E+01. Sample per second: 133358\n",
      "SLIM_BPR_Recommender: Epoch 81 of 100. Elapsed time 7.92 min\n",
      "Processed 1165777 ( 100.00% ) in 7.32 seconds. BPR loss is 1.78E+01. Sample per second: 159164\n",
      "SLIM_BPR_Recommender: Epoch 82 of 100. Elapsed time 8.03 min\n",
      "Processed 1165777 ( 100.00% ) in 6.94 seconds. BPR loss is 1.79E+01. Sample per second: 167945\n",
      "SLIM_BPR_Recommender: Epoch 83 of 100. Elapsed time 8.14 min\n",
      "Processed 1165777 ( 100.00% ) in 8.71 seconds. BPR loss is 1.80E+01. Sample per second: 133768\n",
      "SLIM_BPR_Recommender: Epoch 84 of 100. Elapsed time 8.27 min\n",
      "Processed 1165777 ( 100.00% ) in 8.38 seconds. BPR loss is 1.80E+01. Sample per second: 139145\n",
      "SLIM_BPR_Recommender: Epoch 85 of 100. Elapsed time 8.40 min\n",
      "Processed 1165777 ( 100.00% ) in 6.96 seconds. BPR loss is 1.81E+01. Sample per second: 167539\n",
      "SLIM_BPR_Recommender: Epoch 86 of 100. Elapsed time 8.51 min\n",
      "Processed 1165777 ( 100.00% ) in 5.74 seconds. BPR loss is 1.82E+01. Sample per second: 203089\n",
      "SLIM_BPR_Recommender: Epoch 87 of 100. Elapsed time 8.59 min\n",
      "Processed 1165777 ( 100.00% ) in 6.49 seconds. BPR loss is 1.84E+01. Sample per second: 179633\n",
      "SLIM_BPR_Recommender: Epoch 88 of 100. Elapsed time 8.69 min\n",
      "Processed 1165777 ( 100.00% ) in 6.26 seconds. BPR loss is 1.84E+01. Sample per second: 186276\n",
      "SLIM_BPR_Recommender: Epoch 89 of 100. Elapsed time 8.78 min\n",
      "Processed 1165777 ( 100.00% ) in 6.08 seconds. BPR loss is 1.85E+01. Sample per second: 191588\n",
      "SLIM_BPR_Recommender: Epoch 90 of 100. Elapsed time 8.88 min\n",
      "Processed 1165777 ( 100.00% ) in 7.31 seconds. BPR loss is 1.86E+01. Sample per second: 159379\n",
      "SLIM_BPR_Recommender: Epoch 91 of 100. Elapsed time 9.00 min\n",
      "Processed 1165777 ( 100.00% ) in 6.56 seconds. BPR loss is 1.86E+01. Sample per second: 177752\n",
      "SLIM_BPR_Recommender: Epoch 92 of 100. Elapsed time 9.10 min\n",
      "Processed 1165777 ( 100.00% ) in 6.13 seconds. BPR loss is 1.87E+01. Sample per second: 190254\n",
      "SLIM_BPR_Recommender: Epoch 93 of 100. Elapsed time 9.20 min\n",
      "Processed 1165777 ( 100.00% ) in 5.28 seconds. BPR loss is 1.88E+01. Sample per second: 220972\n",
      "SLIM_BPR_Recommender: Epoch 94 of 100. Elapsed time 9.28 min\n",
      "Processed 1165777 ( 100.00% ) in 7.23 seconds. BPR loss is 1.89E+01. Sample per second: 161186\n",
      "SLIM_BPR_Recommender: Epoch 95 of 100. Elapsed time 9.40 min\n",
      "Processed 1165777 ( 100.00% ) in 8.14 seconds. BPR loss is 1.89E+01. Sample per second: 143188\n",
      "SLIM_BPR_Recommender: Epoch 96 of 100. Elapsed time 9.53 min\n",
      "Processed 1165777 ( 100.00% ) in 8.29 seconds. BPR loss is 1.91E+01. Sample per second: 140611\n",
      "SLIM_BPR_Recommender: Epoch 97 of 100. Elapsed time 9.67 min\n",
      "Processed 1165777 ( 100.00% ) in 8.56 seconds. BPR loss is 1.91E+01. Sample per second: 136170\n",
      "SLIM_BPR_Recommender: Epoch 98 of 100. Elapsed time 9.81 min\n",
      "Processed 1165777 ( 100.00% ) in 7.79 seconds. BPR loss is 1.92E+01. Sample per second: 149739\n",
      "SLIM_BPR_Recommender: Epoch 99 of 100. Elapsed time 9.93 min\n",
      "Processed 1165777 ( 100.00% ) in 7.90 seconds. BPR loss is 1.93E+01. Sample per second: 147651\n",
      "SLIM_BPR_Recommender: Epoch 100 of 100. Elapsed time 10.04 min\n",
      "Similarity column 20635 ( 100 % ), 4305.10 column/sec, elapsed time 0.08 min\n",
      "Processed 2954 ( 14.32% ) in 5.01 minutes. Items per second: 10\n",
      "Processed 5780 ( 28.01% ) in 10.01 minutes. Items per second: 10\n",
      "Processed 8636 ( 41.85% ) in 15.01 minutes. Items per second: 10\n",
      "Processed 10964 ( 53.13% ) in 20.02 minutes. Items per second: 9\n",
      "Processed 13459 ( 65.22% ) in 25.02 minutes. Items per second: 9\n",
      "Processed 14965 ( 72.52% ) in 30.02 minutes. Items per second: 8\n",
      "Processed 17312 ( 83.90% ) in 35.02 minutes. Items per second: 8\n",
      "Processed 20488 ( 99.29% ) in 40.02 minutes. Items per second: 9\n",
      "Processed 20635 ( 100.00% ) in 40.25 minutes. Items per second: 9\n"
     ]
    },
    {
     "name": "stdout",
     "output_type": "stream",
     "text": [
      "Similarity column 31867 ( 63 % ), 1060.62 column/sec, elapsed time 0.50 min\n",
      "Similarity column 50446 ( 100 % ), 1052.12 column/sec, elapsed time 0.80 min\n",
      "PureSVDRecommender Computing SVD decomposition...\n",
      "PureSVDRecommender Computing SVD decomposition... Done!\n"
     ]
    },
    {
     "ename": "NameError",
     "evalue": "name 'P3alphaRecommender' is not defined",
     "output_type": "error",
     "traceback": [
      "\u001b[0;31m---------------------------------------------------------------------------\u001b[0m",
      "\u001b[0;31mNameError\u001b[0m                                 Traceback (most recent call last)",
      "\u001b[0;32m<ipython-input-3-34c692209844>\u001b[0m in \u001b[0;36m<module>\u001b[0;34m()\u001b[0m\n\u001b[1;32m     17\u001b[0m \u001b[0mSVDrecommender\u001b[0m\u001b[0;34m.\u001b[0m\u001b[0mfit\u001b[0m\u001b[0;34m(\u001b[0m\u001b[0;34m)\u001b[0m\u001b[0;34m\u001b[0m\u001b[0m\n\u001b[1;32m     18\u001b[0m \u001b[0;34m\u001b[0m\u001b[0m\n\u001b[0;32m---> 19\u001b[0;31m \u001b[0mp3Arecommender\u001b[0m\u001b[0;34m=\u001b[0m\u001b[0mP3alphaRecommender\u001b[0m\u001b[0;34m(\u001b[0m\u001b[0mURM_train\u001b[0m\u001b[0;34m)\u001b[0m\u001b[0;34m\u001b[0m\u001b[0m\n\u001b[0m\u001b[1;32m     20\u001b[0m \u001b[0mp3Arecommender\u001b[0m\u001b[0;34m.\u001b[0m\u001b[0mfit\u001b[0m\u001b[0;34m(\u001b[0m\u001b[0;34m)\u001b[0m\u001b[0;34m\u001b[0m\u001b[0m\n\u001b[1;32m     21\u001b[0m \u001b[0;34m\u001b[0m\u001b[0m\n",
      "\u001b[0;31mNameError\u001b[0m: name 'P3alphaRecommender' is not defined"
     ]
    }
   ],
   "source": [
    "CFrecommender = ItemKNNCFRecommender(URM_train)\n",
    "CFrecommender.fit()\n",
    "\n",
    "SLIMrecommender = SLIM_BPR_Cython(URM_train)\n",
    "SLIMrecommender.fit()\n",
    "\n",
    "CBFrecommender = ItemKNNCBFRecommender(ICM_all,URM_train)\n",
    "CBFrecommender.fit()\n",
    "\n",
    "SLIMErecommender = SLIMElasticNetRecommender(URM_train)\n",
    "SLIMErecommender.fit()\n",
    "\n",
    "UCFRecommender = UserKNNCFRecommender(URM_train)\n",
    "UCFRecommender.fit()\n",
    "\n",
    "SVDrecommender = PureSVDRecommender (URM_train)\n",
    "SVDrecommender.fit()\n",
    "\n",
    "p3Arecommender=P3alphaRecommender(URM_train)\n",
    "p3Arecommender.fit()\n",
    "\n",
    "UserCBFrecommender = UserKNNCBFRecommender(UCM_all,URM_train) \n",
    "UserCBFrecommender.fit()\n",
    "\n",
    "SVDrecommender = PureSVDRecommender (URM_train)\n",
    "SVDrecommender.fit()"
   ]
  },
  {
   "cell_type": "code",
   "execution_count": 6,
   "metadata": {},
   "outputs": [],
   "source": [
    "import pandas as pd\n",
    "from numpy import *\n",
    "import numpy as np\n",
    "from scipy import sparse\n",
    "\n",
    "\n",
    "\n",
    "data_playlists= pd.read_csv('all/train.csv',low_memory = False)\n",
    "data_tracks= pd.read_csv('all/tracks.csv',low_memory = False)\n",
    "\n",
    "\n",
    "\n",
    "#SPLITTAGGIO DEI DATI\n",
    "\n",
    "#prendo il 20% delle random playlist da target playlist\n",
    "target_playlist= pd.read_csv('all/target_playlists.csv',low_memory = False)\n",
    "random_playlist=target_playlist.iloc[5000:10000]\n",
    "random_id = random_playlist.playlist_id.values\n",
    "random_data=data_playlists.loc[data_playlists['playlist_id'].isin(random_id)]\n",
    "#random_data.shape = (114513, 2)\n",
    "n=round((114513/100)*20)\n",
    "random_subset = random_data.sample(n=n)\n",
    "\n",
    "#prendo il 20% delle sequential playlist da target playlist\n",
    "sequential_playlist=target_playlist.iloc[:5000]\n",
    "sequential_id = sequential_playlist.playlist_id.values\n",
    "sequential_data=data_playlists.loc[data_playlists['playlist_id'].isin(sequential_id)]\n",
    "n1=round((115553/100)*20)\n",
    "for pid in sequential_id:\n",
    "    playlistID=sequential_data.loc[sequential_data['playlist_id']==pid]\n",
    "    start=sequential_data.index[sequential_data['playlist_id'] == pid][0]\n",
    "    end=start+round((playlistID.shape[0]*50)/100)\n",
    "\n",
    "    dropping=list(range(start, end))    \n",
    "    sequential_data=sequential_data.drop(dropping)\n",
    "\n",
    "\n",
    "sequential_subset = sequential_data.sample(n=n1)"
   ]
  },
  {
   "cell_type": "code",
   "execution_count": 8,
   "metadata": {},
   "outputs": [
    {
     "name": "stdout",
     "output_type": "stream",
     "text": [
      "(1211791,)\n",
      "(22903,)\n",
      "(23111,)\n"
     ]
    }
   ],
   "source": [
    "indexes=data_playlists.index.values\n",
    "index_random=random_subset.index.values\n",
    "index_sequential=sequential_subset.index.values\n",
    "print(indexes.shape)\n",
    "print(index_random.shape)\n",
    "print(index_sequential.shape)"
   ]
  },
  {
   "cell_type": "code",
   "execution_count": 15,
   "metadata": {},
   "outputs": [],
   "source": [
    "## CREAZIONE DELLA UCM_ALL\n",
    "UCM_train=zeros((50446,19412))\n",
    "\n",
    "#inizializzazione completa\n",
    "for row in data_playlists.itertuples():\n",
    "    riga = row.playlist_id\n",
    "    #print(riga)\n",
    "    track=data_tracks.loc[data_tracks['track_id'] == row.track_id]\n",
    "    colonna1=int(track.album_id.values)\n",
    "    colonna2=int(track.artist_id.values)\n",
    "    UCM_train[riga,colonna1]=1\n",
    "    UCM_train[riga,colonna2]=1\n"
   ]
  },
  {
   "cell_type": "code",
   "execution_count": 16,
   "metadata": {},
   "outputs": [
    {
     "data": {
      "text/plain": [
       "1932432"
      ]
     },
     "execution_count": 16,
     "metadata": {},
     "output_type": "execute_result"
    }
   ],
   "source": [
    "np.count_nonzero(UCM_train)"
   ]
  },
  {
   "cell_type": "code",
   "execution_count": 22,
   "metadata": {},
   "outputs": [
    {
     "data": {
      "text/plain": [
       "(22903, 2)"
      ]
     },
     "execution_count": 22,
     "metadata": {},
     "output_type": "execute_result"
    }
   ],
   "source": [
    "random_subset.shape"
   ]
  },
  {
   "cell_type": "code",
   "execution_count": 19,
   "metadata": {},
   "outputs": [
    {
     "name": "stderr",
     "output_type": "stream",
     "text": [
      "22903it [00:15, 1505.75it/s]\n"
     ]
    }
   ],
   "source": [
    "from tqdm import tqdm\n",
    "#inizializzazione completa\n",
    "for row in tqdm(random_subset.itertuples()):\n",
    "    riga = row.playlist_id\n",
    "    #print(riga)\n",
    "    track=data_tracks.loc[data_tracks['track_id'] == row.track_id]\n",
    "    colonna1=int(track.album_id.values)\n",
    "    colonna2=int(track.artist_id.values)\n",
    "    UCM_train[riga,colonna1]=0\n",
    "    UCM_train[riga,colonna2]=0\n",
    "\n"
   ]
  },
  {
   "cell_type": "code",
   "execution_count": 20,
   "metadata": {},
   "outputs": [
    {
     "data": {
      "text/plain": [
       "1889409"
      ]
     },
     "execution_count": 20,
     "metadata": {},
     "output_type": "execute_result"
    }
   ],
   "source": [
    "np.count_nonzero(UCM_train)"
   ]
  },
  {
   "cell_type": "code",
   "execution_count": 23,
   "metadata": {},
   "outputs": [
    {
     "name": "stderr",
     "output_type": "stream",
     "text": [
      "23111it [00:14, 1549.45it/s]\n"
     ]
    }
   ],
   "source": [
    "from tqdm import tqdm\n",
    "#inizializzazione completa\n",
    "for row in tqdm(sequential_subset.itertuples()):\n",
    "    riga = row.playlist_id\n",
    "    #print(riga)\n",
    "    track=data_tracks.loc[data_tracks['track_id'] == row.track_id]\n",
    "    colonna1=int(track.album_id.values)\n",
    "    colonna2=int(track.artist_id.values)\n",
    "    UCM_train[riga,colonna1]=0\n",
    "    UCM_train[riga,colonna2]=0\n",
    "\n",
    "\n"
   ]
  },
  {
   "cell_type": "code",
   "execution_count": 24,
   "metadata": {},
   "outputs": [
    {
     "data": {
      "text/plain": [
       "1846781"
      ]
     },
     "execution_count": 24,
     "metadata": {},
     "output_type": "execute_result"
    }
   ],
   "source": [
    "np.count_nonzero(UCM_train)"
   ]
  },
  {
   "cell_type": "code",
   "execution_count": null,
   "metadata": {},
   "outputs": [
    {
     "name": "stderr",
     "output_type": "stream",
     "text": [
      "6775it [00:04, 1433.58it/s]"
     ]
    }
   ],
   "source": [
    "from tqdm import tqdm\n",
    "#inizializzazione completa\n",
    "for row in tqdm(sequential_subset.itertuples()):\n",
    "    riga = row.playlist_id\n",
    "    #print(riga)\n",
    "    track=data_tracks.loc[data_tracks['track_id'] == row.track_id]\n",
    "    colonna1=int(track.album_id.values)\n",
    "    colonna2=int(track.artist_id.values)\n",
    "    if UCM_stczz[riga,colonna1]==1 or UCM_stczz[riga,colonna2]==1:\n",
    "        print(\"STOCAZZOOOOO\")\n",
    "\n",
    "\n",
    "\n"
   ]
  },
  {
   "cell_type": "code",
   "execution_count": null,
   "metadata": {},
   "outputs": [],
   "source": [
    "np.count_nonzero(UCM_train.todense())"
   ]
  },
  {
   "cell_type": "code",
   "execution_count": 31,
   "metadata": {},
   "outputs": [],
   "source": [
    "UCM_train=sparse.csr_matrix(UCM_train)   "
   ]
  },
  {
   "cell_type": "code",
   "execution_count": 32,
   "metadata": {},
   "outputs": [
    {
     "name": "stdout",
     "output_type": "stream",
     "text": [
      "Similarity column 27531 ( 55 % ), 915.67 column/sec, elapsed time 0.50 min\n",
      "Similarity column 50446 ( 100 % ), 868.07 column/sec, elapsed time 0.97 min\n",
      "SequentialEvaluator: Processed 9676 ( 100.00% ) in 6.20 seconds. Users per second: 1560\n",
      "Recommender MAP is= 0.24660695560472848\n"
     ]
    }
   ],
   "source": [
    "UserCBFrecommender = UserKNNCBFRecommender(UCM_train,URM_train) \n",
    "UserCBFrecommender.fit()\n",
    "result = UserCBFrecommender.evaluateRecommendations(URM_test)\n",
    "print(\"Recommender MAP is= {}\".format(result[\"MAP\"]))"
   ]
  },
  {
   "cell_type": "code",
   "execution_count": 39,
   "metadata": {},
   "outputs": [],
   "source": [
    "sparse.save_npz('UCM_train_matrix.npz', UCM_train)"
   ]
  },
  {
   "cell_type": "code",
   "execution_count": 40,
   "metadata": {},
   "outputs": [],
   "source": [
    "UCM_stczz = scipy.sparse.load_npz('UCM_train_matrix.npz')\n",
    "\n"
   ]
  },
  {
   "cell_type": "code",
   "execution_count": null,
   "metadata": {},
   "outputs": [],
   "source": []
  }
 ],
 "metadata": {
  "kernelspec": {
   "display_name": "Python 3",
   "language": "python",
   "name": "python3"
  },
  "language_info": {
   "codemirror_mode": {
    "name": "ipython",
    "version": 3
   },
   "file_extension": ".py",
   "mimetype": "text/x-python",
   "name": "python",
   "nbconvert_exporter": "python",
   "pygments_lexer": "ipython3",
   "version": "3.6.4"
  }
 },
 "nbformat": 4,
 "nbformat_minor": 2
}
