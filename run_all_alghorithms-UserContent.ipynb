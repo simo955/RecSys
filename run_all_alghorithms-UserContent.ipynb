{
 "cells": [
  {
   "cell_type": "code",
   "execution_count": 1,
   "metadata": {},
   "outputs": [],
   "source": [
    "from SLIM_BPR.Cython.SLIM_BPR_Cython import SLIM_BPR_Cython\n",
    "from SLIM_ElasticNet.SLIMElasticNetRecommender import SLIMElasticNetRecommender\n",
    "\n",
    "from MatrixFactorization.Cython.MatrixFactorization_Cython import MatrixFactorization_BPR_Cython, MatrixFactorization_FunkSVD_Cython\n",
    "from MatrixFactorization.PureSVD import PureSVDRecommender\n",
    "\n",
    "from Base.NonPersonalizedRecommender import TopPop, Random\n",
    "\n",
    "from KNN.UserKNNCFRecommender import UserKNNCFRecommender\n",
    "from KNN.ItemKNNCFRecommender import ItemKNNCFRecommender\n",
    "from KNN.ItemKNNCBFRecommender import ItemKNNCBFRecommender\n",
    "\n",
    "from KNN.ItemKNNScoresHybridRecommender import ItemKNNScoresHybridRecommender\n",
    "from KNN.ItemKNNScoresHybridRecommender3 import ItemKNNScoresHybridRecommender3\n",
    "\n",
    "from KNN.ItemKNNSimilarityHybridRecommender import ItemKNNSimilarityHybridRecommender\n",
    "from KNN.ItemKNNSimilarityHybridRecommender3 import ItemKNNSimilarityHybridRecommender3\n",
    "from KNN.ItemKNNSimilarityHybridRecommender4 import ItemKNNSimilarityHybridRecommender4\n",
    "\n",
    "from KNN.UserKNNCBFRecommender import UserKNNCBFRecommender\n",
    "\n",
    "\n",
    "#from GraphBased.RP3betaRecommender import RP3betaRecommender\n",
    "#from GraphBased.P3alphaRecommender import P3alphaRecommender"
   ]
  },
  {
   "cell_type": "code",
   "execution_count": 2,
   "metadata": {},
   "outputs": [],
   "source": [
    "import traceback, os\n",
    "import scipy.sparse\n",
    "import pandas as pd\n",
    "import numpy as np\n",
    "\n",
    "URM_all = scipy.sparse.load_npz('./Matrix/URM_all_matrix.npz')\n",
    "ICM_all = scipy.sparse.load_npz('./Matrix/ICM_all_matrix.npz')\n",
    "URM_train = scipy.sparse.load_npz('./Matrix/URM_train_matrix.npz')\n",
    "URM_test = scipy.sparse.load_npz('./Matrix/URM_test_matrix.npz')\n",
    "#UCM_all = scipy.sparse.load_npz('./Matrix/UCM_all_matrix.npz')\n",
    "#UCM_train1 = scipy.sparse.load_npz('UCM_train_matrix1.npz')\n",
    "\n",
    "\n",
    "\n",
    "#Load playlistsIDS\n",
    "train_df= pd.read_csv('all/train.csv',low_memory = False)\n",
    "all_userID=train_df.playlist_id.unique()"
   ]
  },
  {
   "cell_type": "code",
   "execution_count": 5,
   "metadata": {},
   "outputs": [
    {
     "name": "stdout",
     "output_type": "stream",
     "text": [
      "Similarity column 22143 ( 44 % ), 603.00 column/sec, elapsed time 0.61 min\n",
      "Similarity column 50446 ( 100 % ), 645.43 column/sec, elapsed time 1.30 min\n",
      "SequentialEvaluator: Processed 9676 ( 100.00% ) in 9.51 seconds. Users per second: 1017\n",
      "Recommender MAP is= 0.24810987000158252\n"
     ]
    }
   ],
   "source": [
    "UserCBFrecommender = UserKNNCBFRecommender(UCM_train,URM_train) \n",
    "UserCBFrecommender.fit(topK=300, shrink=80, feature_weighting = \"BM25\")\n",
    "result = UserCBFrecommender.evaluateRecommendations(URM_test)\n",
    "print(\"Recommender MAP is= {}\".format(result[\"MAP\"]))"
   ]
  },
  {
   "cell_type": "code",
   "execution_count": 7,
   "metadata": {},
   "outputs": [],
   "source": [
    "import pandas as pd\n",
    "from numpy import *\n",
    "import numpy as np\n",
    "from scipy import sparse\n",
    "\n",
    "\n",
    "\n",
    "data_playlists= pd.read_csv('all/train.csv',low_memory = False)\n",
    "data_tracks= pd.read_csv('all/tracks.csv',low_memory = False)\n",
    "\n",
    "\n",
    "\n",
    "#SPLITTAGGIO DEI DATI\n",
    "\n",
    "#prendo il 20% delle random playlist da target playlist\n",
    "target_playlist= pd.read_csv('all/target_playlists.csv',low_memory = False)\n",
    "random_playlist=target_playlist.iloc[5000:10000]\n",
    "random_id = random_playlist.playlist_id.values\n",
    "random_data=data_playlists.loc[data_playlists['playlist_id'].isin(random_id)]\n",
    "#random_data.shape = (114513, 2)\n",
    "n=round((114513/100)*20)\n",
    "random_subset = random_data.sample(n=n)\n",
    "\n",
    "#prendo il 20% delle sequential playlist da target playlist\n",
    "sequential_playlist=target_playlist.iloc[:5000]\n",
    "sequential_id = sequential_playlist.playlist_id.values\n",
    "sequential_data=data_playlists.loc[data_playlists['playlist_id'].isin(sequential_id)]\n",
    "n1=round((115553/100)*20)\n",
    "for pid in sequential_id:\n",
    "    playlistID=sequential_data.loc[sequential_data['playlist_id']==pid]\n",
    "    start=sequential_data.index[sequential_data['playlist_id'] == pid][0]\n",
    "    end=start+round((playlistID.shape[0]*50)/100)\n",
    "\n",
    "    dropping=list(range(start, end))    \n",
    "    sequential_data=sequential_data.drop(dropping)\n",
    "\n",
    "\n",
    "sequential_subset = sequential_data.sample(n=n1)"
   ]
  },
  {
   "cell_type": "code",
   "execution_count": 6,
   "metadata": {},
   "outputs": [
    {
     "name": "stdout",
     "output_type": "stream",
     "text": [
      "(1211791,)\n",
      "(22903,)\n",
      "(23111,)\n"
     ]
    }
   ],
   "source": [
    "indexes=data_playlists.index.values\n",
    "index_random=random_subset.index.values\n",
    "index_sequential=sequential_subset.index.values\n",
    "print(indexes.shape)\n",
    "print(index_random.shape)\n",
    "print(index_sequential.shape)"
   ]
  },
  {
   "cell_type": "code",
   "execution_count": 7,
   "metadata": {},
   "outputs": [],
   "source": [
    "data_playlists=data_playlists[~data_playlists.isin(sequential_subset)].dropna()\n",
    "data_playlists=data_playlists[~data_playlists.isin(random_subset)].dropna()"
   ]
  },
  {
   "cell_type": "code",
   "execution_count": 11,
   "metadata": {},
   "outputs": [],
   "source": [
    "#CREAZIONE DELLA UCM_ALL\n",
    "UCM_train=zeros((50446,19412))\n",
    "URM_train=zeros((50446,20635))\n",
    "\n",
    "#inizializzazione completa\n",
    "for row in data_playlists.itertuples():\n",
    "    riga = int(row.playlist_id)\n",
    "    #print(riga)\n",
    "    #track=data_tracks.loc[data_tracks['track_id'] == int(row.track_id)]\n",
    "    #print(colonna)\n",
    "    colonna= int(row.track_id)\n",
    "    URM_train[riga,colonna]=1\n",
    "   #UCM_train[riga,int(track.album_id)]=1\n",
    "    #UCM_train[riga,12744+int(track.artist_id)]=1\n",
    "\n",
    "#UCM_train=sparse.csr_matrix(UCM_train)   \n",
    "#sparse.save_npz('UCM_train_matrix.npz', UCM_train)\n",
    "URM_train=sparse.csr_matrix(URM_train)   \n",
    "\n",
    "\n",
    "\n",
    "\n",
    "\n"
   ]
  },
  {
   "cell_type": "code",
   "execution_count": 11,
   "metadata": {},
   "outputs": [],
   "source": [
    "import pandas as pd\n",
    "from numpy import *\n",
    "import numpy as np\n",
    "from scipy import sparse\n",
    "\n",
    "\n",
    "\n",
    "data_playlists= pd.read_csv('all/train.csv',low_memory = False)\n",
    "data_tracks= pd.read_csv('all/tracks.csv',low_memory = False)\n",
    "\n",
    "\n",
    "\n",
    "#SPLITTAGGIO DEI DATI\n",
    "\n",
    "#prendo il 20% delle random playlist da target playlist\n",
    "target_playlist= pd.read_csv('all/target_playlists.csv',low_memory = False)\n",
    "random_playlist=target_playlist.iloc[5000:10000]\n",
    "random_id = random_playlist.playlist_id.values\n",
    "random_data=data_playlists.loc[data_playlists['playlist_id'].isin(random_id)]\n",
    "#random_data.shape = (114513, 2)\n",
    "n=round((114513/100)*20)\n",
    "random_subset = random_data.sample(n=n)\n",
    "\n",
    "#prendo il 20% delle sequential playlist da target playlist\n",
    "sequential_playlist=target_playlist.iloc[:5000]\n",
    "sequential_id = sequential_playlist.playlist_id.values\n",
    "sequential_data=data_playlists.loc[data_playlists['playlist_id'].isin(sequential_id)]\n",
    "n1=round((115553/100)*20)\n",
    "for pid in sequential_id:\n",
    "    playlistID=sequential_data.loc[sequential_data['playlist_id']==pid]\n",
    "    start=sequential_data.index[sequential_data['playlist_id'] == pid][0]\n",
    "    end=start+round((playlistID.shape[0]*50)/100)\n",
    "\n",
    "    dropping=list(range(start, end))    \n",
    "    sequential_data=sequential_data.drop(dropping)\n",
    "\n",
    "\n",
    "sequential_subset = sequential_data.sample(n=n1)\n",
    "\n",
    "\n",
    "#CREAZIONE DELLA UCM_ALL\n",
    "UCM_train1=zeros((50446,19412))\n",
    "\n",
    "#inizializzazione completa\n",
    "for row in data_playlists.itertuples():\n",
    "    riga = row.playlist_id\n",
    "    #print(riga)\n",
    "    track=data_tracks.loc[data_tracks['track_id'] == row.track_id]\n",
    "    #print(colonna)\n",
    "    UCM_train1[riga,int(track.album_id.values)]=1\n",
    "    UCM_train1[riga,12744+int(track.artist_id.values)]=1\n",
    "    \n",
    "for row in sequential_subset.itertuples():\n",
    "    riga = row.playlist_id\n",
    "    #print(riga)\n",
    "    track=data_tracks.loc[data_tracks['track_id'] == row.track_id]\n",
    "    #print(colonna)\n",
    "    UCM_train1[riga,int(track.album_id.values)]=0\n",
    "    UCM_train1[riga,12744+int(track.artist_id.values)]=0\n",
    "for row in random_subset.itertuples():\n",
    "    riga = row.playlist_id\n",
    "    #print(riga)\n",
    "    track=data_tracks.loc[data_tracks['track_id'] == row.track_id]\n",
    "    #print(colonna)\n",
    "    UCM_train1[riga,int(track.album_id.values)]=0\n",
    "    UCM_train1[riga,12744+int(track.artist_id.values)]=0\n",
    "\n",
    "UCM_train1=sparse.csr_matrix(UCM_train1)   \n",
    "sparse.save_npz('UCM_train_matrix1.npz', UCM_train1)\n",
    "\n",
    "\n"
   ]
  },
  {
   "cell_type": "code",
   "execution_count": 5,
   "metadata": {},
   "outputs": [],
   "source": [
    "data_playlists= pd.read_csv('all/train.csv',low_memory = False)\n",
    "data_tracks= pd.read_csv('all/tracks.csv',low_memory = False)\n",
    "\n",
    "\n",
    "\n",
    "#SPLITTAGGIO DEI DATI\n",
    "\n",
    "#prendo il 20% delle random playlist da target playlist\n",
    "target_playlist= pd.read_csv('all/target_playlists.csv',low_memory = False)\n",
    "random_playlist=target_playlist.iloc[5000:10000]\n",
    "random_id = random_playlist.playlist_id.values\n",
    "random_data=data_playlists.loc[data_playlists['playlist_id'].isin(random_id)]\n",
    "#random_data.shape = (114513, 2)\n",
    "n=round((114513/100)*20)\n",
    "random_subset = random_data.sample(n=n)\n",
    "\n",
    "#prendo il 20% delle sequential playlist da target playlist\n",
    "sequential_playlist=target_playlist.iloc[:5000]\n",
    "sequential_id = sequential_playlist.playlist_id.values\n",
    "sequential_data=data_playlists.loc[data_playlists['playlist_id'].isin(sequential_id)]\n",
    "n1=round((115553/100)*20)\n",
    "for pid in sequential_id:\n",
    "    playlistID=sequential_data.loc[sequential_data['playlist_id']==pid]\n",
    "    start=sequential_data.index[sequential_data['playlist_id'] == pid][0]\n",
    "    end=start+round((playlistID.shape[0]*50)/100)\n",
    "\n",
    "    dropping=list(range(start, end))    \n",
    "    sequential_data=sequential_data.drop(dropping)\n",
    "\n",
    "\n",
    "sequential_subset = sequential_data.sample(n=n1)"
   ]
  },
  {
   "cell_type": "code",
   "execution_count": 35,
   "metadata": {},
   "outputs": [],
   "source": [
    "#inizializzazione completa\n",
    "for row in sequential_subset.itertuples():\n",
    "    riga = row.playlist_id\n",
    "    track=data_tracks.loc[data_tracks['track_id'] == row.track_id]\n",
    "    colonna1= int(track.album_id.values)\n",
    "    colonna2=12744+int(track.artist_id.values)\n",
    "    if UCM_train1[riga,colonna1]==1:\n",
    "        print(\"Error\")\n",
    "        print(\" Riga = {}, Colonna1 = {}\".format(riga, colonna1))  \n",
    "\n",
    "    if UCM_train1[riga,colonna2]==1:\n",
    "        print(\"Error\")\n",
    "        print(\" Riga = {}, Colonna2 = {}\".format(riga, colonna2))  \n",
    "        \n",
    "\n",
    "\n"
   ]
  },
  {
   "cell_type": "code",
   "execution_count": 36,
   "metadata": {},
   "outputs": [
    {
     "data": {
      "text/plain": [
       "matrix([[0., 0., 0., ..., 0., 0., 0.],\n",
       "        [0., 0., 0., ..., 0., 0., 0.],\n",
       "        [0., 0., 0., ..., 0., 0., 0.],\n",
       "        ...,\n",
       "        [0., 0., 0., ..., 0., 0., 0.],\n",
       "        [0., 0., 0., ..., 0., 0., 0.],\n",
       "        [0., 0., 0., ..., 0., 0., 0.]])"
      ]
     },
     "execution_count": 36,
     "metadata": {},
     "output_type": "execute_result"
    }
   ],
   "source": [
    "UCM_train1"
   ]
  },
  {
   "cell_type": "code",
   "execution_count": 32,
   "metadata": {},
   "outputs": [
    {
     "name": "stderr",
     "output_type": "stream",
     "text": [
      "23111it [00:25, 920.55it/s] \n"
     ]
    }
   ],
   "source": [
    "from tqdm import tqdm\n",
    "\n",
    "#UCM_train1=UCM_train1.todense()\n",
    "\n",
    "\n",
    "for row in tqdm(sequential_subset.itertuples()):\n",
    "    riga = row.playlist_id\n",
    "    track=data_tracks.loc[data_tracks['track_id'] == row.track_id]\n",
    "    colonna1= int(track.album_id.values)\n",
    "    colonna2=12744+int(track.artist_id.values)\n",
    "    UCM_train1[riga,colonna1]=0\n",
    "\n",
    "    UCM_train1[riga,colonna2]=0\n",
    "\n",
    "\n",
    "       "
   ]
  },
  {
   "cell_type": "code",
   "execution_count": 39,
   "metadata": {},
   "outputs": [],
   "source": [
    "from scipy import sparse\n",
    "\n",
    "\n",
    "UCM_train1=sparse.csr_matrix(UCM_train1)   \n",
    "\n"
   ]
  },
  {
   "cell_type": "code",
   "execution_count": 40,
   "metadata": {},
   "outputs": [
    {
     "name": "stdout",
     "output_type": "stream",
     "text": [
      "Similarity column 16138 ( 32 % ), 457.20 column/sec, elapsed time 0.59 min\n",
      "Similarity column 45201 ( 90 % ), 525.42 column/sec, elapsed time 1.43 min\n",
      "Similarity column 50446 ( 100 % ), 529.45 column/sec, elapsed time 1.59 min\n",
      "SequentialEvaluator: Processed 9676 ( 100.00% ) in 10.65 seconds. Users per second: 909\n",
      "Recommender MAP is= 0.200830856152805\n"
     ]
    }
   ],
   "source": [
    "UserCBFrecommender = UserKNNCBFRecommender(UCM_train1,URM_train) \n",
    "UserCBFrecommender.fit(topK=300, shrink=80)\n",
    "result = UserCBFrecommender.evaluateRecommendations(URM_test)\n",
    "print(\"Recommender MAP is= {}\".format(result[\"MAP\"]))"
   ]
  },
  {
   "cell_type": "code",
   "execution_count": null,
   "metadata": {},
   "outputs": [],
   "source": []
  }
 ],
 "metadata": {
  "kernelspec": {
   "display_name": "Python 3",
   "language": "python",
   "name": "python3"
  },
  "language_info": {
   "codemirror_mode": {
    "name": "ipython",
    "version": 3
   },
   "file_extension": ".py",
   "mimetype": "text/x-python",
   "name": "python",
   "nbconvert_exporter": "python",
   "pygments_lexer": "ipython3",
   "version": "3.6.4"
  }
 },
 "nbformat": 4,
 "nbformat_minor": 2
}
