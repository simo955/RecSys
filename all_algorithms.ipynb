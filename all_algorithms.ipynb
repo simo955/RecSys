{
 "cells": [
  {
   "cell_type": "code",
   "execution_count": 9,
   "metadata": {},
   "outputs": [],
   "source": [
    "from SLIM_BPR.Cython.SLIM_BPR_Cython import SLIM_BPR_Cython\n",
    "\n",
    "from SLIM_RMSE.SLIM_RMSE import SLIM_RMSE\n",
    "\n",
    "#from MatrixFactorization.Cython.MF_BPR_Cython import MF_BPR_Cython\n",
    "#from MatrixFactorization.MatrixFactorization_RMSE import FunkSVD\n",
    "\n",
    "from KNN.user_knn_CF import UserKNNCFRecommender\n",
    "from KNN.item_knn_CF import ItemKNNCFRecommender\n",
    "from KNN.item_knn_CBF import ItemKNNCBFRecommender\n",
    "\n"
   ]
  },
  {
   "cell_type": "code",
   "execution_count": 2,
   "metadata": {},
   "outputs": [],
   "source": [
    "import scipy.sparse\n",
    "URM_all = scipy.sparse.load_npz('URM_all_matrix.npz')\n",
    "ICM_all = scipy.sparse.load_npz('ICM_all_matrix.npz')\n",
    "URM_train = scipy.sparse.load_npz('URM_train_matrix.npz')\n",
    "URM_test = scipy.sparse.load_npz('URM_test_matrix.npz')"
   ]
  },
  {
   "cell_type": "code",
   "execution_count": 10,
   "metadata": {},
   "outputs": [
    {
     "name": "stdout",
     "output_type": "stream",
     "text": [
      "Algorithm: <class 'SLIM_RMSE.SLIM_RMSE.SLIM_RMSE'>\n",
      "Processed 9675 ( 100.00% ) in 5.89 seconds. Users per second: 1642\n",
      "Algorithm: <class 'SLIM_RMSE.SLIM_RMSE.SLIM_RMSE'>, results: {'AUC': 0.00045932662716457675, 'precision': 8.26787928896238e-05, 'recall': 0.00018147502903600462, 'map': 8.778997336842964e-05, 'NDCG': 0.00016336980437126077, 'MRR': 0.00032837752711667553}\n"
     ]
    }
   ],
   "source": [
    "recommender_list = []\n",
    "#recommender_list.append(ItemKNNCFRecommender(URM_train))\n",
    "#recommender_list.append(UserKNNCFRecommender(URM_train))\n",
    "#recommender_list.append(MF_BPR_Cython(URM_train))\n",
    "#recommender_list.append(FunkSVD(URM_train))\n",
    "#recommender_list.append(SLIM_BPR_Cython(URM_train, sparse_weights=False))\n",
    "recommender_list.append(SLIM_RMSE(URM_train))\n",
    "\n",
    "\n",
    "for recommender in recommender_list:\n",
    "\n",
    "    print(\"Algorithm: {}\".format(recommender.__class__))\n",
    "\n",
    "    recommender.fit()\n",
    "    \n",
    "\n",
    "    results_run = recommender.evaluateRecommendations(URM_test, at=10, exclude_seen=True)\n",
    "    print(\"Algorithm: {}, results: {}\".format(recommender.__class__, results_run))\n",
    "\n"
   ]
  },
  {
   "cell_type": "code",
   "execution_count": 6,
   "metadata": {},
   "outputs": [
    {
     "name": "stdout",
     "output_type": "stream",
     "text": [
      "Processed 500000 ( 42.89% ) in 16.11 seconds. BPR loss is 3.39E-05. Sample per second: 31036\n",
      "Processed 1000000 ( 85.78% ) in 19.90 seconds. BPR loss is 1.26E-04. Sample per second: 27857\n",
      "Processed 1165777 ( 100.00% ) in 8.90 seconds. BPR loss is 1.68E-04. Sample per second: 26554\n",
      "Evaluation begins\n",
      "Processed 9675 ( 100.00% ) in 5.96 seconds. Users per second: 1622\n",
      "Test case: {'learn_rate': 0.0001, 'topK_similarity': 200, 'epoch': 0, 'sgd_mode': 'sgd'}\n",
      "Results {'AUC': 0.24607142036916785, 'precision': 0.05920835055808462, 'recall': 0.13543968056617842, 'map': 0.06350836651147967, 'NDCG': 0.11202024385400822, 'MRR': 0.18795612774529552}\n",
      "\n",
      "Epoch 1 of 10 complete in 0.86 minutes\n",
      "Processed 500000 ( 42.89% ) in 20.08 seconds. BPR loss is 7.19E-04. Sample per second: 24899\n",
      "Processed 1000000 ( 85.78% ) in 20.37 seconds. BPR loss is 1.01E-03. Sample per second: 24768\n",
      "Processed 1165777 ( 100.00% ) in 8.69 seconds. BPR loss is 1.12E-03. Sample per second: 23944\n",
      "Evaluation begins\n",
      "Processed 9675 ( 100.00% ) in 6.06 seconds. Users per second: 1595\n",
      "Test case: {'learn_rate': 0.0001, 'topK_similarity': 200, 'epoch': 1, 'sgd_mode': 'sgd'}\n",
      "Results {'AUC': 0.2479722451885544, 'precision': 0.0593840429929751, 'recall': 0.13628095840240229, 'map': 0.06393213946101586, 'NDCG': 0.11267107849345442, 'MRR': 0.18907274257367154}\n",
      "\n",
      "Epoch 2 of 10 complete in 0.95 minutes\n",
      "Processed 500000 ( 42.89% ) in 20.27 seconds. BPR loss is 2.32E-03. Sample per second: 24672\n",
      "Processed 1000000 ( 85.78% ) in 20.31 seconds. BPR loss is 2.76E-03. Sample per second: 24809\n",
      "Processed 1165777 ( 100.00% ) in 9.45 seconds. BPR loss is 2.92E-03. Sample per second: 23573\n",
      "Evaluation begins\n",
      "Processed 9675 ( 100.00% ) in 6.39 seconds. Users per second: 1514\n",
      "Test case: {'learn_rate': 0.0001, 'topK_similarity': 200, 'epoch': 2, 'sgd_mode': 'sgd'}\n",
      "Results {'AUC': 0.24880643565818292, 'precision': 0.05960107482431042, 'recall': 0.13656102356510597, 'map': 0.06414053173996447, 'NDCG': 0.11299404249622426, 'MRR': 0.18949610228547706}\n",
      "\n",
      "Epoch 3 of 10 complete in 0.95 minutes\n",
      "Processed 500000 ( 42.89% ) in 18.20 seconds. BPR loss is 4.64E-03. Sample per second: 27470\n",
      "Processed 1000000 ( 85.78% ) in 23.22 seconds. BPR loss is 5.24E-03. Sample per second: 24259\n",
      "Processed 1165777 ( 100.00% ) in 9.31 seconds. BPR loss is 5.45E-03. Sample per second: 23173\n",
      "Evaluation begins\n",
      "Processed 9675 ( 100.00% ) in 6.14 seconds. Users per second: 1577\n",
      "Test case: {'learn_rate': 0.0001, 'topK_similarity': 200, 'epoch': 3, 'sgd_mode': 'sgd'}\n",
      "Results {'AUC': 0.24993261842424788, 'precision': 0.05971475816453367, 'recall': 0.13699162435355094, 'map': 0.06431380224566943, 'NDCG': 0.11329975726876798, 'MRR': 0.18992889459766166}\n",
      "\n",
      "Epoch 4 of 10 complete in 0.98 minutes\n",
      "Processed 500000 ( 42.89% ) in 20.34 seconds. BPR loss is 7.78E-03. Sample per second: 24581\n",
      "Processed 1000000 ( 85.78% ) in 21.21 seconds. BPR loss is 8.43E-03. Sample per second: 24265\n",
      "Processed 1165777 ( 100.00% ) in 9.27 seconds. BPR loss is 8.70E-03. Sample per second: 23193\n",
      "Evaluation begins\n",
      "Processed 9675 ( 100.00% ) in 6.27 seconds. Users per second: 1544\n",
      "Test case: {'learn_rate': 0.0001, 'topK_similarity': 200, 'epoch': 4, 'sgd_mode': 'sgd'}\n",
      "Results {'AUC': 0.25028773122174414, 'precision': 0.0597871021083121, 'recall': 0.13704414730823553, 'map': 0.06433874546844583, 'NDCG': 0.1133805774163829, 'MRR': 0.1901076628805017}\n",
      "\n",
      "Epoch 5 of 10 complete in 0.98 minutes\n",
      "Processed 500000 ( 42.89% ) in 23.26 seconds. BPR loss is 1.15E-02. Sample per second: 21498\n",
      "Processed 1000000 ( 85.78% ) in 20.34 seconds. BPR loss is 1.23E-02. Sample per second: 23074\n",
      "Processed 1165777 ( 100.00% ) in 8.28 seconds. BPR loss is 1.26E-02. Sample per second: 22735\n",
      "Evaluation begins\n",
      "Processed 9675 ( 100.00% ) in 5.99 seconds. Users per second: 1615\n",
      "Test case: {'learn_rate': 0.0001, 'topK_similarity': 200, 'epoch': 5, 'sgd_mode': 'sgd'}\n",
      "Results {'AUC': 0.25036358573331585, 'precision': 0.05991112029764656, 'recall': 0.13728388353894772, 'map': 0.06429642261437352, 'NDCG': 0.11343273839637262, 'MRR': 0.18999668628647415}\n",
      "\n",
      "Epoch 6 of 10 complete in 0.98 minutes\n",
      "Processed 500000 ( 42.89% ) in 20.30 seconds. BPR loss is 1.58E-02. Sample per second: 24632\n",
      "Processed 1000000 ( 85.78% ) in 21.05 seconds. BPR loss is 1.67E-02. Sample per second: 24361\n",
      "Processed 1165777 ( 100.00% ) in 8.48 seconds. BPR loss is 1.70E-02. Sample per second: 23561\n",
      "Evaluation begins\n",
      "Processed 9675 ( 100.00% ) in 5.98 seconds. Users per second: 1618\n",
      "Test case: {'learn_rate': 0.0001, 'topK_similarity': 200, 'epoch': 6, 'sgd_mode': 'sgd'}\n",
      "Results {'AUC': 0.2509884257892219, 'precision': 0.0600454733360922, 'recall': 0.13755618092020702, 'map': 0.06438016107756758, 'NDCG': 0.11368555608372974, 'MRR': 0.19063929244013866}\n",
      "\n",
      "Epoch 7 of 10 complete in 0.95 minutes\n",
      "Processed 500000 ( 42.89% ) in 21.35 seconds. BPR loss is 2.05E-02. Sample per second: 23423\n",
      "Processed 1000000 ( 85.78% ) in 21.20 seconds. BPR loss is 2.15E-02. Sample per second: 23694\n",
      "Processed 1165777 ( 100.00% ) in 8.68 seconds. BPR loss is 2.19E-02. Sample per second: 23005\n",
      "Evaluation begins\n",
      "Processed 9675 ( 100.00% ) in 5.96 seconds. Users per second: 1622\n",
      "Test case: {'learn_rate': 0.0001, 'topK_similarity': 200, 'epoch': 7, 'sgd_mode': 'sgd'}\n",
      "Results {'AUC': 0.2510360481177456, 'precision': 0.06002480363786982, 'recall': 0.13764096898026218, 'map': 0.06432559335417881, 'NDCG': 0.1136384973846878, 'MRR': 0.19048677139313644}\n",
      "\n",
      "Epoch 8 of 10 complete in 0.97 minutes\n",
      "Processed 500000 ( 42.89% ) in 21.62 seconds. BPR loss is 2.59E-02. Sample per second: 23124\n",
      "Processed 1000000 ( 85.78% ) in 20.99 seconds. BPR loss is 2.70E-02. Sample per second: 23813\n",
      "Processed 1165777 ( 100.00% ) in 9.46 seconds. BPR loss is 2.74E-02. Sample per second: 23103\n",
      "Evaluation begins\n",
      "Processed 9675 ( 100.00% ) in 5.98 seconds. Users per second: 1618\n",
      "Test case: {'learn_rate': 0.0001, 'topK_similarity': 200, 'epoch': 8, 'sgd_mode': 'sgd'}\n",
      "Results {'AUC': 0.2514696032402219, 'precision': 0.0600454733360922, 'recall': 0.13773806233400243, 'map': 0.06452134795036141, 'NDCG': 0.11385739709236384, 'MRR': 0.1909883806767838}\n",
      "\n",
      "Epoch 9 of 10 complete in 0.96 minutes\n",
      "Processed 500000 ( 42.89% ) in 21.00 seconds. BPR loss is 3.15E-02. Sample per second: 23812\n",
      "Processed 1000000 ( 85.78% ) in 19.20 seconds. BPR loss is 3.27E-02. Sample per second: 25511\n",
      "Processed 1165777 ( 100.00% ) in 7.25 seconds. BPR loss is 3.31E-02. Sample per second: 25206\n",
      "Evaluation begins\n",
      "Processed 9675 ( 100.00% ) in 6.03 seconds. Users per second: 1604\n",
      "Test case: {'learn_rate': 0.0001, 'topK_similarity': 200, 'epoch': 9, 'sgd_mode': 'sgd'}\n",
      "Results {'AUC': 0.25218401198842555, 'precision': 0.060117817279870665, 'recall': 0.137841008364882, 'map': 0.06464180357542527, 'NDCG': 0.11403747243323926, 'MRR': 0.19132393518244997}\n",
      "\n",
      "Epoch 10 of 10 complete in 0.90 minutes\n",
      "Fit completed in 9.52 minutes\n",
      "Processed 9675 ( 100.00% ) in 5.96 seconds. Users per second: 1623\n",
      "{'AUC': 0.25218401198842555, 'precision': 0.060117817279870665, 'recall': 0.137841008364882, 'map': 0.06464180357542527, 'NDCG': 0.11403747243323926, 'MRR': 0.19132393518244997}\n"
     ]
    }
   ],
   "source": [
    "recommender = SLIM_BPR_Cython(URM_train, recompile_cython=False, positive_threshold=0, sparse_weights=True)\n",
    "\n",
    "\n",
    "recommender.fit(epochs=10, validate_every_N_epochs=1, URM_test=URM_test, batch_size=1, sgd_mode='sgd', learning_rate=1e-4)\n",
    "results_run = recommender.evaluateRecommendations(URM_test, at=10)\n",
    "print(results_run)"
   ]
  },
  {
   "cell_type": "code",
   "execution_count": null,
   "metadata": {},
   "outputs": [],
   "source": []
  },
  {
   "cell_type": "code",
   "execution_count": null,
   "metadata": {},
   "outputs": [],
   "source": []
  },
  {
   "cell_type": "code",
   "execution_count": null,
   "metadata": {},
   "outputs": [],
   "source": []
  },
  {
   "cell_type": "code",
   "execution_count": 5,
   "metadata": {},
   "outputs": [
    {
     "name": "stdout",
     "output_type": "stream",
     "text": [
      "Similarity column 9168 ( 44 % ), 305.60 column/sec, elapsed time 0.50 min\n",
      "Similarity column 18107 ( 88 % ), 301.71 column/sec, elapsed time 1.00 min\n",
      "Similarity column 20635 ( 100 % ), 304.47 column/sec, elapsed time 1.13 min\n"
     ]
    }
   ],
   "source": [
    "from createSubmission import create_submission\n",
    "\n",
    "recommender=ItemKNNCFRecommender(URM_all)\n",
    "recommender.fit()\n",
    "\n",
    "create_submission(recommender)"
   ]
  }
 ],
 "metadata": {
  "kernelspec": {
   "display_name": "Python 3",
   "language": "python",
   "name": "python3"
  },
  "language_info": {
   "codemirror_mode": {
    "name": "ipython",
    "version": 3
   },
   "file_extension": ".py",
   "mimetype": "text/x-python",
   "name": "python",
   "nbconvert_exporter": "python",
   "pygments_lexer": "ipython3",
   "version": "3.6.4"
  }
 },
 "nbformat": 4,
 "nbformat_minor": 2
}
