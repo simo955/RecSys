{
 "cells": [
  {
   "cell_type": "code",
   "execution_count": 1,
   "metadata": {},
   "outputs": [],
   "source": [
    "import scipy.sparse"
   ]
  },
  {
   "cell_type": "code",
   "execution_count": 2,
   "metadata": {},
   "outputs": [
    {
     "name": "stdout",
     "output_type": "stream",
     "text": [
      "Unable to load Cython Cosine_Similarity, reverting to Python\n",
      "Unable to load Cython Cosine_Similarity, reverting to Python\n",
      "Unable to load Cython Cosine_Similarity, reverting to Python\n"
     ]
    }
   ],
   "source": [
    "from SLIM_BPR.Cython.SLIM_BPR_Cython import SLIM_BPR_Cython\n",
    "\n",
    "#from SLIM_RMSE.SLIM_RMSE import SLIM_RMSE\n",
    "\n",
    "#from MatrixFactorization.Cython.MF_BPR_Cython import MF_BPR_Cython\n",
    "#from MatrixFactorization.MatrixFactorization_RMSE import FunkSVD\n",
    "\n",
    "from KNN.user_knn_CF import UserKNNCFRecommender\n",
    "from KNN.item_knn_CF import ItemKNNCFRecommender\n",
    "from KNN.item_knn_CBF import ItemKNNCBFRecommender\n",
    "\n"
   ]
  },
  {
   "cell_type": "code",
   "execution_count": 3,
   "metadata": {},
   "outputs": [],
   "source": [
    "URM_all = scipy.sparse.load_npz('URM_all_matrix.npz')\n",
    "URM_train = scipy.sparse.load_npz('URM_train_matrix.npz')\n",
    "URM_test = scipy.sparse.load_npz('URM_test_matrix.npz')"
   ]
  },
  {
   "cell_type": "code",
   "execution_count": 5,
   "metadata": {},
   "outputs": [
    {
     "name": "stdout",
     "output_type": "stream",
     "text": [
      "Algorithm: <class 'KNN.item_knn_CF.ItemKNNCFRecommender'>\n",
      "Similarity column 11296 ( 55 % ), 376.51 column/sec, elapsed time 0.50 min\n",
      "Similarity column 20635 ( 100 % ), 380.64 column/sec, elapsed time 0.90 min\n",
      "Processed 9675 ( 100.00% ) in 9.62 seconds. Users per second: 1006\n",
      "Algorithm: <class 'KNN.item_knn_CF.ItemKNNCFRecommender'>, results: {'AUC': 0.2942144817483282, 'precision': 0.07550640760645323, 'recall': 0.17409080103467736, 'map': 0.08336272974924208, 'NDCG': 0.14292886621523193, 'MRR': 0.22794789267505194}\n"
     ]
    }
   ],
   "source": [
    "recommender_list = []\n",
    "recommender_list.append(ItemKNNCFRecommender(URM_train))\n",
    "#recommender_list.append(UserKNNCFRecommender(URM_train))\n",
    "#recommender_list.append(MF_BPR_Cython(URM_train))\n",
    "#recommender_list.append(FunkSVD(URM_train))\n",
    "#recommender_list.append(SLIM_BPR_Cython(URM_train, sparse_weights=False))\n",
    "#recommender_list.append(SLIM_RMSE(URM_train))\n",
    "\n",
    "\n",
    "\n",
    "for recommender in recommender_list:\n",
    "\n",
    "    print(\"Algorithm: {}\".format(recommender.__class__))\n",
    "\n",
    "    recommender.fit()\n",
    "\n",
    "    results_run = recommender.evaluateRecommendations(URM_test, at=10, exclude_seen=True)\n",
    "    print(\"Algorithm: {}, results: {}\".format(recommender.__class__, results_run))\n",
    "\n"
   ]
  },
  {
   "cell_type": "code",
   "execution_count": null,
   "metadata": {},
   "outputs": [],
   "source": [
    "from createSubmission import create_submission\n",
    "\n",
    "create_submission(URM_all, recommender)"
   ]
  },
  {
   "cell_type": "code",
   "execution_count": 6,
   "metadata": {},
   "outputs": [
    {
     "name": "stdout",
     "output_type": "stream",
     "text": [
      "Evaluated user 0 of 50446\n"
     ]
    },
    {
     "ename": "TypeError",
     "evalue": "recommend() got an unexpected keyword argument 'at'",
     "output_type": "error",
     "traceback": [
      "\u001b[0;31m---------------------------------------------------------------------------\u001b[0m",
      "\u001b[0;31mTypeError\u001b[0m                                 Traceback (most recent call last)",
      "\u001b[0;32m<ipython-input-6-0e927c97316c>\u001b[0m in \u001b[0;36m<module>\u001b[0;34m()\u001b[0m\n\u001b[1;32m      1\u001b[0m \u001b[0;32mfrom\u001b[0m \u001b[0mevaluation_function\u001b[0m \u001b[0;32mimport\u001b[0m \u001b[0mevaluate_algorithm\u001b[0m\u001b[0;34m\u001b[0m\u001b[0m\n\u001b[1;32m      2\u001b[0m \u001b[0;34m\u001b[0m\u001b[0m\n\u001b[0;32m----> 3\u001b[0;31m \u001b[0mresult\u001b[0m \u001b[0;34m=\u001b[0m \u001b[0mevaluate_algorithm\u001b[0m\u001b[0;34m(\u001b[0m\u001b[0mURM_all\u001b[0m\u001b[0;34m,\u001b[0m \u001b[0mrecommender\u001b[0m\u001b[0;34m)\u001b[0m\u001b[0;34m\u001b[0m\u001b[0m\n\u001b[0m\u001b[1;32m      4\u001b[0m \u001b[0;34m\u001b[0m\u001b[0m\n\u001b[1;32m      5\u001b[0m \u001b[0mresult\u001b[0m\u001b[0;34m\u001b[0m\u001b[0m\n",
      "\u001b[0;32m~/Documents/GitHub/newRecSysExam/evaluation_function.py\u001b[0m in \u001b[0;36mevaluate_algorithm\u001b[0;34m(URM_test, recommender_object, at)\u001b[0m\n\u001b[1;32m     70\u001b[0m             \u001b[0mrelevant_items\u001b[0m \u001b[0;34m=\u001b[0m \u001b[0mURM_test\u001b[0m\u001b[0;34m.\u001b[0m\u001b[0mindices\u001b[0m\u001b[0;34m[\u001b[0m\u001b[0mstart_pos\u001b[0m\u001b[0;34m:\u001b[0m\u001b[0mend_pos\u001b[0m\u001b[0;34m]\u001b[0m\u001b[0;34m\u001b[0m\u001b[0m\n\u001b[1;32m     71\u001b[0m \u001b[0;34m\u001b[0m\u001b[0m\n\u001b[0;32m---> 72\u001b[0;31m             \u001b[0mrecommended_items\u001b[0m \u001b[0;34m=\u001b[0m \u001b[0mrecommender_object\u001b[0m\u001b[0;34m.\u001b[0m\u001b[0mrecommend\u001b[0m\u001b[0;34m(\u001b[0m\u001b[0muser_id\u001b[0m\u001b[0;34m,\u001b[0m \u001b[0mat\u001b[0m\u001b[0;34m=\u001b[0m\u001b[0mat\u001b[0m\u001b[0;34m)\u001b[0m\u001b[0;34m\u001b[0m\u001b[0m\n\u001b[0m\u001b[1;32m     73\u001b[0m             \u001b[0mnum_eval\u001b[0m\u001b[0;34m+=\u001b[0m\u001b[0;36m1\u001b[0m\u001b[0;34m\u001b[0m\u001b[0m\n\u001b[1;32m     74\u001b[0m \u001b[0;34m\u001b[0m\u001b[0m\n",
      "\u001b[0;31mTypeError\u001b[0m: recommend() got an unexpected keyword argument 'at'"
     ]
    }
   ],
   "source": [
    "from evaluation_function import evaluate_algorithm\n",
    "\n",
    "result = evaluate_algorithm(URM_all, recommender)\n",
    "\n",
    "result"
   ]
  },
  {
   "cell_type": "code",
   "execution_count": null,
   "metadata": {},
   "outputs": [],
   "source": []
  }
 ],
 "metadata": {
  "kernelspec": {
   "display_name": "Python 3",
   "language": "python",
   "name": "python3"
  }
 },
 "nbformat": 4,
 "nbformat_minor": 2
}
